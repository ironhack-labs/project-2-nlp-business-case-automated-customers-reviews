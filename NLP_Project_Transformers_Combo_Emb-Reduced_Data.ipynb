{
 "cells": [
  {
   "cell_type": "markdown",
   "metadata": {},
   "source": [
    "# **BERT Model**"
   ]
  },
  {
   "cell_type": "markdown",
   "metadata": {},
   "source": [
    "# **Data Preprocessing**"
   ]
  },
  {
   "cell_type": "code",
   "execution_count": null,
   "metadata": {},
   "outputs": [],
   "source": [
    "import pandas as pd\n",
    "from transformers import BertTokenizer\n",
    "from sklearn.model_selection import train_test_split\n",
    "import torch"
   ]
  },
  {
   "cell_type": "code",
   "execution_count": null,
   "metadata": {},
   "outputs": [],
   "source": [
    "# Load the dataset\n",
    "tf_r2o1_df = pd.read_csv('data_r2o1_partialclean.csv')"
   ]
  },
  {
   "cell_type": "code",
   "execution_count": null,
   "metadata": {},
   "outputs": [],
   "source": [
    "# Tokenization and encoding\n",
    "tokenizer = BertTokenizer.from_pretrained('bert-base-uncased')\n",
    "max_len = 128\n",
    "\n",
    "def tokenize_and_encode(text):\n",
    "    return tokenizer.encode_plus(\n",
    "        text,\n",
    "        add_special_tokens=True,\n",
    "        max_length=max_len,\n",
    "        padding='max_length',\n",
    "        return_attention_mask=True,\n",
    "        return_tensors='pt'\n",
    "    )\n",
    "\n",
    "tf_r2o1_df['encoded'] = tf_r2o1_df['text'].apply(tokenize_and_encode)\n",
    "X = list(tf_r2o1_df['encoded'].values)\n",
    "y = tf_r2o1_df['label'].values\n",
    "\n",
    "# Save the processed data\n",
    "torch.save((X, y), 'processed_data.pt')\n",
    "\n",
    "X_train, X_val, y_train, y_val = train_test_split(X, y, test_size=0.2, random_state=42)\n",
    "\n",
    "# Save the train/validation split\n",
    "torch.save((X_train, X_val, y_train, y_val), 'train_val_split.pt')\n"
   ]
  },
  {
   "cell_type": "markdown",
   "metadata": {},
   "source": [
    "# **Model Building and Training**"
   ]
  },
  {
   "cell_type": "code",
   "execution_count": null,
   "metadata": {},
   "outputs": [],
   "source": [
    "from transformers import BertForSequenceClassification, Trainer, TrainingArguments\n",
    "from datasets import Dataset\n",
    "import torch\n",
    "\n",
    "# Create training and validation datasets\n",
    "train_dataset = Dataset.from_dict({'input_ids': [x['input_ids'] for x in X_train], 'attention_mask': [x['attention_mask'] for x in X_train], 'labels': y_train})\n",
    "val_dataset = Dataset.from_dict({'input_ids': [x['input_ids'] for x in X_val], 'attention_mask': [x['attention_mask'] for x in X_val], 'labels': y_val})\n",
    "\n",
    "# Select the pre-trained model\n",
    "model = BertForSequenceClassification.from_pretrained('bert-base-uncased', num_labels=3)\n",
    "\n",
    "# Training configuration\n",
    "training_args = TrainingArguments(\n",
    "    output_dir='./results',\n",
    "    evaluation_strategy='epoch',\n",
    "    per_device_train_batch_size=16,\n",
    "    per_device_eval_batch_size=16,\n",
    "    num_train_epochs=3,\n",
    "    weight_decay=0.01,\n",
    "    logging_dir='./logs',\n",
    ")\n",
    "\n",
    "trainer = Trainer(\n",
    "    model=model,\n",
    "    args=training_args,\n",
    "    train_dataset=train_dataset,\n",
    "    eval_dataset=val_dataset,\n",
    ")\n",
    "\n",
    "# Training and evaluation\n",
    "trainer.train()\n",
    "trainer.evaluate()"
   ]
  },
  {
   "cell_type": "code",
   "execution_count": null,
   "metadata": {},
   "outputs": [],
   "source": [
    "# Save the final model\n",
    "model.save_pretrained('tf_bert_best_model')\n",
    "tokenizer.save_pretrained('tf_bert_best_model')"
   ]
  },
  {
   "cell_type": "markdown",
   "metadata": {},
   "source": [
    "# **Model Evaluation**"
   ]
  },
  {
   "cell_type": "code",
   "execution_count": null,
   "metadata": {},
   "outputs": [],
   "source": [
    "from transformers import BertTokenizer, BertForSequenceClassification\n",
    "import torch\n",
    "\n",
    "# Load the trained model and tokenizer if needed\n",
    "model = BertForSequenceClassification.from_pretrained('tf_bert_best_model')\n",
    "tokenizer = BertTokenizer.from_pretrained('tf_bert_best_model')"
   ]
  },
  {
   "cell_type": "code",
   "execution_count": null,
   "metadata": {},
   "outputs": [],
   "source": [
    "from sklearn.metrics import classification_report, confusion_matrix\n",
    "\n",
    "# Predictions on the validation set\n",
    "predictions = trainer.predict(val_dataset)\n",
    "y_pred = torch.argmax(predictions.predictions, axis=1)\n",
    "\n",
    "# Evaluation metrics\n",
    "report = classification_report(y_val, y_pred, target_names=['negative', 'neutral', 'positive'])\n",
    "conf_matrix = confusion_matrix(y_val, y_pred)\n",
    "\n",
    "print(\"Classification Report:\\n\", report)\n",
    "print(\"Confusion Matrix:\\n\", conf_matrix)"
   ]
  },
  {
   "cell_type": "markdown",
   "metadata": {},
   "source": [
    "# **DistilBERT Model**"
   ]
  },
  {
   "cell_type": "markdown",
   "metadata": {},
   "source": [
    "# **Data Preprocessing**"
   ]
  },
  {
   "cell_type": "code",
   "execution_count": null,
   "metadata": {},
   "outputs": [],
   "source": [
    "import pandas as pd\n",
    "from transformers import DistilBertTokenizer\n",
    "from sklearn.model_selection import train_test_split\n",
    "import torch"
   ]
  },
  {
   "cell_type": "code",
   "execution_count": null,
   "metadata": {},
   "outputs": [],
   "source": [
    "# Load the dataset\n",
    "df = pd.read_csv('data_r2o1_partialclean.csv')"
   ]
  },
  {
   "cell_type": "code",
   "execution_count": null,
   "metadata": {},
   "outputs": [],
   "source": [
    "# Tokenization and encoding\n",
    "tokenizer = DistilBertTokenizer.from_pretrained('distilbert-base-uncased')\n",
    "max_len = 128\n",
    "\n",
    "def tokenize_and_encode(text):\n",
    "    return tokenizer.encode_plus(\n",
    "        text,\n",
    "        add_special_tokens=True,\n",
    "        max_length=max_len,\n",
    "        padding='max_length',\n",
    "        return_attention_mask=True,\n",
    "        return_tensors='pt'\n",
    "    )\n",
    "\n",
    "df['encoded'] = df['text'].apply(tokenize_and_encode)\n",
    "X = list(df['encoded'].values)\n",
    "y = df['label'].values\n",
    "\n",
    "# Save the processed data\n",
    "torch.save((X, y), 'processed_data_distilbert.pt')\n",
    "\n",
    "X_train, X_val, y_train, y_val = train_test_split(X, y, test_size=0.2, random_state=42)\n",
    "\n",
    "# Save the train/validation split\n",
    "torch.save((X_train, X_val, y_train, y_val), 'train_val_split_distilbert.pt')"
   ]
  },
  {
   "cell_type": "markdown",
   "metadata": {},
   "source": [
    "# **Model Building and Training**"
   ]
  },
  {
   "cell_type": "code",
   "execution_count": null,
   "metadata": {},
   "outputs": [],
   "source": [
    "from transformers import DistilBertForSequenceClassification, Trainer, TrainingArguments\n",
    "from datasets import Dataset"
   ]
  },
  {
   "cell_type": "code",
   "execution_count": null,
   "metadata": {},
   "outputs": [],
   "source": [
    "# Load the train/validation split if needed\n",
    "X_train, X_val, y_train, y_val = torch.load('train_val_split_distilbert.pt')"
   ]
  },
  {
   "cell_type": "code",
   "execution_count": null,
   "metadata": {},
   "outputs": [],
   "source": [
    "# Create training and validation datasets\n",
    "train_dataset = Dataset.from_dict({'input_ids': [x['input_ids'] for x in X_train], 'attention_mask': [x['attention_mask'] for x in X_train], 'labels': y_train})\n",
    "val_dataset = Dataset.from_dict({'input_ids': [x['input_ids'] for x in X_val], 'attention_mask': [x['attention_mask'] for x in X_val], 'labels': y_val})\n",
    "\n",
    "# Select the pre-trained model\n",
    "model = DistilBertForSequenceClassification.from_pretrained('distilbert-base-uncased', num_labels=3)\n",
    "\n",
    "# Training configuration\n",
    "training_args = TrainingArguments(\n",
    "    output_dir='./results_distilbert',\n",
    "    evaluation_strategy='epoch',\n",
    "    per_device_train_batch_size=16,\n",
    "    per_device_eval_batch_size=16,\n",
    "    num_train_epochs=3,\n",
    "    weight_decay=0.01,\n",
    "    logging_dir='./logs_distilbert',\n",
    "    save_steps=10_000,  # Save every 10,000 steps\n",
    "    save_total_limit=2,  # Keep only the last 2 models\n",
    ")\n",
    "\n",
    "trainer = Trainer(\n",
    "    model=model,\n",
    "    args=training_args,\n",
    "    train_dataset=train_dataset,\n",
    "    eval_dataset=val_dataset,\n",
    ")\n",
    "\n",
    "# Training and evaluation\n",
    "trainer.train()"
   ]
  },
  {
   "cell_type": "code",
   "execution_count": null,
   "metadata": {},
   "outputs": [],
   "source": [
    "# Save the final model\n",
    "model.save_pretrained('best_model_distilbert')\n",
    "tokenizer.save_pretrained('best_model_distilbert')"
   ]
  },
  {
   "cell_type": "markdown",
   "metadata": {},
   "source": [
    "# **Model Evaluation**"
   ]
  },
  {
   "cell_type": "code",
   "execution_count": null,
   "metadata": {},
   "outputs": [],
   "source": [
    "from sklearn.metrics import classification_report, confusion_matrix\n",
    "\n",
    "# Load the best model if needed\n",
    "model = DistilBertForSequenceClassification.from_pretrained('best_model_distilbert')\n",
    "tokenizer = DistilBertTokenizer.from_pretrained('best_model_distilbert')\n",
    "\n",
    "# Predictions on the validation set\n",
    "predictions = trainer.predict(val_dataset)\n",
    "y_pred = torch.argmax(predictions.predictions, axis=1)\n",
    "\n",
    "# Evaluation metrics\n",
    "report = classification_report(y_val, y_pred, target_names=['negative', 'neutral', 'positive'])\n",
    "conf_matrix = confusion_matrix(y_val, y_pred)\n",
    "\n",
    "print(\"Classification Report:\\n\", report)\n",
    "print(\"Confusion Matrix:\\n\", conf_matrix)"
   ]
  }
 ],
 "metadata": {
  "language_info": {
   "name": "python"
  }
 },
 "nbformat": 4,
 "nbformat_minor": 2
}
