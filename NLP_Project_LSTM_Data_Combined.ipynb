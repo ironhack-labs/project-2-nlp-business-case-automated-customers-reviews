{
  "cells": [
    {
      "cell_type": "code",
      "execution_count": 1,
      "metadata": {
        "colab": {
          "base_uri": "https://localhost:8080/"
        },
        "id": "IJ55pOdRFzVd",
        "outputId": "926b3559-0814-474c-9bab-69925d89c354"
      },
      "outputs": [
        {
          "output_type": "stream",
          "name": "stderr",
          "text": [
            "<ipython-input-1-e61cad0c46d2>:7: DtypeWarning: Columns (1,10) have mixed types. Specify dtype option on import or set low_memory=False.\n",
            "  dataset_original = pd.read_csv(\"1429_1.csv\")\n"
          ]
        }
      ],
      "source": [
        "# Import necessary libraries\n",
        "import pandas as pd\n",
        "import matplotlib.pyplot as plt\n",
        "import seaborn as sns\n",
        "\n",
        "# Load the dataset (assuming it is in the same location as the notebook)\n",
        "dataset_original = pd.read_csv(\"1429_1.csv\")\n",
        "dataset_add_01 = pd.read_csv(\"Datafiniti_Amazon_Consumer_Reviews_of_Amazon_Products.csv\")\n",
        "dataset_add_02 = pd.read_csv(\"Datafiniti_Amazon_Consumer_Reviews_of_Amazon_Products_May19.csv\")"
      ]
    },
    {
      "cell_type": "code",
      "execution_count": 2,
      "metadata": {
        "colab": {
          "base_uri": "https://localhost:8080/"
        },
        "id": "nOFGj95TFzVf",
        "outputId": "3b463ebb-732e-4197-9ebf-e4181cc6e4e8"
      },
      "outputs": [
        {
          "output_type": "stream",
          "name": "stdout",
          "text": [
            "Original Dataset shape: (34660, 21)\n",
            "\n",
            "Additional Dataset 01 shape: (5000, 24)\n",
            "\n",
            "Additional Dataset 02 shape: (28332, 24)\n"
          ]
        }
      ],
      "source": [
        "# Display the shape of the dataset\n",
        "print(f\"Original Dataset shape: {dataset_original.shape}\")\n",
        "print(f\"\\nAdditional Dataset 01 shape: {dataset_add_01.shape}\")\n",
        "print(f\"\\nAdditional Dataset 02 shape: {dataset_add_02.shape}\")"
      ]
    },
    {
      "cell_type": "code",
      "execution_count": 3,
      "metadata": {
        "colab": {
          "base_uri": "https://localhost:8080/"
        },
        "id": "6TBqFaNXFzVf",
        "outputId": "a3cfd40a-0481-4c2b-e960-c598c2429070"
      },
      "outputs": [
        {
          "output_type": "stream",
          "name": "stdout",
          "text": [
            "First rows of the Original Dataset:\n",
            "                     id                                               name  \\\n",
            "0  AVqkIhwDv8e3D1O-lebb  All-New Fire HD 8 Tablet, 8 HD Display, Wi-Fi,...   \n",
            "1  AVqkIhwDv8e3D1O-lebb  All-New Fire HD 8 Tablet, 8 HD Display, Wi-Fi,...   \n",
            "2  AVqkIhwDv8e3D1O-lebb  All-New Fire HD 8 Tablet, 8 HD Display, Wi-Fi,...   \n",
            "3  AVqkIhwDv8e3D1O-lebb  All-New Fire HD 8 Tablet, 8 HD Display, Wi-Fi,...   \n",
            "4  AVqkIhwDv8e3D1O-lebb  All-New Fire HD 8 Tablet, 8 HD Display, Wi-Fi,...   \n",
            "\n",
            "        asins   brand                                         categories  \\\n",
            "0  B01AHB9CN2  Amazon  Electronics,iPad & Tablets,All Tablets,Fire Ta...   \n",
            "1  B01AHB9CN2  Amazon  Electronics,iPad & Tablets,All Tablets,Fire Ta...   \n",
            "2  B01AHB9CN2  Amazon  Electronics,iPad & Tablets,All Tablets,Fire Ta...   \n",
            "3  B01AHB9CN2  Amazon  Electronics,iPad & Tablets,All Tablets,Fire Ta...   \n",
            "4  B01AHB9CN2  Amazon  Electronics,iPad & Tablets,All Tablets,Fire Ta...   \n",
            "\n",
            "                                                keys manufacturer  \\\n",
            "0  841667104676,amazon/53004484,amazon/b01ahb9cn2...       Amazon   \n",
            "1  841667104676,amazon/53004484,amazon/b01ahb9cn2...       Amazon   \n",
            "2  841667104676,amazon/53004484,amazon/b01ahb9cn2...       Amazon   \n",
            "3  841667104676,amazon/53004484,amazon/b01ahb9cn2...       Amazon   \n",
            "4  841667104676,amazon/53004484,amazon/b01ahb9cn2...       Amazon   \n",
            "\n",
            "               reviews.date     reviews.dateAdded  \\\n",
            "0  2017-01-13T00:00:00.000Z  2017-07-03T23:33:15Z   \n",
            "1  2017-01-13T00:00:00.000Z  2017-07-03T23:33:15Z   \n",
            "2  2017-01-13T00:00:00.000Z  2017-07-03T23:33:15Z   \n",
            "3  2017-01-13T00:00:00.000Z  2017-07-03T23:33:15Z   \n",
            "4  2017-01-12T00:00:00.000Z  2017-07-03T23:33:15Z   \n",
            "\n",
            "                                    reviews.dateSeen  ... reviews.doRecommend  \\\n",
            "0  2017-06-07T09:04:00.000Z,2017-04-30T00:45:00.000Z  ...                True   \n",
            "1  2017-06-07T09:04:00.000Z,2017-04-30T00:45:00.000Z  ...                True   \n",
            "2  2017-06-07T09:04:00.000Z,2017-04-30T00:45:00.000Z  ...                True   \n",
            "3  2017-06-07T09:04:00.000Z,2017-04-30T00:45:00.000Z  ...                True   \n",
            "4  2017-06-07T09:04:00.000Z,2017-04-30T00:45:00.000Z  ...                True   \n",
            "\n",
            "  reviews.id  reviews.numHelpful  reviews.rating  \\\n",
            "0        NaN                 0.0             5.0   \n",
            "1        NaN                 0.0             5.0   \n",
            "2        NaN                 0.0             5.0   \n",
            "3        NaN                 0.0             4.0   \n",
            "4        NaN                 0.0             5.0   \n",
            "\n",
            "                                  reviews.sourceURLs  \\\n",
            "0  http://reviews.bestbuy.com/3545/5620406/review...   \n",
            "1  http://reviews.bestbuy.com/3545/5620406/review...   \n",
            "2  http://reviews.bestbuy.com/3545/5620406/review...   \n",
            "3  http://reviews.bestbuy.com/3545/5620406/review...   \n",
            "4  http://reviews.bestbuy.com/3545/5620406/review...   \n",
            "\n",
            "                                        reviews.text  \\\n",
            "0  This product so far has not disappointed. My c...   \n",
            "1  great for beginner or experienced person. Boug...   \n",
            "2  Inexpensive tablet for him to use and learn on...   \n",
            "3  I've had my Fire HD 8 two weeks now and I love...   \n",
            "4  I bought this for my grand daughter when she c...   \n",
            "\n",
            "                             reviews.title reviews.userCity  \\\n",
            "0                                   Kindle              NaN   \n",
            "1                                very fast              NaN   \n",
            "2  Beginner tablet for our 9 year old son.              NaN   \n",
            "3                                  Good!!!              NaN   \n",
            "4                Fantastic Tablet for kids              NaN   \n",
            "\n",
            "   reviews.userProvince  reviews.username  \n",
            "0                   NaN           Adapter  \n",
            "1                   NaN            truman  \n",
            "2                   NaN             DaveZ  \n",
            "3                   NaN            Shacks  \n",
            "4                   NaN         explore42  \n",
            "\n",
            "[5 rows x 21 columns]\n",
            "\n",
            "First rows of the Additional Dataset 01:\n",
            "                     id             dateAdded           dateUpdated  \\\n",
            "0  AVqVGZNvQMlgsOJE6eUY  2017-03-03T16:56:05Z  2018-10-25T16:36:31Z   \n",
            "1  AVqVGZNvQMlgsOJE6eUY  2017-03-03T16:56:05Z  2018-10-25T16:36:31Z   \n",
            "2  AVqVGZNvQMlgsOJE6eUY  2017-03-03T16:56:05Z  2018-10-25T16:36:31Z   \n",
            "3  AVqVGZNvQMlgsOJE6eUY  2017-03-03T16:56:05Z  2018-10-25T16:36:31Z   \n",
            "4  AVqVGZNvQMlgsOJE6eUY  2017-03-03T16:56:05Z  2018-10-25T16:36:31Z   \n",
            "\n",
            "                                                name       asins   brand  \\\n",
            "0  Amazon Kindle E-Reader 6\" Wifi (8th Generation...  B00ZV9PXP2  Amazon   \n",
            "1  Amazon Kindle E-Reader 6\" Wifi (8th Generation...  B00ZV9PXP2  Amazon   \n",
            "2  Amazon Kindle E-Reader 6\" Wifi (8th Generation...  B00ZV9PXP2  Amazon   \n",
            "3  Amazon Kindle E-Reader 6\" Wifi (8th Generation...  B00ZV9PXP2  Amazon   \n",
            "4  Amazon Kindle E-Reader 6\" Wifi (8th Generation...  B00ZV9PXP2  Amazon   \n",
            "\n",
            "                                          categories primaryCategories  \\\n",
            "0  Computers,Electronics Features,Tablets,Electro...       Electronics   \n",
            "1  Computers,Electronics Features,Tablets,Electro...       Electronics   \n",
            "2  Computers,Electronics Features,Tablets,Electro...       Electronics   \n",
            "3  Computers,Electronics Features,Tablets,Electro...       Electronics   \n",
            "4  Computers,Electronics Features,Tablets,Electro...       Electronics   \n",
            "\n",
            "                                           imageURLs  \\\n",
            "0  https://pisces.bbystatic.com/image2/BestBuy_US...   \n",
            "1  https://pisces.bbystatic.com/image2/BestBuy_US...   \n",
            "2  https://pisces.bbystatic.com/image2/BestBuy_US...   \n",
            "3  https://pisces.bbystatic.com/image2/BestBuy_US...   \n",
            "4  https://pisces.bbystatic.com/image2/BestBuy_US...   \n",
            "\n",
            "                                                keys  ...  \\\n",
            "0  allnewkindleereaderblack6glarefreetouchscreend...  ...   \n",
            "1  allnewkindleereaderblack6glarefreetouchscreend...  ...   \n",
            "2  allnewkindleereaderblack6glarefreetouchscreend...  ...   \n",
            "3  allnewkindleereaderblack6glarefreetouchscreend...  ...   \n",
            "4  allnewkindleereaderblack6glarefreetouchscreend...  ...   \n",
            "\n",
            "                                    reviews.dateSeen reviews.doRecommend  \\\n",
            "0  2018-05-27T00:00:00Z,2017-09-18T00:00:00Z,2017...               False   \n",
            "1  2018-05-27T00:00:00Z,2017-07-07T00:00:00Z,2017...                True   \n",
            "2                               2018-05-27T00:00:00Z                True   \n",
            "3                               2018-10-09T00:00:00Z                True   \n",
            "4                               2018-05-27T00:00:00Z                True   \n",
            "\n",
            "    reviews.id reviews.numHelpful reviews.rating  \\\n",
            "0          NaN                  0              3   \n",
            "1          NaN                  0              5   \n",
            "2          NaN                  0              4   \n",
            "3  177283626.0                  3              5   \n",
            "4          NaN                  0              5   \n",
            "\n",
            "                                  reviews.sourceURLs  \\\n",
            "0  http://reviews.bestbuy.com/3545/5442403/review...   \n",
            "1  http://reviews.bestbuy.com/3545/5442403/review...   \n",
            "2  https://reviews.bestbuy.com/3545/5442403/revie...   \n",
            "3  https://redsky.target.com/groot-domain-api/v1/...   \n",
            "4  https://reviews.bestbuy.com/3545/5442403/revie...   \n",
            "\n",
            "                                        reviews.text  \\\n",
            "0  I thought it would be as big as small paper bu...   \n",
            "1  This kindle is light and easy to use especiall...   \n",
            "2  Didnt know how much i'd use a kindle so went f...   \n",
            "3  I am 100 happy with my purchase. I caught it o...   \n",
            "4  Solid entry level Kindle. Great for kids. Gift...   \n",
            "\n",
            "                                  reviews.title  reviews.username  \\\n",
            "0                                     Too small            llyyue   \n",
            "1  Great light reader. Easy to use at the beach            Charmi   \n",
            "2                           Great for the price      johnnyjojojo   \n",
            "3                                   A Great Buy           Kdperry   \n",
            "4      Solid entry-level Kindle. Great for kids       Johnnyblack   \n",
            "\n",
            "                                          sourceURLs  \n",
            "0  https://www.newegg.com/Product/Product.aspx%25...  \n",
            "1  https://www.newegg.com/Product/Product.aspx%25...  \n",
            "2  https://www.newegg.com/Product/Product.aspx%25...  \n",
            "3  https://www.newegg.com/Product/Product.aspx%25...  \n",
            "4  https://www.newegg.com/Product/Product.aspx%25...  \n",
            "\n",
            "[5 rows x 24 columns]\n",
            "\n",
            "First rows of the Additional Dataset 02:\n",
            "                     id             dateAdded           dateUpdated  \\\n",
            "0  AVpgNzjwLJeJML43Kpxn  2015-10-30T08:59:32Z  2019-04-25T09:08:16Z   \n",
            "1  AVpgNzjwLJeJML43Kpxn  2015-10-30T08:59:32Z  2019-04-25T09:08:16Z   \n",
            "2  AVpgNzjwLJeJML43Kpxn  2015-10-30T08:59:32Z  2019-04-25T09:08:16Z   \n",
            "3  AVpgNzjwLJeJML43Kpxn  2015-10-30T08:59:32Z  2019-04-25T09:08:16Z   \n",
            "4  AVpgNzjwLJeJML43Kpxn  2015-10-30T08:59:32Z  2019-04-25T09:08:16Z   \n",
            "\n",
            "                                                name                  asins  \\\n",
            "0  AmazonBasics AAA Performance Alkaline Batterie...  B00QWO9P0O,B00LH3DMUO   \n",
            "1  AmazonBasics AAA Performance Alkaline Batterie...  B00QWO9P0O,B00LH3DMUO   \n",
            "2  AmazonBasics AAA Performance Alkaline Batterie...  B00QWO9P0O,B00LH3DMUO   \n",
            "3  AmazonBasics AAA Performance Alkaline Batterie...  B00QWO9P0O,B00LH3DMUO   \n",
            "4  AmazonBasics AAA Performance Alkaline Batterie...  B00QWO9P0O,B00LH3DMUO   \n",
            "\n",
            "          brand                                         categories  \\\n",
            "0  Amazonbasics  AA,AAA,Health,Electronics,Health & Household,C...   \n",
            "1  Amazonbasics  AA,AAA,Health,Electronics,Health & Household,C...   \n",
            "2  Amazonbasics  AA,AAA,Health,Electronics,Health & Household,C...   \n",
            "3  Amazonbasics  AA,AAA,Health,Electronics,Health & Household,C...   \n",
            "4  Amazonbasics  AA,AAA,Health,Electronics,Health & Household,C...   \n",
            "\n",
            "  primaryCategories                                          imageURLs  \\\n",
            "0   Health & Beauty  https://images-na.ssl-images-amazon.com/images...   \n",
            "1   Health & Beauty  https://images-na.ssl-images-amazon.com/images...   \n",
            "2   Health & Beauty  https://images-na.ssl-images-amazon.com/images...   \n",
            "3   Health & Beauty  https://images-na.ssl-images-amazon.com/images...   \n",
            "4   Health & Beauty  https://images-na.ssl-images-amazon.com/images...   \n",
            "\n",
            "                                                keys  ... reviews.didPurchase  \\\n",
            "0  amazonbasics/hl002619,amazonbasicsaaaperforman...  ...                 NaN   \n",
            "1  amazonbasics/hl002619,amazonbasicsaaaperforman...  ...                 NaN   \n",
            "2  amazonbasics/hl002619,amazonbasicsaaaperforman...  ...                 NaN   \n",
            "3  amazonbasics/hl002619,amazonbasicsaaaperforman...  ...                 NaN   \n",
            "4  amazonbasics/hl002619,amazonbasicsaaaperforman...  ...                 NaN   \n",
            "\n",
            "  reviews.doRecommend reviews.id reviews.numHelpful reviews.rating  \\\n",
            "0                 NaN        NaN                NaN              3   \n",
            "1                 NaN        NaN                NaN              4   \n",
            "2                 NaN        NaN                NaN              5   \n",
            "3                 NaN        NaN                NaN              5   \n",
            "4                 NaN        NaN                NaN              5   \n",
            "\n",
            "                                  reviews.sourceURLs  \\\n",
            "0  https://www.amazon.com/product-reviews/B00QWO9...   \n",
            "1  https://www.amazon.com/product-reviews/B00QWO9...   \n",
            "2  https://www.amazon.com/product-reviews/B00QWO9...   \n",
            "3  https://www.amazon.com/product-reviews/B00QWO9...   \n",
            "4  https://www.amazon.com/product-reviews/B00QWO9...   \n",
            "\n",
            "                                        reviews.text  \\\n",
            "0  I order 3 of them and one of the item is bad q...   \n",
            "1  Bulk is always the less expensive way to go fo...   \n",
            "2  Well they are not Duracell but for the price i...   \n",
            "3  Seem to work as well as name brand batteries a...   \n",
            "4  These batteries are very long lasting the pric...   \n",
            "\n",
            "                                       reviews.title  reviews.username  \\\n",
            "0  ... 3 of them and one of the item is bad quali...        Byger yang   \n",
            "1  ... always the less expensive way to go for pr...              ByMG   \n",
            "2  ... are not Duracell but for the price i am ha...  BySharon Lambert   \n",
            "3  ... as well as name brand batteries at a much ...     Bymark sexson   \n",
            "4  ... batteries are very long lasting the price ...           Bylinda   \n",
            "\n",
            "                                          sourceURLs  \n",
            "0  https://www.barcodable.com/upc/841710106442,ht...  \n",
            "1  https://www.barcodable.com/upc/841710106442,ht...  \n",
            "2  https://www.barcodable.com/upc/841710106442,ht...  \n",
            "3  https://www.barcodable.com/upc/841710106442,ht...  \n",
            "4  https://www.barcodable.com/upc/841710106442,ht...  \n",
            "\n",
            "[5 rows x 24 columns]\n"
          ]
        }
      ],
      "source": [
        "# Display the first few rows of the dataset\n",
        "print(\"First rows of the Original Dataset:\")\n",
        "print(dataset_original.head())\n",
        "\n",
        "print(\"\\nFirst rows of the Additional Dataset 01:\")\n",
        "print(dataset_add_01.head())\n",
        "\n",
        "print(\"\\nFirst rows of the Additional Dataset 02:\")\n",
        "print(dataset_add_02.head())"
      ]
    },
    {
      "cell_type": "code",
      "execution_count": 4,
      "metadata": {
        "colab": {
          "base_uri": "https://localhost:8080/"
        },
        "id": "jhtAYvNfFzVf",
        "outputId": "5ea62cb7-1fa0-4885-8d32-191d6526f776"
      },
      "outputs": [
        {
          "output_type": "stream",
          "name": "stdout",
          "text": [
            "\n",
            "Original Dataset information:\n",
            "<class 'pandas.core.frame.DataFrame'>\n",
            "RangeIndex: 34660 entries, 0 to 34659\n",
            "Data columns (total 21 columns):\n",
            " #   Column                Non-Null Count  Dtype  \n",
            "---  ------                --------------  -----  \n",
            " 0   id                    34660 non-null  object \n",
            " 1   name                  27900 non-null  object \n",
            " 2   asins                 34658 non-null  object \n",
            " 3   brand                 34660 non-null  object \n",
            " 4   categories            34660 non-null  object \n",
            " 5   keys                  34660 non-null  object \n",
            " 6   manufacturer          34660 non-null  object \n",
            " 7   reviews.date          34621 non-null  object \n",
            " 8   reviews.dateAdded     24039 non-null  object \n",
            " 9   reviews.dateSeen      34660 non-null  object \n",
            " 10  reviews.didPurchase   1 non-null      object \n",
            " 11  reviews.doRecommend   34066 non-null  object \n",
            " 12  reviews.id            1 non-null      float64\n",
            " 13  reviews.numHelpful    34131 non-null  float64\n",
            " 14  reviews.rating        34627 non-null  float64\n",
            " 15  reviews.sourceURLs    34660 non-null  object \n",
            " 16  reviews.text          34659 non-null  object \n",
            " 17  reviews.title         34654 non-null  object \n",
            " 18  reviews.userCity      0 non-null      float64\n",
            " 19  reviews.userProvince  0 non-null      float64\n",
            " 20  reviews.username      34653 non-null  object \n",
            "dtypes: float64(5), object(16)\n",
            "memory usage: 5.6+ MB\n",
            "None\n",
            "\n",
            "Additional Dataset 01 information:\n",
            "<class 'pandas.core.frame.DataFrame'>\n",
            "RangeIndex: 5000 entries, 0 to 4999\n",
            "Data columns (total 24 columns):\n",
            " #   Column               Non-Null Count  Dtype  \n",
            "---  ------               --------------  -----  \n",
            " 0   id                   5000 non-null   object \n",
            " 1   dateAdded            5000 non-null   object \n",
            " 2   dateUpdated          5000 non-null   object \n",
            " 3   name                 5000 non-null   object \n",
            " 4   asins                5000 non-null   object \n",
            " 5   brand                5000 non-null   object \n",
            " 6   categories           5000 non-null   object \n",
            " 7   primaryCategories    5000 non-null   object \n",
            " 8   imageURLs            5000 non-null   object \n",
            " 9   keys                 5000 non-null   object \n",
            " 10  manufacturer         5000 non-null   object \n",
            " 11  manufacturerNumber   5000 non-null   object \n",
            " 12  reviews.date         5000 non-null   object \n",
            " 13  reviews.dateAdded    1052 non-null   object \n",
            " 14  reviews.dateSeen     5000 non-null   object \n",
            " 15  reviews.doRecommend  5000 non-null   bool   \n",
            " 16  reviews.id           29 non-null     float64\n",
            " 17  reviews.numHelpful   5000 non-null   int64  \n",
            " 18  reviews.rating       5000 non-null   int64  \n",
            " 19  reviews.sourceURLs   5000 non-null   object \n",
            " 20  reviews.text         5000 non-null   object \n",
            " 21  reviews.title        4987 non-null   object \n",
            " 22  reviews.username     4999 non-null   object \n",
            " 23  sourceURLs           5000 non-null   object \n",
            "dtypes: bool(1), float64(1), int64(2), object(20)\n",
            "memory usage: 903.4+ KB\n",
            "None\n",
            "\n",
            "Additional Dataset 02 information:\n",
            "<class 'pandas.core.frame.DataFrame'>\n",
            "RangeIndex: 28332 entries, 0 to 28331\n",
            "Data columns (total 24 columns):\n",
            " #   Column               Non-Null Count  Dtype  \n",
            "---  ------               --------------  -----  \n",
            " 0   id                   28332 non-null  object \n",
            " 1   dateAdded            28332 non-null  object \n",
            " 2   dateUpdated          28332 non-null  object \n",
            " 3   name                 28332 non-null  object \n",
            " 4   asins                28332 non-null  object \n",
            " 5   brand                28332 non-null  object \n",
            " 6   categories           28332 non-null  object \n",
            " 7   primaryCategories    28332 non-null  object \n",
            " 8   imageURLs            28332 non-null  object \n",
            " 9   keys                 28332 non-null  object \n",
            " 10  manufacturer         28332 non-null  object \n",
            " 11  manufacturerNumber   28332 non-null  object \n",
            " 12  reviews.date         28332 non-null  object \n",
            " 13  reviews.dateSeen     28332 non-null  object \n",
            " 14  reviews.didPurchase  9 non-null      object \n",
            " 15  reviews.doRecommend  16086 non-null  object \n",
            " 16  reviews.id           41 non-null     float64\n",
            " 17  reviews.numHelpful   16115 non-null  float64\n",
            " 18  reviews.rating       28332 non-null  int64  \n",
            " 19  reviews.sourceURLs   28332 non-null  object \n",
            " 20  reviews.text         28332 non-null  object \n",
            " 21  reviews.title        28332 non-null  object \n",
            " 22  reviews.username     28327 non-null  object \n",
            " 23  sourceURLs           28332 non-null  object \n",
            "dtypes: float64(2), int64(1), object(21)\n",
            "memory usage: 5.2+ MB\n",
            "None\n"
          ]
        }
      ],
      "source": [
        "# Get general information about the dataset\n",
        "print(\"\\nOriginal Dataset information:\")\n",
        "print(dataset_original.info())\n",
        "\n",
        "print(\"\\nAdditional Dataset 01 information:\")\n",
        "print(dataset_add_01.info())\n",
        "\n",
        "print(\"\\nAdditional Dataset 02 information:\")\n",
        "print(dataset_add_02.info())"
      ]
    },
    {
      "cell_type": "code",
      "execution_count": 5,
      "metadata": {
        "colab": {
          "base_uri": "https://localhost:8080/"
        },
        "id": "D2a7wv1DFzVg",
        "outputId": "adfb12ab-42f6-4318-bcf3-462d3da6a321"
      },
      "outputs": [
        {
          "output_type": "stream",
          "name": "stdout",
          "text": [
            "\n",
            "Original Dataset Descriptive statistics:\n",
            "                          id  \\\n",
            "count                  34660   \n",
            "unique                    42   \n",
            "top     AVphgVaX1cnluZ0-DR74   \n",
            "freq                   10966   \n",
            "mean                     NaN   \n",
            "std                      NaN   \n",
            "min                      NaN   \n",
            "25%                      NaN   \n",
            "50%                      NaN   \n",
            "75%                      NaN   \n",
            "max                      NaN   \n",
            "\n",
            "                                                     name       asins   brand  \\\n",
            "count                                               27900       34658   34660   \n",
            "unique                                                 48          41       6   \n",
            "top     Fire Tablet, 7 Display, Wi-Fi, 8 GB - Includes...  B018Y229OU  Amazon   \n",
            "freq                                                10966       10966   28701   \n",
            "mean                                                  NaN         NaN     NaN   \n",
            "std                                                   NaN         NaN     NaN   \n",
            "min                                                   NaN         NaN     NaN   \n",
            "25%                                                   NaN         NaN     NaN   \n",
            "50%                                                   NaN         NaN     NaN   \n",
            "75%                                                   NaN         NaN     NaN   \n",
            "max                                                   NaN         NaN     NaN   \n",
            "\n",
            "                                               categories  \\\n",
            "count                                               34660   \n",
            "unique                                                 41   \n",
            "top     Fire Tablets,Tablets,Computers & Tablets,All T...   \n",
            "freq                                                10966   \n",
            "mean                                                  NaN   \n",
            "std                                                   NaN   \n",
            "min                                                   NaN   \n",
            "25%                                                   NaN   \n",
            "50%                                                   NaN   \n",
            "75%                                                   NaN   \n",
            "max                                                   NaN   \n",
            "\n",
            "                                                     keys manufacturer  \\\n",
            "count                                               34660        34660   \n",
            "unique                                                 42            2   \n",
            "top     firetablet7displaywifi8gbincludesspecialoffers...       Amazon   \n",
            "freq                                                10966        34639   \n",
            "mean                                                  NaN          NaN   \n",
            "std                                                   NaN          NaN   \n",
            "min                                                   NaN          NaN   \n",
            "25%                                                   NaN          NaN   \n",
            "50%                                                   NaN          NaN   \n",
            "75%                                                   NaN          NaN   \n",
            "max                                                   NaN          NaN   \n",
            "\n",
            "                    reviews.date     reviews.dateAdded  \\\n",
            "count                      34621                 24039   \n",
            "unique                      1078                  1941   \n",
            "top     2017-01-16T00:00:00.000Z  2017-09-05T22:09:30Z   \n",
            "freq                         710                  3127   \n",
            "mean                         NaN                   NaN   \n",
            "std                          NaN                   NaN   \n",
            "min                          NaN                   NaN   \n",
            "25%                          NaN                   NaN   \n",
            "50%                          NaN                   NaN   \n",
            "75%                          NaN                   NaN   \n",
            "max                          NaN                   NaN   \n",
            "\n",
            "                                         reviews.dateSeen  ...  \\\n",
            "count                                               34660  ...   \n",
            "unique                                               3911  ...   \n",
            "top     2017-09-28T00:00:00Z,2017-09-08T00:00:00Z,2017...  ...   \n",
            "freq                                                 5072  ...   \n",
            "mean                                                  NaN  ...   \n",
            "std                                                   NaN  ...   \n",
            "min                                                   NaN  ...   \n",
            "25%                                                   NaN  ...   \n",
            "50%                                                   NaN  ...   \n",
            "75%                                                   NaN  ...   \n",
            "max                                                   NaN  ...   \n",
            "\n",
            "       reviews.doRecommend   reviews.id  reviews.numHelpful  reviews.rating  \\\n",
            "count                34066          1.0        34131.000000    34627.000000   \n",
            "unique                   2          NaN                 NaN             NaN   \n",
            "top                   True          NaN                 NaN             NaN   \n",
            "freq                 32682          NaN                 NaN             NaN   \n",
            "mean                   NaN  111372787.0            0.630248        4.584573   \n",
            "std                    NaN          NaN           13.215775        0.735653   \n",
            "min                    NaN  111372787.0            0.000000        1.000000   \n",
            "25%                    NaN  111372787.0            0.000000        4.000000   \n",
            "50%                    NaN  111372787.0            0.000000        5.000000   \n",
            "75%                    NaN  111372787.0            0.000000        5.000000   \n",
            "max                    NaN  111372787.0          814.000000        5.000000   \n",
            "\n",
            "                                       reviews.sourceURLs  \\\n",
            "count                                               34660   \n",
            "unique                                              11929   \n",
            "top     https://www.amazon.com/product-reviews/B01J2G4...   \n",
            "freq                                                  387   \n",
            "mean                                                  NaN   \n",
            "std                                                   NaN   \n",
            "min                                                   NaN   \n",
            "25%                                                   NaN   \n",
            "50%                                                   NaN   \n",
            "75%                                                   NaN   \n",
            "max                                                   NaN   \n",
            "\n",
            "                                             reviews.text  reviews.title  \\\n",
            "count                                               34659          34654   \n",
            "unique                                              34659          19766   \n",
            "top     to spite the fact that i have nothing but good...  Great product   \n",
            "freq                                                    1            645   \n",
            "mean                                                  NaN            NaN   \n",
            "std                                                   NaN            NaN   \n",
            "min                                                   NaN            NaN   \n",
            "25%                                                   NaN            NaN   \n",
            "50%                                                   NaN            NaN   \n",
            "75%                                                   NaN            NaN   \n",
            "max                                                   NaN            NaN   \n",
            "\n",
            "       reviews.userCity  reviews.userProvince  reviews.username  \n",
            "count               0.0                   0.0             34653  \n",
            "unique              NaN                   NaN             26788  \n",
            "top                 NaN                   NaN              Mike  \n",
            "freq                NaN                   NaN               138  \n",
            "mean                NaN                   NaN               NaN  \n",
            "std                 NaN                   NaN               NaN  \n",
            "min                 NaN                   NaN               NaN  \n",
            "25%                 NaN                   NaN               NaN  \n",
            "50%                 NaN                   NaN               NaN  \n",
            "75%                 NaN                   NaN               NaN  \n",
            "max                 NaN                   NaN               NaN  \n",
            "\n",
            "[11 rows x 21 columns]\n",
            "\n",
            "Additional Dataset 01 Descriptive statistics:\n",
            "                          id             dateAdded           dateUpdated  \\\n",
            "count                   5000                  5000                  5000   \n",
            "unique                    24                    20                    17   \n",
            "top     AVqkIhwDv8e3D1O-lebb  2017-03-06T14:59:43Z  2018-09-21T18:45:21Z   \n",
            "freq                     797                   797                  1429   \n",
            "mean                     NaN                   NaN                   NaN   \n",
            "std                      NaN                   NaN                   NaN   \n",
            "min                      NaN                   NaN                   NaN   \n",
            "25%                      NaN                   NaN                   NaN   \n",
            "50%                      NaN                   NaN                   NaN   \n",
            "75%                      NaN                   NaN                   NaN   \n",
            "max                      NaN                   NaN                   NaN   \n",
            "\n",
            "                                                     name       asins   brand  \\\n",
            "count                                                5000        5000    5000   \n",
            "unique                                                 23          24       1   \n",
            "top     Amazon Echo Show Alexa-enabled Bluetooth Speak...  B01AHB9CN2  Amazon   \n",
            "freq                                                  845         797    5000   \n",
            "mean                                                  NaN         NaN     NaN   \n",
            "std                                                   NaN         NaN     NaN   \n",
            "min                                                   NaN         NaN     NaN   \n",
            "25%                                                   NaN         NaN     NaN   \n",
            "50%                                                   NaN         NaN     NaN   \n",
            "75%                                                   NaN         NaN     NaN   \n",
            "max                                                   NaN         NaN     NaN   \n",
            "\n",
            "                                               categories primaryCategories  \\\n",
            "count                                                5000              5000   \n",
            "unique                                                 23                 4   \n",
            "top     Electronics,iPad & Tablets,All Tablets,Fire Ta...       Electronics   \n",
            "freq                                                  797              3276   \n",
            "mean                                                  NaN               NaN   \n",
            "std                                                   NaN               NaN   \n",
            "min                                                   NaN               NaN   \n",
            "25%                                                   NaN               NaN   \n",
            "50%                                                   NaN               NaN   \n",
            "75%                                                   NaN               NaN   \n",
            "max                                                   NaN               NaN   \n",
            "\n",
            "                                                imageURLs  \\\n",
            "count                                                5000   \n",
            "unique                                                 24   \n",
            "top     https://i5.walmartimages.com/asr/c494506a-b347...   \n",
            "freq                                                  797   \n",
            "mean                                                  NaN   \n",
            "std                                                   NaN   \n",
            "min                                                   NaN   \n",
            "25%                                                   NaN   \n",
            "50%                                                   NaN   \n",
            "75%                                                   NaN   \n",
            "max                                                   NaN   \n",
            "\n",
            "                                                     keys  ...  \\\n",
            "count                                                5000  ...   \n",
            "unique                                                 24  ...   \n",
            "top     841667104676,amazon/53004484,amazon/b01ahb9cn2...  ...   \n",
            "freq                                                  797  ...   \n",
            "mean                                                  NaN  ...   \n",
            "std                                                   NaN  ...   \n",
            "min                                                   NaN  ...   \n",
            "25%                                                   NaN  ...   \n",
            "50%                                                   NaN  ...   \n",
            "75%                                                   NaN  ...   \n",
            "max                                                   NaN  ...   \n",
            "\n",
            "            reviews.dateSeen reviews.doRecommend    reviews.id  \\\n",
            "count                   5000                5000  2.900000e+01   \n",
            "unique                   417                   2           NaN   \n",
            "top     2018-04-26T00:00:00Z                True           NaN   \n",
            "freq                    1217                4765           NaN   \n",
            "mean                     NaN                 NaN  1.858740e+08   \n",
            "std                      NaN                 NaN  2.084040e+07   \n",
            "min                      NaN                 NaN  1.082112e+08   \n",
            "25%                      NaN                 NaN  1.851185e+08   \n",
            "50%                      NaN                 NaN  1.880757e+08   \n",
            "75%                      NaN                 NaN  1.981949e+08   \n",
            "max                      NaN                 NaN  2.027812e+08   \n",
            "\n",
            "       reviews.numHelpful reviews.rating  \\\n",
            "count         5000.000000    5000.000000   \n",
            "unique                NaN            NaN   \n",
            "top                   NaN            NaN   \n",
            "freq                  NaN            NaN   \n",
            "mean             0.312400       4.596800   \n",
            "std              3.111582       0.731804   \n",
            "min              0.000000       1.000000   \n",
            "25%              0.000000       4.000000   \n",
            "50%              0.000000       5.000000   \n",
            "75%              0.000000       5.000000   \n",
            "max            105.000000       5.000000   \n",
            "\n",
            "                                       reviews.sourceURLs  \\\n",
            "count                                                5000   \n",
            "unique                                               2827   \n",
            "top     https://redsky.target.com/groot-domain-api/v1/...   \n",
            "freq                                                   24   \n",
            "mean                                                  NaN   \n",
            "std                                                   NaN   \n",
            "min                                                   NaN   \n",
            "25%                                                   NaN   \n",
            "50%                                                   NaN   \n",
            "75%                                                   NaN   \n",
            "max                                                   NaN   \n",
            "\n",
            "                                             reviews.text  reviews.title  \\\n",
            "count                                                5000           4987   \n",
            "unique                                               4385           3124   \n",
            "top     Got this for my Daughter-in-Law and she loves ...   Great tablet   \n",
            "freq                                                    4            122   \n",
            "mean                                                  NaN            NaN   \n",
            "std                                                   NaN            NaN   \n",
            "min                                                   NaN            NaN   \n",
            "25%                                                   NaN            NaN   \n",
            "50%                                                   NaN            NaN   \n",
            "75%                                                   NaN            NaN   \n",
            "max                                                   NaN            NaN   \n",
            "\n",
            "        reviews.username                                         sourceURLs  \n",
            "count               4999                                               5000  \n",
            "unique              3814                                                 24  \n",
            "top                 Mike  http://www.walmart.com/ip/All-New-Fire-HD-8-Ta...  \n",
            "freq                  26                                                797  \n",
            "mean                 NaN                                                NaN  \n",
            "std                  NaN                                                NaN  \n",
            "min                  NaN                                                NaN  \n",
            "25%                  NaN                                                NaN  \n",
            "50%                  NaN                                                NaN  \n",
            "75%                  NaN                                                NaN  \n",
            "max                  NaN                                                NaN  \n",
            "\n",
            "[11 rows x 24 columns]\n",
            "\n",
            "Additional Dataset 02 Descriptive statistics:\n",
            "                          id             dateAdded           dateUpdated  \\\n",
            "count                  28332                 28332                 28332   \n",
            "unique                    65                    55                    52   \n",
            "top     AVpgNzjwLJeJML43Kpxn  2015-10-30T08:59:32Z  2019-04-25T09:08:16Z   \n",
            "freq                    8343                  8343                  8343   \n",
            "mean                     NaN                   NaN                   NaN   \n",
            "std                      NaN                   NaN                   NaN   \n",
            "min                      NaN                   NaN                   NaN   \n",
            "25%                      NaN                   NaN                   NaN   \n",
            "50%                      NaN                   NaN                   NaN   \n",
            "75%                      NaN                   NaN                   NaN   \n",
            "max                      NaN                   NaN                   NaN   \n",
            "\n",
            "                                                     name  \\\n",
            "count                                               28332   \n",
            "unique                                                 65   \n",
            "top     AmazonBasics AAA Performance Alkaline Batterie...   \n",
            "freq                                                 8343   \n",
            "mean                                                  NaN   \n",
            "std                                                   NaN   \n",
            "min                                                   NaN   \n",
            "25%                                                   NaN   \n",
            "50%                                                   NaN   \n",
            "75%                                                   NaN   \n",
            "max                                                   NaN   \n",
            "\n",
            "                        asins   brand  \\\n",
            "count                   28332   28332   \n",
            "unique                     65       3   \n",
            "top     B00QWO9P0O,B00LH3DMUO  Amazon   \n",
            "freq                     8343   16153   \n",
            "mean                      NaN     NaN   \n",
            "std                       NaN     NaN   \n",
            "min                       NaN     NaN   \n",
            "25%                       NaN     NaN   \n",
            "50%                       NaN     NaN   \n",
            "75%                       NaN     NaN   \n",
            "max                       NaN     NaN   \n",
            "\n",
            "                                               categories primaryCategories  \\\n",
            "count                                               28332             28332   \n",
            "unique                                                 60                 9   \n",
            "top     AA,AAA,Health,Electronics,Health & Household,C...       Electronics   \n",
            "freq                                                 8343             13995   \n",
            "mean                                                  NaN               NaN   \n",
            "std                                                   NaN               NaN   \n",
            "min                                                   NaN               NaN   \n",
            "25%                                                   NaN               NaN   \n",
            "50%                                                   NaN               NaN   \n",
            "75%                                                   NaN               NaN   \n",
            "max                                                   NaN               NaN   \n",
            "\n",
            "                                                imageURLs  \\\n",
            "count                                               28332   \n",
            "unique                                                 65   \n",
            "top     https://images-na.ssl-images-amazon.com/images...   \n",
            "freq                                                 8343   \n",
            "mean                                                  NaN   \n",
            "std                                                   NaN   \n",
            "min                                                   NaN   \n",
            "25%                                                   NaN   \n",
            "50%                                                   NaN   \n",
            "75%                                                   NaN   \n",
            "max                                                   NaN   \n",
            "\n",
            "                                                     keys  ...  \\\n",
            "count                                               28332  ...   \n",
            "unique                                                 65  ...   \n",
            "top     amazonbasics/hl002619,amazonbasicsaaaperforman...  ...   \n",
            "freq                                                 8343  ...   \n",
            "mean                                                  NaN  ...   \n",
            "std                                                   NaN  ...   \n",
            "min                                                   NaN  ...   \n",
            "25%                                                   NaN  ...   \n",
            "50%                                                   NaN  ...   \n",
            "75%                                                   NaN  ...   \n",
            "max                                                   NaN  ...   \n",
            "\n",
            "       reviews.didPurchase reviews.doRecommend    reviews.id  \\\n",
            "count                    9               16086  4.100000e+01   \n",
            "unique                   2                   2           NaN   \n",
            "top                   True                True           NaN   \n",
            "freq                     8               15353           NaN   \n",
            "mean                   NaN                 NaN  1.840066e+08   \n",
            "std                    NaN                 NaN  2.337036e+07   \n",
            "min                    NaN                 NaN  1.116244e+08   \n",
            "25%                    NaN                 NaN  1.843344e+08   \n",
            "50%                    NaN                 NaN  1.885078e+08   \n",
            "75%                    NaN                 NaN  1.988160e+08   \n",
            "max                    NaN                 NaN  2.085304e+08   \n",
            "\n",
            "       reviews.numHelpful reviews.rating  \\\n",
            "count        16115.000000   28332.000000   \n",
            "unique                NaN            NaN   \n",
            "top                   NaN            NaN   \n",
            "freq                  NaN            NaN   \n",
            "mean             0.529321       4.514048   \n",
            "std              9.345017       0.934957   \n",
            "min              0.000000       1.000000   \n",
            "25%              0.000000       4.000000   \n",
            "50%              0.000000       5.000000   \n",
            "75%              0.000000       5.000000   \n",
            "max            621.000000       5.000000   \n",
            "\n",
            "                                       reviews.sourceURLs  reviews.text  \\\n",
            "count                                               28332         28332   \n",
            "unique                                               9906         18168   \n",
            "top     https://www.amazon.com/product-reviews/B00QWO9...          good   \n",
            "freq                                                12071            60   \n",
            "mean                                                  NaN           NaN   \n",
            "std                                                   NaN           NaN   \n",
            "min                                                   NaN           NaN   \n",
            "25%                                                   NaN           NaN   \n",
            "50%                                                   NaN           NaN   \n",
            "75%                                                   NaN           NaN   \n",
            "max                                                   NaN           NaN   \n",
            "\n",
            "        reviews.title   reviews.username  \\\n",
            "count           28332              28327   \n",
            "unique          10441              16268   \n",
            "top        Five Stars  ByAmazon Customer   \n",
            "freq             3937                889   \n",
            "mean              NaN                NaN   \n",
            "std               NaN                NaN   \n",
            "min               NaN                NaN   \n",
            "25%               NaN                NaN   \n",
            "50%               NaN                NaN   \n",
            "75%               NaN                NaN   \n",
            "max               NaN                NaN   \n",
            "\n",
            "                                               sourceURLs  \n",
            "count                                               28332  \n",
            "unique                                                 65  \n",
            "top     https://www.barcodable.com/upc/841710106442,ht...  \n",
            "freq                                                 8343  \n",
            "mean                                                  NaN  \n",
            "std                                                   NaN  \n",
            "min                                                   NaN  \n",
            "25%                                                   NaN  \n",
            "50%                                                   NaN  \n",
            "75%                                                   NaN  \n",
            "max                                                   NaN  \n",
            "\n",
            "[11 rows x 24 columns]\n"
          ]
        }
      ],
      "source": [
        "# Display descriptive statistics for the dataset\n",
        "print(\"\\nOriginal Dataset Descriptive statistics:\")\n",
        "print(dataset_original.describe(include='all'))\n",
        "\n",
        "print(\"\\nAdditional Dataset 01 Descriptive statistics:\")\n",
        "print(dataset_add_01.describe(include='all'))\n",
        "\n",
        "print(\"\\nAdditional Dataset 02 Descriptive statistics:\")\n",
        "print(dataset_add_02.describe(include='all'))"
      ]
    },
    {
      "cell_type": "code",
      "execution_count": 6,
      "metadata": {
        "colab": {
          "base_uri": "https://localhost:8080/"
        },
        "id": "NA9q5Ro6FzVg",
        "outputId": "e60ab739-dc04-4444-bd99-436a2271becf"
      },
      "outputs": [
        {
          "output_type": "stream",
          "name": "stdout",
          "text": [
            "\n",
            "Original Dataset Column names:\n",
            "Index(['id', 'name', 'asins', 'brand', 'categories', 'keys', 'manufacturer',\n",
            "       'reviews.date', 'reviews.dateAdded', 'reviews.dateSeen',\n",
            "       'reviews.didPurchase', 'reviews.doRecommend', 'reviews.id',\n",
            "       'reviews.numHelpful', 'reviews.rating', 'reviews.sourceURLs',\n",
            "       'reviews.text', 'reviews.title', 'reviews.userCity',\n",
            "       'reviews.userProvince', 'reviews.username'],\n",
            "      dtype='object')\n",
            "\n",
            "Additional Dataset 01 Column names:\n",
            "Index(['id', 'dateAdded', 'dateUpdated', 'name', 'asins', 'brand',\n",
            "       'categories', 'primaryCategories', 'imageURLs', 'keys', 'manufacturer',\n",
            "       'manufacturerNumber', 'reviews.date', 'reviews.dateAdded',\n",
            "       'reviews.dateSeen', 'reviews.doRecommend', 'reviews.id',\n",
            "       'reviews.numHelpful', 'reviews.rating', 'reviews.sourceURLs',\n",
            "       'reviews.text', 'reviews.title', 'reviews.username', 'sourceURLs'],\n",
            "      dtype='object')\n",
            "\n",
            "Additional Dataset 02 Column names:\n",
            "Index(['id', 'dateAdded', 'dateUpdated', 'name', 'asins', 'brand',\n",
            "       'categories', 'primaryCategories', 'imageURLs', 'keys', 'manufacturer',\n",
            "       'manufacturerNumber', 'reviews.date', 'reviews.dateSeen',\n",
            "       'reviews.didPurchase', 'reviews.doRecommend', 'reviews.id',\n",
            "       'reviews.numHelpful', 'reviews.rating', 'reviews.sourceURLs',\n",
            "       'reviews.text', 'reviews.title', 'reviews.username', 'sourceURLs'],\n",
            "      dtype='object')\n"
          ]
        }
      ],
      "source": [
        "# Display the column names in the dataset\n",
        "print(\"\\nOriginal Dataset Column names:\")\n",
        "print(dataset_original.columns)\n",
        "\n",
        "print(\"\\nAdditional Dataset 01 Column names:\")\n",
        "print(dataset_add_01.columns)\n",
        "\n",
        "print(\"\\nAdditional Dataset 02 Column names:\")\n",
        "print(dataset_add_02.columns)"
      ]
    },
    {
      "cell_type": "code",
      "execution_count": 7,
      "metadata": {
        "colab": {
          "base_uri": "https://localhost:8080/"
        },
        "id": "A8DywUteFzVg",
        "outputId": "ddd4f4e8-9b37-471f-a067-d98b960cdaaa"
      },
      "outputs": [
        {
          "output_type": "stream",
          "name": "stdout",
          "text": [
            "\n",
            "Dataset Original Missing values by column:\n",
            "id                          0\n",
            "name                     6760\n",
            "asins                       2\n",
            "brand                       0\n",
            "categories                  0\n",
            "keys                        0\n",
            "manufacturer                0\n",
            "reviews.date               39\n",
            "reviews.dateAdded       10621\n",
            "reviews.dateSeen            0\n",
            "reviews.didPurchase     34659\n",
            "reviews.doRecommend       594\n",
            "reviews.id              34659\n",
            "reviews.numHelpful        529\n",
            "reviews.rating             33\n",
            "reviews.sourceURLs          0\n",
            "reviews.text                1\n",
            "reviews.title               6\n",
            "reviews.userCity        34660\n",
            "reviews.userProvince    34660\n",
            "reviews.username            7\n",
            "dtype: int64\n",
            "\n",
            "Additional Dataset 01 Missing values by column:\n",
            "id                        0\n",
            "dateAdded                 0\n",
            "dateUpdated               0\n",
            "name                      0\n",
            "asins                     0\n",
            "brand                     0\n",
            "categories                0\n",
            "primaryCategories         0\n",
            "imageURLs                 0\n",
            "keys                      0\n",
            "manufacturer              0\n",
            "manufacturerNumber        0\n",
            "reviews.date              0\n",
            "reviews.dateAdded      3948\n",
            "reviews.dateSeen          0\n",
            "reviews.doRecommend       0\n",
            "reviews.id             4971\n",
            "reviews.numHelpful        0\n",
            "reviews.rating            0\n",
            "reviews.sourceURLs        0\n",
            "reviews.text              0\n",
            "reviews.title            13\n",
            "reviews.username          1\n",
            "sourceURLs                0\n",
            "dtype: int64\n",
            "\n",
            "Additional Dataset 02 Missing values by column:\n",
            "id                         0\n",
            "dateAdded                  0\n",
            "dateUpdated                0\n",
            "name                       0\n",
            "asins                      0\n",
            "brand                      0\n",
            "categories                 0\n",
            "primaryCategories          0\n",
            "imageURLs                  0\n",
            "keys                       0\n",
            "manufacturer               0\n",
            "manufacturerNumber         0\n",
            "reviews.date               0\n",
            "reviews.dateSeen           0\n",
            "reviews.didPurchase    28323\n",
            "reviews.doRecommend    12246\n",
            "reviews.id             28291\n",
            "reviews.numHelpful     12217\n",
            "reviews.rating             0\n",
            "reviews.sourceURLs         0\n",
            "reviews.text               0\n",
            "reviews.title              0\n",
            "reviews.username           5\n",
            "sourceURLs                 0\n",
            "dtype: int64\n"
          ]
        }
      ],
      "source": [
        "# Check for missing values in the dataset\n",
        "print(\"\\nDataset Original Missing values by column:\")\n",
        "print(dataset_original.isnull().sum())\n",
        "\n",
        "print(\"\\nAdditional Dataset 01 Missing values by column:\")\n",
        "print(dataset_add_01.isnull().sum())\n",
        "\n",
        "print(\"\\nAdditional Dataset 02 Missing values by column:\")\n",
        "print(dataset_add_02.isnull().sum())"
      ]
    },
    {
      "cell_type": "code",
      "execution_count": 8,
      "metadata": {
        "colab": {
          "base_uri": "https://localhost:8080/"
        },
        "id": "Jt_BoAIIFzVh",
        "outputId": "e85acee5-def5-4cd9-c21b-861ffecc01a5"
      },
      "outputs": [
        {
          "output_type": "stream",
          "name": "stdout",
          "text": [
            "\n",
            "Original Dataset Number of duplicate rows:\n",
            "0\n",
            "\n",
            "Additional Dataset 01 Number of duplicate rows:\n",
            "95\n",
            "\n",
            "Additional Dataset 02 Number of duplicate rows:\n",
            "0\n"
          ]
        }
      ],
      "source": [
        "# Check for duplicate rows in the dataset\n",
        "print(\"\\nOriginal Dataset Number of duplicate rows:\")\n",
        "print(dataset_original.duplicated().sum())\n",
        "\n",
        "print(\"\\nAdditional Dataset 01 Number of duplicate rows:\")\n",
        "print(dataset_add_01.duplicated().sum())\n",
        "\n",
        "print(\"\\nAdditional Dataset 02 Number of duplicate rows:\")\n",
        "print(dataset_add_02.duplicated().sum())"
      ]
    },
    {
      "cell_type": "code",
      "execution_count": 9,
      "metadata": {
        "colab": {
          "base_uri": "https://localhost:8080/"
        },
        "id": "LREVmL_hFzVh",
        "outputId": "8fe47dc2-c482-4a3c-993d-e41bdc7484ea"
      },
      "outputs": [
        {
          "output_type": "stream",
          "name": "stdout",
          "text": [
            "\n",
            "Dataset shape after removing duplicates:\n",
            "(4905, 24)\n"
          ]
        }
      ],
      "source": [
        "# Remove duplicate rows if necessary\n",
        "dataset_add_01 = dataset_add_01.drop_duplicates()\n",
        "print(\"\\nDataset shape after removing duplicates:\")\n",
        "print(dataset_add_01.shape)"
      ]
    },
    {
      "cell_type": "code",
      "execution_count": 10,
      "metadata": {
        "colab": {
          "base_uri": "https://localhost:8080/"
        },
        "id": "LnkaadjWFzVi",
        "outputId": "3fae4cec-af5e-48fc-c4ee-7dc3b27c93e9"
      },
      "outputs": [
        {
          "output_type": "stream",
          "name": "stdout",
          "text": [
            "\n",
            "Additional Dataset 01 Number of duplicate rows:\n",
            "0\n"
          ]
        }
      ],
      "source": [
        "print(\"\\nAdditional Dataset 01 Number of duplicate rows:\")\n",
        "print(dataset_add_01.duplicated().sum())"
      ]
    },
    {
      "cell_type": "code",
      "execution_count": 11,
      "metadata": {
        "id": "R63oc1h3FzVi"
      },
      "outputs": [],
      "source": [
        "# Selection of Required Columns\n",
        "columns_required = ['reviews.text', 'reviews.rating', 'reviews.doRecommend']\n",
        "dataset_original = dataset_original[columns_required]\n",
        "dataset_add_01 = dataset_add_01[columns_required]\n",
        "dataset_add_02 = dataset_add_02[columns_required]"
      ]
    },
    {
      "cell_type": "code",
      "execution_count": 12,
      "metadata": {
        "colab": {
          "base_uri": "https://localhost:8080/"
        },
        "id": "QxUCuktSFzVi",
        "outputId": "a41a6b33-b985-4f69-d6b6-34b0ad8e2aa7"
      },
      "outputs": [
        {
          "output_type": "stream",
          "name": "stdout",
          "text": [
            "Original Dataset shape: (34660, 3)\n",
            "\n",
            "Additional Dataset 01 shape: (4905, 3)\n",
            "\n",
            "Additional Dataset 02 shape: (28332, 3)\n"
          ]
        }
      ],
      "source": [
        "# Display the shape of the dataset\n",
        "print(f\"Original Dataset shape: {dataset_original.shape}\")\n",
        "print(f\"\\nAdditional Dataset 01 shape: {dataset_add_01.shape}\")\n",
        "print(f\"\\nAdditional Dataset 02 shape: {dataset_add_02.shape}\")"
      ]
    },
    {
      "cell_type": "code",
      "execution_count": 13,
      "metadata": {
        "id": "WEMeG4pfFzVj"
      },
      "outputs": [],
      "source": [
        "# Filter datasets by ratings 1, 2, y 3\n",
        "dataset_add_01_filt = dataset_add_01[dataset_add_01['reviews.rating'].isin([1, 2, 3])]\n",
        "dataset_add_02_filt = dataset_add_02[dataset_add_02['reviews.rating'].isin([1, 2, 3])]"
      ]
    },
    {
      "cell_type": "code",
      "execution_count": 14,
      "metadata": {
        "id": "VF2kp2AJFzVj"
      },
      "outputs": [],
      "source": [
        "# Combine datasets\n",
        "combined_dataset = pd.concat([dataset_original, dataset_add_01_filt, dataset_add_02_filt], ignore_index=True)"
      ]
    },
    {
      "cell_type": "code",
      "execution_count": 15,
      "metadata": {
        "colab": {
          "base_uri": "https://localhost:8080/"
        },
        "id": "0cQTfXDDFzVj",
        "outputId": "b3a74dc9-b229-45c8-95fc-c22335c316ab"
      },
      "outputs": [
        {
          "output_type": "stream",
          "name": "stdout",
          "text": [
            "Combined Dataset shape: (37752, 3)\n"
          ]
        }
      ],
      "source": [
        "# Display the shape of the dataset\n",
        "print(f\"Combined Dataset shape: {combined_dataset.shape}\")"
      ]
    },
    {
      "cell_type": "code",
      "execution_count": 16,
      "metadata": {
        "colab": {
          "base_uri": "https://localhost:8080/"
        },
        "id": "fqtPntmIFzVj",
        "outputId": "aa2cb181-c731-4bfa-9924-c6d1e90d20ac"
      },
      "outputs": [
        {
          "output_type": "stream",
          "name": "stdout",
          "text": [
            "\n",
            "Combined Dataset information:\n",
            "<class 'pandas.core.frame.DataFrame'>\n",
            "RangeIndex: 37752 entries, 0 to 37751\n",
            "Data columns (total 3 columns):\n",
            " #   Column               Non-Null Count  Dtype  \n",
            "---  ------               --------------  -----  \n",
            " 0   reviews.text         37751 non-null  object \n",
            " 1   reviews.rating       37719 non-null  float64\n",
            " 2   reviews.doRecommend  35448 non-null  object \n",
            "dtypes: float64(1), object(2)\n",
            "memory usage: 884.9+ KB\n",
            "None\n"
          ]
        }
      ],
      "source": [
        "# Get general information about the dataset\n",
        "print(\"\\nCombined Dataset information:\")\n",
        "print(combined_dataset.info())"
      ]
    },
    {
      "cell_type": "code",
      "execution_count": 17,
      "metadata": {
        "colab": {
          "base_uri": "https://localhost:8080/"
        },
        "id": "0fg_6mHjFzVk",
        "outputId": "3000f4be-5ac4-4fdc-a4e0-d0099144ad32"
      },
      "outputs": [
        {
          "output_type": "stream",
          "name": "stdout",
          "text": [
            "\n",
            "First rows of the Combined Dataset:\n",
            "                                        reviews.text  reviews.rating  \\\n",
            "0  This product so far has not disappointed. My c...             5.0   \n",
            "1  great for beginner or experienced person. Boug...             5.0   \n",
            "2  Inexpensive tablet for him to use and learn on...             5.0   \n",
            "3  I've had my Fire HD 8 two weeks now and I love...             4.0   \n",
            "4  I bought this for my grand daughter when she c...             5.0   \n",
            "\n",
            "  reviews.doRecommend  \n",
            "0                True  \n",
            "1                True  \n",
            "2                True  \n",
            "3                True  \n",
            "4                True  \n"
          ]
        }
      ],
      "source": [
        "print(\"\\nFirst rows of the Combined Dataset:\")\n",
        "print(combined_dataset.head())"
      ]
    },
    {
      "cell_type": "code",
      "execution_count": 18,
      "metadata": {
        "colab": {
          "base_uri": "https://localhost:8080/",
          "height": 730
        },
        "id": "sF7ihbJ1FzVk",
        "outputId": "17e580d3-86af-41bc-88d4-559970eadb0f"
      },
      "outputs": [
        {
          "output_type": "stream",
          "name": "stdout",
          "text": [
            "\n",
            "Distribution of ratings:\n",
            "reviews.rating\n",
            "5.0    23775\n",
            "4.0     8541\n",
            "3.0     2898\n",
            "1.0     1434\n",
            "2.0     1071\n",
            "Name: count, dtype: int64\n"
          ]
        },
        {
          "output_type": "stream",
          "name": "stderr",
          "text": [
            "<ipython-input-18-8fde126b3e19>:8: FutureWarning: \n",
            "\n",
            "Passing `palette` without assigning `hue` is deprecated and will be removed in v0.14.0. Assign the `x` variable to `hue` and set `legend=False` for the same effect.\n",
            "\n",
            "  sns.countplot(x='reviews.rating', data=combined_dataset, palette='viridis')\n"
          ]
        },
        {
          "output_type": "display_data",
          "data": {
            "text/plain": [
              "<Figure size 800x500 with 1 Axes>"
            ],
            "image/png": "[encoded data removed]"
          },
          "metadata": {}
        }
      ],
      "source": [
        "# Analyze the distribution of the 'rating' column if it exists\n",
        "if 'reviews.rating' in combined_dataset.columns:\n",
        "    print(\"\\nDistribution of ratings:\")\n",
        "    print(combined_dataset['reviews.rating'].value_counts())\n",
        "\n",
        "    # Plot the distribution of ratings\n",
        "    plt.figure(figsize=(8, 5))\n",
        "    sns.countplot(x='reviews.rating', data=combined_dataset, palette='viridis')\n",
        "    plt.title(\"Distribution of Ratings\")\n",
        "    plt.xlabel(\"Rating\")\n",
        "    plt.ylabel(\"Frequency\")\n",
        "    plt.show()\n"
      ]
    },
    {
      "cell_type": "code",
      "execution_count": 19,
      "metadata": {
        "colab": {
          "base_uri": "https://localhost:8080/"
        },
        "id": "qy0zlpI4FzVk",
        "outputId": "36acf313-c639-4e25-edba-85352660fe12"
      },
      "outputs": [
        {
          "output_type": "stream",
          "name": "stdout",
          "text": [
            "Number of missing values in 'reviews.rating' before cleaning: 33\n",
            "Number of missing values in 'reviews.rating' after cleaning: 0\n",
            "Dataset shape after removing missing values in 'reviews.rating': (37719, 3)\n"
          ]
        }
      ],
      "source": [
        "# Check the number of missing values in 'reviews.rating' before cleaning\n",
        "print(f\"Number of missing values in 'reviews.rating' before cleaning: {combined_dataset['reviews.rating'].isnull().sum()}\")\n",
        "\n",
        "# Drop rows where 'reviews.rating' is null\n",
        "combined_dataset = combined_dataset.dropna(subset=['reviews.rating'])\n",
        "\n",
        "# Confirm the missing values have been removed\n",
        "print(f\"Number of missing values in 'reviews.rating' after cleaning: {combined_dataset['reviews.rating'].isnull().sum()}\")\n",
        "\n",
        "# Check the shape of the dataset after cleaning\n",
        "print(f\"Dataset shape after removing missing values in 'reviews.rating': {combined_dataset.shape}\")"
      ]
    },
    {
      "cell_type": "code",
      "execution_count": 20,
      "metadata": {
        "colab": {
          "base_uri": "https://localhost:8080/"
        },
        "id": "l7ySYi1nFzVk",
        "outputId": "35bf6cf2-67b6-4514-9542-2eaf0e8ffe77"
      },
      "outputs": [
        {
          "output_type": "stream",
          "name": "stdout",
          "text": [
            "Number of missing values in 'reviews.text' before cleaning: 1\n",
            "Number of missing values in 'reviews.text' after cleaning: 0\n",
            "Dataset shape after removing missing values in 'reviews.text': (37718, 3)\n"
          ]
        }
      ],
      "source": [
        "# Check the number of missing values in 'reviews.text' before cleaning\n",
        "print(f\"Number of missing values in 'reviews.text' before cleaning: {combined_dataset['reviews.text'].isnull().sum()}\")\n",
        "\n",
        "# Drop rows where 'reviews.text' is null\n",
        "combined_dataset = combined_dataset.dropna(subset=['reviews.text'])\n",
        "\n",
        "# Confirm the missing values have been removed\n",
        "print(f\"Number of missing values in 'reviews.text' after cleaning: {combined_dataset['reviews.text'].isnull().sum()}\")\n",
        "\n",
        "# Check the shape of the dataset after cleaning\n",
        "print(f\"Dataset shape after removing missing values in 'reviews.text': {combined_dataset.shape}\")"
      ]
    },
    {
      "cell_type": "markdown",
      "metadata": {
        "id": "fpa02C8OFzVk"
      },
      "source": [
        "# **Text Cleaning**"
      ]
    },
    {
      "cell_type": "code",
      "execution_count": 21,
      "metadata": {
        "colab": {
          "base_uri": "https://localhost:8080/"
        },
        "id": "-_2QVN-2FzVm",
        "outputId": "e0a330fd-72d5-4548-a6a3-b99ad4f5af3f"
      },
      "outputs": [
        {
          "output_type": "stream",
          "name": "stderr",
          "text": [
            "[nltk_data] Downloading package stopwords to /root/nltk_data...\n",
            "[nltk_data]   Unzipping corpora/stopwords.zip.\n"
          ]
        }
      ],
      "source": [
        "from nltk.corpus import stopwords\n",
        "import nltk\n",
        "\n",
        "nltk.download('stopwords')# Download stopwords if not already downloaded\n",
        "stop_words = set(stopwords.words('english'))"
      ]
    },
    {
      "cell_type": "code",
      "execution_count": 22,
      "metadata": {
        "colab": {
          "base_uri": "https://localhost:8080/"
        },
        "id": "HzbbPMAoFzVm",
        "outputId": "c3710792-ad2a-4555-87c3-f2daa003e7d4"
      },
      "outputs": [
        {
          "output_type": "stream",
          "name": "stdout",
          "text": [
            "Performing basic text cleaning...\n",
            "\n",
            "Sample cleaned text:\n",
            "0    product far disappointed children love use lik...\n",
            "1    great beginner experienced person bought gift ...\n",
            "2    inexpensive tablet use learn step nabi thrille...\n",
            "3    ive fire hd two weeks love tablet great valuew...\n",
            "4    bought grand daughter comes visit set user ent...\n",
            "Name: reviews.text, dtype: object\n"
          ]
        }
      ],
      "source": [
        "import re\n",
        "\n",
        "# Define a function for cleaning text\n",
        "def clean_text(text):\n",
        "    # Convert to lowercase\n",
        "    text = text.lower()\n",
        "    # Remove punctuation and special characters\n",
        "    text = re.sub(r'[^\\w\\s]', '', text)\n",
        "    # Remove numbers\n",
        "    text = re.sub(r'\\d+', '', text)\n",
        "    # Remove stopwords\n",
        "    text = \" \".join([word for word in text.split() if word not in stop_words])\n",
        "    return text\n",
        "\n",
        "comb_data_cleaned = combined_dataset.copy()  # Make a copy of the original dataset\n",
        "\n",
        "# Apply text cleaning to the reviews.text column\n",
        "print(\"Performing basic text cleaning...\")\n",
        "comb_data_cleaned['reviews.text'] = comb_data_cleaned['reviews.text'].apply(clean_text)\n",
        "\n",
        "# Verify cleaned text\n",
        "print(\"\\nSample cleaned text:\")\n",
        "print(comb_data_cleaned['reviews.text'].head())"
      ]
    },
    {
      "cell_type": "code",
      "execution_count": 23,
      "metadata": {
        "colab": {
          "base_uri": "https://localhost:8080/"
        },
        "id": "6e00vdsOFzVm",
        "outputId": "e82e6c03-98c9-4d83-c061-a14c830c9126"
      },
      "outputs": [
        {
          "output_type": "stream",
          "name": "stdout",
          "text": [
            "\n",
            "Cleaned dataset saved as 'combined_data_cleaned.csv'\n"
          ]
        }
      ],
      "source": [
        "# Save the cleaned dataset for reference\n",
        "output_file = \"combined_data_cleaned.csv\"\n",
        "comb_data_cleaned.to_csv(output_file, index=False)\n",
        "print(f\"\\nCleaned dataset saved as '{output_file}'\")"
      ]
    },
    {
      "cell_type": "markdown",
      "metadata": {
        "id": "aalu3mMDFzVm"
      },
      "source": [
        "# **Adding Sentiment Feature**"
      ]
    },
    {
      "cell_type": "code",
      "execution_count": 24,
      "metadata": {
        "id": "5byoLUpCFzVn"
      },
      "outputs": [],
      "source": [
        "# Create a new DataFrame with the selected features\n",
        "comb_data_feat = comb_data_cleaned.copy()\n",
        "\n",
        "# Add the 'sentiment' feature based on the mapping logic\n",
        "def map_sentiment(rating):\n",
        "    if rating in [1, 2]:\n",
        "        return \"negative\"\n",
        "    elif rating == 3:\n",
        "        return \"neutral\"\n",
        "    elif rating in [4, 5]:\n",
        "        return \"positive\"\n",
        "\n",
        "comb_data_feat['sentiment'] = comb_data_feat['reviews.rating'].apply(map_sentiment)"
      ]
    },
    {
      "cell_type": "code",
      "execution_count": 25,
      "metadata": {
        "colab": {
          "base_uri": "https://localhost:8080/"
        },
        "id": "et16HvP-FzVn",
        "outputId": "f93c2cdc-2908-4f1b-f21f-7d9fd3efbff5"
      },
      "outputs": [
        {
          "output_type": "stream",
          "name": "stdout",
          "text": [
            "First rows of the new dataset:\n",
            "                                        reviews.text  reviews.rating  \\\n",
            "0  product far disappointed children love use lik...             5.0   \n",
            "1  great beginner experienced person bought gift ...             5.0   \n",
            "2  inexpensive tablet use learn step nabi thrille...             5.0   \n",
            "3  ive fire hd two weeks love tablet great valuew...             4.0   \n",
            "4  bought grand daughter comes visit set user ent...             5.0   \n",
            "\n",
            "  reviews.doRecommend sentiment  \n",
            "0                True  positive  \n",
            "1                True  positive  \n",
            "2                True  positive  \n",
            "3                True  positive  \n",
            "4                True  positive  \n"
          ]
        }
      ],
      "source": [
        "# Verify the new dataset\n",
        "print(\"First rows of the new dataset:\")\n",
        "print(comb_data_feat.head())"
      ]
    },
    {
      "cell_type": "code",
      "execution_count": 26,
      "metadata": {
        "colab": {
          "base_uri": "https://localhost:8080/"
        },
        "id": "Ie55xC_aFzVn",
        "outputId": "e936f292-3fe7-482d-9e8b-8810564959ef"
      },
      "outputs": [
        {
          "output_type": "stream",
          "name": "stdout",
          "text": [
            "\n",
            "New dataset shape: (37718, 4)\n"
          ]
        }
      ],
      "source": [
        "# Check the shape of the new dataset\n",
        "print(f\"\\nNew dataset shape: {comb_data_feat.shape}\")"
      ]
    },
    {
      "cell_type": "code",
      "execution_count": 27,
      "metadata": {
        "colab": {
          "base_uri": "https://localhost:8080/"
        },
        "id": "1pEvd1YhFzVo",
        "outputId": "7e059bf7-fbe9-4aa8-de98-1eeb266735fb"
      },
      "outputs": [
        {
          "output_type": "stream",
          "name": "stdout",
          "text": [
            "\n",
            "Distribution of 'sentiment':\n",
            "sentiment\n",
            "positive    32315\n",
            "neutral      2898\n",
            "negative     2505\n",
            "Name: count, dtype: int64\n"
          ]
        }
      ],
      "source": [
        "# Distribution of the 'sentiment' feature\n",
        "print(\"\\nDistribution of 'sentiment':\")\n",
        "print(comb_data_feat['sentiment'].value_counts())"
      ]
    },
    {
      "cell_type": "code",
      "execution_count": 28,
      "metadata": {
        "colab": {
          "base_uri": "https://localhost:8080/",
          "height": 574
        },
        "id": "Tbz8W4bJFzVo",
        "outputId": "ab16cd00-e5d9-41cb-8103-4d46f4877545"
      },
      "outputs": [
        {
          "output_type": "stream",
          "name": "stderr",
          "text": [
            "<ipython-input-28-60c7622640cd>:6: FutureWarning: \n",
            "\n",
            "Passing `palette` without assigning `hue` is deprecated and will be removed in v0.14.0. Assign the `x` variable to `hue` and set `legend=False` for the same effect.\n",
            "\n",
            "  sns.countplot(x='sentiment', data=comb_data_feat, palette='pastel', order=[\"negative\", \"neutral\", \"positive\"])\n"
          ]
        },
        {
          "output_type": "display_data",
          "data": {
            "text/plain": [
              "<Figure size 800x500 with 1 Axes>"
            ],
            "image/png": "[encoded data removed]"
          },
          "metadata": {}
        }
      ],
      "source": [
        "# Visualize the sentiment distribution\n",
        "import matplotlib.pyplot as plt\n",
        "import seaborn as sns\n",
        "\n",
        "plt.figure(figsize=(8, 5))\n",
        "sns.countplot(x='sentiment', data=comb_data_feat, palette='pastel', order=[\"negative\", \"neutral\", \"positive\"])\n",
        "plt.title(\"Distribution of Sentiment in the New Dataset\")\n",
        "plt.xlabel(\"Sentiment\")\n",
        "plt.ylabel(\"Frequency\")\n",
        "plt.show()"
      ]
    },
    {
      "cell_type": "markdown",
      "metadata": {
        "id": "wLeWfANQFzVo"
      },
      "source": [
        "# **Two data sets Creation for 2 parallel approaches**"
      ]
    },
    {
      "cell_type": "code",
      "execution_count": 29,
      "metadata": {
        "id": "vVkR3qlaFzVo"
      },
      "outputs": [],
      "source": [
        "# Create two versions of the dataset\n",
        "# Version 1: Drop 'doRecommend'\n",
        "comb_dataset_drop = comb_data_feat[['reviews.text', 'reviews.rating', 'sentiment']]\n",
        "\n",
        "# Version 2: Include 'doRecommend', recoding for neutral sentiment\n",
        "comb_dataset_recode = comb_data_feat[['reviews.text', 'reviews.rating', 'sentiment', 'reviews.doRecommend']]\n",
        "if 'reviews.doRecommend' in comb_dataset_recode.columns:\n",
        "    comb_dataset_recode.loc[comb_dataset_recode['reviews.rating'] == 3, 'reviews.doRecommend'] = None"
      ]
    },
    {
      "cell_type": "code",
      "execution_count": 30,
      "metadata": {
        "colab": {
          "base_uri": "https://localhost:8080/"
        },
        "id": "2b6sZ6UCFzVo",
        "outputId": "2abd9467-7650-4166-a3de-cb969ac41764"
      },
      "outputs": [
        {
          "output_type": "stream",
          "name": "stdout",
          "text": [
            "\n",
            "Checking for missing values in the dataset_drop:\n",
            "reviews.text      0\n",
            "reviews.rating    0\n",
            "sentiment         0\n",
            "dtype: int64\n",
            "\n",
            "Checking for missing values in the dataset_recode:\n",
            "reviews.text              0\n",
            "reviews.rating            0\n",
            "sentiment                 0\n",
            "reviews.doRecommend    4592\n",
            "dtype: int64\n",
            "\n",
            "Unique values in the 'sentiment' column in dataset_drop:\n",
            "['positive' 'negative' 'neutral']\n",
            "\n",
            "Unique values in the 'sentiment' column in dataset_recode:\n",
            "['positive' 'negative' 'neutral']\n"
          ]
        }
      ],
      "source": [
        "# Validation: Check for missing values in the datasets\n",
        "print(\"\\nChecking for missing values in the dataset_drop:\")\n",
        "print(comb_dataset_drop.isnull().sum())\n",
        "print(\"\\nChecking for missing values in the dataset_recode:\")\n",
        "print(comb_dataset_recode.isnull().sum())\n",
        "\n",
        "# Validation: Verify unique values in the 'sentiment' column\n",
        "print(\"\\nUnique values in the 'sentiment' column in dataset_drop:\")\n",
        "print(comb_dataset_drop['sentiment'].unique())\n",
        "print(\"\\nUnique values in the 'sentiment' column in dataset_recode:\")\n",
        "print(comb_dataset_recode['sentiment'].unique())\n"
      ]
    },
    {
      "cell_type": "code",
      "execution_count": 31,
      "metadata": {
        "colab": {
          "base_uri": "https://localhost:8080/"
        },
        "id": "US1S7gHyFzVo",
        "outputId": "1431b782-69ff-498e-91c8-7be10ea68cec"
      },
      "outputs": [
        {
          "output_type": "stream",
          "name": "stdout",
          "text": [
            "Missing values in 'reviews.doRecommend' grouped by sentiment:\n",
            "sentiment\n",
            "negative    1237\n",
            "neutral     2898\n",
            "positive     457\n",
            "Name: reviews.doRecommend, dtype: int64\n"
          ]
        }
      ],
      "source": [
        "# Count missing values in 'reviews.doRecommend' grouped by sentiment\n",
        "print(\"Missing values in 'reviews.doRecommend' grouped by sentiment:\")\n",
        "missing_counts = comb_dataset_recode.groupby('sentiment')['reviews.doRecommend'].apply(lambda x: x.isnull().sum())\n",
        "print(missing_counts)"
      ]
    },
    {
      "cell_type": "code",
      "execution_count": 32,
      "metadata": {
        "colab": {
          "base_uri": "https://localhost:8080/"
        },
        "id": "i94FGMJgFzVp",
        "outputId": "e59c1454-92f3-4150-fb5e-97f676dd9545"
      },
      "outputs": [
        {
          "output_type": "stream",
          "name": "stdout",
          "text": [
            "Missing values after cleaning:\n",
            "sentiment\n",
            "negative       0\n",
            "neutral     2898\n",
            "positive       0\n",
            "Name: reviews.doRecommend, dtype: int64\n"
          ]
        }
      ],
      "source": [
        "# Remove rows with missing 'doRecommend' in positive and negative sentiments\n",
        "comb_dataset_recode = comb_dataset_recode[\n",
        "    ~((comb_dataset_recode['sentiment'].isin(['positive', 'negative'])) & (comb_dataset_recode['reviews.doRecommend'].isnull()))\n",
        "]\n",
        "\n",
        "# Confirm removal of rows\n",
        "print(\"Missing values after cleaning:\")\n",
        "cleaned_counts = comb_dataset_recode.groupby('sentiment')['reviews.doRecommend'].apply(lambda x: x.isnull().sum())\n",
        "print(cleaned_counts)"
      ]
    },
    {
      "cell_type": "code",
      "execution_count": 33,
      "metadata": {
        "colab": {
          "base_uri": "https://localhost:8080/"
        },
        "id": "Z2EHzSO0FzVp",
        "outputId": "582af564-d74a-485a-edf0-02f9d7b940bc"
      },
      "outputs": [
        {
          "output_type": "stream",
          "name": "stdout",
          "text": [
            "\n",
            "Shape for dataset_drop: (37718, 3)\n",
            "Shape for dataset_recode: (36024, 4)\n"
          ]
        }
      ],
      "source": [
        "# Verify datasets shape\n",
        "print(f\"\\nShape for dataset_drop: {comb_dataset_drop.shape}\")\n",
        "print(f\"Shape for dataset_recode: {comb_dataset_recode.shape}\")"
      ]
    },
    {
      "cell_type": "code",
      "execution_count": 34,
      "metadata": {
        "colab": {
          "base_uri": "https://localhost:8080/"
        },
        "id": "3-Z7eU9kFzVp",
        "outputId": "f7f7cda4-59fe-4c11-b4d2-eae94e7715a2"
      },
      "outputs": [
        {
          "output_type": "stream",
          "name": "stdout",
          "text": [
            "\n",
            "Sample rows from the dataset_drop for validation:\n",
            "                                            reviews.text  reviews.rating  \\\n",
            "12038  purchased daughter car didnt think would like ...             4.0   \n",
            "16647            niece loves tablet durable charges slow             5.0   \n",
            "25794      pleased purchase wouldve definitely recommend             4.0   \n",
            "32092  works user friendly roku many apps roku google...             3.0   \n",
            "14476  christmas gift mother loves allows play game r...             5.0   \n",
            "\n",
            "      sentiment  \n",
            "12038  positive  \n",
            "16647  positive  \n",
            "25794  positive  \n",
            "32092   neutral  \n",
            "14476  positive  \n",
            "\n",
            "Sample rows from the dataset_recode for validation:\n",
            "                                            reviews.text  reviews.rating  \\\n",
            "7308            really love tablets brought younger kids             5.0   \n",
            "5813   finally perfect tablet son addition memory car...             5.0   \n",
            "15444         works great love screen sharpness easy use             4.0   \n",
            "27749  voice recognition astounding hang ups mostly a...             5.0   \n",
            "16454       sales people helpful controller cable longer             5.0   \n",
            "\n",
            "      sentiment reviews.doRecommend  \n",
            "7308   positive                True  \n",
            "5813   positive                True  \n",
            "15444  positive                True  \n",
            "27749  positive                True  \n",
            "16454  positive                True  \n"
          ]
        }
      ],
      "source": [
        "# Display a random sample of rows to verify the mapping\n",
        "print(\"\\nSample rows from the dataset_drop for validation:\")\n",
        "print(comb_dataset_drop.sample(5))\n",
        "print(\"\\nSample rows from the dataset_recode for validation:\")\n",
        "print(comb_dataset_recode.sample(5))"
      ]
    },
    {
      "cell_type": "code",
      "execution_count": 35,
      "metadata": {
        "colab": {
          "base_uri": "https://localhost:8080/"
        },
        "id": "ZUP4AoAnFzVp",
        "outputId": "5ec65d6c-ddba-4928-8d53-a0ef67023424"
      },
      "outputs": [
        {
          "output_type": "stream",
          "name": "stdout",
          "text": [
            "\n",
            "New dataset saved as 'comb_dataset_drop_approach_v01.csv'\n",
            "\n",
            "New dataset saved as 'comb_dataset_recode_approach_v02.csv'\n"
          ]
        }
      ],
      "source": [
        "# Save the new datasets to a CSV file\n",
        "output_file_v01 = \"comb_dataset_drop_approach_v01.csv\"\n",
        "comb_dataset_drop.to_csv(output_file_v01, index=False)\n",
        "print(f\"\\nNew dataset saved as '{output_file_v01}'\")\n",
        "\n",
        "output_file_v02 = \"comb_dataset_recode_approach_v02.csv\"\n",
        "comb_dataset_recode.to_csv(output_file_v02, index=False)\n",
        "print(f\"\\nNew dataset saved as '{output_file_v02}'\")"
      ]
    },
    {
      "cell_type": "markdown",
      "metadata": {
        "id": "b-_XRxUsFzVp"
      },
      "source": [
        "\n",
        "# **Splitting the Datasets into train, validation, and test sets.**"
      ]
    },
    {
      "cell_type": "code",
      "execution_count": 36,
      "metadata": {
        "colab": {
          "base_uri": "https://localhost:8080/"
        },
        "id": "nRcm6Q04FzVv",
        "outputId": "53e29a0d-ba73-446c-b6ae-f3850c102702"
      },
      "outputs": [
        {
          "output_type": "stream",
          "name": "stdout",
          "text": [
            "Splitting `comb_dataset_drop` into train, validation, and test sets...\n",
            "Splitting `comb_dataset_recode` into train, validation, and test sets...\n"
          ]
        }
      ],
      "source": [
        "from sklearn.model_selection import train_test_split\n",
        "\n",
        "# Function to split the dataset into train, validation, and test sets\n",
        "def split_dataset(dataset, stratify_col='sentiment'):\n",
        "    # Split into train (70%) and temp (30%) for validation and test\n",
        "    train, temp = train_test_split(dataset, test_size=0.3, random_state=42, stratify=dataset[stratify_col])\n",
        "    # Further split temp into validation (15%) and test (15%)\n",
        "    validation, test = train_test_split(temp, test_size=0.5, random_state=42, stratify=temp[stratify_col])\n",
        "    return train, validation, test\n",
        "\n",
        "# Split the `comb_dataset_drop`\n",
        "print(\"Splitting `comb_dataset_drop` into train, validation, and test sets...\")\n",
        "train_drop, val_drop, test_drop = split_dataset(comb_dataset_drop)\n",
        "\n",
        "# Split the `comb_dataset_recode`\n",
        "print(\"Splitting `comb_dataset_recode` into train, validation, and test sets...\")\n",
        "train_recode, val_recode, test_recode = split_dataset(comb_dataset_recode)"
      ]
    },
    {
      "cell_type": "code",
      "execution_count": 37,
      "metadata": {
        "colab": {
          "base_uri": "https://localhost:8080/"
        },
        "id": "2pSdiM2qFzVv",
        "outputId": "5d450fb7-aa13-4f5e-fd32-8d844b060e5c"
      },
      "outputs": [
        {
          "output_type": "stream",
          "name": "stdout",
          "text": [
            "Train, validation, and test sizes for `comb_dataset_drop`: (26402, 3), (5658, 3), (5658, 3)\n",
            "Train, validation, and test sizes for `comb_dataset_recode`: (25216, 4), (5404, 4), (5404, 4)\n"
          ]
        }
      ],
      "source": [
        "# Verify the sizes of the splits\n",
        "print(f\"Train, validation, and test sizes for `comb_dataset_drop`: {train_drop.shape}, {val_drop.shape}, {test_drop.shape}\")\n",
        "print(f\"Train, validation, and test sizes for `comb_dataset_recode`: {train_recode.shape}, {val_recode.shape}, {test_recode.shape}\")"
      ]
    },
    {
      "cell_type": "code",
      "execution_count": 38,
      "metadata": {
        "colab": {
          "base_uri": "https://localhost:8080/"
        },
        "id": "aUUpqKE7FzVw",
        "outputId": "0081779d-831b-4b06-df00-0df261fed707"
      },
      "outputs": [
        {
          "output_type": "stream",
          "name": "stdout",
          "text": [
            "\n",
            "Dataset splits saved successfully!\n"
          ]
        }
      ],
      "source": [
        "# Save the splits for future use\n",
        "train_drop.to_csv(\"comb_train_drop.csv\", index=False)\n",
        "val_drop.to_csv(\"comb_val_drop.csv\", index=False)\n",
        "test_drop.to_csv(\"comb_test_drop.csv\", index=False)\n",
        "\n",
        "train_recode.to_csv(\"comb_train_recode.csv\", index=False)\n",
        "val_recode.to_csv(\"comb_val_recode.csv\", index=False)\n",
        "test_recode.to_csv(\"comb_test_recode.csv\", index=False)\n",
        "\n",
        "print(\"\\nDataset splits saved successfully!\")"
      ]
    },
    {
      "cell_type": "markdown",
      "metadata": {
        "id": "aSMpj15jFzVw"
      },
      "source": [
        "# **Data Balancing Check**"
      ]
    },
    {
      "cell_type": "code",
      "execution_count": 39,
      "metadata": {
        "colab": {
          "base_uri": "https://localhost:8080/",
          "height": 1000
        },
        "id": "a6fVHmYbFzVw",
        "outputId": "0a32bc66-7c34-4027-8aec-f301785be846"
      },
      "outputs": [
        {
          "output_type": "stream",
          "name": "stdout",
          "text": [
            "\n",
            "Class distribution for train_drop before balancing:\n",
            "sentiment\n",
            "positive    22620\n",
            "neutral      2029\n",
            "negative     1753\n",
            "Name: count, dtype: int64\n"
          ]
        },
        {
          "output_type": "stream",
          "name": "stderr",
          "text": [
            "<ipython-input-39-013eba76b9d2>:8: FutureWarning: \n",
            "\n",
            "Passing `palette` without assigning `hue` is deprecated and will be removed in v0.14.0. Assign the `x` variable to `hue` and set `legend=False` for the same effect.\n",
            "\n",
            "  sns.countplot(x='sentiment', data=train_drop, palette='pastel', order=[\"negative\", \"neutral\", \"positive\"])\n"
          ]
        },
        {
          "output_type": "display_data",
          "data": {
            "text/plain": [
              "<Figure size 800x500 with 1 Axes>"
            ],
            "image/png": "[encoded data removed]"
          },
          "metadata": {}
        },
        {
          "output_type": "stream",
          "name": "stdout",
          "text": [
            "\n",
            "Class distribution for train_drop before balancing:\n",
            "sentiment\n",
            "positive    22300\n",
            "neutral      2028\n",
            "negative      888\n",
            "Name: count, dtype: int64\n"
          ]
        },
        {
          "output_type": "stream",
          "name": "stderr",
          "text": [
            "<ipython-input-39-013eba76b9d2>:21: FutureWarning: \n",
            "\n",
            "Passing `palette` without assigning `hue` is deprecated and will be removed in v0.14.0. Assign the `x` variable to `hue` and set `legend=False` for the same effect.\n",
            "\n",
            "  sns.countplot(x='sentiment', data=train_recode, palette='pastel', order=[\"negative\", \"neutral\", \"positive\"])\n"
          ]
        },
        {
          "output_type": "display_data",
          "data": {
            "text/plain": [
              "<Figure size 800x500 with 1 Axes>"
            ],
            "image/png": "[encoded data removed]"
          },
          "metadata": {}
        }
      ],
      "source": [
        "# Check the class distribution\n",
        "print(\"\\nClass distribution for train_drop before balancing:\")\n",
        "class_counts_v01 = train_drop['sentiment'].value_counts()\n",
        "print(class_counts_v01)\n",
        "\n",
        "# Visualize the class distribution\n",
        "plt.figure(figsize=(8, 5))\n",
        "sns.countplot(x='sentiment', data=train_drop, palette='pastel', order=[\"negative\", \"neutral\", \"positive\"])\n",
        "plt.title(\"Class Distribution for train_drop Before Balancing\")\n",
        "plt.xlabel(\"Sentiment\")\n",
        "plt.ylabel(\"Frequency\")\n",
        "plt.show()\n",
        "\n",
        "# Check the class distribution\n",
        "print(\"\\nClass distribution for train_drop before balancing:\")\n",
        "class_counts_v02 = train_recode['sentiment'].value_counts()\n",
        "print(class_counts_v02)\n",
        "\n",
        "# Visualize the class distribution\n",
        "plt.figure(figsize=(8, 5))\n",
        "sns.countplot(x='sentiment', data=train_recode, palette='pastel', order=[\"negative\", \"neutral\", \"positive\"])\n",
        "plt.title(\"Class Distribution for train_recode Before Balancing\")\n",
        "plt.xlabel(\"Sentiment\")\n",
        "plt.ylabel(\"Frequency\")\n",
        "plt.show()"
      ]
    },
    {
      "cell_type": "markdown",
      "metadata": {
        "id": "52xgtYMVFzVz"
      },
      "source": [
        "# **Models Training and Evaluation**"
      ]
    },
    {
      "cell_type": "code",
      "source": [
        "from sklearn.linear_model import LogisticRegression\n",
        "from sklearn.svm import SVC\n",
        "from sklearn.ensemble import RandomForestClassifier\n",
        "from xgboost import XGBClassifier\n",
        "from sklearn.metrics import accuracy_score, precision_score, recall_score, f1_score, classification_report, confusion_matrix\n",
        "from sklearn.utils.class_weight import compute_class_weight\n",
        "from sklearn.preprocessing import LabelEncoder\n",
        "import numpy as np"
      ],
      "metadata": {
        "id": "G8P3gY7AnKFI"
      },
      "execution_count": 41,
      "outputs": []
    },
    {
      "cell_type": "code",
      "source": [
        "# Encode sentiment labels into numeric format\n",
        "encoder = LabelEncoder()\n",
        "y_train_drop = encoder.fit_transform(train_drop['sentiment'])\n",
        "y_val_drop = encoder.transform(val_drop['sentiment'])\n",
        "y_test_drop = encoder.transform(test_drop['sentiment'])\n",
        "\n",
        "y_train_recode = encoder.fit_transform(train_recode['sentiment'])\n",
        "y_val_recode = encoder.transform(val_recode['sentiment'])\n",
        "y_test_recode = encoder.transform(test_recode['sentiment'])"
      ],
      "metadata": {
        "id": "0xZnr8yDncbV"
      },
      "execution_count": 43,
      "outputs": []
    },
    {
      "cell_type": "code",
      "source": [
        "# Compute class weights for each dataset\n",
        "class_weights_drop = compute_class_weight(\n",
        "    class_weight='balanced',  # Automatically calculate weights\n",
        "    classes=np.unique(y_train_drop),  # Unique classes\n",
        "    y=y_train_drop  # Target labels\n",
        ")\n",
        "class_weights_dict_drop = dict(enumerate(class_weights_drop))\n",
        "\n",
        "# Print class weights for `dataset_drop`\n",
        "print(\"\\nClass Weights for `dataset_drop` (encoded labels):\")\n",
        "for label, weight in class_weights_dict_drop.items():\n",
        "    print(f\"Class {encoder.inverse_transform([label])[0]}: Weight = {weight:.4f}\")\n",
        "\n",
        "class_weights_recode = compute_class_weight(\n",
        "    class_weight='balanced',\n",
        "    classes=np.unique(y_train_recode),\n",
        "    y=y_train_recode\n",
        ")\n",
        "class_weights_dict_recode = dict(enumerate(class_weights_recode))\n",
        "\n",
        "# Print class weights for `dataset_recode`\n",
        "print(\"\\nClass Weights for `dataset_recode` (encoded labels):\")\n",
        "for label, weight in class_weights_dict_recode.items():\n",
        "    print(f\"Class {encoder.inverse_transform([label])[0]}: Weight = {weight:.4f}\")"
      ],
      "metadata": {
        "colab": {
          "base_uri": "https://localhost:8080/"
        },
        "id": "QSxbXt4Nhtd7",
        "outputId": "d7f37eb5-ed23-43e6-e005-a01c883785b3"
      },
      "execution_count": 44,
      "outputs": [
        {
          "output_type": "stream",
          "name": "stdout",
          "text": [
            "\n",
            "Class Weights for `dataset_drop` (encoded labels):\n",
            "Class negative: Weight = 5.0203\n",
            "Class neutral: Weight = 4.3374\n",
            "Class positive: Weight = 0.3891\n",
            "\n",
            "Class Weights for `dataset_recode` (encoded labels):\n",
            "Class negative: Weight = 9.4655\n",
            "Class neutral: Weight = 4.1446\n",
            "Class positive: Weight = 0.3769\n"
          ]
        }
      ]
    },
    {
      "cell_type": "code",
      "source": [
        "from tensorflow.keras.preprocessing.text import Tokenizer\n",
        "from tensorflow.keras.preprocessing.sequence import pad_sequences\n",
        "from tensorflow.keras.utils import to_categorical\n",
        "from tensorflow.keras.models import Sequential\n",
        "from tensorflow.keras.layers import Embedding, Bidirectional, LSTM, Dense, Dropout\n",
        "from tensorflow.keras.callbacks import EarlyStopping, ReduceLROnPlateau\n",
        "from sklearn.utils.class_weight import compute_class_weight\n",
        "from sklearn.metrics import classification_report, confusion_matrix\n",
        "from tensorflow.keras.regularizers import l2\n",
        "import numpy as np\n",
        "import matplotlib.pyplot as plt\n",
        "import seaborn as sns"
      ],
      "metadata": {
        "id": "RtcxMpyGv8zI"
      },
      "execution_count": 74,
      "outputs": []
    },
    {
      "cell_type": "code",
      "source": [
        "# Step 1: Tokenization and padding\n",
        "max_words = 10000  # Maximum number of words to keep\n",
        "max_len = 200  # Maximum sequence length\n",
        "\n",
        "# Load GloVe embeddings ==>opt_04 new addition\n",
        "embedding_dim = 100  # Dimension of GloVe vectors\n",
        "embedding_index = {}\n",
        "with open('glove.6B.100d.txt', 'r', encoding='utf-8') as f:\n",
        "    for line in f:\n",
        "        values = line.split()\n",
        "        word = values[0]\n",
        "        coefs = np.asarray(values[1:], dtype='float32')\n",
        "        embedding_index[word] = coefs\n",
        "\n",
        "# Tokenize the texts\n",
        "tokenizer = Tokenizer(num_words=max_words, oov_token='<OOV>')\n",
        "tokenizer.fit_on_texts(train_drop['reviews.text'])  # Fit on training data\n",
        "\n",
        "# Create embedding matrix ==>opt_04 new addition\n",
        "word_index = tokenizer.word_index\n",
        "embedding_matrix = np.zeros((max_words, embedding_dim))\n",
        "for word, i in word_index.items():\n",
        "    if i < max_words:\n",
        "        embedding_vector = embedding_index.get(word)\n",
        "        if embedding_vector is not None:\n",
        "            embedding_matrix[i] = embedding_vector\n",
        "\n",
        "# Convert texts to sequences\n",
        "def preprocess_texts(train, val, test):\n",
        "    X_train = pad_sequences(tokenizer.texts_to_sequences(train['reviews.text']), maxlen=max_len, padding='post')\n",
        "    X_val = pad_sequences(tokenizer.texts_to_sequences(val['reviews.text']), maxlen=max_len, padding='post')\n",
        "    X_test = pad_sequences(tokenizer.texts_to_sequences(test['reviews.text']), maxlen=max_len, padding='post')\n",
        "    return X_train, X_val, X_test\n",
        "\n",
        "X_train_drop, X_val_drop, X_test_drop = preprocess_texts(train_drop, val_drop, test_drop)\n",
        "X_train_recode, X_val_recode, X_test_recode = preprocess_texts(train_recode, val_recode, test_recode)\n",
        "\n",
        "# Convert encoded labels to one-hot encoding\n",
        "y_train_drop_onehot = to_categorical(y_train_drop, num_classes=3)\n",
        "y_val_drop_onehot = to_categorical(y_val_drop, num_classes=3)\n",
        "y_test_drop_onehot = to_categorical(y_test_drop, num_classes=3)\n",
        "\n",
        "y_train_recode_onehot = to_categorical(y_train_recode, num_classes=3)\n",
        "y_val_recode_onehot = to_categorical(y_val_recode, num_classes=3)\n",
        "y_test_recode_onehot = to_categorical(y_test_recode, num_classes=3)"
      ],
      "metadata": {
        "id": "6B_Lxa8NwJU8"
      },
      "execution_count": 79,
      "outputs": []
    },
    {
      "cell_type": "code",
      "source": [
        "# Step 2: Build the LSTM model\n",
        "def build_lstm_model(input_dim, embedding_matrix, output_dim=3): # opt_04 added embedding_matrix\n",
        "    model = Sequential([\n",
        "        Embedding(input_dim=input_dim, output_dim=embedding_dim, weights=[embedding_matrix], input_length=max_len, trainable=False), # opt_02 modified 128=>256, opt_04 updated\n",
        "        Bidirectional(LSTM(256, return_sequences=True)), # opt_01 modified False=>True, opt_02 modified 64=>128, opt_04 modified 128=>256\n",
        "        Dropout(0.3), # opt_01 modified 0.5=>0.4, opt_02 modified 0.4=>0.5, # opt_03 modified 0.5=>0.4, opt_04 modified 0.4=>0.3\n",
        "        Bidirectional(LSTM(256, return_sequences=False)), # opt_01 new added, opt_02 modified 32=>128, # opt_03 modified False=>True, opt_04 modified 128=>256 True=>False\n",
        "        Dropout(0.3), # opt_01 new added, opt_02 modified 0.4=>0.5, # opt_03 modified 0.5=>0.4, opt_04 modified 0.4=>0.3\n",
        "        #Bidirectional(LSTM(64, return_sequences=False)), # opt_03 new added, # opt_04 removed\n",
        "        #Dropout(0.4), # opt_03 new added, # opt_04 removed\n",
        "        Dense(128, activation='relu'),# opt_01 modified 64=>32, opt_02 modified 32=>128, opt_03 added kernel_regularizer=l2(0.01), opt_04 removed kernel_regularizer\n",
        "        Dropout(0.3), # opt_01 modified 0.5=>0.3, opt_02 modified 0.3=>0.5, # opt_03 modified 0.5=>0.4, opt_04 modified 0.4=>0.3\n",
        "        Dense(output_dim, activation='softmax')\n",
        "    ])\n",
        "    model.compile(optimizer='adam', loss='categorical_crossentropy', metrics=['accuracy'])\n",
        "    return model"
      ],
      "metadata": {
        "id": "0_acV3PpwS9o"
      },
      "execution_count": 85,
      "outputs": []
    },
    {
      "cell_type": "code",
      "source": [
        "# Step 3: Train the model function\n",
        "def train_lstm_model(X_train, y_train, X_val, y_val, class_weights, model_name):\n",
        "    model = build_lstm_model(input_dim=max_words, embedding_matrix=embedding_matrix) # opt_04 added the embedding_matrix=embedding_matrix\n",
        "    early_stop = EarlyStopping(monitor='val_loss', patience=5, restore_best_weights=True) # opt_02 modified 3=>5\n",
        "    reduce_lr = ReduceLROnPlateau(monitor='val_loss', factor=0.5, patience=2, min_lr=1e-6) # opt_04 new added\n",
        "\n",
        "    print(f\"--- Training {model_name} ---\")\n",
        "    history = model.fit(\n",
        "        X_train, y_train,\n",
        "        validation_data=(X_val, y_val),\n",
        "        epochs=50, # opt_02 modified 10=>20, # opt_05 modified 20=>50\n",
        "        batch_size=128, # opt_02 modified 64=>128\n",
        "        class_weight=class_weights,  # Apply class weights\n",
        "        callbacks=[early_stop, reduce_lr] # opt_04 reduce_lr added\n",
        "    )\n",
        "    return model"
      ],
      "metadata": {
        "id": "i01s2fnAwXQ4"
      },
      "execution_count": 82,
      "outputs": []
    },
    {
      "cell_type": "code",
      "source": [
        "# Step 4: Evaluate the model function\n",
        "def evaluate_lstm_model(model, X_test, y_test, model_name):\n",
        "    predictions = model.predict(X_test)\n",
        "    y_pred = np.argmax(predictions, axis=1)\n",
        "    y_true = np.argmax(y_test, axis=1)\n",
        "\n",
        "    print(f\"\\n--- Evaluation of {model_name} ---\")\n",
        "    print(\"Classification Report:\\n\", classification_report(y_true, y_pred, target_names=encoder.classes_))\n",
        "    print(\"Confusion Matrix:\\n\", confusion_matrix(y_true, y_pred))\n",
        "\n",
        "    # Plot confusion matrix\n",
        "    plt.figure(figsize=(8, 6))\n",
        "    sns.heatmap(confusion_matrix(y_true, y_pred), annot=True, fmt='d', cmap='Blues', xticklabels=encoder.classes_, yticklabels=encoder.classes_)\n",
        "    plt.xlabel('Predicted Labels')\n",
        "    plt.ylabel('True Labels')\n",
        "    plt.title(f\"Confusion Matrix ({model_name})\")\n",
        "    plt.show()"
      ],
      "metadata": {
        "id": "Imn73O6mwa4C"
      },
      "execution_count": 83,
      "outputs": []
    },
    {
      "cell_type": "code",
      "source": [
        "# Train and evaluate on `dataset_drop`\n",
        "class_weights_dict_drop = {0: 6.0, 1: 5.5, 2: 0.4} # opt_03 modified {0: 5.0203, 1: 4.3374, 2: 0.3891}=>{0: 6.0, 1: 5.5, 2: 0.4}\n",
        "print(\"\\nTraining on `dataset_drop`...\")\n",
        "lstm_model_drop = train_lstm_model(X_train_drop, y_train_drop_onehot, X_val_drop, y_val_drop_onehot, class_weights_dict_drop, \"LSTM (dataset_drop)\")\n",
        "\n",
        "print(\"\\nEvaluating on `dataset_drop`...\")\n",
        "evaluate_lstm_model(lstm_model_drop, X_test_drop, y_test_drop_onehot, \"LSTM (dataset_drop)\")"
      ],
      "metadata": {
        "colab": {
          "base_uri": "https://localhost:8080/",
          "height": 1000
        },
        "id": "jv6UE0CownTv",
        "outputId": "8ceabc3c-5f72-4020-b072-52d2f794bae2"
      },
      "execution_count": 86,
      "outputs": [
        {
          "output_type": "stream",
          "name": "stdout",
          "text": [
            "\n",
            "Training on `dataset_drop`...\n",
            "--- Training LSTM (dataset_drop) ---\n",
            "Epoch 1/20\n"
          ]
        },
        {
          "output_type": "stream",
          "name": "stderr",
          "text": [
            "/usr/local/lib/python3.11/dist-packages/keras/src/layers/core/embedding.py:90: UserWarning: Argument `input_length` is deprecated. Just remove it.\n",
            "  warnings.warn(\n"
          ]
        },
        {
          "output_type": "stream",
          "name": "stdout",
          "text": [
            "\u001b[1m207/207\u001b[0m \u001b[32m━━━━━━━━━━━━━━━━━━━━\u001b[0m\u001b[37m\u001b[0m \u001b[1m37s\u001b[0m 157ms/step - accuracy: 0.5667 - loss: 1.1025 - val_accuracy: 0.7561 - val_loss: 0.6880 - learning_rate: 0.0010\n",
            "Epoch 2/20\n",
            "\u001b[1m207/207\u001b[0m \u001b[32m━━━━━━━━━━━━━━━━━━━━\u001b[0m\u001b[37m\u001b[0m \u001b[1m41s\u001b[0m 158ms/step - accuracy: 0.7002 - loss: 0.9422 - val_accuracy: 0.7448 - val_loss: 0.6274 - learning_rate: 0.0010\n",
            "Epoch 3/20\n",
            "\u001b[1m207/207\u001b[0m \u001b[32m━━━━━━━━━━━━━━━━━━━━\u001b[0m\u001b[37m\u001b[0m \u001b[1m42s\u001b[0m 164ms/step - accuracy: 0.7068 - loss: 0.8610 - val_accuracy: 0.7732 - val_loss: 0.5523 - learning_rate: 0.0010\n",
            "Epoch 4/20\n",
            "\u001b[1m207/207\u001b[0m \u001b[32m━━━━━━━━━━━━━━━━━━━━\u001b[0m\u001b[37m\u001b[0m \u001b[1m41s\u001b[0m 166ms/step - accuracy: 0.7270 - loss: 0.7737 - val_accuracy: 0.6702 - val_loss: 0.8075 - learning_rate: 0.0010\n",
            "Epoch 5/20\n",
            "\u001b[1m207/207\u001b[0m \u001b[32m━━━━━━━━━━━━━━━━━━━━\u001b[0m\u001b[37m\u001b[0m \u001b[1m41s\u001b[0m 166ms/step - accuracy: 0.7333 - loss: 0.7461 - val_accuracy: 0.7798 - val_loss: 0.6014 - learning_rate: 0.0010\n",
            "Epoch 6/20\n",
            "\u001b[1m207/207\u001b[0m \u001b[32m━━━━━━━━━━━━━━━━━━━━\u001b[0m\u001b[37m\u001b[0m \u001b[1m34s\u001b[0m 165ms/step - accuracy: 0.7518 - loss: 0.7089 - val_accuracy: 0.7223 - val_loss: 0.6624 - learning_rate: 5.0000e-04\n",
            "Epoch 7/20\n",
            "\u001b[1m207/207\u001b[0m \u001b[32m━━━━━━━━━━━━━━━━━━━━\u001b[0m\u001b[37m\u001b[0m \u001b[1m41s\u001b[0m 166ms/step - accuracy: 0.7692 - loss: 0.6179 - val_accuracy: 0.7844 - val_loss: 0.5124 - learning_rate: 5.0000e-04\n",
            "Epoch 8/20\n",
            "\u001b[1m207/207\u001b[0m \u001b[32m━━━━━━━━━━━━━━━━━━━━\u001b[0m\u001b[37m\u001b[0m \u001b[1m34s\u001b[0m 166ms/step - accuracy: 0.7897 - loss: 0.5633 - val_accuracy: 0.8199 - val_loss: 0.4567 - learning_rate: 5.0000e-04\n",
            "Epoch 9/20\n",
            "\u001b[1m207/207\u001b[0m \u001b[32m━━━━━━━━━━━━━━━━━━━━\u001b[0m\u001b[37m\u001b[0m \u001b[1m41s\u001b[0m 165ms/step - accuracy: 0.8106 - loss: 0.4862 - val_accuracy: 0.8135 - val_loss: 0.4842 - learning_rate: 5.0000e-04\n",
            "Epoch 10/20\n",
            "\u001b[1m207/207\u001b[0m \u001b[32m━━━━━━━━━━━━━━━━━━━━\u001b[0m\u001b[37m\u001b[0m \u001b[1m41s\u001b[0m 166ms/step - accuracy: 0.8197 - loss: 0.4147 - val_accuracy: 0.7418 - val_loss: 0.6447 - learning_rate: 5.0000e-04\n",
            "Epoch 11/20\n",
            "\u001b[1m207/207\u001b[0m \u001b[32m━━━━━━━━━━━━━━━━━━━━\u001b[0m\u001b[37m\u001b[0m \u001b[1m34s\u001b[0m 166ms/step - accuracy: 0.8259 - loss: 0.3829 - val_accuracy: 0.8204 - val_loss: 0.4805 - learning_rate: 2.5000e-04\n",
            "Epoch 12/20\n",
            "\u001b[1m207/207\u001b[0m \u001b[32m━━━━━━━━━━━━━━━━━━━━\u001b[0m\u001b[37m\u001b[0m \u001b[1m41s\u001b[0m 166ms/step - accuracy: 0.8532 - loss: 0.3157 - val_accuracy: 0.7983 - val_loss: 0.5220 - learning_rate: 2.5000e-04\n",
            "Epoch 13/20\n",
            "\u001b[1m207/207\u001b[0m \u001b[32m━━━━━━━━━━━━━━━━━━━━\u001b[0m\u001b[37m\u001b[0m \u001b[1m41s\u001b[0m 165ms/step - accuracy: 0.8650 - loss: 0.2608 - val_accuracy: 0.8146 - val_loss: 0.5079 - learning_rate: 1.2500e-04\n",
            "\n",
            "Evaluating on `dataset_drop`...\n",
            "\u001b[1m177/177\u001b[0m \u001b[32m━━━━━━━━━━━━━━━━━━━━\u001b[0m\u001b[37m\u001b[0m \u001b[1m4s\u001b[0m 22ms/step\n",
            "\n",
            "--- Evaluation of LSTM (dataset_drop) ---\n",
            "Classification Report:\n",
            "               precision    recall  f1-score   support\n",
            "\n",
            "    negative       0.51      0.82      0.63       376\n",
            "     neutral       0.28      0.50      0.36       435\n",
            "    positive       0.97      0.86      0.91      4847\n",
            "\n",
            "    accuracy                           0.83      5658\n",
            "   macro avg       0.59      0.72      0.63      5658\n",
            "weighted avg       0.89      0.83      0.85      5658\n",
            "\n",
            "Confusion Matrix:\n",
            " [[ 309   47   20]\n",
            " [ 115  216  104]\n",
            " [ 179  517 4151]]\n"
          ]
        },
        {
          "output_type": "display_data",
          "data": {
            "text/plain": [
              "<Figure size 800x600 with 2 Axes>"
            ],
            "image/png": "[encoded data removed]"
          },
          "metadata": {}
        }
      ]
    },
    {
      "cell_type": "code",
      "source": [
        "# Train and evaluate on `dataset_recode`\n",
        "class_weights_dict_recode = {0: 10.0, 1: 5.5, 2: 0.4} # opt_03 modified {0: 9.4655, 1: 4.1446, 2: 0.3769}=>{0: 10.0, 1: 5.5, 2: 0.4}\n",
        "print(\"\\nTraining on `dataset_recode`...\")\n",
        "lstm_model_recode = train_lstm_model(X_train_recode, y_train_recode_onehot, X_val_recode, y_val_recode_onehot, class_weights_dict_recode, \"LSTM (dataset_recode)\")\n",
        "\n",
        "print(\"\\nEvaluating on `dataset_recode`...\")\n",
        "evaluate_lstm_model(lstm_model_recode, X_test_recode, y_test_recode_onehot, \"LSTM (dataset_recode)\")"
      ],
      "metadata": {
        "colab": {
          "base_uri": "https://localhost:8080/",
          "height": 1000
        },
        "id": "1DodXDlxshkv",
        "outputId": "51a4c990-c213-4cb4-cd27-b8f962601236"
      },
      "execution_count": 87,
      "outputs": [
        {
          "output_type": "stream",
          "name": "stdout",
          "text": [
            "\n",
            "Training on `dataset_recode`...\n",
            "--- Training LSTM (dataset_recode) ---\n",
            "Epoch 1/20\n"
          ]
        },
        {
          "output_type": "stream",
          "name": "stderr",
          "text": [
            "/usr/local/lib/python3.11/dist-packages/keras/src/layers/core/embedding.py:90: UserWarning: Argument `input_length` is deprecated. Just remove it.\n",
            "  warnings.warn(\n"
          ]
        },
        {
          "output_type": "stream",
          "name": "stdout",
          "text": [
            "\u001b[1m197/197\u001b[0m \u001b[32m━━━━━━━━━━━━━━━━━━━━\u001b[0m\u001b[37m\u001b[0m \u001b[1m37s\u001b[0m 165ms/step - accuracy: 0.5152 - loss: 1.1365 - val_accuracy: 0.6758 - val_loss: 0.8282 - learning_rate: 0.0010\n",
            "Epoch 2/20\n",
            "\u001b[1m197/197\u001b[0m \u001b[32m━━━━━━━━━━━━━━━━━━━━\u001b[0m\u001b[37m\u001b[0m \u001b[1m41s\u001b[0m 168ms/step - accuracy: 0.6859 - loss: 0.9507 - val_accuracy: 0.7117 - val_loss: 0.7242 - learning_rate: 0.0010\n",
            "Epoch 3/20\n",
            "\u001b[1m197/197\u001b[0m \u001b[32m━━━━━━━━━━━━━━━━━━━━\u001b[0m\u001b[37m\u001b[0m \u001b[1m40s\u001b[0m 166ms/step - accuracy: 0.6987 - loss: 0.9067 - val_accuracy: 0.5405 - val_loss: 1.1300 - learning_rate: 0.0010\n",
            "Epoch 4/20\n",
            "\u001b[1m197/197\u001b[0m \u001b[32m━━━━━━━━━━━━━━━━━━━━\u001b[0m\u001b[37m\u001b[0m \u001b[1m41s\u001b[0m 167ms/step - accuracy: 0.7127 - loss: 0.8693 - val_accuracy: 0.7437 - val_loss: 0.6179 - learning_rate: 0.0010\n",
            "Epoch 5/20\n",
            "\u001b[1m197/197\u001b[0m \u001b[32m━━━━━━━━━━━━━━━━━━━━\u001b[0m\u001b[37m\u001b[0m \u001b[1m41s\u001b[0m 166ms/step - accuracy: 0.7200 - loss: 0.7838 - val_accuracy: 0.7372 - val_loss: 0.6223 - learning_rate: 0.0010\n",
            "Epoch 6/20\n",
            "\u001b[1m197/197\u001b[0m \u001b[32m━━━━━━━━━━━━━━━━━━━━\u001b[0m\u001b[37m\u001b[0m \u001b[1m41s\u001b[0m 167ms/step - accuracy: 0.7348 - loss: 0.6978 - val_accuracy: 0.6882 - val_loss: 0.6426 - learning_rate: 0.0010\n",
            "Epoch 7/20\n",
            "\u001b[1m197/197\u001b[0m \u001b[32m━━━━━━━━━━━━━━━━━━━━\u001b[0m\u001b[37m\u001b[0m \u001b[1m41s\u001b[0m 167ms/step - accuracy: 0.7589 - loss: 0.6238 - val_accuracy: 0.7158 - val_loss: 0.6608 - learning_rate: 5.0000e-04\n",
            "Epoch 8/20\n",
            "\u001b[1m197/197\u001b[0m \u001b[32m━━━━━━━━━━━━━━━━━━━━\u001b[0m\u001b[37m\u001b[0m \u001b[1m41s\u001b[0m 167ms/step - accuracy: 0.8016 - loss: 0.4700 - val_accuracy: 0.7687 - val_loss: 0.5547 - learning_rate: 5.0000e-04\n",
            "Epoch 9/20\n",
            "\u001b[1m197/197\u001b[0m \u001b[32m━━━━━━━━━━━━━━━━━━━━\u001b[0m\u001b[37m\u001b[0m \u001b[1m41s\u001b[0m 167ms/step - accuracy: 0.7982 - loss: 0.4383 - val_accuracy: 0.7989 - val_loss: 0.5049 - learning_rate: 5.0000e-04\n",
            "Epoch 10/20\n",
            "\u001b[1m197/197\u001b[0m \u001b[32m━━━━━━━━━━━━━━━━━━━━\u001b[0m\u001b[37m\u001b[0m \u001b[1m41s\u001b[0m 167ms/step - accuracy: 0.8125 - loss: 0.3850 - val_accuracy: 0.8024 - val_loss: 0.4970 - learning_rate: 5.0000e-04\n",
            "Epoch 11/20\n",
            "\u001b[1m197/197\u001b[0m \u001b[32m━━━━━━━━━━━━━━━━━━━━\u001b[0m\u001b[37m\u001b[0m \u001b[1m41s\u001b[0m 167ms/step - accuracy: 0.8184 - loss: 0.4236 - val_accuracy: 0.7433 - val_loss: 0.6285 - learning_rate: 5.0000e-04\n",
            "Epoch 12/20\n",
            "\u001b[1m197/197\u001b[0m \u001b[32m━━━━━━━━━━━━━━━━━━━━\u001b[0m\u001b[37m\u001b[0m \u001b[1m41s\u001b[0m 166ms/step - accuracy: 0.8261 - loss: 0.3230 - val_accuracy: 0.7952 - val_loss: 0.5610 - learning_rate: 5.0000e-04\n",
            "Epoch 13/20\n",
            "\u001b[1m197/197\u001b[0m \u001b[32m━━━━━━━━━━━━━━━━━━━━\u001b[0m\u001b[37m\u001b[0m \u001b[1m41s\u001b[0m 167ms/step - accuracy: 0.8435 - loss: 0.2682 - val_accuracy: 0.8533 - val_loss: 0.4373 - learning_rate: 2.5000e-04\n",
            "Epoch 14/20\n",
            "\u001b[1m197/197\u001b[0m \u001b[32m━━━━━━━━━━━━━━━━━━━━\u001b[0m\u001b[37m\u001b[0m \u001b[1m41s\u001b[0m 167ms/step - accuracy: 0.8785 - loss: 0.2075 - val_accuracy: 0.8125 - val_loss: 0.5246 - learning_rate: 2.5000e-04\n",
            "Epoch 15/20\n",
            "\u001b[1m197/197\u001b[0m \u001b[32m━━━━━━━━━━━━━━━━━━━━\u001b[0m\u001b[37m\u001b[0m \u001b[1m41s\u001b[0m 167ms/step - accuracy: 0.8748 - loss: 0.2028 - val_accuracy: 0.8301 - val_loss: 0.5095 - learning_rate: 2.5000e-04\n",
            "Epoch 16/20\n",
            "\u001b[1m197/197\u001b[0m \u001b[32m━━━━━━━━━━━━━━━━━━━━\u001b[0m\u001b[37m\u001b[0m \u001b[1m41s\u001b[0m 167ms/step - accuracy: 0.8954 - loss: 0.1706 - val_accuracy: 0.8514 - val_loss: 0.4882 - learning_rate: 1.2500e-04\n",
            "Epoch 17/20\n",
            "\u001b[1m197/197\u001b[0m \u001b[32m━━━━━━━━━━━━━━━━━━━━\u001b[0m\u001b[37m\u001b[0m \u001b[1m41s\u001b[0m 167ms/step - accuracy: 0.9127 - loss: 0.1491 - val_accuracy: 0.8682 - val_loss: 0.4648 - learning_rate: 1.2500e-04\n",
            "Epoch 18/20\n",
            "\u001b[1m197/197\u001b[0m \u001b[32m━━━━━━━━━━━━━━━━━━━━\u001b[0m\u001b[37m\u001b[0m \u001b[1m41s\u001b[0m 167ms/step - accuracy: 0.9148 - loss: 0.1335 - val_accuracy: 0.8736 - val_loss: 0.4714 - learning_rate: 6.2500e-05\n",
            "\n",
            "Evaluating on `dataset_recode`...\n",
            "\u001b[1m169/169\u001b[0m \u001b[32m━━━━━━━━━━━━━━━━━━━━\u001b[0m\u001b[37m\u001b[0m \u001b[1m5s\u001b[0m 24ms/step\n",
            "\n",
            "--- Evaluation of LSTM (dataset_recode) ---\n",
            "Classification Report:\n",
            "               precision    recall  f1-score   support\n",
            "\n",
            "    negative       0.50      0.68      0.58       190\n",
            "     neutral       0.34      0.67      0.45       435\n",
            "    positive       0.97      0.87      0.91      4779\n",
            "\n",
            "    accuracy                           0.84      5404\n",
            "   macro avg       0.60      0.74      0.65      5404\n",
            "weighted avg       0.90      0.84      0.87      5404\n",
            "\n",
            "Confusion Matrix:\n",
            " [[ 129   32   29]\n",
            " [  32  291  112]\n",
            " [  97  538 4144]]\n"
          ]
        },
        {
          "output_type": "display_data",
          "data": {
            "text/plain": [
              "<Figure size 800x600 with 2 Axes>"
            ],
            "image/png": "[encoded data removed]"
          },
          "metadata": {}
        }
      ]
    }
  ],
  "metadata": {
    "kernelspec": {
      "display_name": "Python 3",
      "name": "python3"
    },
    "language_info": {
      "codemirror_mode": {
        "name": "ipython",
        "version": 3
      },
      "file_extension": ".py",
      "mimetype": "text/x-python",
      "name": "python",
      "nbconvert_exporter": "python",
      "pygments_lexer": "ipython3",
      "version": "3.13.1"
    },
    "colab": {
      "provenance": [],
      "gpuType": "T4"
    },
    "accelerator": "GPU"
  },
  "nbformat": 4,
  "nbformat_minor": 0
}