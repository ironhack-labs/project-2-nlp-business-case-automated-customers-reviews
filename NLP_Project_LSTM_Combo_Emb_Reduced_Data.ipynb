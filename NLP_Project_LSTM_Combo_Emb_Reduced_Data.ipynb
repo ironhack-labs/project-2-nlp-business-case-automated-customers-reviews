{
  "cells": [
    {
      "cell_type": "code",
      "execution_count": null,
      "metadata": {
        "id": "IJ55pOdRFzVd"
      },
      "outputs": [],
      "source": [
        "# Import necessary libraries\n",
        "import pandas as pd\n",
        "import matplotlib.pyplot as plt\n",
        "import seaborn as sns\n",
        "from sklearn.model_selection import train_test_split\n",
        "\n",
        "# r2o1 ==> Balanced data thru embeddings, cleaned (stopwords not removed) and sentiment added\n",
        "\n",
        "#Load the dataset (assuming it is in the same location as the notebook)\n",
        "#data_r2o1_partialclean = pd.read_csv(\"data_r2o1_partialclean.csv\")"
      ]
    },
    {
      "cell_type": "markdown",
      "metadata": {
        "id": "-qHxmY1vs54J"
      },
      "source": [
        "# **Adding Sentiment Feature**"
      ]
    },
    {
      "cell_type": "code",
      "execution_count": null,
      "metadata": {
        "id": "qdE3uDZFs54L"
      },
      "outputs": [],
      "source": [
        "\n",
        "# Create a new DataFrame with the selected features\n",
        "r2o1_lstm_data = data_r2o1_partialclean.copy()\n",
        "\n",
        "# Add the 'sentiment' feature based on the mapping logic\n",
        "def map_sentiment(rating):\n",
        "    if rating in [1, 2]:\n",
        "        return \"negative\"\n",
        "    elif rating == 3:\n",
        "        return \"neutral\"\n",
        "    elif rating in [4, 5]:\n",
        "        return \"positive\"\n",
        "\n",
        "r2o1_lstm_data['sentiment'] = r2o1_lstm_data['reviews.rating'].apply(map_sentiment)"
      ]
    },
    {
      "cell_type": "code",
      "execution_count": null,
      "metadata": {
        "id": "TT-eol85s54L",
        "outputId": "a9f8953e-6fde-49f4-e695-10c939e2e1fc"
      },
      "outputs": [
        {
          "name": "stdout",
          "output_type": "stream",
          "text": [
            "First rows of the new dataset r2o1_lstm_data:\n",
            "                                        reviews.text  reviews.rating sentiment\n",
            "0                                          dangerous             1.0  negative\n",
            "1  what a horrendous product i thought that being...             1.0  negative\n",
            "2  absolutely the worst batteries ive ever used a...             1.0  negative\n",
            "3                                          dont last             1.0  negative\n",
            "4                      not much power in these batts             1.0  negative\n"
          ]
        }
      ],
      "source": [
        "# Verify the new dataset\n",
        "print(\"First rows of the new dataset r2o1_lstm_data:\")\n",
        "print(r2o1_lstm_data.head())"
      ]
    },
    {
      "cell_type": "code",
      "execution_count": null,
      "metadata": {
        "id": "iqSt6BZNs54M",
        "outputId": "54facfa0-4bce-4de4-a258-0f1e1c180614"
      },
      "outputs": [
        {
          "name": "stdout",
          "output_type": "stream",
          "text": [
            "\n",
            "New dataset r2o1_lstm_data shape: (6339, 3)\n"
          ]
        }
      ],
      "source": [
        "# Check the shape of the new datasets\n",
        "print(f\"\\nNew dataset r2o1_lstm_data shape: {r2o1_lstm_data.shape}\")"
      ]
    },
    {
      "cell_type": "code",
      "execution_count": null,
      "metadata": {
        "id": "jV6OUelTs54N",
        "outputId": "66aeb86b-940a-4041-9b48-2c4af570dcb5"
      },
      "outputs": [
        {
          "name": "stdout",
          "output_type": "stream",
          "text": [
            "\n",
            "Distribution of 'sentiment':\n",
            "sentiment\n",
            "positive    3000\n",
            "negative    1839\n",
            "neutral     1500\n",
            "Name: count, dtype: int64\n"
          ]
        }
      ],
      "source": [
        "# Distribution of the 'sentiment' feature\n",
        "print(\"\\nDistribution of 'sentiment':\")\n",
        "print(r2o1_lstm_data['sentiment'].value_counts())"
      ]
    },
    {
      "cell_type": "code",
      "execution_count": null,
      "metadata": {
        "id": "VS2PPGNns54N",
        "outputId": "e1309a08-d2c5-461c-e049-13a9ff8f74a8"
      },
      "outputs": [
        {
          "name": "stdout",
          "output_type": "stream",
          "text": [
            "Sentiment labels assigned and dataset saved for r2o1_lstm_data.\n"
          ]
        }
      ],
      "source": [
        "# Save the datasets for r2o1\n",
        "r2o1_lstm_data.to_csv(\"r2o1_lstm_dataset.csv\", index=False)\n",
        "print(\"Sentiment labels assigned and dataset saved for r2o1_lstm_data.\")"
      ]
    },
    {
      "cell_type": "code",
      "execution_count": null,
      "metadata": {
        "id": "Jd1BcBdMs54N",
        "outputId": "9031906d-be7d-42c3-82d8-65a79f6b70af"
      },
      "outputs": [
        {
          "name": "stderr",
          "output_type": "stream",
          "text": [
            "C:\\Users\\larry\\AppData\\Local\\Temp\\ipykernel_14976\\449655814.py:6: FutureWarning: \n",
            "\n",
            "Passing `palette` without assigning `hue` is deprecated and will be removed in v0.14.0. Assign the `x` variable to `hue` and set `legend=False` for the same effect.\n",
            "\n",
            "  sns.countplot(x='sentiment', data=r2o1_lstm_data, palette='pastel', order=[\"negative\", \"neutral\", \"positive\"])\n"
          ]
        },
        {
          "data": {
            "image/png": "[encoded data removed]",
            "text/plain": [
              "<Figure size 800x500 with 1 Axes>"
            ]
          },
          "metadata": {},
          "output_type": "display_data"
        }
      ],
      "source": [
        "# Visualize the sentiment distribution\n",
        "import matplotlib.pyplot as plt\n",
        "import seaborn as sns\n",
        "\n",
        "plt.figure(figsize=(8, 5))\n",
        "sns.countplot(x='sentiment', data=r2o1_lstm_data, palette='pastel', order=[\"negative\", \"neutral\", \"positive\"])\n",
        "plt.title(\"Distribution of Sentiment in the New Dataset\")\n",
        "plt.xlabel(\"Sentiment\")\n",
        "plt.ylabel(\"Frequency\")\n",
        "plt.show()"
      ]
    },
    {
      "cell_type": "markdown",
      "metadata": {
        "id": "memjHv0Ls54N"
      },
      "source": [
        "\n",
        "# **Splitting the Datasets into train, validation, and test sets.**"
      ]
    },
    {
      "cell_type": "code",
      "execution_count": null,
      "metadata": {
        "id": "pTDGUL-Ks54O",
        "outputId": "2c453470-0a0a-4224-9f36-331476831e43"
      },
      "outputs": [
        {
          "name": "stdout",
          "output_type": "stream",
          "text": [
            "Splitting `r2o1_lstm_data` into train, validation, and test sets...\n",
            "Train, validation, and test sizes for `r2o1_lstm_data`: (4437, 3), (951, 3), (951, 3)\n"
          ]
        }
      ],
      "source": [
        "from sklearn.model_selection import train_test_split\n",
        "\n",
        "# Function to split the dataset with sentiment into train, validation, and test sets\n",
        "def split_dataset(dataset, stratify_col='sentiment'):\n",
        "    # Split into train (70%) and temp (30%) for validation and test\n",
        "    train, temp = train_test_split(dataset, test_size=0.3, random_state=42, stratify=dataset[stratify_col])\n",
        "    # Further split temp into validation (15%) and test (15%)\n",
        "    validation, test = train_test_split(temp, test_size=0.5, random_state=42, stratify=temp[stratify_col])\n",
        "    return train, validation, test\n",
        "\n",
        "# Split the `r2o1_lstm_data`\n",
        "print(\"Splitting `r2o1_lstm_data` into train, validation, and test sets...\")\n",
        "train_r2o1_lstm, val_r2o1_lstm, test_r2o1_lstm = split_dataset(r2o1_lstm_data)\n",
        "# Verify the sizes of the splits\n",
        "print(f\"Train, validation, and test sizes for `r2o1_lstm_data`: {train_r2o1_lstm.shape}, {val_r2o1_lstm.shape}, {test_r2o1_lstm.shape}\")"
      ]
    },
    {
      "cell_type": "code",
      "execution_count": null,
      "metadata": {
        "id": "1FES250us54O",
        "outputId": "dbe3ede5-fce8-4fca-8508-755f7889eacb"
      },
      "outputs": [
        {
          "name": "stdout",
          "output_type": "stream",
          "text": [
            "\n",
            "Dataset splits saved successfully!\n"
          ]
        }
      ],
      "source": [
        "# Save the splits for future use\n",
        "train_r2o1_lstm.to_csv(\"train_r2o1_lstm.csv\", index=False)\n",
        "val_r2o1_lstm.to_csv(\"val_r2o1_lstm.csv\", index=False)\n",
        "test_r2o1_lstm.to_csv(\"test_r2o1_lstm.csv\", index=False)\n",
        "\n",
        "print(\"\\nDataset splits saved successfully!\")"
      ]
    },
    {
      "cell_type": "code",
      "execution_count": null,
      "metadata": {
        "id": "Q_Mo0-Sas54O"
      },
      "outputs": [],
      "source": [
        "# Load the spitted datasets (assuming it is in the same location as the notebook)\n",
        "train_r2o1_lstm = pd.read_csv(\"train_r2o1_lstm.csv\")\n",
        "val_r2o1_lstm = pd.read_csv(\"val_r2o1_lstm.csv\")\n",
        "test_r2o1_lstm = pd.read_csv(\"test_r2o1_lstm.csv\")\n"
      ]
    },
    {
      "cell_type": "markdown",
      "metadata": {
        "id": "aSMpj15jFzVw"
      },
      "source": [
        "# **Data Balancing Check**"
      ]
    },
    {
      "cell_type": "code",
      "execution_count": null,
      "metadata": {
        "colab": {
          "base_uri": "https://localhost:8080/",
          "height": 683
        },
        "id": "a6fVHmYbFzVw",
        "outputId": "fd5dfb50-a313-4391-b7d0-aa10929888b9"
      },
      "outputs": [
        {
          "output_type": "stream",
          "name": "stdout",
          "text": [
            "\n",
            "Class distribution for train_r2o1_lstm before balancing:\n",
            "sentiment\n",
            "positive    2100\n",
            "negative    1287\n",
            "neutral     1050\n",
            "Name: count, dtype: int64\n"
          ]
        },
        {
          "output_type": "stream",
          "name": "stderr",
          "text": [
            "<ipython-input-3-c78789b4916e>:8: FutureWarning: \n",
            "\n",
            "Passing `palette` without assigning `hue` is deprecated and will be removed in v0.14.0. Assign the `x` variable to `hue` and set `legend=False` for the same effect.\n",
            "\n",
            "  sns.countplot(x='sentiment', data=train_r2o1_lstm, palette='pastel', order=[\"negative\", \"neutral\", \"positive\"])\n"
          ]
        },
        {
          "output_type": "display_data",
          "data": {
            "text/plain": [
              "<Figure size 800x500 with 1 Axes>"
            ],
            "image/png": "[encoded data removed]"
          },
          "metadata": {}
        }
      ],
      "source": [
        "# Check the class distribution\n",
        "print(\"\\nClass distribution for train_r2o1_lstm before balancing:\")\n",
        "class_counts_v03 = train_r2o1_lstm['sentiment'].value_counts()\n",
        "print(class_counts_v03)\n",
        "\n",
        "# Visualize the class distribution\n",
        "plt.figure(figsize=(8, 5))\n",
        "sns.countplot(x='sentiment', data=train_r2o1_lstm, palette='pastel', order=[\"negative\", \"neutral\", \"positive\"])\n",
        "plt.title(\"Class Distribution for train_r2o1_lstm Before Balancing\")\n",
        "plt.xlabel(\"Sentiment\")\n",
        "plt.ylabel(\"Frequency\")\n",
        "plt.show()"
      ]
    },
    {
      "cell_type": "markdown",
      "metadata": {
        "id": "52xgtYMVFzVz"
      },
      "source": [
        "# **Models Training and Evaluation**"
      ]
    },
    {
      "cell_type": "code",
      "execution_count": null,
      "metadata": {
        "id": "G8P3gY7AnKFI"
      },
      "outputs": [],
      "source": [
        "from sklearn.metrics import accuracy_score, precision_score, recall_score, f1_score, classification_report, confusion_matrix\n",
        "from sklearn.utils.class_weight import compute_class_weight\n",
        "from sklearn.preprocessing import LabelEncoder\n",
        "import numpy as np"
      ]
    },
    {
      "cell_type": "code",
      "execution_count": null,
      "metadata": {
        "id": "0xZnr8yDncbV"
      },
      "outputs": [],
      "source": [
        "# Encode sentiment labels into numeric format\n",
        "encoder = LabelEncoder()\n",
        "y_train_r2o1_lstm = encoder.fit_transform(train_r2o1_lstm['sentiment'])\n",
        "y_val_r2o1_lstm = encoder.transform(val_r2o1_lstm['sentiment'])\n",
        "y_test_r2o1_lstm = encoder.transform(test_r2o1_lstm['sentiment'])"
      ]
    },
    {
      "cell_type": "code",
      "execution_count": null,
      "metadata": {
        "colab": {
          "base_uri": "https://localhost:8080/"
        },
        "id": "QSxbXt4Nhtd7",
        "outputId": "d65fe1e3-8f95-4507-bf8b-091ee49343c1"
      },
      "outputs": [
        {
          "output_type": "stream",
          "name": "stdout",
          "text": [
            "\n",
            "Class Weights for `r2o1_lstm_data` (encoded labels):\n",
            "Class negative: Weight = 1.1492\n",
            "Class neutral: Weight = 1.4086\n",
            "Class positive: Weight = 0.7043\n"
          ]
        }
      ],
      "source": [
        "# Compute class weights for each dataset\n",
        "class_weights_r2o1_lstm = compute_class_weight(\n",
        "    class_weight='balanced',  # Automatically calculate weights\n",
        "    classes=np.unique(y_train_r2o1_lstm),  # Unique classes\n",
        "    y=y_train_r2o1_lstm  # Target labels\n",
        ")\n",
        "class_weights_dict_r2o1_lstm = dict(enumerate(class_weights_r2o1_lstm))\n",
        "\n",
        "# Print class weights for `r2o1_lstm_data`\n",
        "print(\"\\nClass Weights for `r2o1_lstm_data` (encoded labels):\")\n",
        "for label, weight in class_weights_dict_r2o1_lstm.items():\n",
        "    print(f\"Class {encoder.inverse_transform([label])[0]}: Weight = {weight:.4f}\")"
      ]
    },
    {
      "cell_type": "code",
      "execution_count": null,
      "metadata": {
        "id": "RtcxMpyGv8zI"
      },
      "outputs": [],
      "source": [
        "from tensorflow.keras.preprocessing.text import Tokenizer\n",
        "from tensorflow.keras.preprocessing.sequence import pad_sequences\n",
        "from tensorflow.keras.utils import to_categorical\n",
        "from tensorflow.keras.models import Sequential\n",
        "from tensorflow.keras.layers import Embedding, Bidirectional, LSTM, Dense, Dropout\n",
        "from tensorflow.keras.callbacks import EarlyStopping, ReduceLROnPlateau\n",
        "from sklearn.utils.class_weight import compute_class_weight\n",
        "from sklearn.metrics import classification_report, confusion_matrix\n",
        "from tensorflow.keras.regularizers import l2\n",
        "import numpy as np\n",
        "import matplotlib.pyplot as plt\n",
        "import seaborn as sns"
      ]
    },
    {
      "cell_type": "code",
      "execution_count": null,
      "metadata": {
        "colab": {
          "base_uri": "https://localhost:8080/"
        },
        "id": "QUnGswej7bVH",
        "outputId": "3cdc416d-3802-4ec0-e97d-dc2e019ffe77"
      },
      "outputs": [
        {
          "output_type": "stream",
          "name": "stdout",
          "text": [
            "Data types after conversion: reviews.text\n",
            "<class 'str'>    4437\n",
            "Name: count, dtype: int64\n",
            "Data types after conversion: reviews.text\n",
            "<class 'str'>    951\n",
            "Name: count, dtype: int64\n",
            "Data types after conversion: reviews.text\n",
            "<class 'str'>    951\n",
            "Name: count, dtype: int64\n"
          ]
        }
      ],
      "source": [
        "# Ensure all entries in 'reviews.text' are strings\n",
        "train_r2o1_lstm['reviews.text'] = train_r2o1_lstm['reviews.text'].astype(str)\n",
        "\n",
        "# Check if there are any unexpected data types after conversion\n",
        "print(\"Data types after conversion:\", train_r2o1_lstm['reviews.text'].apply(type).value_counts())\n",
        "\n",
        "test_r2o1_lstm['reviews.text'] = test_r2o1_lstm['reviews.text'].astype(str)\n",
        "\n",
        "# Check if there are any unexpected data types after conversion\n",
        "print(\"Data types after conversion:\", test_r2o1_lstm['reviews.text'].apply(type).value_counts())\n",
        "\n",
        "val_r2o1_lstm['reviews.text'] = val_r2o1_lstm['reviews.text'].astype(str)\n",
        "\n",
        "# Check if there are any unexpected data types after conversion\n",
        "print(\"Data types after conversion:\", val_r2o1_lstm['reviews.text'].apply(type).value_counts())\n"
      ]
    },
    {
      "cell_type": "code",
      "execution_count": null,
      "metadata": {
        "id": "6B_Lxa8NwJU8"
      },
      "outputs": [],
      "source": [
        "# Step 1: Tokenization and padding\n",
        "max_words = 10000  # Maximum number of words to keep\n",
        "max_len = 200  # Maximum sequence length\n",
        "\n",
        "# Load GloVe embeddings\n",
        "embedding_dim = 100  # Dimension of GloVe vectors\n",
        "embedding_index = {}\n",
        "with open('glove.6B.100d.txt', 'r', encoding='utf-8') as f:\n",
        "    for line in f:\n",
        "        values = line.split()\n",
        "        word = values[0]\n",
        "        coefs = np.asarray(values[1:], dtype='float32')\n",
        "        embedding_index[word] = coefs\n",
        "\n",
        "# Tokenize the texts\n",
        "tokenizer = Tokenizer(num_words=max_words, oov_token='<OOV>')\n",
        "tokenizer.fit_on_texts(train_r2o1_lstm['reviews.text'])  # Fit on training data\n",
        "\n",
        "# Create embedding matrix ==>opt_04 new addition\n",
        "word_index = tokenizer.word_index\n",
        "embedding_matrix = np.zeros((max_words, embedding_dim))\n",
        "for word, i in word_index.items():\n",
        "    if i < max_words:\n",
        "        embedding_vector = embedding_index.get(word)\n",
        "        if embedding_vector is not None:\n",
        "            embedding_matrix[i] = embedding_vector\n",
        "\n",
        "# Convert texts to sequences\n",
        "def preprocess_texts(train, val, test):\n",
        "    X_train = pad_sequences(tokenizer.texts_to_sequences(train['reviews.text']), maxlen=max_len, padding='post')\n",
        "    X_val = pad_sequences(tokenizer.texts_to_sequences(val['reviews.text']), maxlen=max_len, padding='post')\n",
        "    X_test = pad_sequences(tokenizer.texts_to_sequences(test['reviews.text']), maxlen=max_len, padding='post')\n",
        "    return X_train, X_val, X_test\n",
        "\n",
        "X_train_r2o1_lstm, X_val_r2o1_lstm, X_test_r2o1_lstm = preprocess_texts(train_r2o1_lstm, val_r2o1_lstm, test_r2o1_lstm)\n",
        "\n",
        "# Convert encoded labels to one-hot encoding\n",
        "y_train_r2o1_lstm_onehot = to_categorical(y_train_r2o1_lstm, num_classes=3)\n",
        "y_val_r2o1_lstm_onehot = to_categorical(y_val_r2o1_lstm, num_classes=3)\n",
        "y_test_r2o1_lstm_onehot = to_categorical(y_test_r2o1_lstm, num_classes=3)"
      ]
    },
    {
      "cell_type": "code",
      "execution_count": null,
      "metadata": {
        "id": "0_acV3PpwS9o"
      },
      "outputs": [],
      "source": [
        "# Step 2: Build the LSTM model\n",
        "def build_lstm_model(input_dim, embedding_matrix, output_dim=3):\n",
        "    model = Sequential([\n",
        "        Embedding(input_dim=input_dim, output_dim=embedding_dim, weights=[embedding_matrix], input_length=max_len, trainable=False),\n",
        "        #Bidirectional(LSTM(256, return_sequences=True)), # t01 removed\n",
        "        #Dropout(0.3), # t01 removed\n",
        "        #Bidirectional(LSTM(256, return_sequences=False)), # t01 removed\n",
        "        #Dropout(0.3), # t01 removed\n",
        "        #Dense(128, activation='relu'), # t01 removed\n",
        "        #Dropout(0.3), # t01 removed\n",
        "        Bidirectional(LSTM(128, return_sequences=True, dropout=0.4, recurrent_dropout=0.4)), # t01 new added\n",
        "        Bidirectional(LSTM(128, return_sequences=False, dropout=0.4, recurrent_dropout=0.4)), # t01 new added\n",
        "        Dense(128, activation='relu', kernel_regularizer=l2(0.01)), # t01 new added\n",
        "        Dropout(0.5), # t01 new added\n",
        "        Dense(output_dim, activation='softmax')\n",
        "    ])\n",
        "    model.compile(optimizer='RMSprop', loss='categorical_crossentropy', metrics=['accuracy'])  # t01 optimizer adam=>RMSprop\n",
        "    return model"
      ]
    },
    {
      "cell_type": "code",
      "execution_count": null,
      "metadata": {
        "id": "i01s2fnAwXQ4"
      },
      "outputs": [],
      "source": [
        "# Step 3: Train the model function\n",
        "def train_lstm_model(X_train, y_train, X_val, y_val, class_weights, model_name):\n",
        "    model = build_lstm_model(input_dim=max_words, embedding_matrix=embedding_matrix)\n",
        "    early_stop = EarlyStopping(monitor='val_loss', patience=5, restore_best_weights=True)\n",
        "    reduce_lr = ReduceLROnPlateau(monitor='val_loss', factor=0.5, patience=2, min_lr=1e-6)\n",
        "\n",
        "    print(f\"--- Training {model_name} ---\")\n",
        "    history = model.fit(\n",
        "        X_train, y_train,\n",
        "        validation_data=(X_val, y_val),\n",
        "        epochs=50,\n",
        "        batch_size=128,\n",
        "        class_weight=class_weights,  # Apply class weights\n",
        "        callbacks=[early_stop, reduce_lr]\n",
        "    )\n",
        "    return model"
      ]
    },
    {
      "cell_type": "code",
      "execution_count": null,
      "metadata": {
        "id": "Imn73O6mwa4C"
      },
      "outputs": [],
      "source": [
        "# Step 4: Evaluate the model function\n",
        "def evaluate_lstm_model(model, X_test, y_test, model_name, target_names):\n",
        "    predictions = model.predict(X_test)\n",
        "    y_pred = np.argmax(predictions, axis=1)\n",
        "    y_true = np.argmax(y_test, axis=1)\n",
        "\n",
        "    print(f\"\\n--- Evaluation of {model_name} ---\")\n",
        "    print(\"Classification Report:\\n\", classification_report(y_true, y_pred, target_names=target_names))\n",
        "    print(\"Confusion Matrix:\\n\", confusion_matrix(y_true, y_pred))\n",
        "\n",
        "    # Plot confusion matrix\n",
        "    plt.figure(figsize=(8, 6))\n",
        "    sns.heatmap(confusion_matrix(y_true, y_pred), annot=True, fmt='d', cmap='Blues', xticklabels=encoder.classes_, yticklabels=target_names)\n",
        "    plt.xlabel('Predicted Labels')\n",
        "    plt.ylabel('True Labels')\n",
        "    plt.title(f\"Confusion Matrix ({model_name})\")\n",
        "    plt.show()"
      ]
    },
    {
      "cell_type": "code",
      "execution_count": null,
      "metadata": {
        "colab": {
          "base_uri": "https://localhost:8080/",
          "height": 1000
        },
        "id": "jv6UE0CownTv",
        "outputId": "3e07a0c4-5559-4dab-aa54-cc60aabc07c8"
      },
      "outputs": [
        {
          "output_type": "stream",
          "name": "stdout",
          "text": [
            "\n",
            "Training on `dataset_r2o1_lstm`...\n"
          ]
        },
        {
          "output_type": "stream",
          "name": "stderr",
          "text": [
            "/usr/local/lib/python3.11/dist-packages/keras/src/layers/core/embedding.py:90: UserWarning: Argument `input_length` is deprecated. Just remove it.\n",
            "  warnings.warn(\n"
          ]
        },
        {
          "output_type": "stream",
          "name": "stdout",
          "text": [
            "--- Training LSTM (dataset_r2o1_lstm) ---\n",
            "Epoch 1/50\n",
            "\u001b[1m35/35\u001b[0m \u001b[32m━━━━━━━━━━━━━━━━━━━━\u001b[0m\u001b[37m\u001b[0m \u001b[1m65s\u001b[0m 1s/step - accuracy: 0.4716 - loss: 2.3162 - val_accuracy: 0.6919 - val_loss: 1.3938 - learning_rate: 0.0010\n",
            "Epoch 2/50\n",
            "\u001b[1m35/35\u001b[0m \u001b[32m━━━━━━━━━━━━━━━━━━━━\u001b[0m\u001b[37m\u001b[0m \u001b[1m56s\u001b[0m 2s/step - accuracy: 0.6578 - loss: 1.4150 - val_accuracy: 0.7066 - val_loss: 0.9746 - learning_rate: 0.0010\n",
            "Epoch 3/50\n",
            "\u001b[1m35/35\u001b[0m \u001b[32m━━━━━━━━━━━━━━━━━━━━\u001b[0m\u001b[37m\u001b[0m \u001b[1m74s\u001b[0m 1s/step - accuracy: 0.6828 - loss: 1.0481 - val_accuracy: 0.7392 - val_loss: 0.7690 - learning_rate: 0.0010\n",
            "Epoch 4/50\n",
            "\u001b[1m35/35\u001b[0m \u001b[32m━━━━━━━━━━━━━━━━━━━━\u001b[0m\u001b[37m\u001b[0m \u001b[1m77s\u001b[0m 1s/step - accuracy: 0.6946 - loss: 0.8867 - val_accuracy: 0.7287 - val_loss: 0.7137 - learning_rate: 0.0010\n",
            "Epoch 5/50\n",
            "\u001b[1m35/35\u001b[0m \u001b[32m━━━━━━━━━━━━━━━━━━━━\u001b[0m\u001b[37m\u001b[0m \u001b[1m82s\u001b[0m 1s/step - accuracy: 0.7080 - loss: 0.8077 - val_accuracy: 0.7045 - val_loss: 0.7586 - learning_rate: 0.0010\n",
            "Epoch 6/50\n",
            "\u001b[1m35/35\u001b[0m \u001b[32m━━━━━━━━━━━━━━━━━━━━\u001b[0m\u001b[37m\u001b[0m \u001b[1m81s\u001b[0m 1s/step - accuracy: 0.7144 - loss: 0.7603 - val_accuracy: 0.7035 - val_loss: 0.7272 - learning_rate: 0.0010\n",
            "Epoch 7/50\n",
            "\u001b[1m35/35\u001b[0m \u001b[32m━━━━━━━━━━━━━━━━━━━━\u001b[0m\u001b[37m\u001b[0m \u001b[1m82s\u001b[0m 1s/step - accuracy: 0.7044 - loss: 0.7663 - val_accuracy: 0.7256 - val_loss: 0.6467 - learning_rate: 5.0000e-04\n",
            "Epoch 8/50\n",
            "\u001b[1m35/35\u001b[0m \u001b[32m━━━━━━━━━━━━━━━━━━━━\u001b[0m\u001b[37m\u001b[0m \u001b[1m81s\u001b[0m 1s/step - accuracy: 0.7163 - loss: 0.7524 - val_accuracy: 0.7308 - val_loss: 0.6479 - learning_rate: 5.0000e-04\n",
            "Epoch 9/50\n",
            "\u001b[1m35/35\u001b[0m \u001b[32m━━━━━━━━━━━━━━━━━━━━\u001b[0m\u001b[37m\u001b[0m \u001b[1m44s\u001b[0m 1s/step - accuracy: 0.7172 - loss: 0.7449 - val_accuracy: 0.7476 - val_loss: 0.6181 - learning_rate: 5.0000e-04\n",
            "Epoch 10/50\n",
            "\u001b[1m35/35\u001b[0m \u001b[32m━━━━━━━━━━━━━━━━━━━━\u001b[0m\u001b[37m\u001b[0m \u001b[1m81s\u001b[0m 1s/step - accuracy: 0.7202 - loss: 0.7252 - val_accuracy: 0.7340 - val_loss: 0.6314 - learning_rate: 5.0000e-04\n",
            "Epoch 11/50\n",
            "\u001b[1m35/35\u001b[0m \u001b[32m━━━━━━━━━━━━━━━━━━━━\u001b[0m\u001b[37m\u001b[0m \u001b[1m82s\u001b[0m 1s/step - accuracy: 0.7092 - loss: 0.7336 - val_accuracy: 0.7340 - val_loss: 0.6355 - learning_rate: 5.0000e-04\n",
            "Epoch 12/50\n",
            "\u001b[1m35/35\u001b[0m \u001b[32m━━━━━━━━━━━━━━━━━━━━\u001b[0m\u001b[37m\u001b[0m \u001b[1m82s\u001b[0m 1s/step - accuracy: 0.7250 - loss: 0.7246 - val_accuracy: 0.7350 - val_loss: 0.6204 - learning_rate: 2.5000e-04\n",
            "Epoch 13/50\n",
            "\u001b[1m35/35\u001b[0m \u001b[32m━━━━━━━━━━━━━━━━━━━━\u001b[0m\u001b[37m\u001b[0m \u001b[1m82s\u001b[0m 1s/step - accuracy: 0.7168 - loss: 0.7219 - val_accuracy: 0.7371 - val_loss: 0.6247 - learning_rate: 2.5000e-04\n",
            "Epoch 14/50\n",
            "\u001b[1m35/35\u001b[0m \u001b[32m━━━━━━━━━━━━━━━━━━━━\u001b[0m\u001b[37m\u001b[0m \u001b[1m81s\u001b[0m 1s/step - accuracy: 0.7276 - loss: 0.6997 - val_accuracy: 0.7340 - val_loss: 0.6188 - learning_rate: 1.2500e-04\n",
            "\n",
            "Evaluating on `dataset_r2o1_lstm`...\n",
            "\u001b[1m30/30\u001b[0m \u001b[32m━━━━━━━━━━━━━━━━━━━━\u001b[0m\u001b[37m\u001b[0m \u001b[1m11s\u001b[0m 347ms/step\n",
            "\n",
            "--- Evaluation of LSTM (dataset_r2o1_lstm) ---\n",
            "Classification Report:\n",
            "               precision    recall  f1-score   support\n",
            "\n",
            "    negative       0.73      0.74      0.74       276\n",
            "     neutral       0.58      0.63      0.60       225\n",
            "    positive       0.90      0.86      0.88       450\n",
            "\n",
            "    accuracy                           0.77       951\n",
            "   macro avg       0.74      0.74      0.74       951\n",
            "weighted avg       0.78      0.77      0.77       951\n",
            "\n",
            "Confusion Matrix:\n",
            " [[204  54  18]\n",
            " [ 60 142  23]\n",
            " [ 15  49 386]]\n"
          ]
        },
        {
          "output_type": "display_data",
          "data": {
            "text/plain": [
              "<Figure size 800x600 with 2 Axes>"
            ],
            "image/png": "[encoded data removed]"
          },
          "metadata": {}
        }
      ],
      "source": [
        "# Train and evaluate on `dataset_r2o1_lstm`\n",
        "#class_weights_dict_r2o1_lstm = {0: 1.1492, 1: 1.4086, 2: 0.7043} # opt_03 modified {0: 5.0203, 1: 4.3374, 2: 0.3891}=>{0: 6.0, 1: 5.5, 2: 0.4}\n",
        "print(\"\\nTraining on `dataset_r2o1_lstm`...\")\n",
        "lstm_model_r2o1_lstm = train_lstm_model(X_train_r2o1_lstm, y_train_r2o1_lstm_onehot, X_val_r2o1_lstm, y_val_r2o1_lstm_onehot, class_weights_dict_r2o1_lstm, \"LSTM (dataset_r2o1_lstm)\")\n",
        "\n",
        "print(\"\\nEvaluating on `dataset_r2o1_lstm`...\")\n",
        "#evaluate_lstm_model(lstm_model_r2o1_lstm, X_test_r2o1_lstm, y_test_r2o1_lstm_onehot, \"LSTM (dataset_r2o1_lstm)\")\n",
        "target_names_r2o1 = [\"negative\", \"neutral\", \"positive\"]  # Class names for 3 labels\n",
        "evaluate_lstm_model(\n",
        "    lstm_model_r2o1_lstm,\n",
        "    X_test_r2o1_lstm,\n",
        "    y_test_r2o1_lstm_onehot,\n",
        "    \"LSTM (dataset_r2o1_lstm)\",\n",
        "    target_names=target_names_r2o1\n",
        ")\n"
      ]
    }
  ],
  "metadata": {
    "accelerator": "GPU",
    "colab": {
      "gpuType": "T4",
      "provenance": []
    },
    "kernelspec": {
      "display_name": "projectnlp",
      "language": "python",
      "name": "python3"
    },
    "language_info": {
      "codemirror_mode": {
        "name": "ipython",
        "version": 3
      },
      "file_extension": ".py",
      "mimetype": "text/x-python",
      "name": "python",
      "nbconvert_exporter": "python",
      "pygments_lexer": "ipython3",
      "version": "3.13.1"
    }
  },
  "nbformat": 4,
  "nbformat_minor": 0
}