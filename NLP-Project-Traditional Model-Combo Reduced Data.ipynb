{
 "cells": [
  {
   "cell_type": "code",
   "execution_count": 1,
   "metadata": {},
   "outputs": [],
   "source": [
    "# Import necessary libraries\n",
    "import pandas as pd\n",
    "import matplotlib.pyplot as plt\n",
    "import seaborn as sns"
   ]
  },
  {
   "cell_type": "code",
   "execution_count": 22,
   "metadata": {},
   "outputs": [
    {
     "name": "stderr",
     "output_type": "stream",
     "text": [
      "C:\\Users\\larry\\AppData\\Local\\Temp\\ipykernel_17816\\2924004062.py:2: DtypeWarning: Columns (1,10) have mixed types. Specify dtype option on import or set low_memory=False.\n",
      "  dataset_original = pd.read_csv(\"1429_1.csv\")\n"
     ]
    }
   ],
   "source": [
    "# Load the dataset (assuming it is in the same location as the notebook)\n",
    "dataset_original = pd.read_csv(\"1429_1.csv\")\n",
    "dataset_add_01 = pd.read_csv(\"Datafiniti_Amazon_Consumer_Reviews_of_Amazon_Products.csv\")\n",
    "dataset_add_02 = pd.read_csv(\"Datafiniti_Amazon_Consumer_Reviews_of_Amazon_Products_May19.csv\")"
   ]
  },
  {
   "cell_type": "code",
   "execution_count": 2,
   "metadata": {},
   "outputs": [
    {
     "name": "stdout",
     "output_type": "stream",
     "text": [
      "Original Dataset shape: (34660, 21)\n",
      "\n",
      "Additional Dataset 01 shape: (5000, 24)\n",
      "\n",
      "Additional Dataset 02 shape: (28332, 24)\n"
     ]
    }
   ],
   "source": [
    "# Display the shape of the dataset\n",
    "print(f\"Original Dataset shape: {dataset_original.shape}\")\n",
    "print(f\"\\nAdditional Dataset 01 shape: {dataset_add_01.shape}\")\n",
    "print(f\"\\nAdditional Dataset 02 shape: {dataset_add_02.shape}\")"
   ]
  },
  {
   "cell_type": "code",
   "execution_count": 3,
   "metadata": {},
   "outputs": [
    {
     "name": "stdout",
     "output_type": "stream",
     "text": [
      "First rows of the Original Dataset:\n",
      "                     id                                               name  \\\n",
      "0  AVqkIhwDv8e3D1O-lebb  All-New Fire HD 8 Tablet, 8 HD Display, Wi-Fi,...   \n",
      "1  AVqkIhwDv8e3D1O-lebb  All-New Fire HD 8 Tablet, 8 HD Display, Wi-Fi,...   \n",
      "2  AVqkIhwDv8e3D1O-lebb  All-New Fire HD 8 Tablet, 8 HD Display, Wi-Fi,...   \n",
      "3  AVqkIhwDv8e3D1O-lebb  All-New Fire HD 8 Tablet, 8 HD Display, Wi-Fi,...   \n",
      "4  AVqkIhwDv8e3D1O-lebb  All-New Fire HD 8 Tablet, 8 HD Display, Wi-Fi,...   \n",
      "\n",
      "        asins   brand                                         categories  \\\n",
      "0  B01AHB9CN2  Amazon  Electronics,iPad & Tablets,All Tablets,Fire Ta...   \n",
      "1  B01AHB9CN2  Amazon  Electronics,iPad & Tablets,All Tablets,Fire Ta...   \n",
      "2  B01AHB9CN2  Amazon  Electronics,iPad & Tablets,All Tablets,Fire Ta...   \n",
      "3  B01AHB9CN2  Amazon  Electronics,iPad & Tablets,All Tablets,Fire Ta...   \n",
      "4  B01AHB9CN2  Amazon  Electronics,iPad & Tablets,All Tablets,Fire Ta...   \n",
      "\n",
      "                                                keys manufacturer  \\\n",
      "0  841667104676,amazon/53004484,amazon/b01ahb9cn2...       Amazon   \n",
      "1  841667104676,amazon/53004484,amazon/b01ahb9cn2...       Amazon   \n",
      "2  841667104676,amazon/53004484,amazon/b01ahb9cn2...       Amazon   \n",
      "3  841667104676,amazon/53004484,amazon/b01ahb9cn2...       Amazon   \n",
      "4  841667104676,amazon/53004484,amazon/b01ahb9cn2...       Amazon   \n",
      "\n",
      "               reviews.date     reviews.dateAdded  \\\n",
      "0  2017-01-13T00:00:00.000Z  2017-07-03T23:33:15Z   \n",
      "1  2017-01-13T00:00:00.000Z  2017-07-03T23:33:15Z   \n",
      "2  2017-01-13T00:00:00.000Z  2017-07-03T23:33:15Z   \n",
      "3  2017-01-13T00:00:00.000Z  2017-07-03T23:33:15Z   \n",
      "4  2017-01-12T00:00:00.000Z  2017-07-03T23:33:15Z   \n",
      "\n",
      "                                    reviews.dateSeen  ... reviews.doRecommend  \\\n",
      "0  2017-06-07T09:04:00.000Z,2017-04-30T00:45:00.000Z  ...                True   \n",
      "1  2017-06-07T09:04:00.000Z,2017-04-30T00:45:00.000Z  ...                True   \n",
      "2  2017-06-07T09:04:00.000Z,2017-04-30T00:45:00.000Z  ...                True   \n",
      "3  2017-06-07T09:04:00.000Z,2017-04-30T00:45:00.000Z  ...                True   \n",
      "4  2017-06-07T09:04:00.000Z,2017-04-30T00:45:00.000Z  ...                True   \n",
      "\n",
      "  reviews.id  reviews.numHelpful  reviews.rating  \\\n",
      "0        NaN                 0.0             5.0   \n",
      "1        NaN                 0.0             5.0   \n",
      "2        NaN                 0.0             5.0   \n",
      "3        NaN                 0.0             4.0   \n",
      "4        NaN                 0.0             5.0   \n",
      "\n",
      "                                  reviews.sourceURLs  \\\n",
      "0  http://reviews.bestbuy.com/3545/5620406/review...   \n",
      "1  http://reviews.bestbuy.com/3545/5620406/review...   \n",
      "2  http://reviews.bestbuy.com/3545/5620406/review...   \n",
      "3  http://reviews.bestbuy.com/3545/5620406/review...   \n",
      "4  http://reviews.bestbuy.com/3545/5620406/review...   \n",
      "\n",
      "                                        reviews.text  \\\n",
      "0  This product so far has not disappointed. My c...   \n",
      "1  great for beginner or experienced person. Boug...   \n",
      "2  Inexpensive tablet for him to use and learn on...   \n",
      "3  I've had my Fire HD 8 two weeks now and I love...   \n",
      "4  I bought this for my grand daughter when she c...   \n",
      "\n",
      "                             reviews.title reviews.userCity  \\\n",
      "0                                   Kindle              NaN   \n",
      "1                                very fast              NaN   \n",
      "2  Beginner tablet for our 9 year old son.              NaN   \n",
      "3                                  Good!!!              NaN   \n",
      "4                Fantastic Tablet for kids              NaN   \n",
      "\n",
      "   reviews.userProvince  reviews.username  \n",
      "0                   NaN           Adapter  \n",
      "1                   NaN            truman  \n",
      "2                   NaN             DaveZ  \n",
      "3                   NaN            Shacks  \n",
      "4                   NaN         explore42  \n",
      "\n",
      "[5 rows x 21 columns]\n",
      "\n",
      "First rows of the Additional Dataset 01:\n",
      "                     id             dateAdded           dateUpdated  \\\n",
      "0  AVqVGZNvQMlgsOJE6eUY  2017-03-03T16:56:05Z  2018-10-25T16:36:31Z   \n",
      "1  AVqVGZNvQMlgsOJE6eUY  2017-03-03T16:56:05Z  2018-10-25T16:36:31Z   \n",
      "2  AVqVGZNvQMlgsOJE6eUY  2017-03-03T16:56:05Z  2018-10-25T16:36:31Z   \n",
      "3  AVqVGZNvQMlgsOJE6eUY  2017-03-03T16:56:05Z  2018-10-25T16:36:31Z   \n",
      "4  AVqVGZNvQMlgsOJE6eUY  2017-03-03T16:56:05Z  2018-10-25T16:36:31Z   \n",
      "\n",
      "                                                name       asins   brand  \\\n",
      "0  Amazon Kindle E-Reader 6\" Wifi (8th Generation...  B00ZV9PXP2  Amazon   \n",
      "1  Amazon Kindle E-Reader 6\" Wifi (8th Generation...  B00ZV9PXP2  Amazon   \n",
      "2  Amazon Kindle E-Reader 6\" Wifi (8th Generation...  B00ZV9PXP2  Amazon   \n",
      "3  Amazon Kindle E-Reader 6\" Wifi (8th Generation...  B00ZV9PXP2  Amazon   \n",
      "4  Amazon Kindle E-Reader 6\" Wifi (8th Generation...  B00ZV9PXP2  Amazon   \n",
      "\n",
      "                                          categories primaryCategories  \\\n",
      "0  Computers,Electronics Features,Tablets,Electro...       Electronics   \n",
      "1  Computers,Electronics Features,Tablets,Electro...       Electronics   \n",
      "2  Computers,Electronics Features,Tablets,Electro...       Electronics   \n",
      "3  Computers,Electronics Features,Tablets,Electro...       Electronics   \n",
      "4  Computers,Electronics Features,Tablets,Electro...       Electronics   \n",
      "\n",
      "                                           imageURLs  \\\n",
      "0  https://pisces.bbystatic.com/image2/BestBuy_US...   \n",
      "1  https://pisces.bbystatic.com/image2/BestBuy_US...   \n",
      "2  https://pisces.bbystatic.com/image2/BestBuy_US...   \n",
      "3  https://pisces.bbystatic.com/image2/BestBuy_US...   \n",
      "4  https://pisces.bbystatic.com/image2/BestBuy_US...   \n",
      "\n",
      "                                                keys  ...  \\\n",
      "0  allnewkindleereaderblack6glarefreetouchscreend...  ...   \n",
      "1  allnewkindleereaderblack6glarefreetouchscreend...  ...   \n",
      "2  allnewkindleereaderblack6glarefreetouchscreend...  ...   \n",
      "3  allnewkindleereaderblack6glarefreetouchscreend...  ...   \n",
      "4  allnewkindleereaderblack6glarefreetouchscreend...  ...   \n",
      "\n",
      "                                    reviews.dateSeen reviews.doRecommend  \\\n",
      "0  2018-05-27T00:00:00Z,2017-09-18T00:00:00Z,2017...               False   \n",
      "1  2018-05-27T00:00:00Z,2017-07-07T00:00:00Z,2017...                True   \n",
      "2                               2018-05-27T00:00:00Z                True   \n",
      "3                               2018-10-09T00:00:00Z                True   \n",
      "4                               2018-05-27T00:00:00Z                True   \n",
      "\n",
      "    reviews.id reviews.numHelpful reviews.rating  \\\n",
      "0          NaN                  0              3   \n",
      "1          NaN                  0              5   \n",
      "2          NaN                  0              4   \n",
      "3  177283626.0                  3              5   \n",
      "4          NaN                  0              5   \n",
      "\n",
      "                                  reviews.sourceURLs  \\\n",
      "0  http://reviews.bestbuy.com/3545/5442403/review...   \n",
      "1  http://reviews.bestbuy.com/3545/5442403/review...   \n",
      "2  https://reviews.bestbuy.com/3545/5442403/revie...   \n",
      "3  https://redsky.target.com/groot-domain-api/v1/...   \n",
      "4  https://reviews.bestbuy.com/3545/5442403/revie...   \n",
      "\n",
      "                                        reviews.text  \\\n",
      "0  I thought it would be as big as small paper bu...   \n",
      "1  This kindle is light and easy to use especiall...   \n",
      "2  Didnt know how much i'd use a kindle so went f...   \n",
      "3  I am 100 happy with my purchase. I caught it o...   \n",
      "4  Solid entry level Kindle. Great for kids. Gift...   \n",
      "\n",
      "                                  reviews.title  reviews.username  \\\n",
      "0                                     Too small            llyyue   \n",
      "1  Great light reader. Easy to use at the beach            Charmi   \n",
      "2                           Great for the price      johnnyjojojo   \n",
      "3                                   A Great Buy           Kdperry   \n",
      "4      Solid entry-level Kindle. Great for kids       Johnnyblack   \n",
      "\n",
      "                                          sourceURLs  \n",
      "0  https://www.newegg.com/Product/Product.aspx%25...  \n",
      "1  https://www.newegg.com/Product/Product.aspx%25...  \n",
      "2  https://www.newegg.com/Product/Product.aspx%25...  \n",
      "3  https://www.newegg.com/Product/Product.aspx%25...  \n",
      "4  https://www.newegg.com/Product/Product.aspx%25...  \n",
      "\n",
      "[5 rows x 24 columns]\n",
      "\n",
      "First rows of the Additional Dataset 02:\n",
      "                     id             dateAdded           dateUpdated  \\\n",
      "0  AVpgNzjwLJeJML43Kpxn  2015-10-30T08:59:32Z  2019-04-25T09:08:16Z   \n",
      "1  AVpgNzjwLJeJML43Kpxn  2015-10-30T08:59:32Z  2019-04-25T09:08:16Z   \n",
      "2  AVpgNzjwLJeJML43Kpxn  2015-10-30T08:59:32Z  2019-04-25T09:08:16Z   \n",
      "3  AVpgNzjwLJeJML43Kpxn  2015-10-30T08:59:32Z  2019-04-25T09:08:16Z   \n",
      "4  AVpgNzjwLJeJML43Kpxn  2015-10-30T08:59:32Z  2019-04-25T09:08:16Z   \n",
      "\n",
      "                                                name                  asins  \\\n",
      "0  AmazonBasics AAA Performance Alkaline Batterie...  B00QWO9P0O,B00LH3DMUO   \n",
      "1  AmazonBasics AAA Performance Alkaline Batterie...  B00QWO9P0O,B00LH3DMUO   \n",
      "2  AmazonBasics AAA Performance Alkaline Batterie...  B00QWO9P0O,B00LH3DMUO   \n",
      "3  AmazonBasics AAA Performance Alkaline Batterie...  B00QWO9P0O,B00LH3DMUO   \n",
      "4  AmazonBasics AAA Performance Alkaline Batterie...  B00QWO9P0O,B00LH3DMUO   \n",
      "\n",
      "          brand                                         categories  \\\n",
      "0  Amazonbasics  AA,AAA,Health,Electronics,Health & Household,C...   \n",
      "1  Amazonbasics  AA,AAA,Health,Electronics,Health & Household,C...   \n",
      "2  Amazonbasics  AA,AAA,Health,Electronics,Health & Household,C...   \n",
      "3  Amazonbasics  AA,AAA,Health,Electronics,Health & Household,C...   \n",
      "4  Amazonbasics  AA,AAA,Health,Electronics,Health & Household,C...   \n",
      "\n",
      "  primaryCategories                                          imageURLs  \\\n",
      "0   Health & Beauty  https://images-na.ssl-images-amazon.com/images...   \n",
      "1   Health & Beauty  https://images-na.ssl-images-amazon.com/images...   \n",
      "2   Health & Beauty  https://images-na.ssl-images-amazon.com/images...   \n",
      "3   Health & Beauty  https://images-na.ssl-images-amazon.com/images...   \n",
      "4   Health & Beauty  https://images-na.ssl-images-amazon.com/images...   \n",
      "\n",
      "                                                keys  ... reviews.didPurchase  \\\n",
      "0  amazonbasics/hl002619,amazonbasicsaaaperforman...  ...                 NaN   \n",
      "1  amazonbasics/hl002619,amazonbasicsaaaperforman...  ...                 NaN   \n",
      "2  amazonbasics/hl002619,amazonbasicsaaaperforman...  ...                 NaN   \n",
      "3  amazonbasics/hl002619,amazonbasicsaaaperforman...  ...                 NaN   \n",
      "4  amazonbasics/hl002619,amazonbasicsaaaperforman...  ...                 NaN   \n",
      "\n",
      "  reviews.doRecommend reviews.id reviews.numHelpful reviews.rating  \\\n",
      "0                 NaN        NaN                NaN              3   \n",
      "1                 NaN        NaN                NaN              4   \n",
      "2                 NaN        NaN                NaN              5   \n",
      "3                 NaN        NaN                NaN              5   \n",
      "4                 NaN        NaN                NaN              5   \n",
      "\n",
      "                                  reviews.sourceURLs  \\\n",
      "0  https://www.amazon.com/product-reviews/B00QWO9...   \n",
      "1  https://www.amazon.com/product-reviews/B00QWO9...   \n",
      "2  https://www.amazon.com/product-reviews/B00QWO9...   \n",
      "3  https://www.amazon.com/product-reviews/B00QWO9...   \n",
      "4  https://www.amazon.com/product-reviews/B00QWO9...   \n",
      "\n",
      "                                        reviews.text  \\\n",
      "0  I order 3 of them and one of the item is bad q...   \n",
      "1  Bulk is always the less expensive way to go fo...   \n",
      "2  Well they are not Duracell but for the price i...   \n",
      "3  Seem to work as well as name brand batteries a...   \n",
      "4  These batteries are very long lasting the pric...   \n",
      "\n",
      "                                       reviews.title  reviews.username  \\\n",
      "0  ... 3 of them and one of the item is bad quali...        Byger yang   \n",
      "1  ... always the less expensive way to go for pr...              ByMG   \n",
      "2  ... are not Duracell but for the price i am ha...  BySharon Lambert   \n",
      "3  ... as well as name brand batteries at a much ...     Bymark sexson   \n",
      "4  ... batteries are very long lasting the price ...           Bylinda   \n",
      "\n",
      "                                          sourceURLs  \n",
      "0  https://www.barcodable.com/upc/841710106442,ht...  \n",
      "1  https://www.barcodable.com/upc/841710106442,ht...  \n",
      "2  https://www.barcodable.com/upc/841710106442,ht...  \n",
      "3  https://www.barcodable.com/upc/841710106442,ht...  \n",
      "4  https://www.barcodable.com/upc/841710106442,ht...  \n",
      "\n",
      "[5 rows x 24 columns]\n"
     ]
    }
   ],
   "source": [
    "# Display the first few rows of the dataset\n",
    "print(\"First rows of the Original Dataset:\")\n",
    "print(dataset_original.head())\n",
    "\n",
    "print(\"\\nFirst rows of the Additional Dataset 01:\")\n",
    "print(dataset_add_01.head())\n",
    "\n",
    "print(\"\\nFirst rows of the Additional Dataset 02:\")\n",
    "print(dataset_add_02.head())"
   ]
  },
  {
   "cell_type": "code",
   "execution_count": 4,
   "metadata": {},
   "outputs": [
    {
     "name": "stdout",
     "output_type": "stream",
     "text": [
      "\n",
      "Original Dataset information:\n",
      "<class 'pandas.core.frame.DataFrame'>\n",
      "RangeIndex: 34660 entries, 0 to 34659\n",
      "Data columns (total 21 columns):\n",
      " #   Column                Non-Null Count  Dtype  \n",
      "---  ------                --------------  -----  \n",
      " 0   id                    34660 non-null  object \n",
      " 1   name                  27900 non-null  object \n",
      " 2   asins                 34658 non-null  object \n",
      " 3   brand                 34660 non-null  object \n",
      " 4   categories            34660 non-null  object \n",
      " 5   keys                  34660 non-null  object \n",
      " 6   manufacturer          34660 non-null  object \n",
      " 7   reviews.date          34621 non-null  object \n",
      " 8   reviews.dateAdded     24039 non-null  object \n",
      " 9   reviews.dateSeen      34660 non-null  object \n",
      " 10  reviews.didPurchase   1 non-null      object \n",
      " 11  reviews.doRecommend   34066 non-null  object \n",
      " 12  reviews.id            1 non-null      float64\n",
      " 13  reviews.numHelpful    34131 non-null  float64\n",
      " 14  reviews.rating        34627 non-null  float64\n",
      " 15  reviews.sourceURLs    34660 non-null  object \n",
      " 16  reviews.text          34659 non-null  object \n",
      " 17  reviews.title         34654 non-null  object \n",
      " 18  reviews.userCity      0 non-null      float64\n",
      " 19  reviews.userProvince  0 non-null      float64\n",
      " 20  reviews.username      34653 non-null  object \n",
      "dtypes: float64(5), object(16)\n",
      "memory usage: 5.6+ MB\n",
      "None\n",
      "\n",
      "Additional Dataset 01 information:\n",
      "<class 'pandas.core.frame.DataFrame'>\n",
      "RangeIndex: 5000 entries, 0 to 4999\n",
      "Data columns (total 24 columns):\n",
      " #   Column               Non-Null Count  Dtype  \n",
      "---  ------               --------------  -----  \n",
      " 0   id                   5000 non-null   object \n",
      " 1   dateAdded            5000 non-null   object \n",
      " 2   dateUpdated          5000 non-null   object \n",
      " 3   name                 5000 non-null   object \n",
      " 4   asins                5000 non-null   object \n",
      " 5   brand                5000 non-null   object \n",
      " 6   categories           5000 non-null   object \n",
      " 7   primaryCategories    5000 non-null   object \n",
      " 8   imageURLs            5000 non-null   object \n",
      " 9   keys                 5000 non-null   object \n",
      " 10  manufacturer         5000 non-null   object \n",
      " 11  manufacturerNumber   5000 non-null   object \n",
      " 12  reviews.date         5000 non-null   object \n",
      " 13  reviews.dateAdded    1052 non-null   object \n",
      " 14  reviews.dateSeen     5000 non-null   object \n",
      " 15  reviews.doRecommend  5000 non-null   bool   \n",
      " 16  reviews.id           29 non-null     float64\n",
      " 17  reviews.numHelpful   5000 non-null   int64  \n",
      " 18  reviews.rating       5000 non-null   int64  \n",
      " 19  reviews.sourceURLs   5000 non-null   object \n",
      " 20  reviews.text         5000 non-null   object \n",
      " 21  reviews.title        4987 non-null   object \n",
      " 22  reviews.username     4999 non-null   object \n",
      " 23  sourceURLs           5000 non-null   object \n",
      "dtypes: bool(1), float64(1), int64(2), object(20)\n",
      "memory usage: 903.4+ KB\n",
      "None\n",
      "\n",
      "Additional Dataset 02 information:\n",
      "<class 'pandas.core.frame.DataFrame'>\n",
      "RangeIndex: 28332 entries, 0 to 28331\n",
      "Data columns (total 24 columns):\n",
      " #   Column               Non-Null Count  Dtype  \n",
      "---  ------               --------------  -----  \n",
      " 0   id                   28332 non-null  object \n",
      " 1   dateAdded            28332 non-null  object \n",
      " 2   dateUpdated          28332 non-null  object \n",
      " 3   name                 28332 non-null  object \n",
      " 4   asins                28332 non-null  object \n",
      " 5   brand                28332 non-null  object \n",
      " 6   categories           28332 non-null  object \n",
      " 7   primaryCategories    28332 non-null  object \n",
      " 8   imageURLs            28332 non-null  object \n",
      " 9   keys                 28332 non-null  object \n",
      " 10  manufacturer         28332 non-null  object \n",
      " 11  manufacturerNumber   28332 non-null  object \n",
      " 12  reviews.date         28332 non-null  object \n",
      " 13  reviews.dateSeen     28332 non-null  object \n",
      " 14  reviews.didPurchase  9 non-null      object \n",
      " 15  reviews.doRecommend  16086 non-null  object \n",
      " 16  reviews.id           41 non-null     float64\n",
      " 17  reviews.numHelpful   16115 non-null  float64\n",
      " 18  reviews.rating       28332 non-null  int64  \n",
      " 19  reviews.sourceURLs   28332 non-null  object \n",
      " 20  reviews.text         28332 non-null  object \n",
      " 21  reviews.title        28332 non-null  object \n",
      " 22  reviews.username     28327 non-null  object \n",
      " 23  sourceURLs           28332 non-null  object \n",
      "dtypes: float64(2), int64(1), object(21)\n",
      "memory usage: 5.2+ MB\n",
      "None\n"
     ]
    }
   ],
   "source": [
    "# Get general information about the dataset\n",
    "print(\"\\nOriginal Dataset information:\")\n",
    "print(dataset_original.info())\n",
    "\n",
    "print(\"\\nAdditional Dataset 01 information:\")\n",
    "print(dataset_add_01.info())\n",
    "\n",
    "print(\"\\nAdditional Dataset 02 information:\")\n",
    "print(dataset_add_02.info())"
   ]
  },
  {
   "cell_type": "code",
   "execution_count": 5,
   "metadata": {},
   "outputs": [
    {
     "name": "stdout",
     "output_type": "stream",
     "text": [
      "\n",
      "Original Dataset Descriptive statistics:\n",
      "                          id  \\\n",
      "count                  34660   \n",
      "unique                    42   \n",
      "top     AVphgVaX1cnluZ0-DR74   \n",
      "freq                   10966   \n",
      "mean                     NaN   \n",
      "std                      NaN   \n",
      "min                      NaN   \n",
      "25%                      NaN   \n",
      "50%                      NaN   \n",
      "75%                      NaN   \n",
      "max                      NaN   \n",
      "\n",
      "                                                     name       asins   brand  \\\n",
      "count                                               27900       34658   34660   \n",
      "unique                                                 48          41       6   \n",
      "top     Fire Tablet, 7 Display, Wi-Fi, 8 GB - Includes...  B018Y229OU  Amazon   \n",
      "freq                                                10966       10966   28701   \n",
      "mean                                                  NaN         NaN     NaN   \n",
      "std                                                   NaN         NaN     NaN   \n",
      "min                                                   NaN         NaN     NaN   \n",
      "25%                                                   NaN         NaN     NaN   \n",
      "50%                                                   NaN         NaN     NaN   \n",
      "75%                                                   NaN         NaN     NaN   \n",
      "max                                                   NaN         NaN     NaN   \n",
      "\n",
      "                                               categories  \\\n",
      "count                                               34660   \n",
      "unique                                                 41   \n",
      "top     Fire Tablets,Tablets,Computers & Tablets,All T...   \n",
      "freq                                                10966   \n",
      "mean                                                  NaN   \n",
      "std                                                   NaN   \n",
      "min                                                   NaN   \n",
      "25%                                                   NaN   \n",
      "50%                                                   NaN   \n",
      "75%                                                   NaN   \n",
      "max                                                   NaN   \n",
      "\n",
      "                                                     keys manufacturer  \\\n",
      "count                                               34660        34660   \n",
      "unique                                                 42            2   \n",
      "top     firetablet7displaywifi8gbincludesspecialoffers...       Amazon   \n",
      "freq                                                10966        34639   \n",
      "mean                                                  NaN          NaN   \n",
      "std                                                   NaN          NaN   \n",
      "min                                                   NaN          NaN   \n",
      "25%                                                   NaN          NaN   \n",
      "50%                                                   NaN          NaN   \n",
      "75%                                                   NaN          NaN   \n",
      "max                                                   NaN          NaN   \n",
      "\n",
      "                    reviews.date     reviews.dateAdded  \\\n",
      "count                      34621                 24039   \n",
      "unique                      1078                  1941   \n",
      "top     2017-01-16T00:00:00.000Z  2017-09-05T22:09:30Z   \n",
      "freq                         710                  3127   \n",
      "mean                         NaN                   NaN   \n",
      "std                          NaN                   NaN   \n",
      "min                          NaN                   NaN   \n",
      "25%                          NaN                   NaN   \n",
      "50%                          NaN                   NaN   \n",
      "75%                          NaN                   NaN   \n",
      "max                          NaN                   NaN   \n",
      "\n",
      "                                         reviews.dateSeen  ...  \\\n",
      "count                                               34660  ...   \n",
      "unique                                               3911  ...   \n",
      "top     2017-09-28T00:00:00Z,2017-09-08T00:00:00Z,2017...  ...   \n",
      "freq                                                 5072  ...   \n",
      "mean                                                  NaN  ...   \n",
      "std                                                   NaN  ...   \n",
      "min                                                   NaN  ...   \n",
      "25%                                                   NaN  ...   \n",
      "50%                                                   NaN  ...   \n",
      "75%                                                   NaN  ...   \n",
      "max                                                   NaN  ...   \n",
      "\n",
      "       reviews.doRecommend   reviews.id  reviews.numHelpful  reviews.rating  \\\n",
      "count                34066          1.0        34131.000000    34627.000000   \n",
      "unique                   2          NaN                 NaN             NaN   \n",
      "top                   True          NaN                 NaN             NaN   \n",
      "freq                 32682          NaN                 NaN             NaN   \n",
      "mean                   NaN  111372787.0            0.630248        4.584573   \n",
      "std                    NaN          NaN           13.215775        0.735653   \n",
      "min                    NaN  111372787.0            0.000000        1.000000   \n",
      "25%                    NaN  111372787.0            0.000000        4.000000   \n",
      "50%                    NaN  111372787.0            0.000000        5.000000   \n",
      "75%                    NaN  111372787.0            0.000000        5.000000   \n",
      "max                    NaN  111372787.0          814.000000        5.000000   \n",
      "\n",
      "                                       reviews.sourceURLs  \\\n",
      "count                                               34660   \n",
      "unique                                              11929   \n",
      "top     https://www.amazon.com/product-reviews/B01J2G4...   \n",
      "freq                                                  387   \n",
      "mean                                                  NaN   \n",
      "std                                                   NaN   \n",
      "min                                                   NaN   \n",
      "25%                                                   NaN   \n",
      "50%                                                   NaN   \n",
      "75%                                                   NaN   \n",
      "max                                                   NaN   \n",
      "\n",
      "                                             reviews.text  reviews.title  \\\n",
      "count                                               34659          34654   \n",
      "unique                                              34659          19766   \n",
      "top     to spite the fact that i have nothing but good...  Great product   \n",
      "freq                                                    1            645   \n",
      "mean                                                  NaN            NaN   \n",
      "std                                                   NaN            NaN   \n",
      "min                                                   NaN            NaN   \n",
      "25%                                                   NaN            NaN   \n",
      "50%                                                   NaN            NaN   \n",
      "75%                                                   NaN            NaN   \n",
      "max                                                   NaN            NaN   \n",
      "\n",
      "       reviews.userCity  reviews.userProvince  reviews.username  \n",
      "count               0.0                   0.0             34653  \n",
      "unique              NaN                   NaN             26788  \n",
      "top                 NaN                   NaN              Mike  \n",
      "freq                NaN                   NaN               138  \n",
      "mean                NaN                   NaN               NaN  \n",
      "std                 NaN                   NaN               NaN  \n",
      "min                 NaN                   NaN               NaN  \n",
      "25%                 NaN                   NaN               NaN  \n",
      "50%                 NaN                   NaN               NaN  \n",
      "75%                 NaN                   NaN               NaN  \n",
      "max                 NaN                   NaN               NaN  \n",
      "\n",
      "[11 rows x 21 columns]\n",
      "\n",
      "Additional Dataset 01 Descriptive statistics:\n",
      "                          id             dateAdded           dateUpdated  \\\n",
      "count                   5000                  5000                  5000   \n",
      "unique                    24                    20                    17   \n",
      "top     AVqkIhwDv8e3D1O-lebb  2017-03-06T14:59:43Z  2018-09-21T18:45:21Z   \n",
      "freq                     797                   797                  1429   \n",
      "mean                     NaN                   NaN                   NaN   \n",
      "std                      NaN                   NaN                   NaN   \n",
      "min                      NaN                   NaN                   NaN   \n",
      "25%                      NaN                   NaN                   NaN   \n",
      "50%                      NaN                   NaN                   NaN   \n",
      "75%                      NaN                   NaN                   NaN   \n",
      "max                      NaN                   NaN                   NaN   \n",
      "\n",
      "                                                     name       asins   brand  \\\n",
      "count                                                5000        5000    5000   \n",
      "unique                                                 23          24       1   \n",
      "top     Amazon Echo Show Alexa-enabled Bluetooth Speak...  B01AHB9CN2  Amazon   \n",
      "freq                                                  845         797    5000   \n",
      "mean                                                  NaN         NaN     NaN   \n",
      "std                                                   NaN         NaN     NaN   \n",
      "min                                                   NaN         NaN     NaN   \n",
      "25%                                                   NaN         NaN     NaN   \n",
      "50%                                                   NaN         NaN     NaN   \n",
      "75%                                                   NaN         NaN     NaN   \n",
      "max                                                   NaN         NaN     NaN   \n",
      "\n",
      "                                               categories primaryCategories  \\\n",
      "count                                                5000              5000   \n",
      "unique                                                 23                 4   \n",
      "top     Electronics,iPad & Tablets,All Tablets,Fire Ta...       Electronics   \n",
      "freq                                                  797              3276   \n",
      "mean                                                  NaN               NaN   \n",
      "std                                                   NaN               NaN   \n",
      "min                                                   NaN               NaN   \n",
      "25%                                                   NaN               NaN   \n",
      "50%                                                   NaN               NaN   \n",
      "75%                                                   NaN               NaN   \n",
      "max                                                   NaN               NaN   \n",
      "\n",
      "                                                imageURLs  \\\n",
      "count                                                5000   \n",
      "unique                                                 24   \n",
      "top     https://i5.walmartimages.com/asr/c494506a-b347...   \n",
      "freq                                                  797   \n",
      "mean                                                  NaN   \n",
      "std                                                   NaN   \n",
      "min                                                   NaN   \n",
      "25%                                                   NaN   \n",
      "50%                                                   NaN   \n",
      "75%                                                   NaN   \n",
      "max                                                   NaN   \n",
      "\n",
      "                                                     keys  ...  \\\n",
      "count                                                5000  ...   \n",
      "unique                                                 24  ...   \n",
      "top     841667104676,amazon/53004484,amazon/b01ahb9cn2...  ...   \n",
      "freq                                                  797  ...   \n",
      "mean                                                  NaN  ...   \n",
      "std                                                   NaN  ...   \n",
      "min                                                   NaN  ...   \n",
      "25%                                                   NaN  ...   \n",
      "50%                                                   NaN  ...   \n",
      "75%                                                   NaN  ...   \n",
      "max                                                   NaN  ...   \n",
      "\n",
      "            reviews.dateSeen reviews.doRecommend    reviews.id  \\\n",
      "count                   5000                5000  2.900000e+01   \n",
      "unique                   417                   2           NaN   \n",
      "top     2018-04-26T00:00:00Z                True           NaN   \n",
      "freq                    1217                4765           NaN   \n",
      "mean                     NaN                 NaN  1.858740e+08   \n",
      "std                      NaN                 NaN  2.084040e+07   \n",
      "min                      NaN                 NaN  1.082112e+08   \n",
      "25%                      NaN                 NaN  1.851185e+08   \n",
      "50%                      NaN                 NaN  1.880757e+08   \n",
      "75%                      NaN                 NaN  1.981949e+08   \n",
      "max                      NaN                 NaN  2.027812e+08   \n",
      "\n",
      "       reviews.numHelpful reviews.rating  \\\n",
      "count         5000.000000    5000.000000   \n",
      "unique                NaN            NaN   \n",
      "top                   NaN            NaN   \n",
      "freq                  NaN            NaN   \n",
      "mean             0.312400       4.596800   \n",
      "std              3.111582       0.731804   \n",
      "min              0.000000       1.000000   \n",
      "25%              0.000000       4.000000   \n",
      "50%              0.000000       5.000000   \n",
      "75%              0.000000       5.000000   \n",
      "max            105.000000       5.000000   \n",
      "\n",
      "                                       reviews.sourceURLs  \\\n",
      "count                                                5000   \n",
      "unique                                               2827   \n",
      "top     https://redsky.target.com/groot-domain-api/v1/...   \n",
      "freq                                                   24   \n",
      "mean                                                  NaN   \n",
      "std                                                   NaN   \n",
      "min                                                   NaN   \n",
      "25%                                                   NaN   \n",
      "50%                                                   NaN   \n",
      "75%                                                   NaN   \n",
      "max                                                   NaN   \n",
      "\n",
      "                                             reviews.text  reviews.title  \\\n",
      "count                                                5000           4987   \n",
      "unique                                               4385           3124   \n",
      "top     A little more complicated than my original kin...   Great tablet   \n",
      "freq                                                    4            122   \n",
      "mean                                                  NaN            NaN   \n",
      "std                                                   NaN            NaN   \n",
      "min                                                   NaN            NaN   \n",
      "25%                                                   NaN            NaN   \n",
      "50%                                                   NaN            NaN   \n",
      "75%                                                   NaN            NaN   \n",
      "max                                                   NaN            NaN   \n",
      "\n",
      "        reviews.username                                         sourceURLs  \n",
      "count               4999                                               5000  \n",
      "unique              3814                                                 24  \n",
      "top                 Mike  http://www.walmart.com/ip/All-New-Fire-HD-8-Ta...  \n",
      "freq                  26                                                797  \n",
      "mean                 NaN                                                NaN  \n",
      "std                  NaN                                                NaN  \n",
      "min                  NaN                                                NaN  \n",
      "25%                  NaN                                                NaN  \n",
      "50%                  NaN                                                NaN  \n",
      "75%                  NaN                                                NaN  \n",
      "max                  NaN                                                NaN  \n",
      "\n",
      "[11 rows x 24 columns]\n",
      "\n",
      "Additional Dataset 02 Descriptive statistics:\n",
      "                          id             dateAdded           dateUpdated  \\\n",
      "count                  28332                 28332                 28332   \n",
      "unique                    65                    55                    52   \n",
      "top     AVpgNzjwLJeJML43Kpxn  2015-10-30T08:59:32Z  2019-04-25T09:08:16Z   \n",
      "freq                    8343                  8343                  8343   \n",
      "mean                     NaN                   NaN                   NaN   \n",
      "std                      NaN                   NaN                   NaN   \n",
      "min                      NaN                   NaN                   NaN   \n",
      "25%                      NaN                   NaN                   NaN   \n",
      "50%                      NaN                   NaN                   NaN   \n",
      "75%                      NaN                   NaN                   NaN   \n",
      "max                      NaN                   NaN                   NaN   \n",
      "\n",
      "                                                     name  \\\n",
      "count                                               28332   \n",
      "unique                                                 65   \n",
      "top     AmazonBasics AAA Performance Alkaline Batterie...   \n",
      "freq                                                 8343   \n",
      "mean                                                  NaN   \n",
      "std                                                   NaN   \n",
      "min                                                   NaN   \n",
      "25%                                                   NaN   \n",
      "50%                                                   NaN   \n",
      "75%                                                   NaN   \n",
      "max                                                   NaN   \n",
      "\n",
      "                        asins   brand  \\\n",
      "count                   28332   28332   \n",
      "unique                     65       3   \n",
      "top     B00QWO9P0O,B00LH3DMUO  Amazon   \n",
      "freq                     8343   16153   \n",
      "mean                      NaN     NaN   \n",
      "std                       NaN     NaN   \n",
      "min                       NaN     NaN   \n",
      "25%                       NaN     NaN   \n",
      "50%                       NaN     NaN   \n",
      "75%                       NaN     NaN   \n",
      "max                       NaN     NaN   \n",
      "\n",
      "                                               categories primaryCategories  \\\n",
      "count                                               28332             28332   \n",
      "unique                                                 60                 9   \n",
      "top     AA,AAA,Health,Electronics,Health & Household,C...       Electronics   \n",
      "freq                                                 8343             13995   \n",
      "mean                                                  NaN               NaN   \n",
      "std                                                   NaN               NaN   \n",
      "min                                                   NaN               NaN   \n",
      "25%                                                   NaN               NaN   \n",
      "50%                                                   NaN               NaN   \n",
      "75%                                                   NaN               NaN   \n",
      "max                                                   NaN               NaN   \n",
      "\n",
      "                                                imageURLs  \\\n",
      "count                                               28332   \n",
      "unique                                                 65   \n",
      "top     https://images-na.ssl-images-amazon.com/images...   \n",
      "freq                                                 8343   \n",
      "mean                                                  NaN   \n",
      "std                                                   NaN   \n",
      "min                                                   NaN   \n",
      "25%                                                   NaN   \n",
      "50%                                                   NaN   \n",
      "75%                                                   NaN   \n",
      "max                                                   NaN   \n",
      "\n",
      "                                                     keys  ...  \\\n",
      "count                                               28332  ...   \n",
      "unique                                                 65  ...   \n",
      "top     amazonbasics/hl002619,amazonbasicsaaaperforman...  ...   \n",
      "freq                                                 8343  ...   \n",
      "mean                                                  NaN  ...   \n",
      "std                                                   NaN  ...   \n",
      "min                                                   NaN  ...   \n",
      "25%                                                   NaN  ...   \n",
      "50%                                                   NaN  ...   \n",
      "75%                                                   NaN  ...   \n",
      "max                                                   NaN  ...   \n",
      "\n",
      "       reviews.didPurchase reviews.doRecommend    reviews.id  \\\n",
      "count                    9               16086  4.100000e+01   \n",
      "unique                   2                   2           NaN   \n",
      "top                   True                True           NaN   \n",
      "freq                     8               15353           NaN   \n",
      "mean                   NaN                 NaN  1.840066e+08   \n",
      "std                    NaN                 NaN  2.337036e+07   \n",
      "min                    NaN                 NaN  1.116244e+08   \n",
      "25%                    NaN                 NaN  1.843344e+08   \n",
      "50%                    NaN                 NaN  1.885078e+08   \n",
      "75%                    NaN                 NaN  1.988160e+08   \n",
      "max                    NaN                 NaN  2.085304e+08   \n",
      "\n",
      "       reviews.numHelpful reviews.rating  \\\n",
      "count        16115.000000   28332.000000   \n",
      "unique                NaN            NaN   \n",
      "top                   NaN            NaN   \n",
      "freq                  NaN            NaN   \n",
      "mean             0.529321       4.514048   \n",
      "std              9.345017       0.934957   \n",
      "min              0.000000       1.000000   \n",
      "25%              0.000000       4.000000   \n",
      "50%              0.000000       5.000000   \n",
      "75%              0.000000       5.000000   \n",
      "max            621.000000       5.000000   \n",
      "\n",
      "                                       reviews.sourceURLs  reviews.text  \\\n",
      "count                                               28332         28332   \n",
      "unique                                               9906         18168   \n",
      "top     https://www.amazon.com/product-reviews/B00QWO9...          good   \n",
      "freq                                                12071            60   \n",
      "mean                                                  NaN           NaN   \n",
      "std                                                   NaN           NaN   \n",
      "min                                                   NaN           NaN   \n",
      "25%                                                   NaN           NaN   \n",
      "50%                                                   NaN           NaN   \n",
      "75%                                                   NaN           NaN   \n",
      "max                                                   NaN           NaN   \n",
      "\n",
      "        reviews.title   reviews.username  \\\n",
      "count           28332              28327   \n",
      "unique          10441              16268   \n",
      "top        Five Stars  ByAmazon Customer   \n",
      "freq             3937                889   \n",
      "mean              NaN                NaN   \n",
      "std               NaN                NaN   \n",
      "min               NaN                NaN   \n",
      "25%               NaN                NaN   \n",
      "50%               NaN                NaN   \n",
      "75%               NaN                NaN   \n",
      "max               NaN                NaN   \n",
      "\n",
      "                                               sourceURLs  \n",
      "count                                               28332  \n",
      "unique                                                 65  \n",
      "top     https://www.barcodable.com/upc/841710106442,ht...  \n",
      "freq                                                 8343  \n",
      "mean                                                  NaN  \n",
      "std                                                   NaN  \n",
      "min                                                   NaN  \n",
      "25%                                                   NaN  \n",
      "50%                                                   NaN  \n",
      "75%                                                   NaN  \n",
      "max                                                   NaN  \n",
      "\n",
      "[11 rows x 24 columns]\n"
     ]
    }
   ],
   "source": [
    "# Display descriptive statistics for the dataset\n",
    "print(\"\\nOriginal Dataset Descriptive statistics:\")\n",
    "print(dataset_original.describe(include='all'))\n",
    "\n",
    "print(\"\\nAdditional Dataset 01 Descriptive statistics:\")\n",
    "print(dataset_add_01.describe(include='all'))\n",
    "\n",
    "print(\"\\nAdditional Dataset 02 Descriptive statistics:\")\n",
    "print(dataset_add_02.describe(include='all'))"
   ]
  },
  {
   "cell_type": "code",
   "execution_count": 6,
   "metadata": {},
   "outputs": [
    {
     "name": "stdout",
     "output_type": "stream",
     "text": [
      "\n",
      "Original Dataset Column names:\n",
      "Index(['id', 'name', 'asins', 'brand', 'categories', 'keys', 'manufacturer',\n",
      "       'reviews.date', 'reviews.dateAdded', 'reviews.dateSeen',\n",
      "       'reviews.didPurchase', 'reviews.doRecommend', 'reviews.id',\n",
      "       'reviews.numHelpful', 'reviews.rating', 'reviews.sourceURLs',\n",
      "       'reviews.text', 'reviews.title', 'reviews.userCity',\n",
      "       'reviews.userProvince', 'reviews.username'],\n",
      "      dtype='object')\n",
      "\n",
      "Additional Dataset 01 Column names:\n",
      "Index(['id', 'dateAdded', 'dateUpdated', 'name', 'asins', 'brand',\n",
      "       'categories', 'primaryCategories', 'imageURLs', 'keys', 'manufacturer',\n",
      "       'manufacturerNumber', 'reviews.date', 'reviews.dateAdded',\n",
      "       'reviews.dateSeen', 'reviews.doRecommend', 'reviews.id',\n",
      "       'reviews.numHelpful', 'reviews.rating', 'reviews.sourceURLs',\n",
      "       'reviews.text', 'reviews.title', 'reviews.username', 'sourceURLs'],\n",
      "      dtype='object')\n",
      "\n",
      "Additional Dataset 02 Column names:\n",
      "Index(['id', 'dateAdded', 'dateUpdated', 'name', 'asins', 'brand',\n",
      "       'categories', 'primaryCategories', 'imageURLs', 'keys', 'manufacturer',\n",
      "       'manufacturerNumber', 'reviews.date', 'reviews.dateSeen',\n",
      "       'reviews.didPurchase', 'reviews.doRecommend', 'reviews.id',\n",
      "       'reviews.numHelpful', 'reviews.rating', 'reviews.sourceURLs',\n",
      "       'reviews.text', 'reviews.title', 'reviews.username', 'sourceURLs'],\n",
      "      dtype='object')\n"
     ]
    }
   ],
   "source": [
    "# Display the column names in the dataset\n",
    "print(\"\\nOriginal Dataset Column names:\")\n",
    "print(dataset_original.columns)\n",
    "\n",
    "print(\"\\nAdditional Dataset 01 Column names:\")\n",
    "print(dataset_add_01.columns)\n",
    "\n",
    "print(\"\\nAdditional Dataset 02 Column names:\")\n",
    "print(dataset_add_02.columns)"
   ]
  },
  {
   "cell_type": "code",
   "execution_count": 23,
   "metadata": {},
   "outputs": [],
   "source": [
    "# Select critical columns and combine datasets\n",
    "columns_required = ['reviews.text', 'reviews.rating']\n",
    "dataset_combined = pd.concat([\n",
    "    dataset_original[columns_required],\n",
    "    dataset_add_01[columns_required],\n",
    "    dataset_add_02[columns_required]\n",
    "], ignore_index=True)"
   ]
  },
  {
   "cell_type": "code",
   "execution_count": 24,
   "metadata": {},
   "outputs": [],
   "source": [
    "# Save balanced dataset\n",
    "dataset_combined.to_csv(\"dataset_combined.csv\", index=False)"
   ]
  },
  {
   "cell_type": "code",
   "execution_count": 25,
   "metadata": {},
   "outputs": [
    {
     "name": "stdout",
     "output_type": "stream",
     "text": [
      "Combined Dataset shape: (67992, 2)\n"
     ]
    }
   ],
   "source": [
    "# Display the shape of the dataset\n",
    "print(f\"Combined Dataset shape: {dataset_combined.shape}\")"
   ]
  },
  {
   "cell_type": "code",
   "execution_count": 11,
   "metadata": {},
   "outputs": [
    {
     "name": "stdout",
     "output_type": "stream",
     "text": [
      "\n",
      "Combined Dataset information:\n",
      "<class 'pandas.core.frame.DataFrame'>\n",
      "RangeIndex: 67992 entries, 0 to 67991\n",
      "Data columns (total 2 columns):\n",
      " #   Column          Non-Null Count  Dtype  \n",
      "---  ------          --------------  -----  \n",
      " 0   reviews.text    67991 non-null  object \n",
      " 1   reviews.rating  67959 non-null  float64\n",
      "dtypes: float64(1), object(1)\n",
      "memory usage: 1.0+ MB\n",
      "None\n"
     ]
    }
   ],
   "source": [
    "# Get general information about the dataset\n",
    "print(\"\\nCombined Dataset information:\")\n",
    "print(dataset_combined.info())"
   ]
  },
  {
   "cell_type": "code",
   "execution_count": 12,
   "metadata": {},
   "outputs": [
    {
     "name": "stdout",
     "output_type": "stream",
     "text": [
      "\n",
      "Combined Original Missing values by column:\n",
      "reviews.text       1\n",
      "reviews.rating    33\n",
      "dtype: int64\n"
     ]
    }
   ],
   "source": [
    "# Check for missing values in the dataset\n",
    "print(\"\\nCombined Original Missing values by column:\")\n",
    "print(dataset_combined.isnull().sum())"
   ]
  },
  {
   "cell_type": "code",
   "execution_count": 13,
   "metadata": {},
   "outputs": [
    {
     "name": "stdout",
     "output_type": "stream",
     "text": [
      "Shape before removing missing values: (67992, 2)\n",
      "Shape after removing missing values: (67958, 2)\n",
      "\n",
      "Remaining Missing Values by Column:\n",
      "reviews.text      0\n",
      "reviews.rating    0\n",
      "dtype: int64\n"
     ]
    }
   ],
   "source": [
    "# Remove rows with missing values\n",
    "print(f\"Shape before removing missing values: {dataset_combined.shape}\")\n",
    "dataset_combined.dropna(subset=['reviews.text', 'reviews.rating'], inplace=True)\n",
    "print(f\"Shape after removing missing values: {dataset_combined.shape}\")\n",
    "\n",
    "# Verify no missing values remain\n",
    "print(\"\\nRemaining Missing Values by Column:\")\n",
    "print(dataset_combined.isnull().sum())\n"
   ]
  },
  {
   "cell_type": "code",
   "execution_count": 14,
   "metadata": {},
   "outputs": [
    {
     "name": "stdout",
     "output_type": "stream",
     "text": [
      "\n",
      "Combined Dataset Number of duplicate rows:\n",
      "20953\n"
     ]
    }
   ],
   "source": [
    "# Check for duplicate rows in the dataset\n",
    "print(\"\\nCombined Dataset Number of duplicate rows:\")\n",
    "print(dataset_combined.duplicated().sum())"
   ]
  },
  {
   "cell_type": "code",
   "execution_count": 15,
   "metadata": {},
   "outputs": [
    {
     "name": "stdout",
     "output_type": "stream",
     "text": [
      "\n",
      "Number of exact duplicate rows: 20953\n",
      "Shape after removing exact duplicates: (47005, 2)\n"
     ]
    }
   ],
   "source": [
    "# Check and remove exact duplicate rows\n",
    "print(f\"\\nNumber of exact duplicate rows: {dataset_combined.duplicated().sum()}\")\n",
    "dataset_combined.drop_duplicates(inplace=True)\n",
    "print(f\"Shape after removing exact duplicates: {dataset_combined.shape}\")"
   ]
  },
  {
   "cell_type": "code",
   "execution_count": 16,
   "metadata": {},
   "outputs": [
    {
     "name": "stdout",
     "output_type": "stream",
     "text": [
      "\n",
      "Number of duplicate `reviews.text` with potentially different `reviews.rating`: 251\n"
     ]
    }
   ],
   "source": [
    "# Check for duplicate reviews.text with different ratings\n",
    "duplicates_by_text = dataset_combined.duplicated(subset=['reviews.text'], keep=False)\n",
    "duplicate_text_df = dataset_combined[duplicates_by_text]\n",
    "\n",
    "print(f\"\\nNumber of duplicate `reviews.text` with potentially different `reviews.rating`: {duplicate_text_df.shape[0]}\")"
   ]
  },
  {
   "cell_type": "code",
   "execution_count": 19,
   "metadata": {},
   "outputs": [
    {
     "name": "stdout",
     "output_type": "stream",
     "text": [
      "\n",
      "Sample of duplicate reviews.text with different ratings:\n",
      "                         reviews.text  reviews.rating\n",
      "43548                             AOK             4.0\n",
      "40004                             AOK             5.0\n",
      "50195                   As Advertised             4.0\n",
      "40960                   As Advertised             5.0\n",
      "40963                   As advertised             5.0\n",
      "43550                   As advertised             4.0\n",
      "43552                  As advertised.             4.0\n",
      "40966                  As advertised.             5.0\n",
      "40016                    As described             5.0\n",
      "50216                    As described             4.0\n",
      "40234                     As expected             4.0\n",
      "40133                     As expected             5.0\n",
      "40994                    As expected!             5.0\n",
      "50256                    As expected!             4.0\n",
      "40996                    As expected.             5.0\n",
      "40021                    As expected.             3.0\n",
      "41054                       Batteries             5.0\n",
      "48211                       Batteries             4.0\n",
      "47261  Batteries don't last very long             3.0\n",
      "46708  Batteries don't last very long             4.0\n"
     ]
    }
   ],
   "source": [
    "# Inspect a sample of duplicates\n",
    "print(\"\\nSample of duplicate reviews.text with different ratings:\")\n",
    "print(duplicate_text_df.sort_values(by='reviews.text').head(20))"
   ]
  },
  {
   "cell_type": "code",
   "execution_count": 20,
   "metadata": {},
   "outputs": [
    {
     "name": "stdout",
     "output_type": "stream",
     "text": [
      "\n",
      "Shape before removing `reviews.text` duplicates with different `reviews.rating`: (47005, 2)\n",
      "Shape after removing `reviews.text` duplicates with different `reviews.rating`: (46754, 2)\n"
     ]
    }
   ],
   "source": [
    "# Remove rows with duplicate `reviews.text` but different `reviews.rating`\n",
    "print(f\"\\nShape before removing `reviews.text` duplicates with different `reviews.rating`: {dataset_combined.shape}\")\n",
    "dataset_combined = dataset_combined[~dataset_combined.duplicated(subset=['reviews.text'], keep=False)]\n",
    "print(f\"Shape after removing `reviews.text` duplicates with different `reviews.rating`: {dataset_combined.shape}\")"
   ]
  },
  {
   "cell_type": "code",
   "execution_count": 22,
   "metadata": {},
   "outputs": [
    {
     "name": "stdout",
     "output_type": "stream",
     "text": [
      "\n",
      "Combined Dataset information:\n",
      "<class 'pandas.core.frame.DataFrame'>\n",
      "Index: 46754 entries, 0 to 66790\n",
      "Data columns (total 2 columns):\n",
      " #   Column          Non-Null Count  Dtype  \n",
      "---  ------          --------------  -----  \n",
      " 0   reviews.text    46754 non-null  object \n",
      " 1   reviews.rating  46754 non-null  float64\n",
      "dtypes: float64(1), object(1)\n",
      "memory usage: 1.1+ MB\n",
      "None\n"
     ]
    }
   ],
   "source": [
    "# Get general information about the dataset\n",
    "print(\"\\nCombined Dataset information:\")\n",
    "print(dataset_combined.info())"
   ]
  },
  {
   "cell_type": "code",
   "execution_count": 23,
   "metadata": {},
   "outputs": [
    {
     "name": "stdout",
     "output_type": "stream",
     "text": [
      "\n",
      "First rows of the Combined Dataset:\n",
      "                                        reviews.text  reviews.rating\n",
      "0  This product so far has not disappointed. My c...             5.0\n",
      "1  great for beginner or experienced person. Boug...             5.0\n",
      "2  Inexpensive tablet for him to use and learn on...             5.0\n",
      "3  I've had my Fire HD 8 two weeks now and I love...             4.0\n",
      "4  I bought this for my grand daughter when she c...             5.0\n"
     ]
    }
   ],
   "source": [
    "print(\"\\nFirst rows of the Combined Dataset:\")\n",
    "print(dataset_combined.head())"
   ]
  },
  {
   "cell_type": "code",
   "execution_count": 24,
   "metadata": {},
   "outputs": [
    {
     "name": "stdout",
     "output_type": "stream",
     "text": [
      "\n",
      "Distribution of ratings:\n",
      "reviews.rating\n",
      "5.0    32615\n",
      "4.0    10251\n",
      "3.0     2049\n",
      "1.0     1068\n",
      "2.0      771\n",
      "Name: count, dtype: int64\n"
     ]
    },
    {
     "name": "stderr",
     "output_type": "stream",
     "text": [
      "C:\\Users\\larry\\AppData\\Local\\Temp\\ipykernel_5920\\2428995998.py:8: FutureWarning: \n",
      "\n",
      "Passing `palette` without assigning `hue` is deprecated and will be removed in v0.14.0. Assign the `x` variable to `hue` and set `legend=False` for the same effect.\n",
      "\n",
      "  sns.countplot(x='reviews.rating', data=dataset_combined, palette='viridis')\n"
     ]
    },
    {
     "data": {
      "image/png": "[encoded data removed]",
      "text/plain": [
       "<Figure size 800x500 with 1 Axes>"
      ]
     },
     "metadata": {},
     "output_type": "display_data"
    }
   ],
   "source": [
    "# Analyze the distribution of the 'rating' column if it exists\n",
    "if 'reviews.rating' in dataset_combined.columns:\n",
    "    print(\"\\nDistribution of ratings:\")\n",
    "    print(dataset_combined['reviews.rating'].value_counts())\n",
    "    \n",
    "    # Plot the distribution of ratings\n",
    "    plt.figure(figsize=(8, 5))\n",
    "    sns.countplot(x='reviews.rating', data=dataset_combined, palette='viridis')\n",
    "    plt.title(\"Distribution of Ratings\")\n",
    "    plt.xlabel(\"Rating\")\n",
    "    plt.ylabel(\"Frequency\")\n",
    "    plt.show()\n"
   ]
  },
  {
   "cell_type": "code",
   "execution_count": 25,
   "metadata": {},
   "outputs": [
    {
     "name": "stdout",
     "output_type": "stream",
     "text": [
      "Balanced dataset distribution:\n",
      " reviews.rating\n",
      "3.0    1500\n",
      "5.0    1500\n",
      "4.0    1500\n",
      "1.0    1068\n",
      "2.0     771\n",
      "Name: count, dtype: int64\n"
     ]
    },
    {
     "name": "stderr",
     "output_type": "stream",
     "text": [
      "C:\\Users\\larry\\AppData\\Local\\Temp\\ipykernel_5920\\1893867897.py:5: DeprecationWarning: DataFrameGroupBy.apply operated on the grouping columns. This behavior is deprecated, and in a future version of pandas the grouping columns will be excluded from the operation. Either pass `include_groups=False` to exclude the groupings or explicitly select the grouping columns after groupby to silence this warning.\n",
      "  balanced_dataset = dataset_combined.groupby(\"reviews.rating\").apply(\n"
     ]
    }
   ],
   "source": [
    "# Define maximum number of records per rating\n",
    "max_count = 1500  # Adjust as needed\n",
    "\n",
    "# Balance dataset by limiting maximum records per rating\n",
    "balanced_dataset = dataset_combined.groupby(\"reviews.rating\").apply(\n",
    "    lambda x: x.sample(n=min(len(x), max_count), random_state=42)\n",
    ").reset_index(drop=True)\n",
    "\n",
    "# Verify distribution\n",
    "print(\"Balanced dataset distribution:\\n\", balanced_dataset[\"reviews.rating\"].value_counts())"
   ]
  },
  {
   "cell_type": "code",
   "execution_count": 28,
   "metadata": {},
   "outputs": [
    {
     "name": "stderr",
     "output_type": "stream",
     "text": [
      "C:\\Users\\larry\\AppData\\Local\\Temp\\ipykernel_5920\\3193593117.py:3: FutureWarning: \n",
      "\n",
      "Passing `palette` without assigning `hue` is deprecated and will be removed in v0.14.0. Assign the `x` variable to `hue` and set `legend=False` for the same effect.\n",
      "\n",
      "  sns.countplot(x='reviews.rating', data=balanced_dataset, palette='viridis')\n"
     ]
    },
    {
     "data": {
      "image/png": "[encoded data removed]",
      "text/plain": [
       "<Figure size 800x500 with 1 Axes>"
      ]
     },
     "metadata": {},
     "output_type": "display_data"
    }
   ],
   "source": [
    "# Plot the distribution of ratings\n",
    "plt.figure(figsize=(8, 5))\n",
    "sns.countplot(x='reviews.rating', data=balanced_dataset, palette='viridis')\n",
    "plt.title(\"Distribution of Ratings\")\n",
    "plt.xlabel(\"Rating\")\n",
    "plt.ylabel(\"Frequency\")\n",
    "plt.show()"
   ]
  },
  {
   "cell_type": "code",
   "execution_count": 29,
   "metadata": {},
   "outputs": [
    {
     "name": "stdout",
     "output_type": "stream",
     "text": [
      "Balanced dataset saved. Shape: (6339, 2)\n"
     ]
    }
   ],
   "source": [
    "# Save balanced dataset\n",
    "balanced_dataset.to_csv(\"balanced_reviews.csv\", index=False)\n",
    "\n",
    "print(\"Balanced dataset saved. Shape:\", balanced_dataset.shape)"
   ]
  },
  {
   "cell_type": "markdown",
   "metadata": {},
   "source": [
    "# **Text Cleaning**"
   ]
  },
  {
   "cell_type": "code",
   "execution_count": 30,
   "metadata": {},
   "outputs": [
    {
     "name": "stderr",
     "output_type": "stream",
     "text": [
      "[nltk_data] Downloading package stopwords to\n",
      "[nltk_data]     C:\\Users\\larry\\AppData\\Roaming\\nltk_data...\n",
      "[nltk_data]   Package stopwords is already up-to-date!\n"
     ]
    }
   ],
   "source": [
    "from nltk.corpus import stopwords\n",
    "import nltk\n",
    "import re\n",
    "nltk.download('stopwords')# Download stopwords if not already downloaded\n",
    "stop_words = set(stopwords.words('english'))"
   ]
  },
  {
   "cell_type": "code",
   "execution_count": 33,
   "metadata": {},
   "outputs": [
    {
     "name": "stdout",
     "output_type": "stream",
     "text": [
      "Performing basic text cleaning...\n",
      "\n",
      "Sample cleaned text for traditional models:\n",
      "0                       last near long brand batteries\n",
      "1    version marketed children like dumbed cheap ve...\n",
      "2    batteries die almost fast harbor freight free ...\n",
      "3    first time buy first tablet came showed needed...\n",
      "4           tore within one week baby blue shear green\n",
      "Name: reviews.text, dtype: object\n",
      "\n",
      "Sample cleaned text for lstm model:\n",
      "0    do not last near as long as other off brand ba...\n",
      "1    this   version should have been marketed to ch...\n",
      "2    these batteries die almost as fast as harbor f...\n",
      "3    the first time i buy my first tablet it came o...\n",
      "4    tore within one week and is baby blue and very...\n",
      "Name: reviews.text, dtype: object\n"
     ]
    }
   ],
   "source": [
    "# Define a function for cleaning text including stopwords removal\n",
    "def clean_text_sw(text):\n",
    "    # Convert to lowercase\n",
    "    text = text.lower()\n",
    "    # Remove punctuation and special characters\n",
    "    text = re.sub(r'[^\\w\\s]', '', text)\n",
    "    # Remove numbers\n",
    "    text = re.sub(r'\\d+', '', text)\n",
    "    # Remove stopwords\n",
    "    text = \" \".join([word for word in text.split() if word not in stop_words])\n",
    "    return text\n",
    "\n",
    "# Define a function for cleaning text no stopwords removal\n",
    "def clean_text(text):\n",
    "    # Convert to lowercase\n",
    "    text = text.lower()\n",
    "    # Remove punctuation and special characters\n",
    "    text = re.sub(r'[^\\w\\s]', '', text)\n",
    "    # Remove numbers\n",
    "    text = re.sub(r'\\d+', '', text)\n",
    "    return text\n",
    "\n",
    "data_cleaned = balanced_dataset.copy()  # Make a copy of the balanced dataset\n",
    "lstm_data_cleaned = balanced_dataset.copy()  # Make a copy of the balanced dataset\n",
    "\n",
    "# Apply text cleaning to the reviews.text column\n",
    "print(\"Performing basic text cleaning...\")\n",
    "data_cleaned['reviews.text'] = data_cleaned['reviews.text'].apply(clean_text_sw)\n",
    "lstm_data_cleaned['reviews.text'] = lstm_data_cleaned['reviews.text'].apply(clean_text)\n",
    "\n",
    "# Verify cleaned text\n",
    "print(\"\\nSample cleaned text for traditional models:\")\n",
    "print(data_cleaned['reviews.text'].head())\n",
    "\n",
    "print(\"\\nSample cleaned text for lstm model:\")\n",
    "print(lstm_data_cleaned['reviews.text'].head())"
   ]
  },
  {
   "cell_type": "code",
   "execution_count": 34,
   "metadata": {},
   "outputs": [
    {
     "name": "stdout",
     "output_type": "stream",
     "text": [
      "\n",
      "Cleaned dataset for traditional models saved as 'data_cleaned.csv'\n",
      "\n",
      "Cleaned dataset for lstm model saved as 'lstm_data_cleaned.csv'\n"
     ]
    }
   ],
   "source": [
    "# Save the cleaned dataset for reference\n",
    "output_file_01 = \"data_cleaned.csv\"\n",
    "data_cleaned.to_csv(output_file_01, index=False)\n",
    "print(f\"\\nCleaned dataset for traditional models saved as '{output_file_01}'\")\n",
    "\n",
    "output_file_02 = \"lstm_data_cleaned.csv\"\n",
    "lstm_data_cleaned.to_csv(output_file_02, index=False)\n",
    "print(f\"\\nCleaned dataset for lstm model saved as '{output_file_02}'\")"
   ]
  },
  {
   "cell_type": "markdown",
   "metadata": {},
   "source": [
    "# **Adding Sentiment Feature**"
   ]
  },
  {
   "cell_type": "code",
   "execution_count": 36,
   "metadata": {},
   "outputs": [],
   "source": [
    "# r1o1 ==> Balanced data, cleaned and sentiment added\n",
    "# Create a new DataFrame with the selected features\n",
    "r1o1_data = data_cleaned.copy()\n",
    "\n",
    "# Add the 'sentiment' feature based on the mapping logic\n",
    "def map_sentiment(rating):\n",
    "    if rating in [1, 2]:\n",
    "        return \"negative\"\n",
    "    elif rating == 3:\n",
    "        return \"neutral\"\n",
    "    elif rating in [4, 5]:\n",
    "        return \"positive\"\n",
    "\n",
    "r1o1_data['sentiment'] = r1o1_data['reviews.rating'].apply(map_sentiment)"
   ]
  },
  {
   "cell_type": "code",
   "execution_count": 37,
   "metadata": {},
   "outputs": [
    {
     "name": "stdout",
     "output_type": "stream",
     "text": [
      "First rows of the new dataset r1o1:\n",
      "                                        reviews.text  reviews.rating sentiment\n",
      "0                     last near long brand batteries             1.0  negative\n",
      "1  version marketed children like dumbed cheap ve...             1.0  negative\n",
      "2  batteries die almost fast harbor freight free ...             1.0  negative\n",
      "3  first time buy first tablet came showed needed...             1.0  negative\n",
      "4         tore within one week baby blue shear green             1.0  negative\n"
     ]
    }
   ],
   "source": [
    "# Verify the new dataset\n",
    "print(\"First rows of the new dataset r1o1:\")\n",
    "print(r1o1_data.head())"
   ]
  },
  {
   "cell_type": "code",
   "execution_count": 39,
   "metadata": {},
   "outputs": [],
   "source": [
    "# r1o2 ==> Balanced data and cleaned Note: No sentiment added\n",
    "\n",
    "r1o2_data = data_cleaned.copy()"
   ]
  },
  {
   "cell_type": "code",
   "execution_count": 40,
   "metadata": {},
   "outputs": [
    {
     "name": "stdout",
     "output_type": "stream",
     "text": [
      "\n",
      "New dataset r1o1 shape: (6339, 3)\n",
      "\n",
      "New dataset r1o2 shape: (6339, 2)\n"
     ]
    }
   ],
   "source": [
    "# Check the shape of the new datasets\n",
    "print(f\"\\nNew dataset r1o1 shape: {r1o1_data.shape}\")\n",
    "print(f\"\\nNew dataset r1o2 shape: {r1o2_data.shape}\")"
   ]
  },
  {
   "cell_type": "code",
   "execution_count": 41,
   "metadata": {},
   "outputs": [
    {
     "name": "stdout",
     "output_type": "stream",
     "text": [
      "\n",
      "Distribution of 'sentiment':\n",
      "sentiment\n",
      "positive    3000\n",
      "negative    1839\n",
      "neutral     1500\n",
      "Name: count, dtype: int64\n"
     ]
    }
   ],
   "source": [
    "# Distribution of the 'sentiment' feature\n",
    "print(\"\\nDistribution of 'sentiment':\")\n",
    "print(r1o1_data['sentiment'].value_counts())"
   ]
  },
  {
   "cell_type": "code",
   "execution_count": 42,
   "metadata": {},
   "outputs": [
    {
     "name": "stdout",
     "output_type": "stream",
     "text": [
      "Sentiment labels assigned and dataset saved for r1o1.\n",
      "Sentiment labels assigned and dataset saved for r1o2.\n"
     ]
    }
   ],
   "source": [
    "# Save the datasets for r1o1 and r1o2\n",
    "r1o1_data.to_csv(\"r1o1_dataset.csv\", index=False)\n",
    "print(\"Sentiment labels assigned and dataset saved for r1o1.\")\n",
    "\n",
    "r1o2_data.to_csv(\"r1o2_dataset.csv\", index=False)\n",
    "print(\"Dataset saved for r1o2.\")"
   ]
  },
  {
   "cell_type": "code",
   "execution_count": 43,
   "metadata": {},
   "outputs": [
    {
     "name": "stderr",
     "output_type": "stream",
     "text": [
      "C:\\Users\\larry\\AppData\\Local\\Temp\\ipykernel_5920\\1008258126.py:6: FutureWarning: \n",
      "\n",
      "Passing `palette` without assigning `hue` is deprecated and will be removed in v0.14.0. Assign the `x` variable to `hue` and set `legend=False` for the same effect.\n",
      "\n",
      "  sns.countplot(x='sentiment', data=r1o1_data, palette='pastel', order=[\"negative\", \"neutral\", \"positive\"])\n"
     ]
    },
    {
     "data": {
      "image/png": "[encoded data removed]",
      "text/plain": [
       "<Figure size 800x500 with 1 Axes>"
      ]
     },
     "metadata": {},
     "output_type": "display_data"
    }
   ],
   "source": [
    "# Visualize the sentiment distribution\n",
    "import matplotlib.pyplot as plt\n",
    "import seaborn as sns\n",
    "\n",
    "plt.figure(figsize=(8, 5))\n",
    "sns.countplot(x='sentiment', data=r1o1_data, palette='pastel', order=[\"negative\", \"neutral\", \"positive\"])\n",
    "plt.title(\"Distribution of Sentiment in the New Dataset\")\n",
    "plt.xlabel(\"Sentiment\")\n",
    "plt.ylabel(\"Frequency\")\n",
    "plt.show()"
   ]
  },
  {
   "cell_type": "markdown",
   "metadata": {},
   "source": [
    "\n",
    "# **Splitting the Datasets into train, validation, and test sets.**"
   ]
  },
  {
   "cell_type": "code",
   "execution_count": 46,
   "metadata": {},
   "outputs": [
    {
     "name": "stdout",
     "output_type": "stream",
     "text": [
      "Splitting `r1o1_data` into train, validation, and test sets...\n",
      "Train, validation, and test sizes for `r1o1_data`: (4437, 3), (951, 3), (951, 3)\n",
      "Splitting `r1o2_data` into train, validation, and test sets...\n",
      "Train, validation, and test sizes for `r1o2_data`: (4437, 2), (951, 2), (951, 2)\n"
     ]
    }
   ],
   "source": [
    "from sklearn.model_selection import train_test_split\n",
    "\n",
    "# Function to split the dataset with sentiment into train, validation, and test sets\n",
    "def split_dataset(dataset, stratify_col='sentiment'):\n",
    "    # Split into train (70%) and temp (30%) for validation and test\n",
    "    train, temp = train_test_split(dataset, test_size=0.3, random_state=42, stratify=dataset[stratify_col])\n",
    "    # Further split temp into validation (15%) and test (15%)\n",
    "    validation, test = train_test_split(temp, test_size=0.5, random_state=42, stratify=temp[stratify_col])\n",
    "    return train, validation, test\n",
    "\n",
    "# Function to split the dataset without sentiment into train, validation, and test sets\n",
    "def split_dataset_rating(dataset, stratify_col='reviews.rating'):\n",
    "    # Split into train (70%) and temp (30%) for validation and test\n",
    "    train, temp = train_test_split(dataset, test_size=0.3, random_state=42, stratify=dataset[stratify_col])\n",
    "    # Further split temp into validation (15%) and test (15%)\n",
    "    validation, test = train_test_split(temp, test_size=0.5, random_state=42, stratify=temp[stratify_col])\n",
    "    return train, validation, test\n",
    "\n",
    "# Split the `r1o1_data`\n",
    "print(\"Splitting `r1o1_data` into train, validation, and test sets...\")\n",
    "train_r1o1, val_r1o1, test_r1o1 = split_dataset(r1o1_data)\n",
    "# Verify the sizes of the splits\n",
    "print(f\"Train, validation, and test sizes for `r1o1_data`: {train_r1o1.shape}, {val_r1o1.shape}, {test_r1o1.shape}\")\n",
    "\n",
    "# Split the `r1o2_data`\n",
    "print(\"Splitting `r1o2_data` into train, validation, and test sets...\")\n",
    "train_r1o2, val_r1o2, test_r1o2 = split_dataset_rating(r1o2_data)\n",
    "# Verify the sizes of the splits\n",
    "print(f\"Train, validation, and test sizes for `r1o2_data`: {train_r1o2.shape}, {val_r1o2.shape}, {test_r1o2.shape}\")"
   ]
  },
  {
   "cell_type": "code",
   "execution_count": 47,
   "metadata": {},
   "outputs": [
    {
     "name": "stdout",
     "output_type": "stream",
     "text": [
      "\n",
      "Dataset splits saved successfully!\n"
     ]
    }
   ],
   "source": [
    "# Save the splits for future use\n",
    "train_r1o1.to_csv(\"train_r1o1.csv\", index=False)\n",
    "val_r1o1.to_csv(\"val_r1o1.csv\", index=False)\n",
    "test_r1o1.to_csv(\"test_r1o1.csv\", index=False)\n",
    "\n",
    "train_r1o2.to_csv(\"train_r1o2.csv\", index=False)\n",
    "val_r1o2.to_csv(\"val_r1o2.csv\", index=False)\n",
    "test_r1o2.to_csv(\"test_r1o2.csv\", index=False)\n",
    "\n",
    "print(\"\\nDataset splits saved successfully!\")"
   ]
  },
  {
   "cell_type": "code",
   "execution_count": 2,
   "metadata": {},
   "outputs": [],
   "source": [
    "# Load the spitted datasets (assuming it is in the same location as the notebook)\n",
    "train_r1o1 = pd.read_csv(\"train_r1o1.csv\")\n",
    "val_r1o1 = pd.read_csv(\"val_r1o1.csv\")\n",
    "test_r1o1 = pd.read_csv(\"test_r1o1.csv\")\n",
    "\n",
    "train_r1o2 = pd.read_csv(\"train_r1o2.csv\")\n",
    "val_r1o2 = pd.read_csv(\"val_r1o2.csv\")\n",
    "test_r1o2 = pd.read_csv(\"test_r1o2.csv\")"
   ]
  },
  {
   "cell_type": "code",
   "execution_count": 9,
   "metadata": {},
   "outputs": [
    {
     "name": "stdout",
     "output_type": "stream",
     "text": [
      "Data types after conversion: reviews.text\n",
      "<class 'str'>    4437\n",
      "Name: count, dtype: int64\n",
      "Data types after conversion: reviews.text\n",
      "<class 'str'>    951\n",
      "Name: count, dtype: int64\n",
      "Data types after conversion: reviews.text\n",
      "<class 'str'>    951\n",
      "Name: count, dtype: int64\n"
     ]
    }
   ],
   "source": [
    "# Ensure all entries in 'reviews.text' are strings\n",
    "train_r1o1['reviews.text'] = train_r1o1['reviews.text'].astype(str)\n",
    "\n",
    "# Check if there are any unexpected data types after conversion\n",
    "print(\"Data types after conversion:\", train_r1o1['reviews.text'].apply(type).value_counts())\n",
    "\n",
    "val_r1o1['reviews.text'] = val_r1o1['reviews.text'].astype(str)\n",
    "\n",
    "# Check if there are any unexpected data types after conversion\n",
    "print(\"Data types after conversion:\", val_r1o1['reviews.text'].apply(type).value_counts())\n",
    "\n",
    "test_r1o1['reviews.text'] = test_r1o1['reviews.text'].astype(str)\n",
    "\n",
    "# Check if there are any unexpected data types after conversion\n",
    "print(\"Data types after conversion:\", test_r1o1['reviews.text'].apply(type).value_counts())"
   ]
  },
  {
   "cell_type": "code",
   "execution_count": 10,
   "metadata": {},
   "outputs": [
    {
     "name": "stdout",
     "output_type": "stream",
     "text": [
      "Data types after conversion: reviews.text\n",
      "<class 'str'>    4437\n",
      "Name: count, dtype: int64\n",
      "Data types after conversion: reviews.text\n",
      "<class 'str'>    951\n",
      "Name: count, dtype: int64\n",
      "Data types after conversion: reviews.text\n",
      "<class 'str'>    951\n",
      "Name: count, dtype: int64\n"
     ]
    }
   ],
   "source": [
    "# Ensure all entries in 'reviews.text' are strings\n",
    "train_r1o2['reviews.text'] = train_r1o2['reviews.text'].astype(str)\n",
    "\n",
    "# Check if there are any unexpected data types after conversion\n",
    "print(\"Data types after conversion:\", train_r1o2['reviews.text'].apply(type).value_counts())\n",
    "\n",
    "val_r1o2['reviews.text'] = val_r1o2['reviews.text'].astype(str)\n",
    "\n",
    "# Check if there are any unexpected data types after conversion\n",
    "print(\"Data types after conversion:\", val_r1o2['reviews.text'].apply(type).value_counts())\n",
    "\n",
    "test_r1o2['reviews.text'] = test_r1o2['reviews.text'].astype(str)\n",
    "\n",
    "# Check if there are any unexpected data types after conversion\n",
    "print(\"Data types after conversion:\", test_r1o2['reviews.text'].apply(type).value_counts())"
   ]
  },
  {
   "cell_type": "markdown",
   "metadata": {},
   "source": [
    "# **Tokenization and Lemmatization**"
   ]
  },
  {
   "cell_type": "code",
   "execution_count": 11,
   "metadata": {},
   "outputs": [
    {
     "name": "stderr",
     "output_type": "stream",
     "text": [
      "[nltk_data] Downloading package punkt to\n",
      "[nltk_data]     C:\\Users\\larry\\AppData\\Roaming\\nltk_data...\n",
      "[nltk_data]   Package punkt is already up-to-date!\n",
      "[nltk_data] Downloading package wordnet to\n",
      "[nltk_data]     C:\\Users\\larry\\AppData\\Roaming\\nltk_data...\n",
      "[nltk_data]   Package wordnet is already up-to-date!\n",
      "[nltk_data] Downloading package omw-1.4 to\n",
      "[nltk_data]     C:\\Users\\larry\\AppData\\Roaming\\nltk_data...\n",
      "[nltk_data]   Package omw-1.4 is already up-to-date!\n"
     ]
    },
    {
     "data": {
      "text/plain": [
       "True"
      ]
     },
     "execution_count": 11,
     "metadata": {},
     "output_type": "execute_result"
    }
   ],
   "source": [
    "import nltk\n",
    "from nltk.tokenize import word_tokenize\n",
    "from nltk.stem import WordNetLemmatizer\n",
    "\n",
    "# Download necessary NLTK resources\n",
    "nltk.download('punkt')\n",
    "nltk.download('wordnet')\n",
    "nltk.download('omw-1.4')"
   ]
  },
  {
   "cell_type": "code",
   "execution_count": 12,
   "metadata": {},
   "outputs": [
    {
     "name": "stdout",
     "output_type": "stream",
     "text": [
      "Tokenizing and lemmatizing `train_r1o1`...\n",
      "Tokenizing and lemmatizing `train_r1o2`...\n",
      "\n",
      "Preprocessed datasets saved successfully!\n"
     ]
    }
   ],
   "source": [
    "# Initialize lemmatizer\n",
    "lemmatizer = WordNetLemmatizer()\n",
    "\n",
    "# Define tokenization and lemmatization function\n",
    "def preprocess_text(text):\n",
    "    tokens = word_tokenize(text.lower())  # Tokenize and convert to lowercase\n",
    "    lemmatized_tokens = [lemmatizer.lemmatize(token) for token in tokens if token.isalnum()]  # Lemmatize and remove non-alphanumeric\n",
    "    return \" \".join(lemmatized_tokens)\n",
    "\n",
    "# Apply preprocessing to all splits and save results\n",
    "def preprocess_dataset(dataset, text_column='reviews.text'):\n",
    "    dataset[text_column] = dataset[text_column].apply(preprocess_text)\n",
    "    return dataset\n",
    "\n",
    "print(\"Tokenizing and lemmatizing `train_r1o1`...\")\n",
    "train_r1o1 = preprocess_dataset(train_r1o1)\n",
    "val_r1o1 = preprocess_dataset(val_r1o1)\n",
    "test_r1o1 = preprocess_dataset(test_r1o1)\n",
    "\n",
    "print(\"Tokenizing and lemmatizing `train_r1o2`...\")\n",
    "train_r1o2 = preprocess_dataset(train_r1o2)\n",
    "val_r1o2 = preprocess_dataset(val_r1o2)\n",
    "test_r1o2 = preprocess_dataset(test_r1o2)\n",
    "\n",
    "# Save preprocessed datasets for future use\n",
    "train_r1o1.to_csv(\"preprocessed_comb_train_r1o1.csv\", index=False)\n",
    "val_r1o1.to_csv(\"preprocessed_comb_val_r1o1.csv\", index=False)\n",
    "test_r1o1.to_csv(\"preprocessed_comb_test_r1o1.csv\", index=False)\n",
    "\n",
    "train_r1o2.to_csv(\"preprocessed_comb_train_r1o2.csv\", index=False)\n",
    "val_r1o2.to_csv(\"preprocessed_comb_val_r1o2.csv\", index=False)\n",
    "test_r1o2.to_csv(\"preprocessed_comb_test_r1o2.csv\", index=False)\n",
    "\n",
    "print(\"\\nPreprocessed datasets saved successfully!\")"
   ]
  },
  {
   "cell_type": "markdown",
   "metadata": {},
   "source": [
    "# **Vectorization applying TF-IDF**"
   ]
  },
  {
   "cell_type": "code",
   "execution_count": 13,
   "metadata": {},
   "outputs": [
    {
     "name": "stdout",
     "output_type": "stream",
     "text": [
      "Vectorizing `dataset_drop`...\n",
      "Vectorizing `dataset_r1o2`...\n"
     ]
    }
   ],
   "source": [
    "from sklearn.feature_extraction.text import TfidfVectorizer\n",
    "\n",
    "# Define the TF-IDF Vectorizer\n",
    "tfidf_vectorizer = TfidfVectorizer(max_features=10000, ngram_range=(1, 2), stop_words='english')\n",
    "\n",
    "# Function to vectorize datasets\n",
    "def vectorize_datasets(train, val, test, text_column='reviews.text'):\n",
    "    # Fit TF-IDF on the training set\n",
    "    X_train = tfidf_vectorizer.fit_transform(train[text_column])\n",
    "    X_val = tfidf_vectorizer.transform(val[text_column])\n",
    "    X_test = tfidf_vectorizer.transform(test[text_column])\n",
    "    \n",
    "    return X_train, X_val, X_test\n",
    "\n",
    "print(\"Vectorizing `dataset_drop`...\")\n",
    "X_train_r1o1, X_val_r1o1, X_test_r1o1 = vectorize_datasets(train_r1o1, val_r1o1, test_r1o1)\n",
    "\n",
    "print(\"Vectorizing `dataset_r1o2`...\")\n",
    "X_train_r1o2, X_val_r1o2, X_test_r1o2 = vectorize_datasets(train_r1o2, val_r1o2, test_r1o2)"
   ]
  },
  {
   "cell_type": "code",
   "execution_count": 14,
   "metadata": {},
   "outputs": [
    {
     "name": "stdout",
     "output_type": "stream",
     "text": [
      "\n",
      "Vectorized datasets saved successfully!\n"
     ]
    }
   ],
   "source": [
    "# Save the vectorized features for future use (optional step)\n",
    "import joblib\n",
    "joblib.dump(tfidf_vectorizer, \"comb_reduced_tfidf_vectorizer.pkl\")\n",
    "joblib.dump(X_train_r1o1, \"X_comb_train_r1o1.pkl\")\n",
    "joblib.dump(X_val_r1o1, \"X_comb_val_r1o1.pkl\")\n",
    "joblib.dump(X_test_r1o1, \"X_comb_test_r1o1.pkl\")\n",
    "\n",
    "joblib.dump(X_train_r1o2, \"X_comb_train_r1o2.pkl\")\n",
    "joblib.dump(X_val_r1o2, \"X_comb_val_r1o2.pkl\")\n",
    "joblib.dump(X_test_r1o2, \"X_comb_test_r1o2.pkl\")\n",
    "\n",
    "print(\"\\nVectorized datasets saved successfully!\")"
   ]
  },
  {
   "cell_type": "markdown",
   "metadata": {},
   "source": [
    "# **Models Training and Evaluation**"
   ]
  },
  {
   "cell_type": "code",
   "execution_count": 15,
   "metadata": {},
   "outputs": [],
   "source": [
    "from sklearn.linear_model import LogisticRegression\n",
    "from sklearn.svm import SVC\n",
    "from sklearn.ensemble import RandomForestClassifier\n",
    "from xgboost import XGBClassifier\n",
    "from sklearn.metrics import accuracy_score, precision_score, recall_score, f1_score, classification_report, confusion_matrix\n",
    "from sklearn.utils.class_weight import compute_class_weight\n",
    "from sklearn.preprocessing import LabelEncoder\n",
    "import numpy as np"
   ]
  },
  {
   "cell_type": "code",
   "execution_count": 16,
   "metadata": {},
   "outputs": [],
   "source": [
    "# Encode sentiment labels into numeric format\n",
    "encoder = LabelEncoder()\n",
    "y_train_r1o1 = encoder.fit_transform(train_r1o1['sentiment'])\n",
    "y_val_r1o1 = encoder.transform(val_r1o1['sentiment'])\n",
    "y_test_r1o1 = encoder.transform(test_r1o1['sentiment'])\n",
    "\n",
    "y_train_r1o2 = encoder.fit_transform(train_r1o2['reviews.rating'])\n",
    "y_val_r1o2 = encoder.transform(val_r1o2['reviews.rating'])\n",
    "y_test_r1o2 = encoder.transform(test_r1o2['reviews.rating'])"
   ]
  },
  {
   "cell_type": "code",
   "execution_count": 17,
   "metadata": {},
   "outputs": [
    {
     "name": "stdout",
     "output_type": "stream",
     "text": [
      "\n",
      "Class Weights for `dataset_r1o1` (encoded labels):\n",
      "Class 1.0: Weight = 1.1492\n",
      "Class 2.0: Weight = 1.4086\n",
      "Class 3.0: Weight = 0.7043\n",
      "\n",
      "Class Weights for `dataset_r1o2` (encoded labels):\n",
      "Class 1.0: Weight = 1.1880\n",
      "Class 2.0: Weight = 1.6433\n",
      "Class 3.0: Weight = 0.8451\n",
      "Class 4.0: Weight = 0.8451\n",
      "Class 5.0: Weight = 0.8451\n"
     ]
    }
   ],
   "source": [
    "# Compute class weights for each dataset\n",
    "class_weights_r1o1 = compute_class_weight(\n",
    "    class_weight='balanced',  # Automatically calculate weights\n",
    "    classes=np.unique(y_train_r1o1),  # Unique classes\n",
    "    y=y_train_r1o1  # Target labels\n",
    ")\n",
    "class_weights_dict_r1o1 = dict(enumerate(class_weights_r1o1))\n",
    "\n",
    "# Print class weights for `dataset_r1o1`\n",
    "print(\"\\nClass Weights for `dataset_r1o1` (encoded labels):\")\n",
    "for label, weight in class_weights_dict_r1o1.items():\n",
    "    print(f\"Class {encoder.inverse_transform([label])[0]}: Weight = {weight:.4f}\")\n",
    "\n",
    "class_weights_r1o2 = compute_class_weight(\n",
    "    class_weight='balanced',\n",
    "    classes=np.unique(y_train_r1o2),\n",
    "    y=y_train_r1o2\n",
    ")\n",
    "class_weights_dict_r1o2 = dict(enumerate(class_weights_r1o2))\n",
    "\n",
    "# Print class weights for `dataset_r1o2`\n",
    "print(\"\\nClass Weights for `dataset_r1o2` (encoded labels):\")\n",
    "for label, weight in class_weights_dict_r1o2.items():\n",
    "    print(f\"Class {encoder.inverse_transform([label])[0]}: Weight = {weight:.4f}\")"
   ]
  },
  {
   "cell_type": "code",
   "execution_count": 19,
   "metadata": {},
   "outputs": [
    {
     "name": "stdout",
     "output_type": "stream",
     "text": [
      "\n",
      "Evaluating on `dataset_r1o1`...\n",
      "\n",
      "--- Training and Evaluating Logistic Regression ---\n",
      "\n",
      "Validation Metrics (Logistic Regression):\n",
      "  Accuracy: 0.6793\n",
      "  Precision: 0.6374\n",
      "  Recall: 0.6331\n",
      "  F1-Score: 0.6319\n",
      "\n",
      "Test Metrics (Logistic Regression):\n",
      "  Accuracy: 0.6898\n",
      "  Precision: 0.6466\n",
      "  Recall: 0.6426\n",
      "  F1-Score: 0.6419\n",
      "\n",
      "Classification Report (Logistic Regression - Test Set):\n",
      "\n",
      "              precision    recall  f1-score   support\n",
      "\n",
      "    negative       0.69      0.72      0.70       276\n",
      "     neutral       0.49      0.38      0.43       225\n",
      "    positive       0.76      0.82      0.79       450\n",
      "\n",
      "    accuracy                           0.69       951\n",
      "   macro avg       0.65      0.64      0.64       951\n",
      "weighted avg       0.68      0.69      0.68       951\n",
      "\n",
      "\n",
      "Confusion Matrix (Logistic Regression - Test Set):\n",
      "\n",
      "[[199  48  29]\n",
      " [ 54  86  85]\n",
      " [ 37  42 371]]\n",
      "\n",
      "--- Training and Evaluating SVM ---\n",
      "\n",
      "Validation Metrics (SVM):\n",
      "  Accuracy: 0.6866\n",
      "  Precision: 0.6500\n",
      "  Recall: 0.6487\n",
      "  F1-Score: 0.6485\n",
      "\n",
      "Test Metrics (SVM):\n",
      "  Accuracy: 0.6782\n",
      "  Precision: 0.6432\n",
      "  Recall: 0.6444\n",
      "  F1-Score: 0.6437\n",
      "\n",
      "Classification Report (SVM - Test Set):\n",
      "\n",
      "              precision    recall  f1-score   support\n",
      "\n",
      "    negative       0.69      0.71      0.70       276\n",
      "     neutral       0.47      0.45      0.46       225\n",
      "    positive       0.78      0.77      0.77       450\n",
      "\n",
      "    accuracy                           0.68       951\n",
      "   macro avg       0.64      0.64      0.64       951\n",
      "weighted avg       0.68      0.68      0.68       951\n",
      "\n",
      "\n",
      "Confusion Matrix (SVM - Test Set):\n",
      "\n",
      "[[195  54  27]\n",
      " [ 49 102  74]\n",
      " [ 40  62 348]]\n",
      "\n",
      "--- Training and Evaluating Random Forest ---\n",
      "\n",
      "Validation Metrics (Random Forest):\n",
      "  Accuracy: 0.6362\n",
      "  Precision: 0.6076\n",
      "  Recall: 0.6081\n",
      "  F1-Score: 0.6075\n",
      "\n",
      "Test Metrics (Random Forest):\n",
      "  Accuracy: 0.6456\n",
      "  Precision: 0.6052\n",
      "  Recall: 0.6096\n",
      "  F1-Score: 0.6069\n",
      "\n",
      "Classification Report (Random Forest - Test Set):\n",
      "\n",
      "              precision    recall  f1-score   support\n",
      "\n",
      "    negative       0.65      0.71      0.68       276\n",
      "     neutral       0.41      0.38      0.40       225\n",
      "    positive       0.75      0.74      0.75       450\n",
      "\n",
      "    accuracy                           0.65       951\n",
      "   macro avg       0.61      0.61      0.61       951\n",
      "weighted avg       0.64      0.65      0.64       951\n",
      "\n",
      "\n",
      "Confusion Matrix (Random Forest - Test Set):\n",
      "\n",
      "[[195  52  29]\n",
      " [ 58  86  81]\n",
      " [ 45  72 333]]\n",
      "\n",
      "Evaluating on `dataset_r1o2`...\n",
      "\n",
      "--- Training and Evaluating Logistic Regression ---\n",
      "\n",
      "Validation Metrics (Logistic Regression):\n",
      "  Accuracy: 0.4627\n",
      "  Precision: 0.4444\n",
      "  Recall: 0.4504\n",
      "  F1-Score: 0.4456\n",
      "\n",
      "Test Metrics (Logistic Regression):\n",
      "  Accuracy: 0.4848\n",
      "  Precision: 0.4626\n",
      "  Recall: 0.4706\n",
      "  F1-Score: 0.4633\n",
      "\n",
      "Classification Report (Logistic Regression - Test Set):\n",
      "\n",
      "              precision    recall  f1-score   support\n",
      "\n",
      "         1.0       0.55      0.70      0.61       161\n",
      "         2.0       0.30      0.22      0.25       115\n",
      "         3.0       0.43      0.44      0.44       225\n",
      "         4.0       0.43      0.41      0.42       225\n",
      "         5.0       0.59      0.59      0.59       225\n",
      "\n",
      "    accuracy                           0.48       951\n",
      "   macro avg       0.46      0.47      0.46       951\n",
      "weighted avg       0.48      0.48      0.48       951\n",
      "\n",
      "\n",
      "Confusion Matrix (Logistic Regression - Test Set):\n",
      "\n",
      "[[112  13  23   6   7]\n",
      " [ 39  25  35  11   5]\n",
      " [ 33  26  99  47  20]\n",
      " [  8   9  57  92  59]\n",
      " [ 13   9  14  56 133]]\n",
      "\n",
      "--- Training and Evaluating SVM ---\n",
      "\n",
      "Validation Metrics (SVM):\n",
      "  Accuracy: 0.4690\n",
      "  Precision: 0.4586\n",
      "  Recall: 0.4496\n",
      "  F1-Score: 0.4491\n",
      "\n",
      "Test Metrics (SVM):\n",
      "  Accuracy: 0.4837\n",
      "  Precision: 0.4690\n",
      "  Recall: 0.4648\n",
      "  F1-Score: 0.4632\n",
      "\n",
      "Classification Report (SVM - Test Set):\n",
      "\n",
      "              precision    recall  f1-score   support\n",
      "\n",
      "         1.0       0.58      0.64      0.61       161\n",
      "         2.0       0.32      0.20      0.25       115\n",
      "         3.0       0.41      0.48      0.44       225\n",
      "         4.0       0.44      0.45      0.45       225\n",
      "         5.0       0.60      0.56      0.57       225\n",
      "\n",
      "    accuracy                           0.48       951\n",
      "   macro avg       0.47      0.46      0.46       951\n",
      "weighted avg       0.48      0.48      0.48       951\n",
      "\n",
      "\n",
      "Confusion Matrix (SVM - Test Set):\n",
      "\n",
      "[[103  13  32   7   6]\n",
      " [ 32  23  44  10   6]\n",
      " [ 26  23 107  47  22]\n",
      " [  5   8  59 102  51]\n",
      " [ 13   5  17  65 125]]\n",
      "\n",
      "--- Training and Evaluating Random Forest ---\n",
      "\n",
      "Validation Metrics (Random Forest):\n",
      "  Accuracy: 0.4395\n",
      "  Precision: 0.4178\n",
      "  Recall: 0.4284\n",
      "  F1-Score: 0.4202\n",
      "\n",
      "Test Metrics (Random Forest):\n",
      "  Accuracy: 0.4511\n",
      "  Precision: 0.4246\n",
      "  Recall: 0.4413\n",
      "  F1-Score: 0.4286\n",
      "\n",
      "Classification Report (Random Forest - Test Set):\n",
      "\n",
      "              precision    recall  f1-score   support\n",
      "\n",
      "         1.0       0.50      0.70      0.58       161\n",
      "         2.0       0.24      0.21      0.22       115\n",
      "         3.0       0.40      0.34      0.37       225\n",
      "         4.0       0.44      0.38      0.41       225\n",
      "         5.0       0.55      0.58      0.56       225\n",
      "\n",
      "    accuracy                           0.45       951\n",
      "   macro avg       0.42      0.44      0.43       951\n",
      "weighted avg       0.44      0.45      0.44       951\n",
      "\n",
      "\n",
      "Confusion Matrix (Random Forest - Test Set):\n",
      "\n",
      "[[112  20  18   6   5]\n",
      " [ 45  24  29  12   5]\n",
      " [ 34  37  77  43  34]\n",
      " [ 14  13  49  85  64]\n",
      " [ 19   6  21  48 131]]\n"
     ]
    }
   ],
   "source": [
    "# Function to train and evaluate models\n",
    "def train_evaluate_model(model, X_train, y_train, X_val, y_val, X_test, y_test, model_name, target_names):\n",
    "    print(f\"\\n--- Training and Evaluating {model_name} ---\")\n",
    "    \n",
    "    # Train the model\n",
    "    model.fit(X_train, y_train)\n",
    "    \n",
    "    # Validation predictions\n",
    "    val_predictions = model.predict(X_val)\n",
    "    val_accuracy = accuracy_score(y_val, val_predictions)\n",
    "    val_precision = precision_score(y_val, val_predictions, average='macro')\n",
    "    val_recall = recall_score(y_val, val_predictions, average='macro')\n",
    "    val_f1 = f1_score(y_val, val_predictions, average='macro')\n",
    "    \n",
    "    # Test predictions\n",
    "    test_predictions = model.predict(X_test)\n",
    "    test_accuracy = accuracy_score(y_test, test_predictions)\n",
    "    test_precision = precision_score(y_test, test_predictions, average='macro')\n",
    "    test_recall = recall_score(y_test, test_predictions, average='macro')\n",
    "    test_f1 = f1_score(y_test, test_predictions, average='macro')\n",
    "    \n",
    "    # Print evaluation metrics\n",
    "    print(f\"\\nValidation Metrics ({model_name}):\")\n",
    "    print(f\"  Accuracy: {val_accuracy:.4f}\")\n",
    "    print(f\"  Precision: {val_precision:.4f}\")\n",
    "    print(f\"  Recall: {val_recall:.4f}\")\n",
    "    print(f\"  F1-Score: {val_f1:.4f}\")\n",
    "    \n",
    "    print(f\"\\nTest Metrics ({model_name}):\")\n",
    "    print(f\"  Accuracy: {test_accuracy:.4f}\")\n",
    "    print(f\"  Precision: {test_precision:.4f}\")\n",
    "    print(f\"  Recall: {test_recall:.4f}\")\n",
    "    print(f\"  F1-Score: {test_f1:.4f}\")\n",
    "    \n",
    "    # Classification report and confusion matrix\n",
    "    print(f\"\\nClassification Report ({model_name} - Test Set):\\n\")\n",
    "    print(classification_report(y_test, test_predictions, target_names=target_names))\n",
    "    \n",
    "    print(f\"\\nConfusion Matrix ({model_name} - Test Set):\\n\")\n",
    "    print(confusion_matrix(y_test, test_predictions))\n",
    "\n",
    "# Define class names for `r1o1` and `r1o2`\n",
    "target_names_r1o1 = [\"negative\", \"neutral\", \"positive\"]\n",
    "target_names_r1o2 = [\"1.0\", \"2.0\", \"3.0\", \"4.0\", \"5.0\"]\n",
    "\n",
    "# Prepare models\n",
    "logistic_model_r1o1 = LogisticRegression(penalty='l2', C=1.0, solver='liblinear', class_weight=class_weights_dict_r1o1, max_iter=1000, random_state=42)\n",
    "svm_model_r1o1 = SVC(C=1, gamma='scale', kernel='rbf', class_weight='balanced', probability=True)  # SVM uses balanced weights automatically\n",
    "random_forest_model_r1o1 = RandomForestClassifier( n_estimators=200, max_depth=20, min_samples_split=5, min_samples_leaf=2, max_features='sqrt', bootstrap=True, class_weight=class_weights_dict_r1o1, random_state=42)\n",
    "\n",
    "# Train and evaluate on `dataset_r1o1`\n",
    "print(\"\\nEvaluating on `dataset_r1o1`...\")\n",
    "train_evaluate_model(logistic_model_r1o1, X_train_r1o1, y_train_r1o1, X_val_r1o1, y_val_r1o1, X_test_r1o1, y_test_r1o1, \"Logistic Regression\", target_names_r1o1)\n",
    "train_evaluate_model(svm_model_r1o1, X_train_r1o1, y_train_r1o1, X_val_r1o1, y_val_r1o1, X_test_r1o1, y_test_r1o1, \"SVM\", target_names_r1o1)\n",
    "train_evaluate_model(random_forest_model_r1o1, X_train_r1o1, y_train_r1o1, X_val_r1o1, y_val_r1o1, X_test_r1o1, y_test_r1o1, \"Random Forest\", target_names_r1o1)\n",
    "\n",
    "# Repeat the same for `dataset_r1o2`\n",
    "logistic_model_r1o2 = LogisticRegression(penalty='l2', C=1.0, solver='liblinear', class_weight=class_weights_dict_r1o2, max_iter=1000, random_state=42)\n",
    "svm_model_r1o2 = SVC(C=1, gamma='scale', kernel='rbf', class_weight='balanced', probability=True)\n",
    "random_forest_model_r1o2 = RandomForestClassifier(n_estimators=200, max_depth=20, min_samples_split=5, min_samples_leaf=2, max_features='sqrt', bootstrap=True, class_weight=class_weights_dict_r1o2, random_state=42)\n",
    "\n",
    "print(\"\\nEvaluating on `dataset_r1o2`...\")\n",
    "train_evaluate_model(logistic_model_r1o2, X_train_r1o2, y_train_r1o2, X_val_r1o2, y_val_r1o2, X_test_r1o2, y_test_r1o2, \"Logistic Regression\", target_names_r1o2)\n",
    "train_evaluate_model(svm_model_r1o2, X_train_r1o2, y_train_r1o2, X_val_r1o2, y_val_r1o2, X_test_r1o2, y_test_r1o2, \"SVM\", target_names_r1o2)\n",
    "train_evaluate_model(random_forest_model_r1o2, X_train_r1o2, y_train_r1o2, X_val_r1o2, y_val_r1o2, X_test_r1o2, y_test_r1o2, \"Random Forest\", target_names_r1o2)"
   ]
  },
  {
   "cell_type": "markdown",
   "metadata": {},
   "source": [
    "# **XGBoost Classifier using tunned hyperparammeters and Sample Weights**"
   ]
  },
  {
   "cell_type": "code",
   "execution_count": 21,
   "metadata": {},
   "outputs": [
    {
     "name": "stdout",
     "output_type": "stream",
     "text": [
      "\n",
      "Evaluating XGBoost on `dataset_r1o1` with sample weights...\n",
      "\n",
      "--- Training and Evaluating XGBoost (dataset_r1o1) ---\n"
     ]
    },
    {
     "name": "stderr",
     "output_type": "stream",
     "text": [
      "c:\\Users\\larry\\anaconda3\\envs\\projectnlp\\Lib\\site-packages\\xgboost\\core.py:158: UserWarning: [10:51:35] WARNING: C:\\buildkite-agent\\builds\\buildkite-windows-cpu-autoscaling-group-i-0c55ff5f71b100e98-1\\xgboost\\xgboost-ci-windows\\src\\learner.cc:740: \n",
      "Parameters: { \"use_label_encoder\" } are not used.\n",
      "\n",
      "  warnings.warn(smsg, UserWarning)\n"
     ]
    },
    {
     "name": "stdout",
     "output_type": "stream",
     "text": [
      "\n",
      "Validation Metrics (XGBoost (dataset_r1o1)):\n",
      "  Accuracy: 0.6435\n",
      "  Precision: 0.6048\n",
      "  Recall: 0.6044\n",
      "  F1-Score: 0.6044\n",
      "\n",
      "Test Metrics (XGBoost (dataset_r1o1)):\n",
      "  Accuracy: 0.6719\n",
      "  Precision: 0.6344\n",
      "  Recall: 0.6372\n",
      "  F1-Score: 0.6355\n",
      "\n",
      "Classification Report (XGBoost (dataset_r1o1) - Test Set):\n",
      "\n",
      "              precision    recall  f1-score   support\n",
      "\n",
      "    negative       0.68      0.71      0.69       276\n",
      "     neutral       0.45      0.43      0.44       225\n",
      "    positive       0.78      0.77      0.77       450\n",
      "\n",
      "    accuracy                           0.67       951\n",
      "   macro avg       0.63      0.64      0.64       951\n",
      "weighted avg       0.67      0.67      0.67       951\n",
      "\n",
      "\n",
      "Confusion Matrix (XGBoost (dataset_r1o1) - Test Set):\n",
      "\n",
      "[[197  51  28]\n",
      " [ 57  97  71]\n",
      " [ 37  68 345]]\n"
     ]
    },
    {
     "data": {
      "image/png": "[encoded data removed]",
      "text/plain": [
       "<Figure size 800x600 with 2 Axes>"
      ]
     },
     "metadata": {},
     "output_type": "display_data"
    },
    {
     "name": "stdout",
     "output_type": "stream",
     "text": [
      "\n",
      "Evaluating XGBoost on `dataset_r1o2` with sample weights...\n",
      "\n",
      "--- Training and Evaluating XGBoost (dataset_r1o2) ---\n"
     ]
    },
    {
     "name": "stderr",
     "output_type": "stream",
     "text": [
      "c:\\Users\\larry\\anaconda3\\envs\\projectnlp\\Lib\\site-packages\\xgboost\\core.py:158: UserWarning: [10:52:03] WARNING: C:\\buildkite-agent\\builds\\buildkite-windows-cpu-autoscaling-group-i-0c55ff5f71b100e98-1\\xgboost\\xgboost-ci-windows\\src\\learner.cc:740: \n",
      "Parameters: { \"use_label_encoder\" } are not used.\n",
      "\n",
      "  warnings.warn(smsg, UserWarning)\n"
     ]
    },
    {
     "name": "stdout",
     "output_type": "stream",
     "text": [
      "\n",
      "Validation Metrics (XGBoost (dataset_r1o2)):\n",
      "  Accuracy: 0.4458\n",
      "  Precision: 0.4317\n",
      "  Recall: 0.4342\n",
      "  F1-Score: 0.4326\n",
      "\n",
      "Test Metrics (XGBoost (dataset_r1o2)):\n",
      "  Accuracy: 0.4269\n",
      "  Precision: 0.4102\n",
      "  Recall: 0.4142\n",
      "  F1-Score: 0.4118\n",
      "\n",
      "Classification Report (XGBoost (dataset_r1o2) - Test Set):\n",
      "\n",
      "              precision    recall  f1-score   support\n",
      "\n",
      "         1.0       0.55      0.58      0.56       161\n",
      "         2.0       0.23      0.21      0.22       115\n",
      "         3.0       0.40      0.38      0.39       225\n",
      "         4.0       0.38      0.36      0.37       225\n",
      "         5.0       0.50      0.54      0.52       225\n",
      "\n",
      "    accuracy                           0.43       951\n",
      "   macro avg       0.41      0.41      0.41       951\n",
      "weighted avg       0.42      0.43      0.42       951\n",
      "\n",
      "\n",
      "Confusion Matrix (XGBoost (dataset_r1o2) - Test Set):\n",
      "\n",
      "[[ 93  28  21  10   9]\n",
      " [ 30  24  34  14  13]\n",
      " [ 23  33  86  49  34]\n",
      " [ 10   9  58  82  66]\n",
      " [ 13  11  17  63 121]]\n"
     ]
    },
    {
     "data": {
      "image/png": "[encoded data removed]",
      "text/plain": [
       "<Figure size 800x600 with 2 Axes>"
      ]
     },
     "metadata": {},
     "output_type": "display_data"
    }
   ],
   "source": [
    "# Updated XGBoost models with sample weights for all classes\n",
    "def train_evaluate_xgboost_with_weights(X_train, y_train, X_val, y_val, X_test, y_test, sample_weights, model_name, encoder, target_names):\n",
    "    print(f\"\\n--- Training and Evaluating {model_name} ---\")\n",
    "    \n",
    "    xgb_model = XGBClassifier(\n",
    "        colsample_bytree=0.8,\n",
    "        learning_rate=0.2,\n",
    "        max_depth=7,\n",
    "        n_estimators=200,\n",
    "        subsample=0.8,\n",
    "        eval_metric='logloss',\n",
    "        use_label_encoder=False,\n",
    "        random_state=42\n",
    "    )\n",
    "    \n",
    "    # Train the model with sample weights\n",
    "    xgb_model.fit(X_train, y_train, sample_weight=sample_weights)\n",
    "    \n",
    "    # Validation predictions\n",
    "    val_predictions = xgb_model.predict(X_val)\n",
    "    val_accuracy = accuracy_score(y_val, val_predictions)\n",
    "    val_precision = precision_score(y_val, val_predictions, average='macro')\n",
    "    val_recall = recall_score(y_val, val_predictions, average='macro')\n",
    "    val_f1 = f1_score(y_val, val_predictions, average='macro')\n",
    "    \n",
    "    # Test predictions\n",
    "    test_predictions = xgb_model.predict(X_test)\n",
    "    test_accuracy = accuracy_score(y_test, test_predictions)\n",
    "    test_precision = precision_score(y_test, test_predictions, average='macro')\n",
    "    test_recall = recall_score(y_test, test_predictions, average='macro')\n",
    "    test_f1 = f1_score(y_test, test_predictions, average='macro')\n",
    "    \n",
    "    # Print evaluation metrics\n",
    "    print(f\"\\nValidation Metrics ({model_name}):\")\n",
    "    print(f\"  Accuracy: {val_accuracy:.4f}\")\n",
    "    print(f\"  Precision: {val_precision:.4f}\")\n",
    "    print(f\"  Recall: {val_recall:.4f}\")\n",
    "    print(f\"  F1-Score: {val_f1:.4f}\")\n",
    "    \n",
    "    print(f\"\\nTest Metrics ({model_name}):\")\n",
    "    print(f\"  Accuracy: {test_accuracy:.4f}\")\n",
    "    print(f\"  Precision: {test_precision:.4f}\")\n",
    "    print(f\"  Recall: {test_recall:.4f}\")\n",
    "    print(f\"  F1-Score: {test_f1:.4f}\")\n",
    "    \n",
    "    # Classification report and confusion matrix\n",
    "    print(f\"\\nClassification Report ({model_name} - Test Set):\\n\")\n",
    "    print(classification_report(y_test, test_predictions, target_names=target_names))\n",
    "    \n",
    "    print(f\"\\nConfusion Matrix ({model_name} - Test Set):\\n\")\n",
    "    conf_matrix = confusion_matrix(y_test, test_predictions)\n",
    "    print(conf_matrix)\n",
    "    \n",
    "    # Plot confusion matrix\n",
    "    plt.figure(figsize=(8, 6))\n",
    "    sns.heatmap(conf_matrix, annot=True, fmt='d', cmap='Blues', xticklabels=target_names, yticklabels=target_names)\n",
    "    plt.xlabel('Predicted Labels')\n",
    "    plt.ylabel('True Labels')\n",
    "    plt.title(f\"Confusion Matrix ({model_name})\")\n",
    "    plt.show()\n",
    "\n",
    "# Define class names for `r1o1` and `r1o2`\n",
    "target_names_r1o1 = [\"negative\", \"neutral\", \"positive\"]\n",
    "target_names_r1o2 = [\"1.0\", \"2.0\", \"3.0\", \"4.0\", \"5.0\"]\n",
    "\n",
    "# Prepare sample weights for datasets\n",
    "sample_weights_r1o1 = np.array([1.1492 if label == 0 else 1.4086 if label == 1 else 0.7043 for label in y_train_r1o1])\n",
    "sample_weights_r1o2 = np.array([1.1880 if label == 0 else 1.6433 if label == 1 else 0.8451 if label == 2 else 0.8451 if label == 3 else 0.8451 for label in y_train_r1o2])\n",
    "\n",
    "# Train and evaluate on `dataset_r1o1`\n",
    "print(\"\\nEvaluating XGBoost on `dataset_r1o1` with sample weights...\")\n",
    "train_evaluate_xgboost_with_weights(\n",
    "    X_train_r1o1, y_train_r1o1, X_val_r1o1, y_val_r1o1, X_test_r1o1, y_test_r1o1, \n",
    "    sample_weights_r1o1, \"XGBoost (dataset_r1o1)\", encoder, target_names_r1o1\n",
    ")\n",
    "\n",
    "# Train and evaluate on `dataset_r1o2`\n",
    "print(\"\\nEvaluating XGBoost on `dataset_r1o2` with sample weights...\")\n",
    "train_evaluate_xgboost_with_weights(\n",
    "    X_train_r1o2, y_train_r1o2, X_val_r1o2, y_val_r1o2, X_test_r1o2, y_test_r1o2, \n",
    "    sample_weights_r1o2, \"XGBoost (dataset_r1o2)\", encoder, target_names_r1o2\n",
    ")"
   ]
  },
  {
   "cell_type": "markdown",
   "metadata": {},
   "source": [
    "# **RandomForrest Classifier using tunned hyperparammeters and Class Weights**"
   ]
  },
  {
   "cell_type": "code",
   "execution_count": null,
   "metadata": {},
   "outputs": [],
   "source": [
    "from sklearn.svm import SVC\n",
    "from sklearn.utils.class_weight import compute_class_weight\n",
    "from sklearn.model_selection import GridSearchCV\n",
    "from xgboost import XGBClassifier\n",
    "from sklearn.ensemble import RandomForestClassifier\n",
    "from sklearn.metrics import classification_report, confusion_matrix, f1_score, precision_score, recall_score, accuracy_score\n",
    "import numpy as np\n",
    "import matplotlib.pyplot as plt\n",
    "import seaborn as sns\n",
    "\n",
    "# Function to compute class weights and encode labels\n",
    "def compute_class_weights_and_encode(y_train, encoder):\n",
    "    class_weights = compute_class_weight(\n",
    "        class_weight='balanced',\n",
    "        classes=np.unique(y_train),\n",
    "        y=y_train\n",
    "    )\n",
    "    class_weights_dict = {label: weight for label, weight in zip(np.unique(y_train), class_weights)}\n",
    "    return class_weights_dict\n",
    "\n",
    "# Function to train and evaluate models\n",
    "def train_evaluate_model(model, X_train, y_train, X_val, y_val, X_test, y_test, model_name):\n",
    "    print(f\"\\n--- Training and Evaluating {model_name} ---\")\n",
    "\n",
    "    # Train the model\n",
    "    model.fit(X_train, y_train)\n",
    "\n",
    "    # Validation predictions\n",
    "    val_predictions = model.predict(X_val)\n",
    "    val_accuracy = accuracy_score(y_val, val_predictions)\n",
    "    val_precision = precision_score(y_val, val_predictions, average='macro')\n",
    "    val_recall = recall_score(y_val, val_predictions, average='macro')\n",
    "    val_f1 = f1_score(y_val, val_predictions, average='macro')\n",
    "\n",
    "    # Test predictions\n",
    "    test_predictions = model.predict(X_test)\n",
    "    test_accuracy = accuracy_score(y_test, test_predictions)\n",
    "    test_precision = precision_score(y_test, test_predictions, average='macro')\n",
    "    test_recall = recall_score(y_test, test_predictions, average='macro')\n",
    "    test_f1 = f1_score(y_test, test_predictions, average='macro')\n",
    "\n",
    "    # Print evaluation metrics\n",
    "    print(f\"\\nValidation Metrics ({model_name}):\")\n",
    "    print(f\"  Accuracy: {val_accuracy:.4f}\")\n",
    "    print(f\"  Precision: {val_precision:.4f}\")\n",
    "    print(f\"  Recall: {val_recall:.4f}\")\n",
    "    print(f\"  F1-Score: {val_f1:.4f}\")\n",
    "\n",
    "    print(f\"\\nTest Metrics ({model_name}):\")\n",
    "    print(f\"  Accuracy: {test_accuracy:.4f}\")\n",
    "    print(f\"  Precision: {test_precision:.4f}\")\n",
    "    print(f\"  Recall: {test_recall:.4f}\")\n",
    "    print(f\"  F1-Score: {test_f1:.4f}\")\n",
    "\n",
    "    # Classification report and confusion matrix\n",
    "    print(f\"\\nClassification Report ({model_name} - Test Set):\\n\")\n",
    "    print(classification_report(y_test, test_predictions, target_names=encoder.classes_))\n",
    "\n",
    "    print(f\"\\nConfusion Matrix ({model_name} - Test Set):\\n\")\n",
    "    conf_matrix = confusion_matrix(y_test, test_predictions)\n",
    "    print(conf_matrix)\n",
    "\n",
    "    # Plot confusion matrix\n",
    "    plt.figure(figsize=(8, 6))\n",
    "    sns.heatmap(conf_matrix, annot=True, fmt='d', cmap='Blues', xticklabels=encoder.classes_, yticklabels=encoder.classes_)\n",
    "    plt.xlabel('Predicted Labels')\n",
    "    plt.ylabel('True Labels')\n",
    "    plt.title(f\"Confusion Matrix ({model_name})\")\n",
    "    plt.show()\n",
    "\n",
    "# Prepare models\n",
    "rf_model_drop = RandomForestClassifier(\n",
    "    n_estimators=300,\n",
    "    max_depth=None,\n",
    "    min_samples_split=5,\n",
    "    min_samples_leaf=1,\n",
    "    bootstrap=False,\n",
    "    class_weight=class_weights_dict_drop,\n",
    "    random_state=42\n",
    ")\n",
    "\n",
    "rf_model_recode = RandomForestClassifier(\n",
    "    n_estimators=300,\n",
    "    max_depth=None,\n",
    "    min_samples_split=5,\n",
    "    min_samples_leaf=1,\n",
    "    bootstrap=False,\n",
    "    class_weight=class_weights_dict_recode,\n",
    "    random_state=42\n",
    ")\n",
    "\n",
    "# Train and evaluate Random Forest on dataset_drop\n",
    "print(\"\\nEvaluating on `dataset_drop`...\")\n",
    "train_evaluate_model(rf_model_drop, X_train_drop, y_train_drop, X_val_drop, y_val_drop, X_test_drop, y_test_drop, \"Random Forest (dataset_drop)\")\n",
    "\n",
    "# Train and evaluate Random Forest on dataset_recode\n",
    "print(\"\\nEvaluating on `dataset_recode`...\")\n",
    "train_evaluate_model(rf_model_recode, X_train_recode, y_train_recode, X_val_recode, y_val_recode, X_test_recode, y_test_recode, \"Random Forest (dataset_recode)\")"
   ]
  },
  {
   "cell_type": "code",
   "execution_count": null,
   "metadata": {},
   "outputs": [],
   "source": [
    "'''# Function to compute sample weights\n",
    "def compute_sample_weights(y_train, class_weights_dict):\n",
    "    return np.array([class_weights_dict[label] for label in y_train])\n",
    "\n",
    "# Compute sample weights for each dataset\n",
    "sample_weights_drop = compute_sample_weights(y_train_drop, class_weights_dict_drop)\n",
    "sample_weights_recode = compute_sample_weights(y_train_recode, class_weights_dict_recode)'''\n",
    "\n",
    "# Updated XGBoost Models without `scale_pos_weight`\n",
    "xgb_model_drop = XGBClassifier(\n",
    "    colsample_bytree=0.8,\n",
    "    learning_rate=0.2,\n",
    "    max_depth=5,\n",
    "    n_estimators=200,\n",
    "    subsample=0.8,\n",
    "    eval_metric='logloss',\n",
    "    use_label_encoder=False,\n",
    "    random_state=42\n",
    ")\n",
    "\n",
    "xgb_model_recode = XGBClassifier(\n",
    "    colsample_bytree=0.8,\n",
    "    learning_rate=0.2,\n",
    "    max_depth=7,\n",
    "    n_estimators=200,\n",
    "    subsample=0.8,\n",
    "    eval_metric='logloss',\n",
    "    use_label_encoder=False,\n",
    "    random_state=42\n",
    ")\n",
    "\n",
    "# Train and evaluate XGBoost on `dataset_drop` with sample weights\n",
    "print(\"\\nEvaluating on `dataset_drop`...\")\n",
    "xgb_model_drop.fit(X_train_drop, y_train_drop, sample_weight=sample_weights_drop)\n",
    "train_evaluate_model(xgb_model_drop, X_train_drop, y_train_drop, X_val_drop, y_val_drop, X_test_drop, y_test_drop, \"XGBoost (dataset_drop)\")\n",
    "\n",
    "# Train and evaluate XGBoost on `dataset_recode` with sample weights\n",
    "print(\"\\nEvaluating on `dataset_recode`...\")\n",
    "xgb_model_recode.fit(X_train_recode, y_train_recode, sample_weight=sample_weights_recode)\n",
    "train_evaluate_model(xgb_model_recode, X_train_recode, y_train_recode, X_val_recode, y_val_recode, X_test_recode, y_test_recode, \"XGBoost (dataset_recode)\")"
   ]
  },
  {
   "cell_type": "code",
   "execution_count": null,
   "metadata": {},
   "outputs": [],
   "source": []
  },
  {
   "cell_type": "code",
   "execution_count": null,
   "metadata": {},
   "outputs": [],
   "source": [
    "\n",
    "# Function to perform GridSearchCV for XGBoost\n",
    "\n",
    "def grid_search_xgboost(X_train, y_train, X_val, y_val, dataset_name):\n",
    "    print(f\"\\n--- Starting Grid Search for XGBoost on {dataset_name} ---\")\n",
    "\n",
    "    param_grid_xgb = {\n",
    "        'max_depth': [3, 5, 7],\n",
    "        'learning_rate': [0.01, 0.1, 0.2],\n",
    "        'n_estimators': [100, 200, 300],\n",
    "        'subsample': [0.8, 1.0],\n",
    "        'colsample_bytree': [0.8, 1.0]\n",
    "    }\n",
    "\n",
    "    xgb_model = XGBClassifier(\n",
    "        eval_metric='logloss',\n",
    "        use_label_encoder=False,\n",
    "        random_state=42\n",
    "    )\n",
    "\n",
    "    grid_search = GridSearchCV(\n",
    "        estimator=xgb_model,\n",
    "        param_grid=param_grid_xgb,\n",
    "        scoring='f1_macro',\n",
    "        cv=5,\n",
    "        verbose=1\n",
    "    )\n",
    "\n",
    "    grid_search.fit(X_train, y_train)\n",
    "\n",
    "    best_params = grid_search.best_params_\n",
    "    print(f\"Best Parameters for XGBoost ({dataset_name}):\", best_params)\n",
    "    best_model = grid_search.best_estimator_\n",
    "\n",
    "    # Evaluate on validation set\n",
    "    val_predictions = best_model.predict(X_val)\n",
    "    val_f1_score = f1_score(y_val, val_predictions, average='macro')\n",
    "    print(f\"Validation F1 Macro Score (XGBoost - {dataset_name}):\", val_f1_score)\n",
    "\n",
    "    return best_model, best_params\n",
    "\n",
    "# Perform Grid Search for SVM and XGBoost on dataset_drop\n",
    "print(\"\\nEvaluating `dataset_drop`...\")\n",
    "svm_best_model_drop, svm_best_params_drop = grid_search_svm(X_train_drop, y_train_drop, X_val_drop, y_val_drop, \"dataset_drop\")\n",
    "xgb_best_model_drop, xgb_best_params_drop = grid_search_xgboost(X_train_drop, y_train_drop, X_val_drop, y_val_drop, \"dataset_drop\")\n",
    "\n",
    "# Perform Grid Search for SVM and XGBoost on dataset_recode\n",
    "print(\"\\nEvaluating `dataset_recode`...\")\n",
    "svm_best_model_recode, svm_best_params_recode = grid_search_svm(X_train_recode, y_train_recode, X_val_recode, y_val_recode, \"dataset_recode\")\n",
    "xgb_best_model_recode, xgb_best_params_recode = grid_search_xgboost(X_train_recode, y_train_recode, X_val_recode, y_val_recode, \"dataset_recode\")"
   ]
  },
  {
   "cell_type": "markdown",
   "metadata": {},
   "source": [
    "# **Generate Embedding**\n",
    "*To calculate vectors representations and us it for dataset reduction by selecting the most diverse and representative rows by rating*"
   ]
  },
  {
   "cell_type": "code",
   "execution_count": 26,
   "metadata": {},
   "outputs": [],
   "source": [
    "# Load the combined dataset (assuming it is in the same location as the notebook)\n",
    "dataset_combined = pd.read_csv(\"dataset_combined.csv\")"
   ]
  },
  {
   "cell_type": "markdown",
   "metadata": {},
   "source": [
    "*Pre-Cleaning process*"
   ]
  },
  {
   "cell_type": "code",
   "execution_count": 27,
   "metadata": {},
   "outputs": [
    {
     "name": "stdout",
     "output_type": "stream",
     "text": [
      "Shape before removing missing values: (67992, 2)\n",
      "Shape after removing missing values: (67958, 2)\n",
      "\n",
      "Remaining Missing Values by Column:\n",
      "reviews.text      0\n",
      "reviews.rating    0\n",
      "dtype: int64\n",
      "\n",
      "Number of exact duplicate rows: 20953\n",
      "Shape after removing exact duplicates: (47005, 2)\n",
      "\n",
      "Shape before removing `reviews.text` duplicates with different `reviews.rating`: (47005, 2)\n",
      "Shape after removing `reviews.text` duplicates with different `reviews.rating`: (46754, 2)\n"
     ]
    }
   ],
   "source": [
    "# Remove rows with missing values\n",
    "print(f\"Shape before removing missing values: {dataset_combined.shape}\")\n",
    "dataset_combined.dropna(subset=['reviews.text', 'reviews.rating'], inplace=True)\n",
    "print(f\"Shape after removing missing values: {dataset_combined.shape}\")\n",
    "\n",
    "# Verify no missing values remain\n",
    "print(\"\\nRemaining Missing Values by Column:\")\n",
    "print(dataset_combined.isnull().sum())\n",
    "\n",
    "# Check and remove exact duplicate rows\n",
    "print(f\"\\nNumber of exact duplicate rows: {dataset_combined.duplicated().sum()}\")\n",
    "dataset_combined.drop_duplicates(inplace=True)\n",
    "print(f\"Shape after removing exact duplicates: {dataset_combined.shape}\")\n",
    "\n",
    "# Remove rows with duplicate `reviews.text` but different `reviews.rating`\n",
    "print(f\"\\nShape before removing `reviews.text` duplicates with different `reviews.rating`: {dataset_combined.shape}\")\n",
    "dataset_combined = dataset_combined[~dataset_combined.duplicated(subset=['reviews.text'], keep=False)]\n",
    "print(f\"Shape after removing `reviews.text` duplicates with different `reviews.rating`: {dataset_combined.shape}\")"
   ]
  },
  {
   "cell_type": "code",
   "execution_count": 28,
   "metadata": {},
   "outputs": [],
   "source": [
    "data_combo_preclean = dataset_combined.copy()\n",
    "# Save balanced dataset\n",
    "data_combo_preclean.to_csv(\"data_combo_preclean.csv\", index=False)"
   ]
  },
  {
   "cell_type": "code",
   "execution_count": 29,
   "metadata": {},
   "outputs": [
    {
     "name": "stdout",
     "output_type": "stream",
     "text": [
      "Shape after performing all necessary pre-cleaning: (46754, 2)\n"
     ]
    }
   ],
   "source": [
    "print(f\"Shape after performing all necessary pre-cleaning: {data_combo_preclean.shape}\")"
   ]
  },
  {
   "cell_type": "markdown",
   "metadata": {},
   "source": [
    "*Embedding process*"
   ]
  },
  {
   "cell_type": "code",
   "execution_count": 33,
   "metadata": {},
   "outputs": [
    {
     "name": "stdout",
     "output_type": "stream",
     "text": [
      "Loading GloVe embeddings...\n",
      "Loaded 400000 word vectors.\n",
      "Embeddings generated for all texts.\n"
     ]
    }
   ],
   "source": [
    "import numpy as np\n",
    "from sklearn.metrics.pairwise import cosine_similarity\n",
    "\n",
    "# Load pre-trained GloVe embeddings\n",
    "def load_glove_embeddings(filepath):\n",
    "    print(\"Loading GloVe embeddings...\")\n",
    "    embedding_index = {}\n",
    "    with open(filepath, 'r', encoding='utf-8') as file:\n",
    "        for line in file:\n",
    "            values = line.split()\n",
    "            word = values[0]\n",
    "            coefs = np.asarray(values[1:], dtype='float32')\n",
    "            embedding_index[word] = coefs\n",
    "    print(f\"Loaded {len(embedding_index)} word vectors.\")\n",
    "    return embedding_index\n",
    "\n",
    "# Example: Provide the path to your GloVe file\n",
    "glove_path = \"glove.6B.100d.txt\"  # Update this\n",
    "embedding_index = load_glove_embeddings(glove_path)\n",
    "\n",
    "# Generate sentence embeddings\n",
    "def get_sentence_embedding(sentence, embedding_index, embedding_dim=100):\n",
    "    words = sentence.split()  # Split the sentence into words\n",
    "    word_vectors = [embedding_index[word] for word in words if word in embedding_index]\n",
    "    if len(word_vectors) > 0:\n",
    "        return np.mean(word_vectors, axis=0)  # Average of word vectors\n",
    "    else:\n",
    "        return np.zeros(embedding_dim)  # Return a zero vector if no words match\n",
    "\n",
    "# Apply to the dataset data_combo_preclean\n",
    "data_combo_preclean[\"embedding\"] = data_combo_preclean[\"reviews.text\"].apply(\n",
    "    lambda x: get_sentence_embedding(x, embedding_index)\n",
    ")\n",
    "\n",
    "print(\"Embeddings generated for all texts.\")"
   ]
  },
  {
   "cell_type": "code",
   "execution_count": 35,
   "metadata": {},
   "outputs": [
    {
     "name": "stdout",
     "output_type": "stream",
     "text": [
      "Dataset reduced to 1500 rows per rating.\n"
     ]
    }
   ],
   "source": [
    "# Function to reduce dataset based on diversity of embeddings\n",
    "def reduce_dataset_based_on_embeddings(dataset, max_rows_per_rating):\n",
    "    reduced_data = []\n",
    "    for rating, group in dataset.groupby(\"reviews.rating\"):\n",
    "        # Extract embeddings for the current group\n",
    "        embeddings = np.vstack(group[\"embedding\"].to_numpy())\n",
    "        \n",
    "        # Calculate pairwise cosine similarity\n",
    "        similarity_matrix = cosine_similarity(embeddings)\n",
    "        diversity_scores = 1 - similarity_matrix.mean(axis=1)  # Higher = more diverse\n",
    "        \n",
    "        # Select top rows based on diversity scores\n",
    "        group[\"diversity_score\"] = diversity_scores\n",
    "        selected_rows = group.nlargest(max_rows_per_rating, \"diversity_score\")\n",
    "        \n",
    "        reduced_data.append(selected_rows)\n",
    "    \n",
    "    return pd.concat(reduced_data, ignore_index=True)\n",
    "\n",
    "# Reduce dataset to 1500 rows per rating\n",
    "data_combo_reduced = reduce_dataset_based_on_embeddings(data_combo_preclean, max_rows_per_rating=1500)\n",
    "\n",
    "print(\"Dataset reduced to 1500 rows per rating.\")\n"
   ]
  },
  {
   "cell_type": "code",
   "execution_count": 36,
   "metadata": {},
   "outputs": [
    {
     "name": "stdout",
     "output_type": "stream",
     "text": [
      "(6339, 4)\n",
      "                                        reviews.text  reviews.rating  \\\n",
      "0                                          Dangerous             1.0   \n",
      "1  WHAT A HORRENDOUS PRODUCT. I THOUGHT THAT BEIN...             1.0   \n",
      "2  ABSOLUTELY THE WORST BATTERIES IVE EVER USED A...             1.0   \n",
      "3                                        Don't last!             1.0   \n",
      "4                      NOT MUCH POWER IN THESE BATTS             1.0   \n",
      "\n",
      "                                           embedding  diversity_score  \n",
      "0  [0.0, 0.0, 0.0, 0.0, 0.0, 0.0, 0.0, 0.0, 0.0, ...              1.0  \n",
      "1  [0.0, 0.0, 0.0, 0.0, 0.0, 0.0, 0.0, 0.0, 0.0, ...              1.0  \n",
      "2  [0.0, 0.0, 0.0, 0.0, 0.0, 0.0, 0.0, 0.0, 0.0, ...              1.0  \n",
      "3  [0.0, 0.0, 0.0, 0.0, 0.0, 0.0, 0.0, 0.0, 0.0, ...              1.0  \n",
      "4  [0.0, 0.0, 0.0, 0.0, 0.0, 0.0, 0.0, 0.0, 0.0, ...              1.0  \n"
     ]
    }
   ],
   "source": [
    "print(data_combo_reduced.shape)\n",
    "print(data_combo_reduced.head())"
   ]
  },
  {
   "cell_type": "code",
   "execution_count": 37,
   "metadata": {},
   "outputs": [
    {
     "name": "stdout",
     "output_type": "stream",
     "text": [
      "Reduced dataset saved to 'data_combo_reduced.csv'.\n"
     ]
    }
   ],
   "source": [
    "# Drop embeddings column for saving\n",
    "data_combo_reduced.drop(columns=[\"embedding\", \"diversity_score\"], inplace=True)\n",
    "\n",
    "# Save the reduced dataset\n",
    "data_combo_reduced.to_csv(\"data_combo_reduced.csv\", index=False)\n",
    "\n",
    "print(\"Reduced dataset saved to 'data_combo_reduced.csv'.\")"
   ]
  },
  {
   "cell_type": "code",
   "execution_count": 38,
   "metadata": {},
   "outputs": [
    {
     "name": "stdout",
     "output_type": "stream",
     "text": [
      "Shape after performing reduction based on embeddings: (6339, 2)\n"
     ]
    }
   ],
   "source": [
    "print(f\"Shape after performing reduction based on embeddings: {data_combo_reduced.shape}\")"
   ]
  },
  {
   "cell_type": "markdown",
   "metadata": {},
   "source": [
    "# **Text Cleaning**"
   ]
  },
  {
   "cell_type": "code",
   "execution_count": 39,
   "metadata": {},
   "outputs": [
    {
     "name": "stderr",
     "output_type": "stream",
     "text": [
      "[nltk_data] Downloading package stopwords to\n",
      "[nltk_data]     C:\\Users\\larry\\AppData\\Roaming\\nltk_data...\n",
      "[nltk_data]   Package stopwords is already up-to-date!\n"
     ]
    }
   ],
   "source": [
    "from nltk.corpus import stopwords\n",
    "import nltk\n",
    "import re\n",
    "nltk.download('stopwords')# Download stopwords if not already downloaded\n",
    "stop_words = set(stopwords.words('english'))"
   ]
  },
  {
   "cell_type": "code",
   "execution_count": 40,
   "metadata": {},
   "outputs": [
    {
     "name": "stdout",
     "output_type": "stream",
     "text": [
      "Performing basic text cleaning...\n",
      "\n",
      "Sample fully cleaned text for traditional models:\n",
      "0                                            dangerous\n",
      "1    horrendous product thought amazon would good w...\n",
      "2    absolutely worst batteries ive ever used amazo...\n",
      "3                                            dont last\n",
      "4                                     much power batts\n",
      "Name: reviews.text, dtype: object\n",
      "\n",
      "Sample partial cleaned text (stopwords not removed) for lstm & transformers models:\n",
      "0                                            dangerous\n",
      "1    what a horrendous product i thought that being...\n",
      "2    absolutely the worst batteries ive ever used a...\n",
      "3                                            dont last\n",
      "4                        not much power in these batts\n",
      "Name: reviews.text, dtype: object\n"
     ]
    }
   ],
   "source": [
    "# Load the reduced dataset\n",
    "data_combo_reduced = pd.read_csv(\"data_combo_reduced.csv\")\n",
    "\n",
    "# Define a function for cleaning text including stopwords removal\n",
    "def clean_text_sw(text):\n",
    "    # Convert to lowercase\n",
    "    text = text.lower()\n",
    "    # Remove punctuation and special characters\n",
    "    text = re.sub(r'[^\\w\\s]', '', text)\n",
    "    # Remove numbers\n",
    "    text = re.sub(r'\\d+', '', text)\n",
    "    # Remove stopwords\n",
    "    text = \" \".join([word for word in text.split() if word not in stop_words])\n",
    "    return text\n",
    "\n",
    "# Define a function for cleaning text no stopwords removal\n",
    "def clean_text(text):\n",
    "    # Convert to lowercase\n",
    "    text = text.lower()\n",
    "    # Remove punctuation and special characters\n",
    "    text = re.sub(r'[^\\w\\s]', '', text)\n",
    "    # Remove numbers\n",
    "    text = re.sub(r'\\d+', '', text)\n",
    "    return text\n",
    "\n",
    "data_r2o1_fullclean = data_combo_reduced.copy()  # Make a copy of the balanced dataset\n",
    "data_r2o1_partialclean = data_combo_reduced.copy()  # Make a copy of the balanced dataset\n",
    "\n",
    "# Apply text cleaning to the reviews.text column\n",
    "print(\"Performing basic text cleaning...\")\n",
    "data_r2o1_fullclean['reviews.text'] = data_r2o1_fullclean['reviews.text'].apply(clean_text_sw)\n",
    "data_r2o1_partialclean['reviews.text'] = data_r2o1_partialclean['reviews.text'].apply(clean_text)\n",
    "\n",
    "# Verify cleaned text\n",
    "print(\"\\nSample fully cleaned text for traditional models:\")\n",
    "print(data_r2o1_fullclean['reviews.text'].head())\n",
    "\n",
    "print(\"\\nSample partial cleaned text (stopwords not removed) for lstm & transformers models:\")\n",
    "print(data_r2o1_partialclean['reviews.text'].head())"
   ]
  },
  {
   "cell_type": "code",
   "execution_count": 41,
   "metadata": {},
   "outputs": [
    {
     "name": "stdout",
     "output_type": "stream",
     "text": [
      "\n",
      "Cleaned dataset for traditional models saved as 'data_r2o1_fullclean.csv'\n",
      "\n",
      "Cleaned dataset for lstm & transformers models saved as 'data_r2o1_partialclean.csv'\n"
     ]
    }
   ],
   "source": [
    "# Save the cleaned dataset for reference\n",
    "output_file_03 = \"data_r2o1_fullclean.csv\"\n",
    "data_r2o1_fullclean.to_csv(output_file_03, index=False)\n",
    "print(f\"\\nCleaned dataset for traditional models saved as '{output_file_03}'\")\n",
    "\n",
    "output_file_04 = \"data_r2o1_partialclean.csv\"\n",
    "data_r2o1_partialclean.to_csv(output_file_04, index=False)\n",
    "print(f\"\\nCleaned dataset for lstm & transformers models saved as '{output_file_04}'\")"
   ]
  },
  {
   "cell_type": "markdown",
   "metadata": {},
   "source": [
    "# **Adding Sentiment Feature**"
   ]
  },
  {
   "cell_type": "code",
   "execution_count": 46,
   "metadata": {},
   "outputs": [],
   "source": [
    "# Step 1: Add sentiment column to the dataset\n",
    "\n",
    "def add_sentiment_column(data):\n",
    "    \"\"\"Adds a sentiment column based on the rating.\"\"\"\n",
    "    def map_sentiment(rating):\n",
    "        if rating in [1, 2]:\n",
    "            return \"negative\"\n",
    "        elif rating == 3:\n",
    "            return \"neutral\"\n",
    "        elif rating in [4, 5]:\n",
    "            return \"positive\"\n",
    "\n",
    "    data[\"sentiment\"] = data[\"reviews.rating\"].apply(map_sentiment)\n",
    "    return data\n",
    "\n",
    "# Load the clean dataset for traditional models\n",
    "data_r2o1_fullclean = pd.read_csv(\"data_r2o1_fullclean.csv\")\n",
    "data_r2o1_fullclean = add_sentiment_column(data_r2o1_fullclean)\n"
   ]
  },
  {
   "cell_type": "code",
   "execution_count": 47,
   "metadata": {},
   "outputs": [
    {
     "name": "stdout",
     "output_type": "stream",
     "text": [
      "Data types after conversion: reviews.text\n",
      "<class 'str'>    6339\n",
      "Name: count, dtype: int64\n"
     ]
    }
   ],
   "source": [
    "# Ensure all entries in 'reviews.text' are strings\n",
    "data_r2o1_fullclean['reviews.text'] = data_r2o1_fullclean['reviews.text'].astype(str)\n",
    "\n",
    "# Check if there are any unexpected data types after conversion\n",
    "print(\"Data types after conversion:\", data_r2o1_fullclean['reviews.text'].apply(type).value_counts())"
   ]
  },
  {
   "cell_type": "code",
   "execution_count": 48,
   "metadata": {},
   "outputs": [
    {
     "name": "stdout",
     "output_type": "stream",
     "text": [
      "Dataset with sentiment column saved as 'data_r2o1_fullclean_with_sentiment.csv'\n"
     ]
    }
   ],
   "source": [
    "# Save the dataset with the sentiment column\n",
    "output_file_with_sentiment = \"data_r2o1_fullclean_with_sentiment.csv\"\n",
    "data_r2o1_fullclean.to_csv(output_file_with_sentiment, index=False)\n",
    "print(f\"Dataset with sentiment column saved as '{output_file_with_sentiment}'\")"
   ]
  },
  {
   "cell_type": "code",
   "execution_count": 49,
   "metadata": {},
   "outputs": [
    {
     "name": "stdout",
     "output_type": "stream",
     "text": [
      "(6339, 3)\n",
      "                                        reviews.text  reviews.rating sentiment\n",
      "0                                          dangerous             1.0  negative\n",
      "1  horrendous product thought amazon would good w...             1.0  negative\n",
      "2  absolutely worst batteries ive ever used amazo...             1.0  negative\n",
      "3                                          dont last             1.0  negative\n",
      "4                                   much power batts             1.0  negative\n"
     ]
    }
   ],
   "source": [
    "print(data_r2o1_fullclean.shape)\n",
    "print(data_r2o1_fullclean.head())"
   ]
  },
  {
   "cell_type": "markdown",
   "metadata": {},
   "source": [
    "\n",
    "# **Splitting the Datasets into train and test sets.**"
   ]
  },
  {
   "cell_type": "code",
   "execution_count": 50,
   "metadata": {},
   "outputs": [
    {
     "name": "stdout",
     "output_type": "stream",
     "text": [
      "Training dataset saved as 'data_r2o1_train.csv'\n",
      "Test dataset saved as 'data_r2o1_test.csv'\n"
     ]
    }
   ],
   "source": [
    "# Step 2: Split the dataset\n",
    "from sklearn.model_selection import train_test_split\n",
    "\n",
    "# Split the data into training and test sets (80-20 split)\n",
    "data_r2o1_train, data_r2o1_test = train_test_split(data_r2o1_fullclean, test_size=0.2, random_state=42)\n",
    "\n",
    "# Save split datasets\n",
    "data_r2o1_train_file = \"data_r2o1_train.csv\"\n",
    "data_r2o1_test_file = \"data_r2o1_test.csv\"\n",
    "data_r2o1_train.to_csv(data_r2o1_train_file, index=False)\n",
    "data_r2o1_test.to_csv(data_r2o1_test_file, index=False)\n",
    "print(f\"Training dataset saved as '{data_r2o1_train_file}'\")\n",
    "print(f\"Test dataset saved as '{data_r2o1_test_file}'\")"
   ]
  },
  {
   "cell_type": "code",
   "execution_count": 4,
   "metadata": {},
   "outputs": [],
   "source": [
    "# Load the (assuming it is in the same location as the notebook)\n",
    "data_r2o1_train = pd.read_csv(\"data_r2o1_train.csv\")\n",
    "data_r2o1_test = pd.read_csv(\"data_r2o1_test.csv\")"
   ]
  },
  {
   "cell_type": "code",
   "execution_count": 5,
   "metadata": {},
   "outputs": [
    {
     "name": "stdout",
     "output_type": "stream",
     "text": [
      "(5071, 3)\n",
      "                                        reviews.text  reviews.rating sentiment\n",
      "0                   good quality happy thanks amazon             5.0  positive\n",
      "1                   dont hold charge like top brands             1.0  negative\n",
      "2     itäôsadvertisement everything scree itäô cheap             2.0  negative\n",
      "3  months slow started good getting slower cleare...             3.0   neutral\n",
      "4        enjoy listening music asking research items             4.0  positive\n",
      "(1268, 3)\n",
      "                                        reviews.text  reviews.rating sentiment\n",
      "0  horrible batteries far every battery used hasn...             1.0  negative\n",
      "1                   size ok value wife love use time             5.0  positive\n",
      "2                                good price delivery             5.0  positive\n",
      "3                                     good buy hands             5.0  positive\n",
      "4                                         good price             5.0  positive\n"
     ]
    }
   ],
   "source": [
    "print(data_r2o1_train.shape)\n",
    "print(data_r2o1_train.head())\n",
    "\n",
    "print(data_r2o1_test.shape)\n",
    "print(data_r2o1_test.head())"
   ]
  },
  {
   "cell_type": "markdown",
   "metadata": {},
   "source": [
    "# **Tokenization and Lemmatization**"
   ]
  },
  {
   "cell_type": "code",
   "execution_count": 6,
   "metadata": {},
   "outputs": [
    {
     "name": "stderr",
     "output_type": "stream",
     "text": [
      "[nltk_data] Downloading package punkt to\n",
      "[nltk_data]     C:\\Users\\larry\\AppData\\Roaming\\nltk_data...\n",
      "[nltk_data]   Package punkt is already up-to-date!\n",
      "[nltk_data] Downloading package wordnet to\n",
      "[nltk_data]     C:\\Users\\larry\\AppData\\Roaming\\nltk_data...\n",
      "[nltk_data]   Package wordnet is already up-to-date!\n"
     ]
    },
    {
     "data": {
      "text/plain": [
       "True"
      ]
     },
     "execution_count": 6,
     "metadata": {},
     "output_type": "execute_result"
    }
   ],
   "source": [
    "# Step 3: Tokenize and lemmatize the dataset\n",
    "from nltk.tokenize import word_tokenize\n",
    "from nltk.stem import WordNetLemmatizer\n",
    "import nltk\n",
    "nltk.download('punkt')\n",
    "nltk.download('wordnet')"
   ]
  },
  {
   "cell_type": "code",
   "execution_count": 7,
   "metadata": {},
   "outputs": [
    {
     "ename": "AttributeError",
     "evalue": "'float' object has no attribute 'lower'",
     "output_type": "error",
     "traceback": [
      "\u001b[1;31m---------------------------------------------------------------------------\u001b[0m",
      "\u001b[1;31mAttributeError\u001b[0m                            Traceback (most recent call last)",
      "Cell \u001b[1;32mIn[7], line 8\u001b[0m\n\u001b[0;32m      5\u001b[0m     lemmatized_tokens \u001b[38;5;241m=\u001b[39m [lemmatizer\u001b[38;5;241m.\u001b[39mlemmatize(token) \u001b[38;5;28;01mfor\u001b[39;00m token \u001b[38;5;129;01min\u001b[39;00m tokens \u001b[38;5;28;01mif\u001b[39;00m token\u001b[38;5;241m.\u001b[39misalnum()]\n\u001b[0;32m      6\u001b[0m     \u001b[38;5;28;01mreturn\u001b[39;00m \u001b[38;5;124m\"\u001b[39m\u001b[38;5;124m \u001b[39m\u001b[38;5;124m\"\u001b[39m\u001b[38;5;241m.\u001b[39mjoin(lemmatized_tokens)\n\u001b[1;32m----> 8\u001b[0m data_r2o1_train[\u001b[38;5;124m\"\u001b[39m\u001b[38;5;124mreviews.text\u001b[39m\u001b[38;5;124m\"\u001b[39m] \u001b[38;5;241m=\u001b[39m \u001b[43mdata_r2o1_train\u001b[49m\u001b[43m[\u001b[49m\u001b[38;5;124;43m\"\u001b[39;49m\u001b[38;5;124;43mreviews.text\u001b[39;49m\u001b[38;5;124;43m\"\u001b[39;49m\u001b[43m]\u001b[49m\u001b[38;5;241;43m.\u001b[39;49m\u001b[43mapply\u001b[49m\u001b[43m(\u001b[49m\u001b[43mpreprocess_text\u001b[49m\u001b[43m)\u001b[49m\n\u001b[0;32m      9\u001b[0m data_r2o1_test[\u001b[38;5;124m\"\u001b[39m\u001b[38;5;124mreviews.text\u001b[39m\u001b[38;5;124m\"\u001b[39m] \u001b[38;5;241m=\u001b[39m data_r2o1_test[\u001b[38;5;124m\"\u001b[39m\u001b[38;5;124mreviews.text\u001b[39m\u001b[38;5;124m\"\u001b[39m]\u001b[38;5;241m.\u001b[39mapply(preprocess_text)\n",
      "File \u001b[1;32mc:\\Users\\larry\\anaconda3\\envs\\projectnlp\\Lib\\site-packages\\pandas\\core\\series.py:4924\u001b[0m, in \u001b[0;36mSeries.apply\u001b[1;34m(self, func, convert_dtype, args, by_row, **kwargs)\u001b[0m\n\u001b[0;32m   4789\u001b[0m \u001b[38;5;28;01mdef\u001b[39;00m \u001b[38;5;21mapply\u001b[39m(\n\u001b[0;32m   4790\u001b[0m     \u001b[38;5;28mself\u001b[39m,\n\u001b[0;32m   4791\u001b[0m     func: AggFuncType,\n\u001b[1;32m   (...)\u001b[0m\n\u001b[0;32m   4796\u001b[0m     \u001b[38;5;241m*\u001b[39m\u001b[38;5;241m*\u001b[39mkwargs,\n\u001b[0;32m   4797\u001b[0m ) \u001b[38;5;241m-\u001b[39m\u001b[38;5;241m>\u001b[39m DataFrame \u001b[38;5;241m|\u001b[39m Series:\n\u001b[0;32m   4798\u001b[0m \u001b[38;5;250m    \u001b[39m\u001b[38;5;124;03m\"\"\"\u001b[39;00m\n\u001b[0;32m   4799\u001b[0m \u001b[38;5;124;03m    Invoke function on values of Series.\u001b[39;00m\n\u001b[0;32m   4800\u001b[0m \n\u001b[1;32m   (...)\u001b[0m\n\u001b[0;32m   4915\u001b[0m \u001b[38;5;124;03m    dtype: float64\u001b[39;00m\n\u001b[0;32m   4916\u001b[0m \u001b[38;5;124;03m    \"\"\"\u001b[39;00m\n\u001b[0;32m   4917\u001b[0m     \u001b[38;5;28;01mreturn\u001b[39;00m \u001b[43mSeriesApply\u001b[49m\u001b[43m(\u001b[49m\n\u001b[0;32m   4918\u001b[0m \u001b[43m        \u001b[49m\u001b[38;5;28;43mself\u001b[39;49m\u001b[43m,\u001b[49m\n\u001b[0;32m   4919\u001b[0m \u001b[43m        \u001b[49m\u001b[43mfunc\u001b[49m\u001b[43m,\u001b[49m\n\u001b[0;32m   4920\u001b[0m \u001b[43m        \u001b[49m\u001b[43mconvert_dtype\u001b[49m\u001b[38;5;241;43m=\u001b[39;49m\u001b[43mconvert_dtype\u001b[49m\u001b[43m,\u001b[49m\n\u001b[0;32m   4921\u001b[0m \u001b[43m        \u001b[49m\u001b[43mby_row\u001b[49m\u001b[38;5;241;43m=\u001b[39;49m\u001b[43mby_row\u001b[49m\u001b[43m,\u001b[49m\n\u001b[0;32m   4922\u001b[0m \u001b[43m        \u001b[49m\u001b[43margs\u001b[49m\u001b[38;5;241;43m=\u001b[39;49m\u001b[43margs\u001b[49m\u001b[43m,\u001b[49m\n\u001b[0;32m   4923\u001b[0m \u001b[43m        \u001b[49m\u001b[43mkwargs\u001b[49m\u001b[38;5;241;43m=\u001b[39;49m\u001b[43mkwargs\u001b[49m\u001b[43m,\u001b[49m\n\u001b[1;32m-> 4924\u001b[0m \u001b[43m    \u001b[49m\u001b[43m)\u001b[49m\u001b[38;5;241;43m.\u001b[39;49m\u001b[43mapply\u001b[49m\u001b[43m(\u001b[49m\u001b[43m)\u001b[49m\n",
      "File \u001b[1;32mc:\\Users\\larry\\anaconda3\\envs\\projectnlp\\Lib\\site-packages\\pandas\\core\\apply.py:1427\u001b[0m, in \u001b[0;36mSeriesApply.apply\u001b[1;34m(self)\u001b[0m\n\u001b[0;32m   1424\u001b[0m     \u001b[38;5;28;01mreturn\u001b[39;00m \u001b[38;5;28mself\u001b[39m\u001b[38;5;241m.\u001b[39mapply_compat()\n\u001b[0;32m   1426\u001b[0m \u001b[38;5;66;03m# self.func is Callable\u001b[39;00m\n\u001b[1;32m-> 1427\u001b[0m \u001b[38;5;28;01mreturn\u001b[39;00m \u001b[38;5;28;43mself\u001b[39;49m\u001b[38;5;241;43m.\u001b[39;49m\u001b[43mapply_standard\u001b[49m\u001b[43m(\u001b[49m\u001b[43m)\u001b[49m\n",
      "File \u001b[1;32mc:\\Users\\larry\\anaconda3\\envs\\projectnlp\\Lib\\site-packages\\pandas\\core\\apply.py:1507\u001b[0m, in \u001b[0;36mSeriesApply.apply_standard\u001b[1;34m(self)\u001b[0m\n\u001b[0;32m   1501\u001b[0m \u001b[38;5;66;03m# row-wise access\u001b[39;00m\n\u001b[0;32m   1502\u001b[0m \u001b[38;5;66;03m# apply doesn't have a `na_action` keyword and for backward compat reasons\u001b[39;00m\n\u001b[0;32m   1503\u001b[0m \u001b[38;5;66;03m# we need to give `na_action=\"ignore\"` for categorical data.\u001b[39;00m\n\u001b[0;32m   1504\u001b[0m \u001b[38;5;66;03m# TODO: remove the `na_action=\"ignore\"` when that default has been changed in\u001b[39;00m\n\u001b[0;32m   1505\u001b[0m \u001b[38;5;66;03m#  Categorical (GH51645).\u001b[39;00m\n\u001b[0;32m   1506\u001b[0m action \u001b[38;5;241m=\u001b[39m \u001b[38;5;124m\"\u001b[39m\u001b[38;5;124mignore\u001b[39m\u001b[38;5;124m\"\u001b[39m \u001b[38;5;28;01mif\u001b[39;00m \u001b[38;5;28misinstance\u001b[39m(obj\u001b[38;5;241m.\u001b[39mdtype, CategoricalDtype) \u001b[38;5;28;01melse\u001b[39;00m \u001b[38;5;28;01mNone\u001b[39;00m\n\u001b[1;32m-> 1507\u001b[0m mapped \u001b[38;5;241m=\u001b[39m \u001b[43mobj\u001b[49m\u001b[38;5;241;43m.\u001b[39;49m\u001b[43m_map_values\u001b[49m\u001b[43m(\u001b[49m\n\u001b[0;32m   1508\u001b[0m \u001b[43m    \u001b[49m\u001b[43mmapper\u001b[49m\u001b[38;5;241;43m=\u001b[39;49m\u001b[43mcurried\u001b[49m\u001b[43m,\u001b[49m\u001b[43m \u001b[49m\u001b[43mna_action\u001b[49m\u001b[38;5;241;43m=\u001b[39;49m\u001b[43maction\u001b[49m\u001b[43m,\u001b[49m\u001b[43m \u001b[49m\u001b[43mconvert\u001b[49m\u001b[38;5;241;43m=\u001b[39;49m\u001b[38;5;28;43mself\u001b[39;49m\u001b[38;5;241;43m.\u001b[39;49m\u001b[43mconvert_dtype\u001b[49m\n\u001b[0;32m   1509\u001b[0m \u001b[43m\u001b[49m\u001b[43m)\u001b[49m\n\u001b[0;32m   1511\u001b[0m \u001b[38;5;28;01mif\u001b[39;00m \u001b[38;5;28mlen\u001b[39m(mapped) \u001b[38;5;129;01mand\u001b[39;00m \u001b[38;5;28misinstance\u001b[39m(mapped[\u001b[38;5;241m0\u001b[39m], ABCSeries):\n\u001b[0;32m   1512\u001b[0m     \u001b[38;5;66;03m# GH#43986 Need to do list(mapped) in order to get treated as nested\u001b[39;00m\n\u001b[0;32m   1513\u001b[0m     \u001b[38;5;66;03m#  See also GH#25959 regarding EA support\u001b[39;00m\n\u001b[0;32m   1514\u001b[0m     \u001b[38;5;28;01mreturn\u001b[39;00m obj\u001b[38;5;241m.\u001b[39m_constructor_expanddim(\u001b[38;5;28mlist\u001b[39m(mapped), index\u001b[38;5;241m=\u001b[39mobj\u001b[38;5;241m.\u001b[39mindex)\n",
      "File \u001b[1;32mc:\\Users\\larry\\anaconda3\\envs\\projectnlp\\Lib\\site-packages\\pandas\\core\\base.py:921\u001b[0m, in \u001b[0;36mIndexOpsMixin._map_values\u001b[1;34m(self, mapper, na_action, convert)\u001b[0m\n\u001b[0;32m    918\u001b[0m \u001b[38;5;28;01mif\u001b[39;00m \u001b[38;5;28misinstance\u001b[39m(arr, ExtensionArray):\n\u001b[0;32m    919\u001b[0m     \u001b[38;5;28;01mreturn\u001b[39;00m arr\u001b[38;5;241m.\u001b[39mmap(mapper, na_action\u001b[38;5;241m=\u001b[39mna_action)\n\u001b[1;32m--> 921\u001b[0m \u001b[38;5;28;01mreturn\u001b[39;00m \u001b[43malgorithms\u001b[49m\u001b[38;5;241;43m.\u001b[39;49m\u001b[43mmap_array\u001b[49m\u001b[43m(\u001b[49m\u001b[43marr\u001b[49m\u001b[43m,\u001b[49m\u001b[43m \u001b[49m\u001b[43mmapper\u001b[49m\u001b[43m,\u001b[49m\u001b[43m \u001b[49m\u001b[43mna_action\u001b[49m\u001b[38;5;241;43m=\u001b[39;49m\u001b[43mna_action\u001b[49m\u001b[43m,\u001b[49m\u001b[43m \u001b[49m\u001b[43mconvert\u001b[49m\u001b[38;5;241;43m=\u001b[39;49m\u001b[43mconvert\u001b[49m\u001b[43m)\u001b[49m\n",
      "File \u001b[1;32mc:\\Users\\larry\\anaconda3\\envs\\projectnlp\\Lib\\site-packages\\pandas\\core\\algorithms.py:1743\u001b[0m, in \u001b[0;36mmap_array\u001b[1;34m(arr, mapper, na_action, convert)\u001b[0m\n\u001b[0;32m   1741\u001b[0m values \u001b[38;5;241m=\u001b[39m arr\u001b[38;5;241m.\u001b[39mastype(\u001b[38;5;28mobject\u001b[39m, copy\u001b[38;5;241m=\u001b[39m\u001b[38;5;28;01mFalse\u001b[39;00m)\n\u001b[0;32m   1742\u001b[0m \u001b[38;5;28;01mif\u001b[39;00m na_action \u001b[38;5;129;01mis\u001b[39;00m \u001b[38;5;28;01mNone\u001b[39;00m:\n\u001b[1;32m-> 1743\u001b[0m     \u001b[38;5;28;01mreturn\u001b[39;00m \u001b[43mlib\u001b[49m\u001b[38;5;241;43m.\u001b[39;49m\u001b[43mmap_infer\u001b[49m\u001b[43m(\u001b[49m\u001b[43mvalues\u001b[49m\u001b[43m,\u001b[49m\u001b[43m \u001b[49m\u001b[43mmapper\u001b[49m\u001b[43m,\u001b[49m\u001b[43m \u001b[49m\u001b[43mconvert\u001b[49m\u001b[38;5;241;43m=\u001b[39;49m\u001b[43mconvert\u001b[49m\u001b[43m)\u001b[49m\n\u001b[0;32m   1744\u001b[0m \u001b[38;5;28;01melse\u001b[39;00m:\n\u001b[0;32m   1745\u001b[0m     \u001b[38;5;28;01mreturn\u001b[39;00m lib\u001b[38;5;241m.\u001b[39mmap_infer_mask(\n\u001b[0;32m   1746\u001b[0m         values, mapper, mask\u001b[38;5;241m=\u001b[39misna(values)\u001b[38;5;241m.\u001b[39mview(np\u001b[38;5;241m.\u001b[39muint8), convert\u001b[38;5;241m=\u001b[39mconvert\n\u001b[0;32m   1747\u001b[0m     )\n",
      "File \u001b[1;32mlib.pyx:2972\u001b[0m, in \u001b[0;36mpandas._libs.lib.map_infer\u001b[1;34m()\u001b[0m\n",
      "Cell \u001b[1;32mIn[7], line 4\u001b[0m, in \u001b[0;36mpreprocess_text\u001b[1;34m(text)\u001b[0m\n\u001b[0;32m      3\u001b[0m \u001b[38;5;28;01mdef\u001b[39;00m \u001b[38;5;21mpreprocess_text\u001b[39m(text):\n\u001b[1;32m----> 4\u001b[0m     tokens \u001b[38;5;241m=\u001b[39m word_tokenize(\u001b[43mtext\u001b[49m\u001b[38;5;241;43m.\u001b[39;49m\u001b[43mlower\u001b[49m())\n\u001b[0;32m      5\u001b[0m     lemmatized_tokens \u001b[38;5;241m=\u001b[39m [lemmatizer\u001b[38;5;241m.\u001b[39mlemmatize(token) \u001b[38;5;28;01mfor\u001b[39;00m token \u001b[38;5;129;01min\u001b[39;00m tokens \u001b[38;5;28;01mif\u001b[39;00m token\u001b[38;5;241m.\u001b[39misalnum()]\n\u001b[0;32m      6\u001b[0m     \u001b[38;5;28;01mreturn\u001b[39;00m \u001b[38;5;124m\"\u001b[39m\u001b[38;5;124m \u001b[39m\u001b[38;5;124m\"\u001b[39m\u001b[38;5;241m.\u001b[39mjoin(lemmatized_tokens)\n",
      "\u001b[1;31mAttributeError\u001b[0m: 'float' object has no attribute 'lower'"
     ]
    }
   ],
   "source": [
    "lemmatizer = WordNetLemmatizer()\n",
    "\n",
    "def preprocess_text(text):\n",
    "    tokens = word_tokenize(text.lower())\n",
    "    lemmatized_tokens = [lemmatizer.lemmatize(token) for token in tokens if token.isalnum()]\n",
    "    return \" \".join(lemmatized_tokens)\n",
    "\n",
    "data_r2o1_train[\"reviews.text\"] = data_r2o1_train[\"reviews.text\"].apply(preprocess_text)\n",
    "data_r2o1_test[\"reviews.text\"] = data_r2o1_test[\"reviews.text\"].apply(preprocess_text)"
   ]
  },
  {
   "cell_type": "code",
   "execution_count": 54,
   "metadata": {},
   "outputs": [
    {
     "name": "stdout",
     "output_type": "stream",
     "text": [
      "Tokenized and lemmatized training dataset saved as 'data_r2o1_train_tokenized.csv'\n",
      "Tokenized and lemmatized test dataset saved as 'data_r2o1_test_tokenized.csv'\n"
     ]
    }
   ],
   "source": [
    "# Save the tokenized and lemmatized datasets\n",
    "tokenized_train_file = \"data_r2o1_train_tokenized.csv\"\n",
    "tokenized_test_file = \"data_r2o1_test_tokenized.csv\"\n",
    "data_r2o1_train.to_csv(tokenized_train_file, index=False)\n",
    "data_r2o1_test.to_csv(tokenized_test_file, index=False)\n",
    "print(f\"Tokenized and lemmatized training dataset saved as '{tokenized_train_file}'\")\n",
    "print(f\"Tokenized and lemmatized test dataset saved as '{tokenized_test_file}'\")"
   ]
  },
  {
   "cell_type": "markdown",
   "metadata": {},
   "source": [
    "# **Vectorization applying TF-IDF**"
   ]
  },
  {
   "cell_type": "code",
   "execution_count": 2,
   "metadata": {},
   "outputs": [],
   "source": [
    "# Load the tokenized datasets (assuming it is in the same location as the notebook)\n",
    "data_r2o1_train = pd.read_csv(\"data_r2o1_train_tokenized.csv\")\n",
    "data_r2o1_test = pd.read_csv(\"data_r2o1_test_tokenized.csv\")"
   ]
  },
  {
   "cell_type": "code",
   "execution_count": 3,
   "metadata": {},
   "outputs": [
    {
     "ename": "ValueError",
     "evalue": "np.nan is an invalid document, expected byte or unicode string.",
     "output_type": "error",
     "traceback": [
      "\u001b[1;31m---------------------------------------------------------------------------\u001b[0m",
      "\u001b[1;31mValueError\u001b[0m                                Traceback (most recent call last)",
      "Cell \u001b[1;32mIn[3], line 5\u001b[0m\n\u001b[0;32m      2\u001b[0m \u001b[38;5;28;01mfrom\u001b[39;00m \u001b[38;5;21;01msklearn\u001b[39;00m\u001b[38;5;21;01m.\u001b[39;00m\u001b[38;5;21;01mfeature_extraction\u001b[39;00m\u001b[38;5;21;01m.\u001b[39;00m\u001b[38;5;21;01mtext\u001b[39;00m \u001b[38;5;28;01mimport\u001b[39;00m TfidfVectorizer\n\u001b[0;32m      4\u001b[0m vectorizer \u001b[38;5;241m=\u001b[39m TfidfVectorizer(max_features\u001b[38;5;241m=\u001b[39m\u001b[38;5;241m5000\u001b[39m)\n\u001b[1;32m----> 5\u001b[0m X_train \u001b[38;5;241m=\u001b[39m \u001b[43mvectorizer\u001b[49m\u001b[38;5;241;43m.\u001b[39;49m\u001b[43mfit_transform\u001b[49m\u001b[43m(\u001b[49m\u001b[43mdata_r2o1_train\u001b[49m\u001b[43m[\u001b[49m\u001b[38;5;124;43m\"\u001b[39;49m\u001b[38;5;124;43mreviews.text\u001b[39;49m\u001b[38;5;124;43m\"\u001b[39;49m\u001b[43m]\u001b[49m\u001b[43m)\u001b[49m\n\u001b[0;32m      6\u001b[0m X_test \u001b[38;5;241m=\u001b[39m vectorizer\u001b[38;5;241m.\u001b[39mtransform(data_r2o1_test[\u001b[38;5;124m\"\u001b[39m\u001b[38;5;124mreviews.text\u001b[39m\u001b[38;5;124m\"\u001b[39m])\n\u001b[0;32m      7\u001b[0m y_train \u001b[38;5;241m=\u001b[39m data_r2o1_train[\u001b[38;5;124m\"\u001b[39m\u001b[38;5;124msentiment\u001b[39m\u001b[38;5;124m\"\u001b[39m]\n",
      "File \u001b[1;32mc:\\Users\\larry\\anaconda3\\envs\\projectnlp\\Lib\\site-packages\\sklearn\\feature_extraction\\text.py:2091\u001b[0m, in \u001b[0;36mTfidfVectorizer.fit_transform\u001b[1;34m(self, raw_documents, y)\u001b[0m\n\u001b[0;32m   2084\u001b[0m \u001b[38;5;28mself\u001b[39m\u001b[38;5;241m.\u001b[39m_check_params()\n\u001b[0;32m   2085\u001b[0m \u001b[38;5;28mself\u001b[39m\u001b[38;5;241m.\u001b[39m_tfidf \u001b[38;5;241m=\u001b[39m TfidfTransformer(\n\u001b[0;32m   2086\u001b[0m     norm\u001b[38;5;241m=\u001b[39m\u001b[38;5;28mself\u001b[39m\u001b[38;5;241m.\u001b[39mnorm,\n\u001b[0;32m   2087\u001b[0m     use_idf\u001b[38;5;241m=\u001b[39m\u001b[38;5;28mself\u001b[39m\u001b[38;5;241m.\u001b[39muse_idf,\n\u001b[0;32m   2088\u001b[0m     smooth_idf\u001b[38;5;241m=\u001b[39m\u001b[38;5;28mself\u001b[39m\u001b[38;5;241m.\u001b[39msmooth_idf,\n\u001b[0;32m   2089\u001b[0m     sublinear_tf\u001b[38;5;241m=\u001b[39m\u001b[38;5;28mself\u001b[39m\u001b[38;5;241m.\u001b[39msublinear_tf,\n\u001b[0;32m   2090\u001b[0m )\n\u001b[1;32m-> 2091\u001b[0m X \u001b[38;5;241m=\u001b[39m \u001b[38;5;28;43msuper\u001b[39;49m\u001b[43m(\u001b[49m\u001b[43m)\u001b[49m\u001b[38;5;241;43m.\u001b[39;49m\u001b[43mfit_transform\u001b[49m\u001b[43m(\u001b[49m\u001b[43mraw_documents\u001b[49m\u001b[43m)\u001b[49m\n\u001b[0;32m   2092\u001b[0m \u001b[38;5;28mself\u001b[39m\u001b[38;5;241m.\u001b[39m_tfidf\u001b[38;5;241m.\u001b[39mfit(X)\n\u001b[0;32m   2093\u001b[0m \u001b[38;5;66;03m# X is already a transformed view of raw_documents so\u001b[39;00m\n\u001b[0;32m   2094\u001b[0m \u001b[38;5;66;03m# we set copy to False\u001b[39;00m\n",
      "File \u001b[1;32mc:\\Users\\larry\\anaconda3\\envs\\projectnlp\\Lib\\site-packages\\sklearn\\base.py:1473\u001b[0m, in \u001b[0;36m_fit_context.<locals>.decorator.<locals>.wrapper\u001b[1;34m(estimator, *args, **kwargs)\u001b[0m\n\u001b[0;32m   1466\u001b[0m     estimator\u001b[38;5;241m.\u001b[39m_validate_params()\n\u001b[0;32m   1468\u001b[0m \u001b[38;5;28;01mwith\u001b[39;00m config_context(\n\u001b[0;32m   1469\u001b[0m     skip_parameter_validation\u001b[38;5;241m=\u001b[39m(\n\u001b[0;32m   1470\u001b[0m         prefer_skip_nested_validation \u001b[38;5;129;01mor\u001b[39;00m global_skip_validation\n\u001b[0;32m   1471\u001b[0m     )\n\u001b[0;32m   1472\u001b[0m ):\n\u001b[1;32m-> 1473\u001b[0m     \u001b[38;5;28;01mreturn\u001b[39;00m \u001b[43mfit_method\u001b[49m\u001b[43m(\u001b[49m\u001b[43mestimator\u001b[49m\u001b[43m,\u001b[49m\u001b[43m \u001b[49m\u001b[38;5;241;43m*\u001b[39;49m\u001b[43margs\u001b[49m\u001b[43m,\u001b[49m\u001b[43m \u001b[49m\u001b[38;5;241;43m*\u001b[39;49m\u001b[38;5;241;43m*\u001b[39;49m\u001b[43mkwargs\u001b[49m\u001b[43m)\u001b[49m\n",
      "File \u001b[1;32mc:\\Users\\larry\\anaconda3\\envs\\projectnlp\\Lib\\site-packages\\sklearn\\feature_extraction\\text.py:1372\u001b[0m, in \u001b[0;36mCountVectorizer.fit_transform\u001b[1;34m(self, raw_documents, y)\u001b[0m\n\u001b[0;32m   1364\u001b[0m             warnings\u001b[38;5;241m.\u001b[39mwarn(\n\u001b[0;32m   1365\u001b[0m                 \u001b[38;5;124m\"\u001b[39m\u001b[38;5;124mUpper case characters found in\u001b[39m\u001b[38;5;124m\"\u001b[39m\n\u001b[0;32m   1366\u001b[0m                 \u001b[38;5;124m\"\u001b[39m\u001b[38;5;124m vocabulary while \u001b[39m\u001b[38;5;124m'\u001b[39m\u001b[38;5;124mlowercase\u001b[39m\u001b[38;5;124m'\u001b[39m\u001b[38;5;124m\"\u001b[39m\n\u001b[0;32m   1367\u001b[0m                 \u001b[38;5;124m\"\u001b[39m\u001b[38;5;124m is True. These entries will not\u001b[39m\u001b[38;5;124m\"\u001b[39m\n\u001b[0;32m   1368\u001b[0m                 \u001b[38;5;124m\"\u001b[39m\u001b[38;5;124m be matched with any documents\u001b[39m\u001b[38;5;124m\"\u001b[39m\n\u001b[0;32m   1369\u001b[0m             )\n\u001b[0;32m   1370\u001b[0m             \u001b[38;5;28;01mbreak\u001b[39;00m\n\u001b[1;32m-> 1372\u001b[0m vocabulary, X \u001b[38;5;241m=\u001b[39m \u001b[38;5;28;43mself\u001b[39;49m\u001b[38;5;241;43m.\u001b[39;49m\u001b[43m_count_vocab\u001b[49m\u001b[43m(\u001b[49m\u001b[43mraw_documents\u001b[49m\u001b[43m,\u001b[49m\u001b[43m \u001b[49m\u001b[38;5;28;43mself\u001b[39;49m\u001b[38;5;241;43m.\u001b[39;49m\u001b[43mfixed_vocabulary_\u001b[49m\u001b[43m)\u001b[49m\n\u001b[0;32m   1374\u001b[0m \u001b[38;5;28;01mif\u001b[39;00m \u001b[38;5;28mself\u001b[39m\u001b[38;5;241m.\u001b[39mbinary:\n\u001b[0;32m   1375\u001b[0m     X\u001b[38;5;241m.\u001b[39mdata\u001b[38;5;241m.\u001b[39mfill(\u001b[38;5;241m1\u001b[39m)\n",
      "File \u001b[1;32mc:\\Users\\larry\\anaconda3\\envs\\projectnlp\\Lib\\site-packages\\sklearn\\feature_extraction\\text.py:1259\u001b[0m, in \u001b[0;36mCountVectorizer._count_vocab\u001b[1;34m(self, raw_documents, fixed_vocab)\u001b[0m\n\u001b[0;32m   1257\u001b[0m \u001b[38;5;28;01mfor\u001b[39;00m doc \u001b[38;5;129;01min\u001b[39;00m raw_documents:\n\u001b[0;32m   1258\u001b[0m     feature_counter \u001b[38;5;241m=\u001b[39m {}\n\u001b[1;32m-> 1259\u001b[0m     \u001b[38;5;28;01mfor\u001b[39;00m feature \u001b[38;5;129;01min\u001b[39;00m \u001b[43manalyze\u001b[49m\u001b[43m(\u001b[49m\u001b[43mdoc\u001b[49m\u001b[43m)\u001b[49m:\n\u001b[0;32m   1260\u001b[0m         \u001b[38;5;28;01mtry\u001b[39;00m:\n\u001b[0;32m   1261\u001b[0m             feature_idx \u001b[38;5;241m=\u001b[39m vocabulary[feature]\n",
      "File \u001b[1;32mc:\\Users\\larry\\anaconda3\\envs\\projectnlp\\Lib\\site-packages\\sklearn\\feature_extraction\\text.py:103\u001b[0m, in \u001b[0;36m_analyze\u001b[1;34m(doc, analyzer, tokenizer, ngrams, preprocessor, decoder, stop_words)\u001b[0m\n\u001b[0;32m     81\u001b[0m \u001b[38;5;250m\u001b[39m\u001b[38;5;124;03m\"\"\"Chain together an optional series of text processing steps to go from\u001b[39;00m\n\u001b[0;32m     82\u001b[0m \u001b[38;5;124;03ma single document to ngrams, with or without tokenizing or preprocessing.\u001b[39;00m\n\u001b[0;32m     83\u001b[0m \n\u001b[1;32m   (...)\u001b[0m\n\u001b[0;32m     99\u001b[0m \u001b[38;5;124;03m    A sequence of tokens, possibly with pairs, triples, etc.\u001b[39;00m\n\u001b[0;32m    100\u001b[0m \u001b[38;5;124;03m\"\"\"\u001b[39;00m\n\u001b[0;32m    102\u001b[0m \u001b[38;5;28;01mif\u001b[39;00m decoder \u001b[38;5;129;01mis\u001b[39;00m \u001b[38;5;129;01mnot\u001b[39;00m \u001b[38;5;28;01mNone\u001b[39;00m:\n\u001b[1;32m--> 103\u001b[0m     doc \u001b[38;5;241m=\u001b[39m \u001b[43mdecoder\u001b[49m\u001b[43m(\u001b[49m\u001b[43mdoc\u001b[49m\u001b[43m)\u001b[49m\n\u001b[0;32m    104\u001b[0m \u001b[38;5;28;01mif\u001b[39;00m analyzer \u001b[38;5;129;01mis\u001b[39;00m \u001b[38;5;129;01mnot\u001b[39;00m \u001b[38;5;28;01mNone\u001b[39;00m:\n\u001b[0;32m    105\u001b[0m     doc \u001b[38;5;241m=\u001b[39m analyzer(doc)\n",
      "File \u001b[1;32mc:\\Users\\larry\\anaconda3\\envs\\projectnlp\\Lib\\site-packages\\sklearn\\feature_extraction\\text.py:236\u001b[0m, in \u001b[0;36m_VectorizerMixin.decode\u001b[1;34m(self, doc)\u001b[0m\n\u001b[0;32m    233\u001b[0m     doc \u001b[38;5;241m=\u001b[39m doc\u001b[38;5;241m.\u001b[39mdecode(\u001b[38;5;28mself\u001b[39m\u001b[38;5;241m.\u001b[39mencoding, \u001b[38;5;28mself\u001b[39m\u001b[38;5;241m.\u001b[39mdecode_error)\n\u001b[0;32m    235\u001b[0m \u001b[38;5;28;01mif\u001b[39;00m doc \u001b[38;5;129;01mis\u001b[39;00m np\u001b[38;5;241m.\u001b[39mnan:\n\u001b[1;32m--> 236\u001b[0m     \u001b[38;5;28;01mraise\u001b[39;00m \u001b[38;5;167;01mValueError\u001b[39;00m(\n\u001b[0;32m    237\u001b[0m         \u001b[38;5;124m\"\u001b[39m\u001b[38;5;124mnp.nan is an invalid document, expected byte or unicode string.\u001b[39m\u001b[38;5;124m\"\u001b[39m\n\u001b[0;32m    238\u001b[0m     )\n\u001b[0;32m    240\u001b[0m \u001b[38;5;28;01mreturn\u001b[39;00m doc\n",
      "\u001b[1;31mValueError\u001b[0m: np.nan is an invalid document, expected byte or unicode string."
     ]
    }
   ],
   "source": [
    "# Step 4: Vectorize the dataset\n",
    "from sklearn.feature_extraction.text import TfidfVectorizer\n",
    "\n",
    "vectorizer = TfidfVectorizer(max_features=5000)\n",
    "X_train = vectorizer.fit_transform(data_r2o1_train[\"reviews.text\"])\n",
    "X_test = vectorizer.transform(data_r2o1_test[\"reviews.text\"])\n",
    "y_train = data_r2o1_train[\"sentiment\"]\n",
    "y_test = data_r2o1_test[\"sentiment\"]"
   ]
  },
  {
   "cell_type": "markdown",
   "metadata": {},
   "source": [
    "# **XGBooost Classifier Model Training, Evaluation, and Stored**"
   ]
  },
  {
   "cell_type": "code",
   "execution_count": 57,
   "metadata": {},
   "outputs": [],
   "source": [
    "from xgboost import XGBClassifier\n",
    "from sklearn.metrics import accuracy_score, precision_score, recall_score, f1_score, classification_report, confusion_matrix\n",
    "from sklearn.utils.class_weight import compute_class_weight\n",
    "from sklearn.preprocessing import LabelEncoder\n",
    "import numpy as np"
   ]
  },
  {
   "cell_type": "code",
   "execution_count": 58,
   "metadata": {},
   "outputs": [
    {
     "name": "stdout",
     "output_type": "stream",
     "text": [
      "LabelEncoder saved as 'label_encoder_r2o1.pkl'\n"
     ]
    }
   ],
   "source": [
    "# Encode the sentiment labels\n",
    "label_encoder = LabelEncoder()\n",
    "y_train = label_encoder.fit_transform(data_r2o1_train[\"sentiment\"])\n",
    "y_test = label_encoder.transform(data_r2o1_test[\"sentiment\"])\n",
    "\n",
    "# Save the label encoder for future use\n",
    "label_encoder_file = \"label_encoder_r2o1.pkl\"\n",
    "joblib.dump(label_encoder, label_encoder_file)\n",
    "print(f\"LabelEncoder saved as '{label_encoder_file}'\")\n"
   ]
  },
  {
   "cell_type": "code",
   "execution_count": 59,
   "metadata": {},
   "outputs": [
    {
     "name": "stdout",
     "output_type": "stream",
     "text": [
      "\n",
      "Class Weights for `dataset_r2o1` (encoded labels):\n",
      "Class 1.0: Weight = 1.1666\n",
      "Class 2.0: Weight = 1.3981\n",
      "Class 3.0: Weight = 0.7005\n"
     ]
    }
   ],
   "source": [
    "# Compute class weights for each dataset\n",
    "class_weights_r2o1 = compute_class_weight(\n",
    "    class_weight='balanced',  # Automatically calculate weights\n",
    "    classes=np.unique(y_train),  # Unique classes\n",
    "    y=y_train  # Target labels\n",
    ")\n",
    "class_weights_dict_r2o1 = dict(enumerate(class_weights_r2o1))\n",
    "\n",
    "# Print class weights for `dataset_r2o1`\n",
    "print(\"\\nClass Weights for `dataset_r2o1` (encoded labels):\")\n",
    "for label, weight in class_weights_dict_r2o1.items():\n",
    "    print(f\"Class {encoder.inverse_transform([label])[0]}: Weight = {weight:.4f}\")"
   ]
  },
  {
   "cell_type": "code",
   "execution_count": 104,
   "metadata": {},
   "outputs": [
    {
     "name": "stdout",
     "output_type": "stream",
     "text": [
      "\n",
      "Evaluating XGBoost on `dataset_r2o1` with sample weights...\n",
      "\n",
      "--- Training and Evaluating XGBoost Model r2o1 ---\n",
      "Class Names: ['0', '1', '2']\n"
     ]
    },
    {
     "name": "stderr",
     "output_type": "stream",
     "text": [
      "c:\\Users\\larry\\anaconda3\\envs\\projectnlp\\Lib\\site-packages\\xgboost\\core.py:158: UserWarning: [19:07:49] WARNING: C:\\buildkite-agent\\builds\\buildkite-windows-cpu-autoscaling-group-i-0c55ff5f71b100e98-1\\xgboost\\xgboost-ci-windows\\src\\learner.cc:740: \n",
      "Parameters: { \"use_label_encoder\" } are not used.\n",
      "\n",
      "  warnings.warn(smsg, UserWarning)\n"
     ]
    },
    {
     "name": "stdout",
     "output_type": "stream",
     "text": [
      "Trained model saved as 'xgboost_model_r2o1.pkl'\n",
      "\n",
      "Test Metrics (XGBoost Model r2o1):\n",
      "  Accuracy: 0.7279\n",
      "  Precision: 0.7005\n",
      "  Recall: 0.6923\n",
      "  F1-Score: 0.6946\n",
      "\n",
      "Classification Report (XGBoost Model r2o1 - Test Set):\n",
      "\n",
      "              precision    recall  f1-score   support\n",
      "\n",
      "           0       0.78      0.68      0.73       390\n",
      "           1       0.51      0.55      0.53       291\n",
      "           2       0.81      0.85      0.83       587\n",
      "\n",
      "    accuracy                           0.73      1268\n",
      "   macro avg       0.70      0.69      0.69      1268\n",
      "weighted avg       0.73      0.73      0.73      1268\n",
      "\n",
      "\n",
      "Confusion Matrix (XGBoost Model r2o1 - Test Set):\n",
      "\n",
      "[[264  78  48]\n",
      " [ 62 160  69]\n",
      " [ 11  77 499]]\n"
     ]
    },
    {
     "data": {
      "image/png": "[encoded data removed]",
      "text/plain": [
       "<Figure size 800x600 with 2 Axes>"
      ]
     },
     "metadata": {},
     "output_type": "display_data"
    }
   ],
   "source": [
    "import joblib\n",
    "\n",
    "# Updated XGBoost models with sample weights for all classes\n",
    "def train_evaluate_xgboost_with_weights(X_train, y_train, X_test, y_test, sample_weights, model_name, encoder):\n",
    "    print(f\"\\n--- Training and Evaluating {model_name} ---\")\n",
    "    \n",
    "    # Convert encoder classes to a list of strings\n",
    "    class_names = [str(label) for label in encoder.classes_]\n",
    "    print(f\"Class Names: {class_names}\")\n",
    "\n",
    "    xgb_model = XGBClassifier(\n",
    "        colsample_bytree=0.6,\n",
    "        learning_rate=0.03,\n",
    "        max_depth=5,\n",
    "        n_estimators=1000,\n",
    "        subsample=0.7,\n",
    "        min_child_weight=5,\n",
    "        gamma=0.1,\n",
    "        eval_metric='logloss',\n",
    "        use_label_encoder=False,\n",
    "        random_state=42\n",
    "    )\n",
    "    \n",
    "    # Train the model with sample weights\n",
    "    xgb_model.fit(X_train, y_train, sample_weight=sample_weights)\n",
    "\n",
    "    # Save the trained model immediately\n",
    "    model_file = f\"{model_name.replace(' ', '_').lower()}.pkl\"\n",
    "    joblib.dump(xgb_model, model_file)\n",
    "    print(f\"Trained model saved as '{model_file}'\")\n",
    "         \n",
    "    # Test predictions\n",
    "    test_predictions = xgb_model.predict(X_test)\n",
    "    test_accuracy = accuracy_score(y_test, test_predictions)\n",
    "    test_precision = precision_score(y_test, test_predictions, average='macro')\n",
    "    test_recall = recall_score(y_test, test_predictions, average='macro')\n",
    "    test_f1 = f1_score(y_test, test_predictions, average='macro')\n",
    "    \n",
    "    # Print evaluation metrics\n",
    "        \n",
    "    print(f\"\\nTest Metrics ({model_name}):\")\n",
    "    print(f\"  Accuracy: {test_accuracy:.4f}\")\n",
    "    print(f\"  Precision: {test_precision:.4f}\")\n",
    "    print(f\"  Recall: {test_recall:.4f}\")\n",
    "    print(f\"  F1-Score: {test_f1:.4f}\")\n",
    "    \n",
    "    # Classification report and confusion matrix\n",
    "    print(f\"\\nClassification Report ({model_name} - Test Set):\\n\")\n",
    "    print(classification_report(y_test, test_predictions, target_names=class_names))\n",
    "    \n",
    "    print(f\"\\nConfusion Matrix ({model_name} - Test Set):\\n\")\n",
    "    conf_matrix = confusion_matrix(y_test, test_predictions)\n",
    "    print(conf_matrix)\n",
    "    \n",
    "    class_names = ['negative', 'neutral', 'positive']  # Update this based on your encoder mapping\n",
    "\n",
    "    # Plot confusion matrix\n",
    "    plt.figure(figsize=(8, 6))\n",
    "    sns.heatmap(conf_matrix, annot=True, fmt='d', cmap='Blues', xticklabels=class_names, yticklabels=class_names)\n",
    "    plt.xlabel('Predicted Labels')\n",
    "    plt.ylabel('True Labels')\n",
    "    plt.title(f\"Confusion Matrix ({model_name})\")\n",
    "    plt.show()\n",
    "    return model_file\n",
    "\n",
    "# Reinitialize and fit LabelEncoder for the new dataset\n",
    "encoder = LabelEncoder()\n",
    "y_train_encoded = encoder.fit_transform(y_train)\n",
    "y_test_encoded = encoder.transform(y_test)\n",
    "\n",
    "# Debugging: Ensure encoded labels and classes are correct\n",
    "'''print(\"Encoded Classes:\", encoder.classes_)\n",
    "print(\"Encoded y_train (unique):\", np.unique(y_train_encoded))\n",
    "print(\"Encoded y_test (unique):\", np.unique(y_test_encoded))'''\n",
    "\n",
    "# Prepare sample weights for datasets\n",
    "sample_weights_r2o1 = np.array([1.5 if label == 0 else 2.0 if label == 1 else 1.0 for label in y_train_encoded]) # [1.1666 if label == 0 else 1.3981 if label == 1 else 0.7005 for label in y_train_encoded]\n",
    "\n",
    "# Train and evaluate on `dataset_r2o1`\n",
    "print(\"\\nEvaluating XGBoost on `dataset_r2o1` with sample weights...\")\n",
    "model_file_path = train_evaluate_xgboost_with_weights(\n",
    "    X_train, y_train_encoded, X_test, y_test_encoded, \n",
    "    sample_weights_r2o1, \"XGBoost Model r2o1\", encoder\n",
    ")"
   ]
  },
  {
   "cell_type": "code",
   "execution_count": 105,
   "metadata": {},
   "outputs": [
    {
     "name": "stdout",
     "output_type": "stream",
     "text": [
      "Model loaded from 'xgboost_model_r2o1.pkl':\n",
      "XGBClassifier(base_score=None, booster=None, callbacks=None,\n",
      "              colsample_bylevel=None, colsample_bynode=None,\n",
      "              colsample_bytree=0.6, device=None, early_stopping_rounds=None,\n",
      "              enable_categorical=False, eval_metric='logloss',\n",
      "              feature_types=None, gamma=0.1, grow_policy=None,\n",
      "              importance_type=None, interaction_constraints=None,\n",
      "              learning_rate=0.03, max_bin=None, max_cat_threshold=None,\n",
      "              max_cat_to_onehot=None, max_delta_step=None, max_depth=5,\n",
      "              max_leaves=None, min_child_weight=5, missing=nan,\n",
      "              monotone_constraints=None, multi_strategy=None, n_estimators=1000,\n",
      "              n_jobs=None, num_parallel_tree=None, objective='multi:softprob', ...)\n",
      "\n",
      "Hyperparameters of loaded model:\n",
      "{'objective': 'multi:softprob', 'base_score': None, 'booster': None, 'callbacks': None, 'colsample_bylevel': None, 'colsample_bynode': None, 'colsample_bytree': 0.6, 'device': None, 'early_stopping_rounds': None, 'enable_categorical': False, 'eval_metric': 'logloss', 'feature_types': None, 'gamma': 0.1, 'grow_policy': None, 'importance_type': None, 'interaction_constraints': None, 'learning_rate': 0.03, 'max_bin': None, 'max_cat_threshold': None, 'max_cat_to_onehot': None, 'max_delta_step': None, 'max_depth': 5, 'max_leaves': None, 'min_child_weight': 5, 'missing': nan, 'monotone_constraints': None, 'multi_strategy': None, 'n_estimators': 1000, 'n_jobs': None, 'num_parallel_tree': None, 'random_state': 42, 'reg_alpha': None, 'reg_lambda': None, 'sampling_method': None, 'scale_pos_weight': None, 'subsample': 0.7, 'tree_method': None, 'validate_parameters': None, 'verbosity': None, 'use_label_encoder': False}\n"
     ]
    }
   ],
   "source": [
    "# Load the saved model\n",
    "loaded_model = joblib.load(model_file_path)\n",
    "\n",
    "# Confirm loaded model\n",
    "print(f\"Model loaded from '{model_file_path}':\")\n",
    "print(loaded_model)\n",
    "\n",
    "# Optional: Print loaded model's hyperparameters\n",
    "print(\"\\nHyperparameters of loaded model:\")\n",
    "print(loaded_model.get_params())"
   ]
  },
  {
   "cell_type": "markdown",
   "metadata": {},
   "source": [
    "# **RandomForrest Classifier using tunned hyperparammeters and Class Weights**"
   ]
  },
  {
   "cell_type": "code",
   "execution_count": 151,
   "metadata": {},
   "outputs": [
    {
     "name": "stdout",
     "output_type": "stream",
     "text": [
      "\n",
      "Evaluating on `dataset_r2o1`...\n",
      "\n",
      "--- Training and Evaluating Random Forest Model r2o1 ---\n",
      "Class Names: ['0', '1', '2']\n",
      "Trained model saved as 'random_forest_model_r2o1.pkl'\n",
      "\n",
      "Test Metrics (Random Forest Model r2o1):\n",
      "  Accuracy: 0.7374\n",
      "  Precision: 0.7158\n",
      "  Recall: 0.6945\n",
      "  F1-Score: 0.7005\n",
      "\n",
      "Classification Report (Random Forest Model r2o1 - Test Set):\n",
      "\n",
      "              precision    recall  f1-score   support\n",
      "\n",
      "           0       0.81      0.64      0.72       390\n",
      "           1       0.56      0.55      0.55       291\n",
      "           2       0.78      0.90      0.83       587\n",
      "\n",
      "    accuracy                           0.74      1268\n",
      "   macro avg       0.72      0.69      0.70      1268\n",
      "weighted avg       0.74      0.74      0.73      1268\n",
      "\n",
      "\n",
      "Confusion Matrix (Random Forest Model r2o1 - Test Set):\n",
      "\n",
      "[[250  73  67]\n",
      " [ 51 159  81]\n",
      " [  8  53 526]]\n"
     ]
    },
    {
     "data": {
      "image/png": "[encoded data removed]",
      "text/plain": [
       "<Figure size 800x600 with 2 Axes>"
      ]
     },
     "metadata": {},
     "output_type": "display_data"
    }
   ],
   "source": [
    "from sklearn.ensemble import RandomForestClassifier\n",
    "from sklearn.metrics import classification_report, confusion_matrix, f1_score, precision_score, recall_score, accuracy_score\n",
    "import numpy as np\n",
    "import matplotlib.pyplot as plt\n",
    "import seaborn as sns\n",
    "import joblib\n",
    "\n",
    "# Function to train and evaluate models\n",
    "def train_evaluate_model(model, X_train, y_train, X_test, y_test, model_name):\n",
    "    print(f\"\\n--- Training and Evaluating {model_name} ---\")\n",
    "    \n",
    "    # Convert encoder classes to a list of strings\n",
    "    class_names = [str(label) for label in encoder.classes_]\n",
    "    print(f\"Class Names: {class_names}\")\n",
    "\n",
    "    # Train the model\n",
    "    model.fit(X_train, y_train)\n",
    "\n",
    "    # Save the trained model immediately\n",
    "    model_rf_file = f\"{model_name.replace(' ', '_').lower()}.pkl\"\n",
    "    joblib.dump(model, model_rf_file)\n",
    "    print(f\"Trained model saved as '{model_rf_file}'\")\n",
    "\n",
    "    # Test predictions\n",
    "    test_predictions = model.predict(X_test)\n",
    "    test_accuracy = accuracy_score(y_test, test_predictions)\n",
    "    test_precision = precision_score(y_test, test_predictions, average='macro')\n",
    "    test_recall = recall_score(y_test, test_predictions, average='macro')\n",
    "    test_f1 = f1_score(y_test, test_predictions, average='macro')\n",
    "\n",
    "    print(f\"\\nTest Metrics ({model_name}):\")\n",
    "    print(f\"  Accuracy: {test_accuracy:.4f}\")\n",
    "    print(f\"  Precision: {test_precision:.4f}\")\n",
    "    print(f\"  Recall: {test_recall:.4f}\")\n",
    "    print(f\"  F1-Score: {test_f1:.4f}\")\n",
    "\n",
    "    # Classification report and confusion matrix\n",
    "    print(f\"\\nClassification Report ({model_name} - Test Set):\\n\")\n",
    "    print(classification_report(y_test, test_predictions, target_names=class_names))\n",
    "\n",
    "    print(f\"\\nConfusion Matrix ({model_name} - Test Set):\\n\")\n",
    "    conf_matrix = confusion_matrix(y_test, test_predictions)\n",
    "    print(conf_matrix)\n",
    "\n",
    "    class_names = ['negative', 'neutral', 'positive']  # Update this based on your encoder mapping\n",
    "\n",
    "    # Plot confusion matrix\n",
    "    plt.figure(figsize=(8, 6))\n",
    "    sns.heatmap(conf_matrix, annot=True, fmt='d', cmap='Blues', xticklabels=class_names, yticklabels=class_names)\n",
    "    plt.xlabel('Predicted Labels')\n",
    "    plt.ylabel('True Labels')\n",
    "    plt.title(f\"Confusion Matrix ({model_name})\")\n",
    "    plt.show()\n",
    "    return model_rf_file\n",
    "\n",
    "# Reinitialize and fit LabelEncoder for the new dataset\n",
    "encoder = LabelEncoder()\n",
    "y_train_rf_encoded = encoder.fit_transform(y_train)\n",
    "y_test_rf_encoded = encoder.transform(y_test)\n",
    "\n",
    "# Prepare models\n",
    "rf_model_r2o1 = RandomForestClassifier(\n",
    "    n_estimators=300,\n",
    "    max_depth=None,\n",
    "    min_samples_split=5,\n",
    "    min_samples_leaf=1,\n",
    "    #max_features='sqrt',\n",
    "    bootstrap=False,\n",
    "    class_weight={0: 1.5, 1: 2.0, 2: 1.0}, #class_weights_dict_r2o1\n",
    "    random_state=42\n",
    ")\n",
    "\n",
    "# Train and evaluate Random Forest on dataset_r2o1\n",
    "print(\"\\nEvaluating on `dataset_r2o1`...\")\n",
    "model_rf_file_path = train_evaluate_model(rf_model_r2o1, X_train, y_train_rf_encoded, X_test, y_test_rf_encoded, \"Random Forest Model r2o1\")"
   ]
  },
  {
   "cell_type": "code",
   "execution_count": 152,
   "metadata": {},
   "outputs": [
    {
     "name": "stdout",
     "output_type": "stream",
     "text": [
      "Model loaded from 'random_forest_model_r2o1.pkl':\n",
      "RandomForestClassifier(class_weight={0: 1.5, 1: 2.0, 2: 1.0}, max_depth=20,\n",
      "                       min_samples_leaf=2, min_samples_split=30,\n",
      "                       n_estimators=500, random_state=42)\n",
      "\n",
      "Hyperparameters of loaded model:\n",
      "{'bootstrap': True, 'ccp_alpha': 0.0, 'class_weight': {0: 1.5, 1: 2.0, 2: 1.0}, 'criterion': 'gini', 'max_depth': 20, 'max_features': 'sqrt', 'max_leaf_nodes': None, 'max_samples': None, 'min_impurity_decrease': 0.0, 'min_samples_leaf': 2, 'min_samples_split': 30, 'min_weight_fraction_leaf': 0.0, 'monotonic_cst': None, 'n_estimators': 500, 'n_jobs': None, 'oob_score': False, 'random_state': 42, 'verbose': 0, 'warm_start': False}\n"
     ]
    }
   ],
   "source": [
    "# Load the saved model\n",
    "loaded_model = joblib.load(model_rf_file_path)\n",
    "\n",
    "# Confirm loaded model\n",
    "print(f\"Model loaded from '{model_rf_file_path}':\")\n",
    "print(loaded_model)\n",
    "\n",
    "# Optional: Print loaded model's hyperparameters\n",
    "print(\"\\nHyperparameters of loaded model:\")\n",
    "print(loaded_model.get_params())"
   ]
  },
  {
   "cell_type": "markdown",
   "metadata": {},
   "source": [
    "# Prepare models\n",
    "rf_model_r2o1 = RandomForestClassifier(\n",
    "    n_estimators=500,\n",
    "    max_depth=20,\n",
    "    min_samples_split=30,\n",
    "    min_samples_leaf=2,\n",
    "    max_features='sqrt',\n",
    "    bootstrap=True,\n",
    "    class_weight={0: 1.5, 1: 2.0, 2: 1.0}, #class_weights_dict_r2o1\n",
    "    random_state=42\n",
    ")\n",
    "\n",
    "\n",
    "Fitting 5 folds for each of 216 candidates, totalling 1080 fits\n",
    "Best Parameters: {'bootstrap': False, 'max_depth': None, 'min_samples_leaf': 1, 'min_samples_split': 5, 'n_estimators': 300}\n",
    "Best F1 Score: 0.9931117563745216"
   ]
  }
 ],
 "metadata": {
  "kernelspec": {
   "display_name": "projectnlp",
   "language": "python",
   "name": "python3"
  },
  "language_info": {
   "codemirror_mode": {
    "name": "ipython",
    "version": 3
   },
   "file_extension": ".py",
   "mimetype": "text/x-python",
   "name": "python",
   "nbconvert_exporter": "python",
   "pygments_lexer": "ipython3",
   "version": "3.13.1"
  }
 },
 "nbformat": 4,
 "nbformat_minor": 2
}
