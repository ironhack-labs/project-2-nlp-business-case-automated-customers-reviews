{
  "cells": [
    {
      "cell_type": "code",
      "execution_count": 1,
      "metadata": {
        "id": "IJ55pOdRFzVd"
      },
      "outputs": [],
      "source": [
        "# Import necessary libraries\n",
        "import pandas as pd\n",
        "import matplotlib.pyplot as plt\n",
        "import seaborn as sns\n",
        "from sklearn.model_selection import train_test_split\n",
        "\n",
        "# Load the dataset (assuming it is in the same location as the notebook)\n",
        "#lstm_data_cleaned = pd.read_csv(\"lstm_data_cleaned.csv\")"
      ]
    },
    {
      "cell_type": "markdown",
      "metadata": {
        "id": "-qHxmY1vs54J"
      },
      "source": [
        "# **Adding Sentiment Feature**"
      ]
    },
    {
      "cell_type": "code",
      "execution_count": null,
      "metadata": {
        "id": "qdE3uDZFs54L"
      },
      "outputs": [],
      "source": [
        "# r1o1 ==> Balanced data, cleaned and sentiment added\n",
        "# Create a new DataFrame with the selected features\n",
        "r1o1_lstm_data = lstm_data_cleaned.copy()\n",
        "\n",
        "# Add the 'sentiment' feature based on the mapping logic\n",
        "def map_sentiment(rating):\n",
        "    if rating in [1, 2]:\n",
        "        return \"negative\"\n",
        "    elif rating == 3:\n",
        "        return \"neutral\"\n",
        "    elif rating in [4, 5]:\n",
        "        return \"positive\"\n",
        "\n",
        "r1o1_lstm_data['sentiment'] = r1o1_lstm_data['reviews.rating'].apply(map_sentiment)"
      ]
    },
    {
      "cell_type": "code",
      "execution_count": null,
      "metadata": {
        "id": "TT-eol85s54L",
        "outputId": "a9f8953e-6fde-49f4-e695-10c939e2e1fc"
      },
      "outputs": [
        {
          "name": "stdout",
          "output_type": "stream",
          "text": [
            "First rows of the new dataset r1o1_lstm_data:\n",
            "                                        reviews.text  reviews.rating sentiment\n",
            "0  do not last near as long as other off brand ba...             1.0  negative\n",
            "1  this   version should have been marketed to ch...             1.0  negative\n",
            "2  these batteries die almost as fast as harbor f...             1.0  negative\n",
            "3  the first time i buy my first tablet it came o...             1.0  negative\n",
            "4  tore within one week and is baby blue and very...             1.0  negative\n"
          ]
        }
      ],
      "source": [
        "# Verify the new dataset\n",
        "print(\"First rows of the new dataset r1o1_lstm_data:\")\n",
        "print(r1o1_lstm_data.head())"
      ]
    },
    {
      "cell_type": "code",
      "execution_count": null,
      "metadata": {
        "id": "o73OxSlJs54M"
      },
      "outputs": [],
      "source": [
        "# r1o2 ==> Balanced data and cleaned Note: No sentiment added\n",
        "\n",
        "r1o2_lstm_data = lstm_data_cleaned.copy()"
      ]
    },
    {
      "cell_type": "code",
      "execution_count": null,
      "metadata": {
        "id": "iqSt6BZNs54M",
        "outputId": "54facfa0-4bce-4de4-a258-0f1e1c180614"
      },
      "outputs": [
        {
          "name": "stdout",
          "output_type": "stream",
          "text": [
            "\n",
            "New dataset r1o1_lstm_data shape: (6339, 3)\n",
            "\n",
            "New dataset r1o2_lstm_data shape: (6339, 2)\n"
          ]
        }
      ],
      "source": [
        "# Check the shape of the new datasets\n",
        "print(f\"\\nNew dataset r1o1_lstm_data shape: {r1o1_lstm_data.shape}\")\n",
        "print(f\"\\nNew dataset r1o2_lstm_data shape: {r1o2_lstm_data.shape}\")"
      ]
    },
    {
      "cell_type": "code",
      "execution_count": null,
      "metadata": {
        "id": "jV6OUelTs54N",
        "outputId": "66aeb86b-940a-4041-9b48-2c4af570dcb5"
      },
      "outputs": [
        {
          "name": "stdout",
          "output_type": "stream",
          "text": [
            "\n",
            "Distribution of 'sentiment':\n",
            "sentiment\n",
            "positive    3000\n",
            "negative    1839\n",
            "neutral     1500\n",
            "Name: count, dtype: int64\n"
          ]
        }
      ],
      "source": [
        "# Distribution of the 'sentiment' feature\n",
        "print(\"\\nDistribution of 'sentiment':\")\n",
        "print(r1o1_lstm_data['sentiment'].value_counts())"
      ]
    },
    {
      "cell_type": "code",
      "execution_count": null,
      "metadata": {
        "id": "VS2PPGNns54N",
        "outputId": "e1309a08-d2c5-461c-e049-13a9ff8f74a8"
      },
      "outputs": [
        {
          "name": "stdout",
          "output_type": "stream",
          "text": [
            "Sentiment labels assigned and dataset saved for r1o1_lstm_data.\n",
            "Dataset saved for r1o2_lstm_data.\n"
          ]
        }
      ],
      "source": [
        "# Save the datasets for r1o1 and r1o2\n",
        "r1o1_lstm_data.to_csv(\"r1o1_lstm_dataset.csv\", index=False)\n",
        "print(\"Sentiment labels assigned and dataset saved for r1o1_lstm_data.\")\n",
        "\n",
        "r1o2_lstm_data.to_csv(\"r1o2_lstm_dataset.csv\", index=False)\n",
        "print(\"Dataset saved for r1o2_lstm_data.\")"
      ]
    },
    {
      "cell_type": "code",
      "execution_count": null,
      "metadata": {
        "id": "Jd1BcBdMs54N",
        "outputId": "9031906d-be7d-42c3-82d8-65a79f6b70af"
      },
      "outputs": [
        {
          "name": "stderr",
          "output_type": "stream",
          "text": [
            "C:\\Users\\larry\\AppData\\Local\\Temp\\ipykernel_17468\\2578159601.py:6: FutureWarning: \n",
            "\n",
            "Passing `palette` without assigning `hue` is deprecated and will be removed in v0.14.0. Assign the `x` variable to `hue` and set `legend=False` for the same effect.\n",
            "\n",
            "  sns.countplot(x='sentiment', data=r1o1_lstm_data, palette='pastel', order=[\"negative\", \"neutral\", \"positive\"])\n"
          ]
        },
        {
          "data": {
            "image/png": "[encoded data removed]",
            "text/plain": [
              "<Figure size 800x500 with 1 Axes>"
            ]
          },
          "metadata": {},
          "output_type": "display_data"
        }
      ],
      "source": [
        "# Visualize the sentiment distribution\n",
        "import matplotlib.pyplot as plt\n",
        "import seaborn as sns\n",
        "\n",
        "plt.figure(figsize=(8, 5))\n",
        "sns.countplot(x='sentiment', data=r1o1_lstm_data, palette='pastel', order=[\"negative\", \"neutral\", \"positive\"])\n",
        "plt.title(\"Distribution of Sentiment in the New Dataset\")\n",
        "plt.xlabel(\"Sentiment\")\n",
        "plt.ylabel(\"Frequency\")\n",
        "plt.show()"
      ]
    },
    {
      "cell_type": "markdown",
      "metadata": {
        "id": "memjHv0Ls54N"
      },
      "source": [
        "\n",
        "# **Splitting the Datasets into train, validation, and test sets.**"
      ]
    },
    {
      "cell_type": "code",
      "execution_count": null,
      "metadata": {
        "id": "pTDGUL-Ks54O",
        "outputId": "2c453470-0a0a-4224-9f36-331476831e43"
      },
      "outputs": [
        {
          "name": "stdout",
          "output_type": "stream",
          "text": [
            "Splitting `r1o1_lstm_data` into train, validation, and test sets...\n",
            "Train, validation, and test sizes for `r1o1_lstm_data`: (4437, 3), (951, 3), (951, 3)\n",
            "Splitting `r1o2_lstm_data` into train, validation, and test sets...\n",
            "Train, validation, and test sizes for `r1o2_data`: (4437, 2), (951, 2), (951, 2)\n"
          ]
        }
      ],
      "source": [
        "from sklearn.model_selection import train_test_split\n",
        "\n",
        "# Function to split the dataset with sentiment into train, validation, and test sets\n",
        "def split_dataset(dataset, stratify_col='sentiment'):\n",
        "    # Split into train (70%) and temp (30%) for validation and test\n",
        "    train, temp = train_test_split(dataset, test_size=0.3, random_state=42, stratify=dataset[stratify_col])\n",
        "    # Further split temp into validation (15%) and test (15%)\n",
        "    validation, test = train_test_split(temp, test_size=0.5, random_state=42, stratify=temp[stratify_col])\n",
        "    return train, validation, test\n",
        "\n",
        "# Function to split the dataset without sentiment into train, validation, and test sets\n",
        "def split_dataset_rating(dataset, stratify_col='reviews.rating'):\n",
        "    # Split into train (70%) and temp (30%) for validation and test\n",
        "    train, temp = train_test_split(dataset, test_size=0.3, random_state=42, stratify=dataset[stratify_col])\n",
        "    # Further split temp into validation (15%) and test (15%)\n",
        "    validation, test = train_test_split(temp, test_size=0.5, random_state=42, stratify=temp[stratify_col])\n",
        "    return train, validation, test\n",
        "\n",
        "# Split the `r1o1_lstm_data`\n",
        "print(\"Splitting `r1o1_lstm_data` into train, validation, and test sets...\")\n",
        "train_r1o1_lstm, val_r1o1_lstm, test_r1o1_lstm = split_dataset(r1o1_lstm_data)\n",
        "# Verify the sizes of the splits\n",
        "print(f\"Train, validation, and test sizes for `r1o1_lstm_data`: {train_r1o1_lstm.shape}, {val_r1o1_lstm.shape}, {test_r1o1_lstm.shape}\")\n",
        "\n",
        "# Split the `r1o2_lstm_data`\n",
        "print(\"Splitting `r1o2_lstm_data` into train, validation, and test sets...\")\n",
        "train_r1o2_lstm, val_r1o2_lstm, test_r1o2_lstm = split_dataset_rating(r1o2_lstm_data)\n",
        "# Verify the sizes of the splits\n",
        "print(f\"Train, validation, and test sizes for `r1o2_data`: {train_r1o2_lstm.shape}, {val_r1o2_lstm.shape}, {test_r1o2_lstm.shape}\")"
      ]
    },
    {
      "cell_type": "code",
      "execution_count": null,
      "metadata": {
        "id": "1FES250us54O",
        "outputId": "dbe3ede5-fce8-4fca-8508-755f7889eacb"
      },
      "outputs": [
        {
          "name": "stdout",
          "output_type": "stream",
          "text": [
            "\n",
            "Dataset splits saved successfully!\n"
          ]
        }
      ],
      "source": [
        "# Save the splits for future use\n",
        "train_r1o1_lstm.to_csv(\"train_r1o1_lstm.csv\", index=False)\n",
        "val_r1o1_lstm.to_csv(\"val_r1o1_lstm.csv\", index=False)\n",
        "test_r1o1_lstm.to_csv(\"test_r1o1_lstm.csv\", index=False)\n",
        "\n",
        "train_r1o2_lstm.to_csv(\"train_r1o2_lstm.csv\", index=False)\n",
        "val_r1o2_lstm.to_csv(\"val_r1o2_lstm.csv\", index=False)\n",
        "test_r1o2_lstm.to_csv(\"test_r1o2_lstm.csv\", index=False)\n",
        "\n",
        "print(\"\\nDataset splits saved successfully!\")"
      ]
    },
    {
      "cell_type": "code",
      "execution_count": 2,
      "metadata": {
        "id": "Q_Mo0-Sas54O"
      },
      "outputs": [],
      "source": [
        "# Load the spitted datasets (assuming it is in the same location as the notebook)\n",
        "train_r1o1_lstm = pd.read_csv(\"train_r1o1_lstm.csv\")\n",
        "val_r1o1_lstm = pd.read_csv(\"val_r1o1_lstm.csv\")\n",
        "test_r1o1_lstm = pd.read_csv(\"test_r1o1_lstm.csv\")\n",
        "\n",
        "train_r1o2_lstm = pd.read_csv(\"train_r1o2_lstm.csv\")\n",
        "val_r1o2_lstm = pd.read_csv(\"val_r1o2_lstm.csv\")\n",
        "test_r1o2_lstm = pd.read_csv(\"test_r1o2_lstm.csv\")"
      ]
    },
    {
      "cell_type": "markdown",
      "metadata": {
        "id": "aSMpj15jFzVw"
      },
      "source": [
        "# **Data Balancing Check**"
      ]
    },
    {
      "cell_type": "code",
      "execution_count": 3,
      "metadata": {
        "colab": {
          "base_uri": "https://localhost:8080/",
          "height": 1000
        },
        "id": "a6fVHmYbFzVw",
        "outputId": "1a046451-2cf3-4b34-e348-525e7497445a"
      },
      "outputs": [
        {
          "output_type": "stream",
          "name": "stdout",
          "text": [
            "\n",
            "Class distribution for train_r1o1_lstm before balancing:\n",
            "sentiment\n",
            "positive    2100\n",
            "negative    1287\n",
            "neutral     1050\n",
            "Name: count, dtype: int64\n"
          ]
        },
        {
          "output_type": "stream",
          "name": "stderr",
          "text": [
            "<ipython-input-3-587ad55204c8>:8: FutureWarning: \n",
            "\n",
            "Passing `palette` without assigning `hue` is deprecated and will be removed in v0.14.0. Assign the `x` variable to `hue` and set `legend=False` for the same effect.\n",
            "\n",
            "  sns.countplot(x='sentiment', data=train_r1o1_lstm, palette='pastel', order=[\"negative\", \"neutral\", \"positive\"])\n"
          ]
        },
        {
          "output_type": "display_data",
          "data": {
            "text/plain": [
              "<Figure size 800x500 with 1 Axes>"
            ],
            "image/png": "[encoded data removed]"
          },
          "metadata": {}
        },
        {
          "output_type": "stream",
          "name": "stdout",
          "text": [
            "\n",
            "Class distribution for train_r1o2_lstm before balancing:\n",
            "reviews.rating\n",
            "3.0    1050\n",
            "5.0    1050\n",
            "4.0    1050\n",
            "1.0     747\n",
            "2.0     540\n",
            "Name: count, dtype: int64\n"
          ]
        },
        {
          "output_type": "stream",
          "name": "stderr",
          "text": [
            "<ipython-input-3-587ad55204c8>:21: FutureWarning: \n",
            "\n",
            "Passing `palette` without assigning `hue` is deprecated and will be removed in v0.14.0. Assign the `x` variable to `hue` and set `legend=False` for the same effect.\n",
            "\n",
            "  sns.countplot(x='reviews.rating', data=train_r1o2_lstm, palette='pastel', order=[\"1.0\", \"2.0\", \"3.0\", \"4.0\", \"5.0\"])\n"
          ]
        },
        {
          "output_type": "display_data",
          "data": {
            "text/plain": [
              "<Figure size 800x500 with 1 Axes>"
            ],
            "image/png": "[encoded data removed]"
          },
          "metadata": {}
        }
      ],
      "source": [
        "# Check the class distribution\n",
        "print(\"\\nClass distribution for train_r1o1_lstm before balancing:\")\n",
        "class_counts_v01 = train_r1o1_lstm['sentiment'].value_counts()\n",
        "print(class_counts_v01)\n",
        "\n",
        "# Visualize the class distribution\n",
        "plt.figure(figsize=(8, 5))\n",
        "sns.countplot(x='sentiment', data=train_r1o1_lstm, palette='pastel', order=[\"negative\", \"neutral\", \"positive\"])\n",
        "plt.title(\"Class Distribution for train_r1o1_lstm Before Balancing\")\n",
        "plt.xlabel(\"Sentiment\")\n",
        "plt.ylabel(\"Frequency\")\n",
        "plt.show()\n",
        "\n",
        "# Check the class distribution\n",
        "print(\"\\nClass distribution for train_r1o2_lstm before balancing:\")\n",
        "class_counts_v02 = train_r1o2_lstm['reviews.rating'].value_counts()\n",
        "print(class_counts_v02)\n",
        "\n",
        "# Visualize the class distribution\n",
        "plt.figure(figsize=(8, 5))\n",
        "sns.countplot(x='reviews.rating', data=train_r1o2_lstm, palette='pastel', order=[\"1.0\", \"2.0\", \"3.0\", \"4.0\", \"5.0\"])\n",
        "plt.title(\"Class Distribution for train_r1o2_lstm Before Balancing\")\n",
        "plt.xlabel(\"Ratings\")\n",
        "plt.ylabel(\"Frequency\")\n",
        "plt.show()"
      ]
    },
    {
      "cell_type": "markdown",
      "metadata": {
        "id": "52xgtYMVFzVz"
      },
      "source": [
        "# **Models Training and Evaluation**"
      ]
    },
    {
      "cell_type": "code",
      "execution_count": 10,
      "metadata": {
        "id": "G8P3gY7AnKFI"
      },
      "outputs": [],
      "source": [
        "from sklearn.metrics import accuracy_score, precision_score, recall_score, f1_score, classification_report, confusion_matrix\n",
        "from sklearn.utils.class_weight import compute_class_weight\n",
        "from sklearn.preprocessing import LabelEncoder\n",
        "import numpy as np"
      ]
    },
    {
      "cell_type": "code",
      "execution_count": 11,
      "metadata": {
        "id": "0xZnr8yDncbV"
      },
      "outputs": [],
      "source": [
        "# Encode sentiment labels into numeric format\n",
        "encoder = LabelEncoder()\n",
        "y_train_r1o1_lstm = encoder.fit_transform(train_r1o1_lstm['sentiment'])\n",
        "y_val_r1o1_lstm = encoder.transform(val_r1o1_lstm['sentiment'])\n",
        "y_test_r1o1_lstm = encoder.transform(test_r1o1_lstm['sentiment'])\n",
        "\n",
        "y_train_r1o2_lstm = encoder.fit_transform(train_r1o2_lstm['reviews.rating'])\n",
        "y_val_r1o2_lstm = encoder.transform(val_r1o2_lstm['reviews.rating'])\n",
        "y_test_r1o2_lstm = encoder.transform(test_r1o2_lstm['reviews.rating'])"
      ]
    },
    {
      "cell_type": "code",
      "execution_count": 12,
      "metadata": {
        "colab": {
          "base_uri": "https://localhost:8080/"
        },
        "id": "QSxbXt4Nhtd7",
        "outputId": "05e73758-8170-4c57-a361-ad5c95c88eb3"
      },
      "outputs": [
        {
          "output_type": "stream",
          "name": "stdout",
          "text": [
            "\n",
            "Class Weights for `r1o1_lstm_data` (encoded labels):\n",
            "Class 1.0: Weight = 1.1492\n",
            "Class 2.0: Weight = 1.4086\n",
            "Class 3.0: Weight = 0.7043\n",
            "\n",
            "Class Weights for `r1o2_lstm_data` (encoded labels):\n",
            "Class 1.0: Weight = 1.1880\n",
            "Class 2.0: Weight = 1.6433\n",
            "Class 3.0: Weight = 0.8451\n",
            "Class 4.0: Weight = 0.8451\n",
            "Class 5.0: Weight = 0.8451\n"
          ]
        }
      ],
      "source": [
        "# Compute class weights for each dataset\n",
        "class_weights_r1o1_lstm = compute_class_weight(\n",
        "    class_weight='balanced',  # Automatically calculate weights\n",
        "    classes=np.unique(y_train_r1o1_lstm),  # Unique classes\n",
        "    y=y_train_r1o1_lstm  # Target labels\n",
        ")\n",
        "class_weights_dict_r1o1_lstm = dict(enumerate(class_weights_r1o1_lstm))\n",
        "\n",
        "# Print class weights for `r1o1_lstm_data`\n",
        "print(\"\\nClass Weights for `r1o1_lstm_data` (encoded labels):\")\n",
        "for label, weight in class_weights_dict_r1o1_lstm.items():\n",
        "    print(f\"Class {encoder.inverse_transform([label])[0]}: Weight = {weight:.4f}\")\n",
        "\n",
        "class_weights_r1o2_lstm = compute_class_weight(\n",
        "    class_weight='balanced',\n",
        "    classes=np.unique(y_train_r1o2_lstm),\n",
        "    y=y_train_r1o2_lstm\n",
        ")\n",
        "class_weights_dict_r1o2_lstm = dict(enumerate(class_weights_r1o2_lstm))\n",
        "\n",
        "# Print class weights for `r1o2_lstm_data`\n",
        "print(\"\\nClass Weights for `r1o2_lstm_data` (encoded labels):\")\n",
        "for label, weight in class_weights_dict_r1o2_lstm.items():\n",
        "    print(f\"Class {encoder.inverse_transform([label])[0]}: Weight = {weight:.4f}\")"
      ]
    },
    {
      "cell_type": "code",
      "execution_count": 13,
      "metadata": {
        "id": "RtcxMpyGv8zI"
      },
      "outputs": [],
      "source": [
        "from tensorflow.keras.preprocessing.text import Tokenizer\n",
        "from tensorflow.keras.preprocessing.sequence import pad_sequences\n",
        "from tensorflow.keras.utils import to_categorical\n",
        "from tensorflow.keras.models import Sequential\n",
        "from tensorflow.keras.layers import Embedding, Bidirectional, LSTM, Dense, Dropout\n",
        "from tensorflow.keras.callbacks import EarlyStopping, ReduceLROnPlateau\n",
        "from sklearn.utils.class_weight import compute_class_weight\n",
        "from sklearn.metrics import classification_report, confusion_matrix\n",
        "from tensorflow.keras.regularizers import l2\n",
        "import numpy as np\n",
        "import matplotlib.pyplot as plt\n",
        "import seaborn as sns"
      ]
    },
    {
      "cell_type": "code",
      "source": [
        "# Ensure all entries in 'reviews.text' are strings\n",
        "train_r1o1_lstm['reviews.text'] = train_r1o1_lstm['reviews.text'].astype(str)\n",
        "\n",
        "# Check if there are any unexpected data types after conversion\n",
        "print(\"Data types after conversion:\", train_r1o1_lstm['reviews.text'].apply(type).value_counts())\n"
      ],
      "metadata": {
        "colab": {
          "base_uri": "https://localhost:8080/"
        },
        "outputId": "2aba171e-8c4d-4805-8561-0dc5aac657a7",
        "id": "QUnGswej7bVH"
      },
      "execution_count": 14,
      "outputs": [
        {
          "output_type": "stream",
          "name": "stdout",
          "text": [
            "Data types after conversion: reviews.text\n",
            "<class 'str'>    4437\n",
            "Name: count, dtype: int64\n"
          ]
        }
      ]
    },
    {
      "cell_type": "code",
      "source": [
        "# Ensure all entries in 'reviews.text' are strings\n",
        "train_r1o2_lstm['reviews.text'] = train_r1o2_lstm['reviews.text'].astype(str)\n",
        "\n",
        "# Check if there are any unexpected data types after conversion\n",
        "print(\"Data types after conversion:\", train_r1o2_lstm['reviews.text'].apply(type).value_counts())"
      ],
      "metadata": {
        "colab": {
          "base_uri": "https://localhost:8080/"
        },
        "outputId": "ab627120-8caa-4130-d7b8-e3465afa0890",
        "id": "ElL-U-tl7bVJ"
      },
      "execution_count": 15,
      "outputs": [
        {
          "output_type": "stream",
          "name": "stdout",
          "text": [
            "Data types after conversion: reviews.text\n",
            "<class 'str'>    4437\n",
            "Name: count, dtype: int64\n"
          ]
        }
      ]
    },
    {
      "cell_type": "code",
      "execution_count": 17,
      "metadata": {
        "id": "6B_Lxa8NwJU8"
      },
      "outputs": [],
      "source": [
        "# Step 1: Tokenization and padding\n",
        "max_words = 10000  # Maximum number of words to keep\n",
        "max_len = 200  # Maximum sequence length\n",
        "\n",
        "# Load GloVe embeddings ==>opt_04 new addition\n",
        "embedding_dim = 100  # Dimension of GloVe vectors\n",
        "embedding_index = {}\n",
        "with open('glove.6B.100d.txt', 'r', encoding='utf-8') as f:\n",
        "    for line in f:\n",
        "        values = line.split()\n",
        "        word = values[0]\n",
        "        coefs = np.asarray(values[1:], dtype='float32')\n",
        "        embedding_index[word] = coefs\n",
        "\n",
        "# Tokenize the texts\n",
        "tokenizer = Tokenizer(num_words=max_words, oov_token='<OOV>')\n",
        "tokenizer.fit_on_texts(train_r1o1_lstm['reviews.text'])  # Fit on training data\n",
        "\n",
        "# Create embedding matrix ==>opt_04 new addition\n",
        "word_index = tokenizer.word_index\n",
        "embedding_matrix = np.zeros((max_words, embedding_dim))\n",
        "for word, i in word_index.items():\n",
        "    if i < max_words:\n",
        "        embedding_vector = embedding_index.get(word)\n",
        "        if embedding_vector is not None:\n",
        "            embedding_matrix[i] = embedding_vector\n",
        "\n",
        "# Convert texts to sequences\n",
        "def preprocess_texts(train, val, test):\n",
        "    X_train = pad_sequences(tokenizer.texts_to_sequences(train['reviews.text']), maxlen=max_len, padding='post')\n",
        "    X_val = pad_sequences(tokenizer.texts_to_sequences(val['reviews.text']), maxlen=max_len, padding='post')\n",
        "    X_test = pad_sequences(tokenizer.texts_to_sequences(test['reviews.text']), maxlen=max_len, padding='post')\n",
        "    return X_train, X_val, X_test\n",
        "\n",
        "X_train_r1o1_lstm, X_val_r1o1_lstm, X_test_r1o1_lstm = preprocess_texts(train_r1o1_lstm, val_r1o1_lstm, test_r1o1_lstm)\n",
        "X_train_r1o2_lstm, X_val_r1o2_lstm, X_test_r1o2_lstm = preprocess_texts(train_r1o2_lstm, val_r1o2_lstm, test_r1o2_lstm)\n",
        "\n",
        "# Convert encoded labels to one-hot encoding\n",
        "y_train_r1o1_lstm_onehot = to_categorical(y_train_r1o1_lstm, num_classes=3)\n",
        "y_val_r1o1_lstm_onehot = to_categorical(y_val_r1o1_lstm, num_classes=3)\n",
        "y_test_r1o1_lstm_onehot = to_categorical(y_test_r1o1_lstm, num_classes=3)\n",
        "\n",
        "y_train_r1o2_lstm_onehot = to_categorical(y_train_r1o2_lstm, num_classes=5)\n",
        "y_val_r1o2_lstm_onehot = to_categorical(y_val_r1o2_lstm, num_classes=5)\n",
        "y_test_r1o2_lstm_onehot = to_categorical(y_test_r1o2_lstm, num_classes=5)"
      ]
    },
    {
      "cell_type": "code",
      "execution_count": 18,
      "metadata": {
        "id": "0_acV3PpwS9o"
      },
      "outputs": [],
      "source": [
        "# Step 2: Build the LSTM model\n",
        "def build_lstm_model(input_dim, embedding_matrix, output_dim=3): # opt_04 added embedding_matrix\n",
        "    model = Sequential([\n",
        "        Embedding(input_dim=input_dim, output_dim=embedding_dim, weights=[embedding_matrix], input_length=max_len, trainable=False), # opt_02 modified 128=>256, opt_04 updated\n",
        "        Bidirectional(LSTM(256, return_sequences=True)), # opt_01 modified False=>True, opt_02 modified 64=>128, opt_04 modified 128=>256\n",
        "        Dropout(0.3), # opt_01 modified 0.5=>0.4, opt_02 modified 0.4=>0.5, # opt_03 modified 0.5=>0.4, opt_04 modified 0.4=>0.3\n",
        "        Bidirectional(LSTM(256, return_sequences=False)), # opt_01 new added, opt_02 modified 32=>128, # opt_03 modified False=>True, opt_04 modified 128=>256 True=>False\n",
        "        Dropout(0.3), # opt_01 new added, opt_02 modified 0.4=>0.5, # opt_03 modified 0.5=>0.4, opt_04 modified 0.4=>0.3\n",
        "        #Bidirectional(LSTM(64, return_sequences=False)), # opt_03 new added, # opt_04 removed\n",
        "        #Dropout(0.4), # opt_03 new added, # opt_04 removed\n",
        "        Dense(128, activation='relu'),# opt_01 modified 64=>32, opt_02 modified 32=>128, opt_03 added kernel_regularizer=l2(0.01), opt_04 removed kernel_regularizer\n",
        "        Dropout(0.3), # opt_01 modified 0.5=>0.3, opt_02 modified 0.3=>0.5, # opt_03 modified 0.5=>0.4, opt_04 modified 0.4=>0.3\n",
        "        Dense(output_dim, activation='softmax')\n",
        "    ])\n",
        "    model.compile(optimizer='adam', loss='categorical_crossentropy', metrics=['accuracy'])\n",
        "    return model"
      ]
    },
    {
      "cell_type": "code",
      "execution_count": 19,
      "metadata": {
        "id": "i01s2fnAwXQ4"
      },
      "outputs": [],
      "source": [
        "# Step 3: Train the model function\n",
        "def train_lstm_model(X_train, y_train, X_val, y_val, class_weights, model_name):\n",
        "    model = build_lstm_model(input_dim=max_words, embedding_matrix=embedding_matrix) # opt_04 added the embedding_matrix=embedding_matrix\n",
        "    early_stop = EarlyStopping(monitor='val_loss', patience=5, restore_best_weights=True) # opt_02 modified 3=>5\n",
        "    reduce_lr = ReduceLROnPlateau(monitor='val_loss', factor=0.5, patience=2, min_lr=1e-6) # opt_04 new added\n",
        "\n",
        "    print(f\"--- Training {model_name} ---\")\n",
        "    history = model.fit(\n",
        "        X_train, y_train,\n",
        "        validation_data=(X_val, y_val),\n",
        "        epochs=50, # opt_02 modified 10=>20, # opt_05 modified 20=>50\n",
        "        batch_size=128, # opt_02 modified 64=>128\n",
        "        class_weight=class_weights,  # Apply class weights\n",
        "        callbacks=[early_stop, reduce_lr] # opt_04 reduce_lr added\n",
        "    )\n",
        "    return model"
      ]
    },
    {
      "cell_type": "code",
      "execution_count": 24,
      "metadata": {
        "id": "Imn73O6mwa4C"
      },
      "outputs": [],
      "source": [
        "# Step 4: Evaluate the model function\n",
        "def evaluate_lstm_model(model, X_test, y_test, model_name, target_names):\n",
        "    predictions = model.predict(X_test)\n",
        "    y_pred = np.argmax(predictions, axis=1)\n",
        "    y_true = np.argmax(y_test, axis=1)\n",
        "\n",
        "    print(f\"\\n--- Evaluation of {model_name} ---\")\n",
        "    print(\"Classification Report:\\n\", classification_report(y_true, y_pred, target_names=target_names))\n",
        "    print(\"Confusion Matrix:\\n\", confusion_matrix(y_true, y_pred))\n",
        "\n",
        "    # Plot confusion matrix\n",
        "    plt.figure(figsize=(8, 6))\n",
        "    sns.heatmap(confusion_matrix(y_true, y_pred), annot=True, fmt='d', cmap='Blues', xticklabels=encoder.classes_, yticklabels=target_names)\n",
        "    plt.xlabel('Predicted Labels')\n",
        "    plt.ylabel('True Labels')\n",
        "    plt.title(f\"Confusion Matrix ({model_name})\")\n",
        "    plt.show()"
      ]
    },
    {
      "cell_type": "code",
      "execution_count": 25,
      "metadata": {
        "colab": {
          "base_uri": "https://localhost:8080/",
          "height": 1000
        },
        "id": "jv6UE0CownTv",
        "outputId": "685e318c-6709-43b8-c3c9-df5c8fbecfc1"
      },
      "outputs": [
        {
          "output_type": "stream",
          "name": "stdout",
          "text": [
            "\n",
            "Training on `dataset_r1o1_lstm`...\n",
            "--- Training LSTM (dataset_r1o1_lstm) ---\n",
            "Epoch 1/50\n",
            "\u001b[1m35/35\u001b[0m \u001b[32m━━━━━━━━━━━━━━━━━━━━\u001b[0m\u001b[37m\u001b[0m \u001b[1m11s\u001b[0m 186ms/step - accuracy: 0.4367 - loss: 1.0577 - val_accuracy: 0.5941 - val_loss: 0.9115 - learning_rate: 0.0010\n",
            "Epoch 2/50\n",
            "\u001b[1m35/35\u001b[0m \u001b[32m━━━━━━━━━━━━━━━━━━━━\u001b[0m\u001b[37m\u001b[0m \u001b[1m6s\u001b[0m 165ms/step - accuracy: 0.5887 - loss: 0.9141 - val_accuracy: 0.5983 - val_loss: 0.8954 - learning_rate: 0.0010\n",
            "Epoch 3/50\n",
            "\u001b[1m35/35\u001b[0m \u001b[32m━━━━━━━━━━━━━━━━━━━━\u001b[0m\u001b[37m\u001b[0m \u001b[1m6s\u001b[0m 167ms/step - accuracy: 0.6133 - loss: 0.8858 - val_accuracy: 0.5878 - val_loss: 0.8421 - learning_rate: 0.0010\n",
            "Epoch 4/50\n",
            "\u001b[1m35/35\u001b[0m \u001b[32m━━━━━━━━━━━━━━━━━━━━\u001b[0m\u001b[37m\u001b[0m \u001b[1m10s\u001b[0m 161ms/step - accuracy: 0.6324 - loss: 0.8327 - val_accuracy: 0.6383 - val_loss: 0.8089 - learning_rate: 0.0010\n",
            "Epoch 5/50\n",
            "\u001b[1m35/35\u001b[0m \u001b[32m━━━━━━━━━━━━━━━━━━━━\u001b[0m\u001b[37m\u001b[0m \u001b[1m10s\u001b[0m 157ms/step - accuracy: 0.6503 - loss: 0.8207 - val_accuracy: 0.6278 - val_loss: 0.8183 - learning_rate: 0.0010\n",
            "Epoch 6/50\n",
            "\u001b[1m35/35\u001b[0m \u001b[32m━━━━━━━━━━━━━━━━━━━━\u001b[0m\u001b[37m\u001b[0m \u001b[1m10s\u001b[0m 159ms/step - accuracy: 0.6822 - loss: 0.7782 - val_accuracy: 0.5373 - val_loss: 0.9120 - learning_rate: 0.0010\n",
            "Epoch 7/50\n",
            "\u001b[1m35/35\u001b[0m \u001b[32m━━━━━━━━━━━━━━━━━━━━\u001b[0m\u001b[37m\u001b[0m \u001b[1m10s\u001b[0m 158ms/step - accuracy: 0.6731 - loss: 0.7654 - val_accuracy: 0.6383 - val_loss: 0.8099 - learning_rate: 5.0000e-04\n",
            "Epoch 8/50\n",
            "\u001b[1m35/35\u001b[0m \u001b[32m━━━━━━━━━━━━━━━━━━━━\u001b[0m\u001b[37m\u001b[0m \u001b[1m10s\u001b[0m 158ms/step - accuracy: 0.6870 - loss: 0.7276 - val_accuracy: 0.6772 - val_loss: 0.7766 - learning_rate: 5.0000e-04\n",
            "Epoch 9/50\n",
            "\u001b[1m35/35\u001b[0m \u001b[32m━━━━━━━━━━━━━━━━━━━━\u001b[0m\u001b[37m\u001b[0m \u001b[1m6s\u001b[0m 162ms/step - accuracy: 0.7055 - loss: 0.7059 - val_accuracy: 0.6551 - val_loss: 0.7915 - learning_rate: 5.0000e-04\n",
            "Epoch 10/50\n",
            "\u001b[1m35/35\u001b[0m \u001b[32m━━━━━━━━━━━━━━━━━━━━\u001b[0m\u001b[37m\u001b[0m \u001b[1m6s\u001b[0m 163ms/step - accuracy: 0.7103 - loss: 0.6897 - val_accuracy: 0.6719 - val_loss: 0.7765 - learning_rate: 5.0000e-04\n",
            "Epoch 11/50\n",
            "\u001b[1m35/35\u001b[0m \u001b[32m━━━━━━━━━━━━━━━━━━━━\u001b[0m\u001b[37m\u001b[0m \u001b[1m10s\u001b[0m 164ms/step - accuracy: 0.7389 - loss: 0.6442 - val_accuracy: 0.6562 - val_loss: 0.8085 - learning_rate: 2.5000e-04\n",
            "Epoch 12/50\n",
            "\u001b[1m35/35\u001b[0m \u001b[32m━━━━━━━━━━━━━━━━━━━━\u001b[0m\u001b[37m\u001b[0m \u001b[1m6s\u001b[0m 161ms/step - accuracy: 0.7389 - loss: 0.6229 - val_accuracy: 0.6698 - val_loss: 0.7869 - learning_rate: 2.5000e-04\n",
            "Epoch 13/50\n",
            "\u001b[1m35/35\u001b[0m \u001b[32m━━━━━━━━━━━━━━━━━━━━\u001b[0m\u001b[37m\u001b[0m \u001b[1m6s\u001b[0m 163ms/step - accuracy: 0.7561 - loss: 0.5953 - val_accuracy: 0.6709 - val_loss: 0.8332 - learning_rate: 1.2500e-04\n",
            "Epoch 14/50\n",
            "\u001b[1m35/35\u001b[0m \u001b[32m━━━━━━━━━━━━━━━━━━━━\u001b[0m\u001b[37m\u001b[0m \u001b[1m10s\u001b[0m 166ms/step - accuracy: 0.7768 - loss: 0.5534 - val_accuracy: 0.6572 - val_loss: 0.8508 - learning_rate: 1.2500e-04\n",
            "Epoch 15/50\n",
            "\u001b[1m35/35\u001b[0m \u001b[32m━━━━━━━━━━━━━━━━━━━━\u001b[0m\u001b[37m\u001b[0m \u001b[1m10s\u001b[0m 157ms/step - accuracy: 0.7793 - loss: 0.5324 - val_accuracy: 0.6625 - val_loss: 0.8841 - learning_rate: 6.2500e-05\n",
            "\n",
            "Evaluating on `dataset_r1o1_lstm`...\n",
            "\u001b[1m30/30\u001b[0m \u001b[32m━━━━━━━━━━━━━━━━━━━━\u001b[0m\u001b[37m\u001b[0m \u001b[1m1s\u001b[0m 35ms/step\n",
            "\n",
            "--- Evaluation of LSTM (dataset_r1o1_lstm) ---\n",
            "Classification Report:\n",
            "               precision    recall  f1-score   support\n",
            "\n",
            "    negative       0.62      0.74      0.67       276\n",
            "     neutral       0.41      0.27      0.32       225\n",
            "    positive       0.74      0.78      0.76       450\n",
            "\n",
            "    accuracy                           0.65       951\n",
            "   macro avg       0.59      0.60      0.59       951\n",
            "weighted avg       0.63      0.65      0.63       951\n",
            "\n",
            "Confusion Matrix:\n",
            " [[204  34  38]\n",
            " [ 81  60  84]\n",
            " [ 45  52 353]]\n"
          ]
        },
        {
          "output_type": "display_data",
          "data": {
            "text/plain": [
              "<Figure size 800x600 with 2 Axes>"
            ],
            "image/png": "[encoded data removed]"
          },
          "metadata": {}
        }
      ],
      "source": [
        "# Train and evaluate on `dataset_r1o1_lstm`\n",
        "class_weights_dict_r1o1_lstm = {0: 1.1492, 1: 1.4086, 2: 0.7043} # opt_03 modified {0: 5.0203, 1: 4.3374, 2: 0.3891}=>{0: 6.0, 1: 5.5, 2: 0.4}\n",
        "print(\"\\nTraining on `dataset_r1o1_lstm`...\")\n",
        "lstm_model_r1o1_lstm = train_lstm_model(X_train_r1o1_lstm, y_train_r1o1_lstm_onehot, X_val_r1o1_lstm, y_val_r1o1_lstm_onehot, class_weights_dict_r1o1_lstm, \"LSTM (dataset_r1o1_lstm)\")\n",
        "\n",
        "print(\"\\nEvaluating on `dataset_r1o1_lstm`...\")\n",
        "#evaluate_lstm_model(lstm_model_r1o1_lstm, X_test_r1o1_lstm, y_test_r1o1_lstm_onehot, \"LSTM (dataset_r1o1_lstm)\")\n",
        "target_names_r1o1 = [\"negative\", \"neutral\", \"positive\"]  # Class names for 3 labels\n",
        "evaluate_lstm_model(\n",
        "    lstm_model_r1o1_lstm,\n",
        "    X_test_r1o1_lstm,\n",
        "    y_test_r1o1_lstm_onehot,\n",
        "    \"LSTM (dataset_r1o1_lstm)\",\n",
        "    target_names=target_names_r1o1\n",
        ")\n"
      ]
    },
    {
      "cell_type": "code",
      "execution_count": 26,
      "metadata": {
        "colab": {
          "base_uri": "https://localhost:8080/",
          "height": 499
        },
        "id": "1DodXDlxshkv",
        "outputId": "ffdf284f-172e-4300-b4cf-edc5c93d53bb"
      },
      "outputs": [
        {
          "output_type": "stream",
          "name": "stdout",
          "text": [
            "\n",
            "Training on `dataset_r1o2_lstm`...\n",
            "--- Training LSTM (dataset_r1o2_lstm) ---\n",
            "Epoch 1/50\n"
          ]
        },
        {
          "output_type": "stream",
          "name": "stderr",
          "text": [
            "/usr/local/lib/python3.11/dist-packages/keras/src/layers/core/embedding.py:90: UserWarning: Argument `input_length` is deprecated. Just remove it.\n",
            "  warnings.warn(\n"
          ]
        },
        {
          "output_type": "error",
          "ename": "ValueError",
          "evalue": "Arguments `target` and `output` must have the same shape. Received: target.shape=(None, 5), output.shape=(None, 3)",
          "traceback": [
            "\u001b[0;31m---------------------------------------------------------------------------\u001b[0m",
            "\u001b[0;31mValueError\u001b[0m                                Traceback (most recent call last)",
            "\u001b[0;32m<ipython-input-26-8e5f1268f5d0>\u001b[0m in \u001b[0;36m<cell line: 0>\u001b[0;34m()\u001b[0m\n\u001b[1;32m      2\u001b[0m \u001b[0mclass_weights_dict_r1o2_lstm\u001b[0m \u001b[0;34m=\u001b[0m \u001b[0;34m{\u001b[0m\u001b[0;36m0\u001b[0m\u001b[0;34m:\u001b[0m \u001b[0;36m1.1880\u001b[0m\u001b[0;34m,\u001b[0m \u001b[0;36m1\u001b[0m\u001b[0;34m:\u001b[0m \u001b[0;36m1.6433\u001b[0m\u001b[0;34m,\u001b[0m \u001b[0;36m2\u001b[0m\u001b[0;34m:\u001b[0m \u001b[0;36m0.8451\u001b[0m\u001b[0;34m,\u001b[0m \u001b[0;36m3\u001b[0m\u001b[0;34m:\u001b[0m \u001b[0;36m0.8451\u001b[0m\u001b[0;34m,\u001b[0m \u001b[0;36m4\u001b[0m\u001b[0;34m:\u001b[0m \u001b[0;36m0.8451\u001b[0m\u001b[0;34m}\u001b[0m \u001b[0;31m# opt_03 modified {0: 9.4655, 1: 4.1446, 2: 0.3769}=>{0: 10.0, 1: 5.5, 2: 0.4}\u001b[0m\u001b[0;34m\u001b[0m\u001b[0;34m\u001b[0m\u001b[0m\n\u001b[1;32m      3\u001b[0m \u001b[0mprint\u001b[0m\u001b[0;34m(\u001b[0m\u001b[0;34m\"\\nTraining on `dataset_r1o2_lstm`...\"\u001b[0m\u001b[0;34m)\u001b[0m\u001b[0;34m\u001b[0m\u001b[0;34m\u001b[0m\u001b[0m\n\u001b[0;32m----> 4\u001b[0;31m \u001b[0mlstm_model_r1o2_lstm\u001b[0m \u001b[0;34m=\u001b[0m \u001b[0mtrain_lstm_model\u001b[0m\u001b[0;34m(\u001b[0m\u001b[0mX_train_r1o2_lstm\u001b[0m\u001b[0;34m,\u001b[0m \u001b[0my_train_r1o2_lstm_onehot\u001b[0m\u001b[0;34m,\u001b[0m \u001b[0mX_val_r1o2_lstm\u001b[0m\u001b[0;34m,\u001b[0m \u001b[0my_val_r1o2_lstm_onehot\u001b[0m\u001b[0;34m,\u001b[0m \u001b[0mclass_weights_dict_r1o2_lstm\u001b[0m\u001b[0;34m,\u001b[0m \u001b[0;34m\"LSTM (dataset_r1o2_lstm)\"\u001b[0m\u001b[0;34m)\u001b[0m\u001b[0;34m\u001b[0m\u001b[0;34m\u001b[0m\u001b[0m\n\u001b[0m\u001b[1;32m      5\u001b[0m \u001b[0;34m\u001b[0m\u001b[0m\n\u001b[1;32m      6\u001b[0m \u001b[0mprint\u001b[0m\u001b[0;34m(\u001b[0m\u001b[0;34m\"\\nEvaluating on `dataset_r1o2_lstm`...\"\u001b[0m\u001b[0;34m)\u001b[0m\u001b[0;34m\u001b[0m\u001b[0;34m\u001b[0m\u001b[0m\n",
            "\u001b[0;32m<ipython-input-19-875e3f794081>\u001b[0m in \u001b[0;36mtrain_lstm_model\u001b[0;34m(X_train, y_train, X_val, y_val, class_weights, model_name)\u001b[0m\n\u001b[1;32m      6\u001b[0m \u001b[0;34m\u001b[0m\u001b[0m\n\u001b[1;32m      7\u001b[0m     \u001b[0mprint\u001b[0m\u001b[0;34m(\u001b[0m\u001b[0;34mf\"--- Training {model_name} ---\"\u001b[0m\u001b[0;34m)\u001b[0m\u001b[0;34m\u001b[0m\u001b[0;34m\u001b[0m\u001b[0m\n\u001b[0;32m----> 8\u001b[0;31m     history = model.fit(\n\u001b[0m\u001b[1;32m      9\u001b[0m         \u001b[0mX_train\u001b[0m\u001b[0;34m,\u001b[0m \u001b[0my_train\u001b[0m\u001b[0;34m,\u001b[0m\u001b[0;34m\u001b[0m\u001b[0;34m\u001b[0m\u001b[0m\n\u001b[1;32m     10\u001b[0m         \u001b[0mvalidation_data\u001b[0m\u001b[0;34m=\u001b[0m\u001b[0;34m(\u001b[0m\u001b[0mX_val\u001b[0m\u001b[0;34m,\u001b[0m \u001b[0my_val\u001b[0m\u001b[0;34m)\u001b[0m\u001b[0;34m,\u001b[0m\u001b[0;34m\u001b[0m\u001b[0;34m\u001b[0m\u001b[0m\n",
            "\u001b[0;32m/usr/local/lib/python3.11/dist-packages/keras/src/utils/traceback_utils.py\u001b[0m in \u001b[0;36merror_handler\u001b[0;34m(*args, **kwargs)\u001b[0m\n\u001b[1;32m    120\u001b[0m             \u001b[0;31m# To get the full stack trace, call:\u001b[0m\u001b[0;34m\u001b[0m\u001b[0;34m\u001b[0m\u001b[0m\n\u001b[1;32m    121\u001b[0m             \u001b[0;31m# `keras.config.disable_traceback_filtering()`\u001b[0m\u001b[0;34m\u001b[0m\u001b[0;34m\u001b[0m\u001b[0m\n\u001b[0;32m--> 122\u001b[0;31m             \u001b[0;32mraise\u001b[0m \u001b[0me\u001b[0m\u001b[0;34m.\u001b[0m\u001b[0mwith_traceback\u001b[0m\u001b[0;34m(\u001b[0m\u001b[0mfiltered_tb\u001b[0m\u001b[0;34m)\u001b[0m \u001b[0;32mfrom\u001b[0m \u001b[0;32mNone\u001b[0m\u001b[0;34m\u001b[0m\u001b[0;34m\u001b[0m\u001b[0m\n\u001b[0m\u001b[1;32m    123\u001b[0m         \u001b[0;32mfinally\u001b[0m\u001b[0;34m:\u001b[0m\u001b[0;34m\u001b[0m\u001b[0;34m\u001b[0m\u001b[0m\n\u001b[1;32m    124\u001b[0m             \u001b[0;32mdel\u001b[0m \u001b[0mfiltered_tb\u001b[0m\u001b[0;34m\u001b[0m\u001b[0;34m\u001b[0m\u001b[0m\n",
            "\u001b[0;32m/usr/local/lib/python3.11/dist-packages/keras/src/backend/tensorflow/nn.py\u001b[0m in \u001b[0;36mcategorical_crossentropy\u001b[0;34m(target, output, from_logits, axis)\u001b[0m\n\u001b[1;32m    585\u001b[0m     \u001b[0;32mfor\u001b[0m \u001b[0me1\u001b[0m\u001b[0;34m,\u001b[0m \u001b[0me2\u001b[0m \u001b[0;32min\u001b[0m \u001b[0mzip\u001b[0m\u001b[0;34m(\u001b[0m\u001b[0mtarget\u001b[0m\u001b[0;34m.\u001b[0m\u001b[0mshape\u001b[0m\u001b[0;34m,\u001b[0m \u001b[0moutput\u001b[0m\u001b[0;34m.\u001b[0m\u001b[0mshape\u001b[0m\u001b[0;34m)\u001b[0m\u001b[0;34m:\u001b[0m\u001b[0;34m\u001b[0m\u001b[0;34m\u001b[0m\u001b[0m\n\u001b[1;32m    586\u001b[0m         \u001b[0;32mif\u001b[0m \u001b[0me1\u001b[0m \u001b[0;32mis\u001b[0m \u001b[0;32mnot\u001b[0m \u001b[0;32mNone\u001b[0m \u001b[0;32mand\u001b[0m \u001b[0me2\u001b[0m \u001b[0;32mis\u001b[0m \u001b[0;32mnot\u001b[0m \u001b[0;32mNone\u001b[0m \u001b[0;32mand\u001b[0m \u001b[0me1\u001b[0m \u001b[0;34m!=\u001b[0m \u001b[0me2\u001b[0m\u001b[0;34m:\u001b[0m\u001b[0;34m\u001b[0m\u001b[0;34m\u001b[0m\u001b[0m\n\u001b[0;32m--> 587\u001b[0;31m             raise ValueError(\n\u001b[0m\u001b[1;32m    588\u001b[0m                 \u001b[0;34m\"Arguments `target` and `output` must have the same shape. \"\u001b[0m\u001b[0;34m\u001b[0m\u001b[0;34m\u001b[0m\u001b[0m\n\u001b[1;32m    589\u001b[0m                 \u001b[0;34m\"Received: \"\u001b[0m\u001b[0;34m\u001b[0m\u001b[0;34m\u001b[0m\u001b[0m\n",
            "\u001b[0;31mValueError\u001b[0m: Arguments `target` and `output` must have the same shape. Received: target.shape=(None, 5), output.shape=(None, 3)"
          ]
        }
      ],
      "source": [
        "# Train and evaluate on `dataset_r1o2_lstm`\n",
        "class_weights_dict_r1o2_lstm = {0: 1.1880, 1: 1.6433, 2: 0.8451, 3: 0.8451, 4: 0.8451} # opt_03 modified {0: 9.4655, 1: 4.1446, 2: 0.3769}=>{0: 10.0, 1: 5.5, 2: 0.4}\n",
        "print(\"\\nTraining on `dataset_r1o2_lstm`...\")\n",
        "lstm_model_r1o2_lstm = train_lstm_model(X_train_r1o2_lstm, y_train_r1o2_lstm_onehot, X_val_r1o2_lstm, y_val_r1o2_lstm_onehot, class_weights_dict_r1o2_lstm, \"LSTM (dataset_r1o2_lstm)\")\n",
        "\n",
        "print(\"\\nEvaluating on `dataset_r1o2_lstm`...\")\n",
        "#evaluate_lstm_model(lstm_model_r1o2_lstm, X_test_r1o2_lstm, y_test_r1o2_lstm_onehot, \"LSTM (dataset_r1o2_lstm)\")\n",
        "target_names_r1o2 = [\"1.0\", \"2.0\", \"3.0\", \"4.0\", \"5.0\"]  # Class names for 5 labels\n",
        "evaluate_lstm_model(\n",
        "    lstm_model_r1o2_lstm,\n",
        "    X_test_r1o2_lstm,\n",
        "    y_test_r1o2_lstm_onehot,\n",
        "    \"LSTM (dataset_r1o2_lstm)\",\n",
        "    target_names=target_names_r1o2\n",
        ")\n"
      ]
    }
  ],
  "metadata": {
    "accelerator": "GPU",
    "colab": {
      "gpuType": "T4",
      "provenance": []
    },
    "kernelspec": {
      "display_name": "projectnlp",
      "language": "python",
      "name": "python3"
    },
    "language_info": {
      "codemirror_mode": {
        "name": "ipython",
        "version": 3
      },
      "file_extension": ".py",
      "mimetype": "text/x-python",
      "name": "python",
      "nbconvert_exporter": "python",
      "pygments_lexer": "ipython3",
      "version": "3.13.1"
    }
  },
  "nbformat": 4,
  "nbformat_minor": 0
}